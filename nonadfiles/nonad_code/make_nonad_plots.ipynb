{
 "cells": [
  {
   "cell_type": "code",
   "execution_count": 1,
   "id": "technical-holder",
   "metadata": {},
   "outputs": [
    {
     "name": "stderr",
     "output_type": "stream",
     "text": [
      "\n",
      "Bad key animation.mencoder_args in file /Users/jzinn/.config/matplotlib/stylelib/jcz_paper_latex.mplstyle, line 485 ('animation.mencoder_args:          # Additional arguments to pass to mencoder')\n",
      "You probably need to get an updated matplotlibrc file from\n",
      "https://github.com/matplotlib/matplotlib/blob/v3.3.3/matplotlibrc.template\n",
      "or from the matplotlib source distribution\n"
     ]
    }
   ],
   "source": [
    "import mesa_reader\n",
    "import pandas as pd\n",
    "import pylab as plt\n",
    "import matplotlib as mpl  \n",
    "import numpy as np\n",
    "from ipdb import set_trace as pause\n",
    "%matplotlib inline  \n",
    "\n",
    "def remove_dredge_up(ls, teffs):\n",
    "    '''\n",
    "    will return the indices of the luminosities where luminosity is decreasing.\n",
    "    assumes ls are ordered by increasing stellar age.\n",
    "    Inputs\n",
    "    ls : ndarray\n",
    "     luminosities in order of increasing stellar age.\n",
    "    Outputs\n",
    "    inds : ndarray\n",
    "     ls[inds] will be monotonically increasing.\n",
    "    '''\n",
    "    _inds = np.where(ls)[0]\n",
    "    diff = np.diff(ls)\n",
    "    diff_teff = np.diff(teffs)\n",
    "    \n",
    "    turns = np.where((diff < 0)*(diff_teff > 0))[0]\n",
    "    turns = np.hstack(([0], turns))\n",
    "    #pause()\n",
    "    if len(turns) > 1:\n",
    "        try:\n",
    "            _turns = np.where(np.diff(turns) > 1)[0]\n",
    "        except:\n",
    "            _turns = []\n",
    "    else:\n",
    "        _turns = []\n",
    "    if len(turns) >= 1:\n",
    "        #_turns = np.hstack(([0], _turns))\n",
    "        _turns = np.hstack((_turns, [len(turns)-1]))\n",
    "\n",
    "    # this used to be 2 but am changin gto 1 just to get it to run to give dennis some kind of plot\n",
    "    n = 1\n",
    "        \n",
    "    #__turns = np.where(np.diff(turns) > 1)[0]+1\n",
    "    #_turns = np.hstack((_turns, __turns))\n",
    "    #_turns = np.sort(_turns)\n",
    "\n",
    "    inds = []\n",
    "    if len(turns) > 1:\n",
    "        next_turn = turns[_turns[1]]\n",
    "    count = 0\n",
    "    _turns = np.array(_turns).astype(int)\n",
    "    if len(_turns) > n:\n",
    "        for i in np.arange(0,len(_turns[::1])-1,1):\n",
    "           \n",
    "            inds += list(_inds[turns[_turns[i]]:next_turn])\n",
    "            # but also require the luminosity to be higher than the previous point... so that it's monotonically increasing.\n",
    "            lum_old = ls[_inds[[turns[_turns[i]]]]]\n",
    "            # this will fail if turns[i+1] is the last element of the track\n",
    "            try:\n",
    "                next_lum = np.where(ls[_inds[turns[_turns[i+1]]]:] > lum_old)[0][0]\n",
    "            except:\n",
    "                next_lum = 0\n",
    "            # if the next part of the light curve has a luminosity lower, \n",
    "            # only take it from the equal luminosity point onward\n",
    "            if ls[_inds[_turns[i+1]]] < lum_old:\n",
    "                next_turn = turns[_turns[i+1]] + next_lum\n",
    "            else:\n",
    "                \n",
    "                next_turn = turns[_turns[i+1]]+1\n",
    "    elif len(_turns) == 2:\n",
    "        inds = list(_inds[0:turns[_turns[0]]]) + list(_inds[turns[_turns[0]]:])\n",
    "    else:\n",
    "        inds = _inds\n",
    "    #pause()\n",
    "    inds = np.array(inds)\n",
    "    if len(_turns) >= n :\n",
    "        lum_old = ls[inds[-1]]\n",
    "        try:\n",
    "            next_lum = np.where(ls[_inds[turns[_turns[-1]]]:] > lum_old)[0][0]\n",
    "        except:\n",
    "            next_lum = 0\n",
    "            # if the next part of the light curve has a luminosity lower, \n",
    "            # only take it from the equal luminosity point onward\n",
    "        if ls[_inds[_turns[-1]]] < lum_old:\n",
    "            old_turn = turns[_turns[-1]] + next_lum\n",
    "        else:\n",
    "            old_turn = turns[_turns[-1]]\n",
    "        inds = np.hstack((inds, _inds[old_turn:]))\n",
    "    return inds\n",
    "# the above was just too complicated and it didn't work. let's just check each element and only keep it if the temperature and luminosity are less than the one before.\n",
    "def remove_dredge_up(ls, teffs):\n",
    "    # require a pad of 5 evo. points \n",
    "    pad = 1\n",
    "    ind_old = 0\n",
    "    inds = [0]\n",
    "    assert len(ls) == len(teffs), 'ls and teffs must be the same length for remove_dredge_up to work.'\n",
    "    for i in np.arange(len(ls)-pad)+1:\n",
    "\n",
    "        if (ls[i] <= ls[i:i+pad]).all() and (teffs[i] >= teffs[i:i+pad]).all(): # and (ls[i] > ls[inds[-1]]):\n",
    "            # require that the temperature always be less than all the previous temperatures, not just the immediately preceding teff.\n",
    "            # this is to prevent a double-valued bump part.\n",
    "            if (teffs[0:i] >= teffs[i:i+pad]).all():\n",
    "                ind_old_ = i + pad - 1\n",
    "                inds.append(ind_old_)\n",
    "        # this is to allow the dip in the hook\n",
    "        elif (teffs[i] >= teffs[i:i+pad]).all():# and (ls[i] > ls[inds[-1]]):\n",
    "            # require that the temperature always be less than all the previous temperatures, not just the immediately preceding teff.\n",
    "            # this is to prevent a double-valued bump part.\n",
    "            if (teffs[0:i] >= teffs[i:i+pad]).all():\n",
    "       \n",
    "                ind_old_ = i + pad - 1\n",
    "                inds.append(ind_old_)\n",
    "     \n",
    "            \n",
    "    return np.array(inds)"
   ]
  },
  {
   "cell_type": "code",
   "execution_count": 35,
   "id": "amateur-figure",
   "metadata": {},
   "outputs": [
    {
     "name": "stdout",
     "output_type": "stream",
     "text": [
      "    count  mass  feh  alpha\n",
      "0       0   1.0 -1.0    1.7\n",
      "1       1   1.0 -1.0    2.0\n",
      "2       2   1.0 -0.4    1.7\n",
      "3       3   1.0 -0.4    2.0\n",
      "4       4   1.0 -0.2    1.7\n",
      "5       5   1.0 -0.2    2.0\n",
      "6       6   1.0  0.0    1.7\n",
      "7       7   1.0  0.0    2.0\n",
      "8       8   1.0  0.2    1.7\n",
      "9       9   1.0  0.2    2.0\n",
      "10     10   1.0  0.4    1.7\n",
      "11     11   1.0  0.4    2.0\n",
      "12     12   1.2 -1.0    1.7\n",
      "13     13   1.2 -1.0    2.0\n",
      "14     14   1.2 -0.4    1.7\n",
      "15     15   1.2 -0.4    2.0\n",
      "16     16   1.2 -0.2    1.7\n",
      "17     17   1.2 -0.2    2.0\n",
      "18     18   1.2  0.0    1.7\n",
      "19     19   1.2  0.0    2.0\n",
      "20     20   1.2  0.2    1.7\n",
      "21     21   1.2  0.2    2.0\n",
      "22     22   1.2  0.4    1.7\n",
      "23     23   1.2  0.4    2.0\n",
      "24     24   1.4 -1.0    1.7\n",
      "25     25   1.4 -1.0    2.0\n",
      "26     26   1.4 -0.4    1.7\n",
      "27     27   1.4 -0.4    2.0\n",
      "28     28   1.4 -0.2    1.7\n",
      "29     29   1.4 -0.2    2.0\n",
      "30     30   1.4  0.0    1.7\n",
      "31     31   1.4  0.0    2.0\n",
      "32     32   1.4  0.2    1.7\n",
      "33     33   1.4  0.2    2.0\n",
      "34     34   1.4  0.4    1.7\n",
      "35     35   1.4  0.4    2.0\n",
      "36     36   1.8 -1.0    1.7\n",
      "37     37   1.8 -1.0    2.0\n",
      "38     38   1.8 -0.4    1.7\n",
      "39     39   1.8 -0.4    2.0\n",
      "40     40   1.8 -0.2    1.7\n",
      "41     41   1.8 -0.2    2.0\n",
      "42     42   1.8  0.0    1.7\n",
      "43     43   1.8  0.0    2.0\n",
      "44     44   1.8  0.2    1.7\n",
      "45     45   1.8  0.2    2.0\n",
      "46     46   1.8  0.4    1.7\n",
      "47     47   1.8  0.4    2.0\n",
      "48     48   2.2 -1.0    1.7\n",
      "49     49   2.2 -1.0    2.0\n",
      "50     50   2.2 -0.4    1.7\n",
      "51     51   2.2 -0.4    2.0\n",
      "52     52   2.2 -0.2    1.7\n",
      "53     53   2.2 -0.2    2.0\n",
      "54     54   2.2  0.0    1.7\n",
      "55     55   2.2  0.0    2.0\n",
      "56     56   2.2  0.2    1.7\n",
      "57     57   2.2  0.2    2.0\n",
      "58     58   2.2  0.4    1.7\n",
      "59     59   2.2  0.4    2.0\n",
      "0.3762891951948224 0\n"
     ]
    },
    {
     "name": "stderr",
     "output_type": "stream",
     "text": [
      "/Users/jzinn/envs/anaconda/envs/py38/lib/python3.8/site-packages/pandas/core/computation/expressions.py:206: UserWarning: evaluating in Python space because the '*' operator is not supported by numexpr for the bool dtype, use '&' instead\n",
      "  warnings.warn(\n",
      "/Users/jzinn/envs/anaconda/envs/py38/lib/python3.8/site-packages/pandas/core/computation/expressions.py:206: UserWarning: evaluating in Python space because the '*' operator is not supported by numexpr for the bool dtype, use '&' instead\n",
      "  warnings.warn(\n",
      "/Users/jzinn/envs/anaconda/envs/py38/lib/python3.8/site-packages/pandas/core/computation/expressions.py:206: UserWarning: evaluating in Python space because the '*' operator is not supported by numexpr for the bool dtype, use '&' instead\n",
      "  warnings.warn(\n",
      "/Users/jzinn/envs/anaconda/envs/py38/lib/python3.8/site-packages/pandas/core/computation/expressions.py:206: UserWarning: evaluating in Python space because the '*' operator is not supported by numexpr for the bool dtype, use '&' instead\n",
      "  warnings.warn(\n"
     ]
    },
    {
     "name": "stdout",
     "output_type": "stream",
     "text": [
      "0.4493808257332494 1\n"
     ]
    },
    {
     "name": "stderr",
     "output_type": "stream",
     "text": [
      "/Users/jzinn/envs/anaconda/envs/py38/lib/python3.8/site-packages/pandas/core/computation/expressions.py:206: UserWarning: evaluating in Python space because the '*' operator is not supported by numexpr for the bool dtype, use '&' instead\n",
      "  warnings.warn(\n",
      "/Users/jzinn/envs/anaconda/envs/py38/lib/python3.8/site-packages/pandas/core/computation/expressions.py:206: UserWarning: evaluating in Python space because the '*' operator is not supported by numexpr for the bool dtype, use '&' instead\n",
      "  warnings.warn(\n",
      "/Users/jzinn/envs/anaconda/envs/py38/lib/python3.8/site-packages/pandas/core/computation/expressions.py:206: UserWarning: evaluating in Python space because the '*' operator is not supported by numexpr for the bool dtype, use '&' instead\n",
      "  warnings.warn(\n",
      "/Users/jzinn/envs/anaconda/envs/py38/lib/python3.8/site-packages/pandas/core/computation/expressions.py:206: UserWarning: evaluating in Python space because the '*' operator is not supported by numexpr for the bool dtype, use '&' instead\n",
      "  warnings.warn(\n"
     ]
    },
    {
     "name": "stdout",
     "output_type": "stream",
     "text": [
      "0.2137684255301963 2\n"
     ]
    },
    {
     "name": "stderr",
     "output_type": "stream",
     "text": [
      "/Users/jzinn/envs/anaconda/envs/py38/lib/python3.8/site-packages/pandas/core/computation/expressions.py:206: UserWarning: evaluating in Python space because the '*' operator is not supported by numexpr for the bool dtype, use '&' instead\n",
      "  warnings.warn(\n",
      "/Users/jzinn/envs/anaconda/envs/py38/lib/python3.8/site-packages/pandas/core/computation/expressions.py:206: UserWarning: evaluating in Python space because the '*' operator is not supported by numexpr for the bool dtype, use '&' instead\n",
      "  warnings.warn(\n",
      "/Users/jzinn/envs/anaconda/envs/py38/lib/python3.8/site-packages/pandas/core/computation/expressions.py:206: UserWarning: evaluating in Python space because the '*' operator is not supported by numexpr for the bool dtype, use '&' instead\n",
      "  warnings.warn(\n",
      "/Users/jzinn/envs/anaconda/envs/py38/lib/python3.8/site-packages/pandas/core/computation/expressions.py:206: UserWarning: evaluating in Python space because the '*' operator is not supported by numexpr for the bool dtype, use '&' instead\n",
      "  warnings.warn(\n"
     ]
    },
    {
     "name": "stdout",
     "output_type": "stream",
     "text": [
      "0.2669966001198182 3\n"
     ]
    },
    {
     "name": "stderr",
     "output_type": "stream",
     "text": [
      "/Users/jzinn/envs/anaconda/envs/py38/lib/python3.8/site-packages/pandas/core/computation/expressions.py:206: UserWarning: evaluating in Python space because the '*' operator is not supported by numexpr for the bool dtype, use '&' instead\n",
      "  warnings.warn(\n",
      "/Users/jzinn/envs/anaconda/envs/py38/lib/python3.8/site-packages/pandas/core/computation/expressions.py:206: UserWarning: evaluating in Python space because the '*' operator is not supported by numexpr for the bool dtype, use '&' instead\n",
      "  warnings.warn(\n",
      "/Users/jzinn/envs/anaconda/envs/py38/lib/python3.8/site-packages/pandas/core/computation/expressions.py:206: UserWarning: evaluating in Python space because the '*' operator is not supported by numexpr for the bool dtype, use '&' instead\n",
      "  warnings.warn(\n",
      "/Users/jzinn/envs/anaconda/envs/py38/lib/python3.8/site-packages/pandas/core/computation/expressions.py:206: UserWarning: evaluating in Python space because the '*' operator is not supported by numexpr for the bool dtype, use '&' instead\n",
      "  warnings.warn(\n"
     ]
    },
    {
     "name": "stdout",
     "output_type": "stream",
     "text": [
      "0.1819099314359832 4\n"
     ]
    },
    {
     "name": "stderr",
     "output_type": "stream",
     "text": [
      "/Users/jzinn/envs/anaconda/envs/py38/lib/python3.8/site-packages/pandas/core/computation/expressions.py:206: UserWarning: evaluating in Python space because the '*' operator is not supported by numexpr for the bool dtype, use '&' instead\n",
      "  warnings.warn(\n",
      "/Users/jzinn/envs/anaconda/envs/py38/lib/python3.8/site-packages/pandas/core/computation/expressions.py:206: UserWarning: evaluating in Python space because the '*' operator is not supported by numexpr for the bool dtype, use '&' instead\n",
      "  warnings.warn(\n",
      "/Users/jzinn/envs/anaconda/envs/py38/lib/python3.8/site-packages/pandas/core/computation/expressions.py:206: UserWarning: evaluating in Python space because the '*' operator is not supported by numexpr for the bool dtype, use '&' instead\n",
      "  warnings.warn(\n",
      "/Users/jzinn/envs/anaconda/envs/py38/lib/python3.8/site-packages/pandas/core/computation/expressions.py:206: UserWarning: evaluating in Python space because the '*' operator is not supported by numexpr for the bool dtype, use '&' instead\n",
      "  warnings.warn(\n"
     ]
    },
    {
     "name": "stdout",
     "output_type": "stream",
     "text": [
      "0.2125825182739336 5\n"
     ]
    },
    {
     "name": "stderr",
     "output_type": "stream",
     "text": [
      "/Users/jzinn/envs/anaconda/envs/py38/lib/python3.8/site-packages/pandas/core/computation/expressions.py:206: UserWarning: evaluating in Python space because the '*' operator is not supported by numexpr for the bool dtype, use '&' instead\n",
      "  warnings.warn(\n",
      "/Users/jzinn/envs/anaconda/envs/py38/lib/python3.8/site-packages/pandas/core/computation/expressions.py:206: UserWarning: evaluating in Python space because the '*' operator is not supported by numexpr for the bool dtype, use '&' instead\n",
      "  warnings.warn(\n",
      "/Users/jzinn/envs/anaconda/envs/py38/lib/python3.8/site-packages/pandas/core/computation/expressions.py:206: UserWarning: evaluating in Python space because the '*' operator is not supported by numexpr for the bool dtype, use '&' instead\n",
      "  warnings.warn(\n",
      "/Users/jzinn/envs/anaconda/envs/py38/lib/python3.8/site-packages/pandas/core/computation/expressions.py:206: UserWarning: evaluating in Python space because the '*' operator is not supported by numexpr for the bool dtype, use '&' instead\n",
      "  warnings.warn(\n"
     ]
    },
    {
     "name": "stdout",
     "output_type": "stream",
     "text": [
      "0.184650122488903 6\n"
     ]
    },
    {
     "name": "stderr",
     "output_type": "stream",
     "text": [
      "/Users/jzinn/envs/anaconda/envs/py38/lib/python3.8/site-packages/pandas/core/computation/expressions.py:206: UserWarning: evaluating in Python space because the '*' operator is not supported by numexpr for the bool dtype, use '&' instead\n",
      "  warnings.warn(\n",
      "/Users/jzinn/envs/anaconda/envs/py38/lib/python3.8/site-packages/pandas/core/computation/expressions.py:206: UserWarning: evaluating in Python space because the '*' operator is not supported by numexpr for the bool dtype, use '&' instead\n",
      "  warnings.warn(\n",
      "/Users/jzinn/envs/anaconda/envs/py38/lib/python3.8/site-packages/pandas/core/computation/expressions.py:206: UserWarning: evaluating in Python space because the '*' operator is not supported by numexpr for the bool dtype, use '&' instead\n",
      "  warnings.warn(\n",
      "/Users/jzinn/envs/anaconda/envs/py38/lib/python3.8/site-packages/pandas/core/computation/expressions.py:206: UserWarning: evaluating in Python space because the '*' operator is not supported by numexpr for the bool dtype, use '&' instead\n",
      "  warnings.warn(\n"
     ]
    },
    {
     "name": "stdout",
     "output_type": "stream",
     "text": [
      "0.1815662061985954 7\n"
     ]
    },
    {
     "name": "stderr",
     "output_type": "stream",
     "text": [
      "/Users/jzinn/envs/anaconda/envs/py38/lib/python3.8/site-packages/pandas/core/computation/expressions.py:206: UserWarning: evaluating in Python space because the '*' operator is not supported by numexpr for the bool dtype, use '&' instead\n",
      "  warnings.warn(\n",
      "/Users/jzinn/envs/anaconda/envs/py38/lib/python3.8/site-packages/pandas/core/computation/expressions.py:206: UserWarning: evaluating in Python space because the '*' operator is not supported by numexpr for the bool dtype, use '&' instead\n",
      "  warnings.warn(\n",
      "/Users/jzinn/envs/anaconda/envs/py38/lib/python3.8/site-packages/pandas/core/computation/expressions.py:206: UserWarning: evaluating in Python space because the '*' operator is not supported by numexpr for the bool dtype, use '&' instead\n",
      "  warnings.warn(\n",
      "/Users/jzinn/envs/anaconda/envs/py38/lib/python3.8/site-packages/pandas/core/computation/expressions.py:206: UserWarning: evaluating in Python space because the '*' operator is not supported by numexpr for the bool dtype, use '&' instead\n",
      "  warnings.warn(\n"
     ]
    },
    {
     "name": "stdout",
     "output_type": "stream",
     "text": [
      "0.1919478307044547 8\n"
     ]
    },
    {
     "name": "stderr",
     "output_type": "stream",
     "text": [
      "/Users/jzinn/envs/anaconda/envs/py38/lib/python3.8/site-packages/pandas/core/computation/expressions.py:206: UserWarning: evaluating in Python space because the '*' operator is not supported by numexpr for the bool dtype, use '&' instead\n",
      "  warnings.warn(\n",
      "/Users/jzinn/envs/anaconda/envs/py38/lib/python3.8/site-packages/pandas/core/computation/expressions.py:206: UserWarning: evaluating in Python space because the '*' operator is not supported by numexpr for the bool dtype, use '&' instead\n",
      "  warnings.warn(\n",
      "/Users/jzinn/envs/anaconda/envs/py38/lib/python3.8/site-packages/pandas/core/computation/expressions.py:206: UserWarning: evaluating in Python space because the '*' operator is not supported by numexpr for the bool dtype, use '&' instead\n",
      "  warnings.warn(\n",
      "/Users/jzinn/envs/anaconda/envs/py38/lib/python3.8/site-packages/pandas/core/computation/expressions.py:206: UserWarning: evaluating in Python space because the '*' operator is not supported by numexpr for the bool dtype, use '&' instead\n",
      "  warnings.warn(\n"
     ]
    },
    {
     "name": "stdout",
     "output_type": "stream",
     "text": [
      "0.1856217172353585 9\n"
     ]
    },
    {
     "name": "stderr",
     "output_type": "stream",
     "text": [
      "/Users/jzinn/envs/anaconda/envs/py38/lib/python3.8/site-packages/pandas/core/computation/expressions.py:206: UserWarning: evaluating in Python space because the '*' operator is not supported by numexpr for the bool dtype, use '&' instead\n",
      "  warnings.warn(\n",
      "/Users/jzinn/envs/anaconda/envs/py38/lib/python3.8/site-packages/pandas/core/computation/expressions.py:206: UserWarning: evaluating in Python space because the '*' operator is not supported by numexpr for the bool dtype, use '&' instead\n",
      "  warnings.warn(\n",
      "/Users/jzinn/envs/anaconda/envs/py38/lib/python3.8/site-packages/pandas/core/computation/expressions.py:206: UserWarning: evaluating in Python space because the '*' operator is not supported by numexpr for the bool dtype, use '&' instead\n",
      "  warnings.warn(\n",
      "/Users/jzinn/envs/anaconda/envs/py38/lib/python3.8/site-packages/pandas/core/computation/expressions.py:206: UserWarning: evaluating in Python space because the '*' operator is not supported by numexpr for the bool dtype, use '&' instead\n",
      "  warnings.warn(\n"
     ]
    },
    {
     "name": "stdout",
     "output_type": "stream",
     "text": [
      "0.192796200170773 10\n"
     ]
    },
    {
     "name": "stderr",
     "output_type": "stream",
     "text": [
      "/Users/jzinn/envs/anaconda/envs/py38/lib/python3.8/site-packages/pandas/core/computation/expressions.py:206: UserWarning: evaluating in Python space because the '*' operator is not supported by numexpr for the bool dtype, use '&' instead\n",
      "  warnings.warn(\n",
      "/Users/jzinn/envs/anaconda/envs/py38/lib/python3.8/site-packages/pandas/core/computation/expressions.py:206: UserWarning: evaluating in Python space because the '*' operator is not supported by numexpr for the bool dtype, use '&' instead\n",
      "  warnings.warn(\n",
      "/Users/jzinn/envs/anaconda/envs/py38/lib/python3.8/site-packages/pandas/core/computation/expressions.py:206: UserWarning: evaluating in Python space because the '*' operator is not supported by numexpr for the bool dtype, use '&' instead\n",
      "  warnings.warn(\n",
      "/Users/jzinn/envs/anaconda/envs/py38/lib/python3.8/site-packages/pandas/core/computation/expressions.py:206: UserWarning: evaluating in Python space because the '*' operator is not supported by numexpr for the bool dtype, use '&' instead\n",
      "  warnings.warn(\n"
     ]
    },
    {
     "name": "stdout",
     "output_type": "stream",
     "text": [
      "0.186667066160854 11\n"
     ]
    },
    {
     "name": "stderr",
     "output_type": "stream",
     "text": [
      "/Users/jzinn/envs/anaconda/envs/py38/lib/python3.8/site-packages/pandas/core/computation/expressions.py:206: UserWarning: evaluating in Python space because the '*' operator is not supported by numexpr for the bool dtype, use '&' instead\n",
      "  warnings.warn(\n",
      "/Users/jzinn/envs/anaconda/envs/py38/lib/python3.8/site-packages/pandas/core/computation/expressions.py:206: UserWarning: evaluating in Python space because the '*' operator is not supported by numexpr for the bool dtype, use '&' instead\n",
      "  warnings.warn(\n",
      "/Users/jzinn/envs/anaconda/envs/py38/lib/python3.8/site-packages/pandas/core/computation/expressions.py:206: UserWarning: evaluating in Python space because the '*' operator is not supported by numexpr for the bool dtype, use '&' instead\n",
      "  warnings.warn(\n",
      "/Users/jzinn/envs/anaconda/envs/py38/lib/python3.8/site-packages/pandas/core/computation/expressions.py:206: UserWarning: evaluating in Python space because the '*' operator is not supported by numexpr for the bool dtype, use '&' instead\n",
      "  warnings.warn(\n"
     ]
    },
    {
     "name": "stdout",
     "output_type": "stream",
     "text": [
      "0.503429791372739 12\n",
      "0.6086941389255472 13\n"
     ]
    },
    {
     "name": "stderr",
     "output_type": "stream",
     "text": [
      "/Users/jzinn/envs/anaconda/envs/py38/lib/python3.8/site-packages/pandas/core/computation/expressions.py:206: UserWarning: evaluating in Python space because the '*' operator is not supported by numexpr for the bool dtype, use '&' instead\n",
      "  warnings.warn(\n",
      "/Users/jzinn/envs/anaconda/envs/py38/lib/python3.8/site-packages/pandas/core/computation/expressions.py:206: UserWarning: evaluating in Python space because the '*' operator is not supported by numexpr for the bool dtype, use '&' instead\n",
      "  warnings.warn(\n",
      "/Users/jzinn/envs/anaconda/envs/py38/lib/python3.8/site-packages/pandas/core/computation/expressions.py:206: UserWarning: evaluating in Python space because the '*' operator is not supported by numexpr for the bool dtype, use '&' instead\n",
      "  warnings.warn(\n",
      "/Users/jzinn/envs/anaconda/envs/py38/lib/python3.8/site-packages/pandas/core/computation/expressions.py:206: UserWarning: evaluating in Python space because the '*' operator is not supported by numexpr for the bool dtype, use '&' instead\n",
      "  warnings.warn(\n",
      "/Users/jzinn/envs/anaconda/envs/py38/lib/python3.8/site-packages/pandas/core/computation/expressions.py:206: UserWarning: evaluating in Python space because the '*' operator is not supported by numexpr for the bool dtype, use '&' instead\n",
      "  warnings.warn(\n",
      "/Users/jzinn/envs/anaconda/envs/py38/lib/python3.8/site-packages/pandas/core/computation/expressions.py:206: UserWarning: evaluating in Python space because the '*' operator is not supported by numexpr for the bool dtype, use '&' instead\n",
      "  warnings.warn(\n",
      "/Users/jzinn/envs/anaconda/envs/py38/lib/python3.8/site-packages/pandas/core/computation/expressions.py:206: UserWarning: evaluating in Python space because the '*' operator is not supported by numexpr for the bool dtype, use '&' instead\n",
      "  warnings.warn(\n",
      "/Users/jzinn/envs/anaconda/envs/py38/lib/python3.8/site-packages/pandas/core/computation/expressions.py:206: UserWarning: evaluating in Python space because the '*' operator is not supported by numexpr for the bool dtype, use '&' instead\n",
      "  warnings.warn(\n"
     ]
    },
    {
     "name": "stdout",
     "output_type": "stream",
     "text": [
      "0.2849372367697502 14\n"
     ]
    },
    {
     "name": "stderr",
     "output_type": "stream",
     "text": [
      "/Users/jzinn/envs/anaconda/envs/py38/lib/python3.8/site-packages/pandas/core/computation/expressions.py:206: UserWarning: evaluating in Python space because the '*' operator is not supported by numexpr for the bool dtype, use '&' instead\n",
      "  warnings.warn(\n",
      "/Users/jzinn/envs/anaconda/envs/py38/lib/python3.8/site-packages/pandas/core/computation/expressions.py:206: UserWarning: evaluating in Python space because the '*' operator is not supported by numexpr for the bool dtype, use '&' instead\n",
      "  warnings.warn(\n",
      "/Users/jzinn/envs/anaconda/envs/py38/lib/python3.8/site-packages/pandas/core/computation/expressions.py:206: UserWarning: evaluating in Python space because the '*' operator is not supported by numexpr for the bool dtype, use '&' instead\n",
      "  warnings.warn(\n",
      "/Users/jzinn/envs/anaconda/envs/py38/lib/python3.8/site-packages/pandas/core/computation/expressions.py:206: UserWarning: evaluating in Python space because the '*' operator is not supported by numexpr for the bool dtype, use '&' instead\n",
      "  warnings.warn(\n"
     ]
    },
    {
     "name": "stdout",
     "output_type": "stream",
     "text": [
      "0.3472991584303293 15\n"
     ]
    },
    {
     "name": "stderr",
     "output_type": "stream",
     "text": [
      "/Users/jzinn/envs/anaconda/envs/py38/lib/python3.8/site-packages/pandas/core/computation/expressions.py:206: UserWarning: evaluating in Python space because the '*' operator is not supported by numexpr for the bool dtype, use '&' instead\n",
      "  warnings.warn(\n",
      "/Users/jzinn/envs/anaconda/envs/py38/lib/python3.8/site-packages/pandas/core/computation/expressions.py:206: UserWarning: evaluating in Python space because the '*' operator is not supported by numexpr for the bool dtype, use '&' instead\n",
      "  warnings.warn(\n",
      "/Users/jzinn/envs/anaconda/envs/py38/lib/python3.8/site-packages/pandas/core/computation/expressions.py:206: UserWarning: evaluating in Python space because the '*' operator is not supported by numexpr for the bool dtype, use '&' instead\n",
      "  warnings.warn(\n",
      "/Users/jzinn/envs/anaconda/envs/py38/lib/python3.8/site-packages/pandas/core/computation/expressions.py:206: UserWarning: evaluating in Python space because the '*' operator is not supported by numexpr for the bool dtype, use '&' instead\n",
      "  warnings.warn(\n"
     ]
    },
    {
     "name": "stdout",
     "output_type": "stream",
     "text": [
      "0.2187343935861329 16\n"
     ]
    },
    {
     "name": "stderr",
     "output_type": "stream",
     "text": [
      "/Users/jzinn/envs/anaconda/envs/py38/lib/python3.8/site-packages/pandas/core/computation/expressions.py:206: UserWarning: evaluating in Python space because the '*' operator is not supported by numexpr for the bool dtype, use '&' instead\n",
      "  warnings.warn(\n",
      "/Users/jzinn/envs/anaconda/envs/py38/lib/python3.8/site-packages/pandas/core/computation/expressions.py:206: UserWarning: evaluating in Python space because the '*' operator is not supported by numexpr for the bool dtype, use '&' instead\n",
      "  warnings.warn(\n",
      "/Users/jzinn/envs/anaconda/envs/py38/lib/python3.8/site-packages/pandas/core/computation/expressions.py:206: UserWarning: evaluating in Python space because the '*' operator is not supported by numexpr for the bool dtype, use '&' instead\n",
      "  warnings.warn(\n",
      "/Users/jzinn/envs/anaconda/envs/py38/lib/python3.8/site-packages/pandas/core/computation/expressions.py:206: UserWarning: evaluating in Python space because the '*' operator is not supported by numexpr for the bool dtype, use '&' instead\n",
      "  warnings.warn(\n"
     ]
    },
    {
     "name": "stdout",
     "output_type": "stream",
     "text": [
      "0.2832015906327 17\n"
     ]
    },
    {
     "name": "stderr",
     "output_type": "stream",
     "text": [
      "/Users/jzinn/envs/anaconda/envs/py38/lib/python3.8/site-packages/pandas/core/computation/expressions.py:206: UserWarning: evaluating in Python space because the '*' operator is not supported by numexpr for the bool dtype, use '&' instead\n",
      "  warnings.warn(\n",
      "/Users/jzinn/envs/anaconda/envs/py38/lib/python3.8/site-packages/pandas/core/computation/expressions.py:206: UserWarning: evaluating in Python space because the '*' operator is not supported by numexpr for the bool dtype, use '&' instead\n",
      "  warnings.warn(\n",
      "/Users/jzinn/envs/anaconda/envs/py38/lib/python3.8/site-packages/pandas/core/computation/expressions.py:206: UserWarning: evaluating in Python space because the '*' operator is not supported by numexpr for the bool dtype, use '&' instead\n",
      "  warnings.warn(\n",
      "/Users/jzinn/envs/anaconda/envs/py38/lib/python3.8/site-packages/pandas/core/computation/expressions.py:206: UserWarning: evaluating in Python space because the '*' operator is not supported by numexpr for the bool dtype, use '&' instead\n",
      "  warnings.warn(\n"
     ]
    },
    {
     "name": "stdout",
     "output_type": "stream",
     "text": [
      "0.2208073657292112 18\n"
     ]
    },
    {
     "name": "stderr",
     "output_type": "stream",
     "text": [
      "/Users/jzinn/envs/anaconda/envs/py38/lib/python3.8/site-packages/pandas/core/computation/expressions.py:206: UserWarning: evaluating in Python space because the '*' operator is not supported by numexpr for the bool dtype, use '&' instead\n",
      "  warnings.warn(\n",
      "/Users/jzinn/envs/anaconda/envs/py38/lib/python3.8/site-packages/pandas/core/computation/expressions.py:206: UserWarning: evaluating in Python space because the '*' operator is not supported by numexpr for the bool dtype, use '&' instead\n",
      "  warnings.warn(\n",
      "/Users/jzinn/envs/anaconda/envs/py38/lib/python3.8/site-packages/pandas/core/computation/expressions.py:206: UserWarning: evaluating in Python space because the '*' operator is not supported by numexpr for the bool dtype, use '&' instead\n",
      "  warnings.warn(\n",
      "/Users/jzinn/envs/anaconda/envs/py38/lib/python3.8/site-packages/pandas/core/computation/expressions.py:206: UserWarning: evaluating in Python space because the '*' operator is not supported by numexpr for the bool dtype, use '&' instead\n",
      "  warnings.warn(\n"
     ]
    },
    {
     "name": "stdout",
     "output_type": "stream",
     "text": [
      "0.2329939055527008 19\n"
     ]
    },
    {
     "name": "stderr",
     "output_type": "stream",
     "text": [
      "/Users/jzinn/envs/anaconda/envs/py38/lib/python3.8/site-packages/pandas/core/computation/expressions.py:206: UserWarning: evaluating in Python space because the '*' operator is not supported by numexpr for the bool dtype, use '&' instead\n",
      "  warnings.warn(\n",
      "/Users/jzinn/envs/anaconda/envs/py38/lib/python3.8/site-packages/pandas/core/computation/expressions.py:206: UserWarning: evaluating in Python space because the '*' operator is not supported by numexpr for the bool dtype, use '&' instead\n",
      "  warnings.warn(\n",
      "/Users/jzinn/envs/anaconda/envs/py38/lib/python3.8/site-packages/pandas/core/computation/expressions.py:206: UserWarning: evaluating in Python space because the '*' operator is not supported by numexpr for the bool dtype, use '&' instead\n",
      "  warnings.warn(\n",
      "/Users/jzinn/envs/anaconda/envs/py38/lib/python3.8/site-packages/pandas/core/computation/expressions.py:206: UserWarning: evaluating in Python space because the '*' operator is not supported by numexpr for the bool dtype, use '&' instead\n",
      "  warnings.warn(\n"
     ]
    },
    {
     "name": "stdout",
     "output_type": "stream",
     "text": [
      "0.2229135655154129 20\n"
     ]
    },
    {
     "name": "stderr",
     "output_type": "stream",
     "text": [
      "/Users/jzinn/envs/anaconda/envs/py38/lib/python3.8/site-packages/pandas/core/computation/expressions.py:206: UserWarning: evaluating in Python space because the '*' operator is not supported by numexpr for the bool dtype, use '&' instead\n",
      "  warnings.warn(\n",
      "/Users/jzinn/envs/anaconda/envs/py38/lib/python3.8/site-packages/pandas/core/computation/expressions.py:206: UserWarning: evaluating in Python space because the '*' operator is not supported by numexpr for the bool dtype, use '&' instead\n",
      "  warnings.warn(\n",
      "/Users/jzinn/envs/anaconda/envs/py38/lib/python3.8/site-packages/pandas/core/computation/expressions.py:206: UserWarning: evaluating in Python space because the '*' operator is not supported by numexpr for the bool dtype, use '&' instead\n",
      "  warnings.warn(\n",
      "/Users/jzinn/envs/anaconda/envs/py38/lib/python3.8/site-packages/pandas/core/computation/expressions.py:206: UserWarning: evaluating in Python space because the '*' operator is not supported by numexpr for the bool dtype, use '&' instead\n",
      "  warnings.warn(\n"
     ]
    },
    {
     "name": "stdout",
     "output_type": "stream",
     "text": [
      "0.2171780756895367 21\n"
     ]
    },
    {
     "name": "stderr",
     "output_type": "stream",
     "text": [
      "/Users/jzinn/envs/anaconda/envs/py38/lib/python3.8/site-packages/pandas/core/computation/expressions.py:206: UserWarning: evaluating in Python space because the '*' operator is not supported by numexpr for the bool dtype, use '&' instead\n",
      "  warnings.warn(\n",
      "/Users/jzinn/envs/anaconda/envs/py38/lib/python3.8/site-packages/pandas/core/computation/expressions.py:206: UserWarning: evaluating in Python space because the '*' operator is not supported by numexpr for the bool dtype, use '&' instead\n",
      "  warnings.warn(\n",
      "/Users/jzinn/envs/anaconda/envs/py38/lib/python3.8/site-packages/pandas/core/computation/expressions.py:206: UserWarning: evaluating in Python space because the '*' operator is not supported by numexpr for the bool dtype, use '&' instead\n",
      "  warnings.warn(\n",
      "/Users/jzinn/envs/anaconda/envs/py38/lib/python3.8/site-packages/pandas/core/computation/expressions.py:206: UserWarning: evaluating in Python space because the '*' operator is not supported by numexpr for the bool dtype, use '&' instead\n",
      "  warnings.warn(\n"
     ]
    },
    {
     "name": "stdout",
     "output_type": "stream",
     "text": [
      "0.22908883982549 22\n"
     ]
    },
    {
     "name": "stderr",
     "output_type": "stream",
     "text": [
      "/Users/jzinn/envs/anaconda/envs/py38/lib/python3.8/site-packages/pandas/core/computation/expressions.py:206: UserWarning: evaluating in Python space because the '*' operator is not supported by numexpr for the bool dtype, use '&' instead\n",
      "  warnings.warn(\n",
      "/Users/jzinn/envs/anaconda/envs/py38/lib/python3.8/site-packages/pandas/core/computation/expressions.py:206: UserWarning: evaluating in Python space because the '*' operator is not supported by numexpr for the bool dtype, use '&' instead\n",
      "  warnings.warn(\n",
      "/Users/jzinn/envs/anaconda/envs/py38/lib/python3.8/site-packages/pandas/core/computation/expressions.py:206: UserWarning: evaluating in Python space because the '*' operator is not supported by numexpr for the bool dtype, use '&' instead\n",
      "  warnings.warn(\n",
      "/Users/jzinn/envs/anaconda/envs/py38/lib/python3.8/site-packages/pandas/core/computation/expressions.py:206: UserWarning: evaluating in Python space because the '*' operator is not supported by numexpr for the bool dtype, use '&' instead\n",
      "  warnings.warn(\n"
     ]
    },
    {
     "name": "stdout",
     "output_type": "stream",
     "text": [
      "0.2243472210462654 23\n",
      "0.6564545516152341 24\n"
     ]
    },
    {
     "name": "stderr",
     "output_type": "stream",
     "text": [
      "/Users/jzinn/envs/anaconda/envs/py38/lib/python3.8/site-packages/pandas/core/computation/expressions.py:206: UserWarning: evaluating in Python space because the '*' operator is not supported by numexpr for the bool dtype, use '&' instead\n",
      "  warnings.warn(\n",
      "/Users/jzinn/envs/anaconda/envs/py38/lib/python3.8/site-packages/pandas/core/computation/expressions.py:206: UserWarning: evaluating in Python space because the '*' operator is not supported by numexpr for the bool dtype, use '&' instead\n",
      "  warnings.warn(\n",
      "/Users/jzinn/envs/anaconda/envs/py38/lib/python3.8/site-packages/pandas/core/computation/expressions.py:206: UserWarning: evaluating in Python space because the '*' operator is not supported by numexpr for the bool dtype, use '&' instead\n",
      "  warnings.warn(\n",
      "/Users/jzinn/envs/anaconda/envs/py38/lib/python3.8/site-packages/pandas/core/computation/expressions.py:206: UserWarning: evaluating in Python space because the '*' operator is not supported by numexpr for the bool dtype, use '&' instead\n",
      "  warnings.warn(\n",
      "/Users/jzinn/envs/anaconda/envs/py38/lib/python3.8/site-packages/pandas/core/computation/expressions.py:206: UserWarning: evaluating in Python space because the '*' operator is not supported by numexpr for the bool dtype, use '&' instead\n",
      "  warnings.warn(\n",
      "/Users/jzinn/envs/anaconda/envs/py38/lib/python3.8/site-packages/pandas/core/computation/expressions.py:206: UserWarning: evaluating in Python space because the '*' operator is not supported by numexpr for the bool dtype, use '&' instead\n",
      "  warnings.warn(\n",
      "/Users/jzinn/envs/anaconda/envs/py38/lib/python3.8/site-packages/pandas/core/computation/expressions.py:206: UserWarning: evaluating in Python space because the '*' operator is not supported by numexpr for the bool dtype, use '&' instead\n",
      "  warnings.warn(\n",
      "/Users/jzinn/envs/anaconda/envs/py38/lib/python3.8/site-packages/pandas/core/computation/expressions.py:206: UserWarning: evaluating in Python space because the '*' operator is not supported by numexpr for the bool dtype, use '&' instead\n",
      "  warnings.warn(\n"
     ]
    },
    {
     "name": "stdout",
     "output_type": "stream",
     "text": [
      "0.800310366337783 25\n"
     ]
    },
    {
     "name": "stderr",
     "output_type": "stream",
     "text": [
      "/Users/jzinn/envs/anaconda/envs/py38/lib/python3.8/site-packages/pandas/core/computation/expressions.py:206: UserWarning: evaluating in Python space because the '*' operator is not supported by numexpr for the bool dtype, use '&' instead\n",
      "  warnings.warn(\n",
      "/Users/jzinn/envs/anaconda/envs/py38/lib/python3.8/site-packages/pandas/core/computation/expressions.py:206: UserWarning: evaluating in Python space because the '*' operator is not supported by numexpr for the bool dtype, use '&' instead\n",
      "  warnings.warn(\n",
      "/Users/jzinn/envs/anaconda/envs/py38/lib/python3.8/site-packages/pandas/core/computation/expressions.py:206: UserWarning: evaluating in Python space because the '*' operator is not supported by numexpr for the bool dtype, use '&' instead\n",
      "  warnings.warn(\n",
      "/Users/jzinn/envs/anaconda/envs/py38/lib/python3.8/site-packages/pandas/core/computation/expressions.py:206: UserWarning: evaluating in Python space because the '*' operator is not supported by numexpr for the bool dtype, use '&' instead\n",
      "  warnings.warn(\n"
     ]
    },
    {
     "name": "stdout",
     "output_type": "stream",
     "text": [
      "0.3619748387514662 26\n"
     ]
    },
    {
     "name": "stderr",
     "output_type": "stream",
     "text": [
      "/Users/jzinn/envs/anaconda/envs/py38/lib/python3.8/site-packages/pandas/core/computation/expressions.py:206: UserWarning: evaluating in Python space because the '*' operator is not supported by numexpr for the bool dtype, use '&' instead\n",
      "  warnings.warn(\n",
      "/Users/jzinn/envs/anaconda/envs/py38/lib/python3.8/site-packages/pandas/core/computation/expressions.py:206: UserWarning: evaluating in Python space because the '*' operator is not supported by numexpr for the bool dtype, use '&' instead\n",
      "  warnings.warn(\n",
      "/Users/jzinn/envs/anaconda/envs/py38/lib/python3.8/site-packages/pandas/core/computation/expressions.py:206: UserWarning: evaluating in Python space because the '*' operator is not supported by numexpr for the bool dtype, use '&' instead\n",
      "  warnings.warn(\n",
      "/Users/jzinn/envs/anaconda/envs/py38/lib/python3.8/site-packages/pandas/core/computation/expressions.py:206: UserWarning: evaluating in Python space because the '*' operator is not supported by numexpr for the bool dtype, use '&' instead\n",
      "  warnings.warn(\n"
     ]
    },
    {
     "name": "stdout",
     "output_type": "stream",
     "text": [
      "0.439967838111151 27\n"
     ]
    },
    {
     "name": "stderr",
     "output_type": "stream",
     "text": [
      "/Users/jzinn/envs/anaconda/envs/py38/lib/python3.8/site-packages/pandas/core/computation/expressions.py:206: UserWarning: evaluating in Python space because the '*' operator is not supported by numexpr for the bool dtype, use '&' instead\n",
      "  warnings.warn(\n",
      "/Users/jzinn/envs/anaconda/envs/py38/lib/python3.8/site-packages/pandas/core/computation/expressions.py:206: UserWarning: evaluating in Python space because the '*' operator is not supported by numexpr for the bool dtype, use '&' instead\n",
      "  warnings.warn(\n",
      "/Users/jzinn/envs/anaconda/envs/py38/lib/python3.8/site-packages/pandas/core/computation/expressions.py:206: UserWarning: evaluating in Python space because the '*' operator is not supported by numexpr for the bool dtype, use '&' instead\n",
      "  warnings.warn(\n",
      "/Users/jzinn/envs/anaconda/envs/py38/lib/python3.8/site-packages/pandas/core/computation/expressions.py:206: UserWarning: evaluating in Python space because the '*' operator is not supported by numexpr for the bool dtype, use '&' instead\n",
      "  warnings.warn(\n"
     ]
    },
    {
     "name": "stdout",
     "output_type": "stream",
     "text": [
      "0.2833005770648413 28\n"
     ]
    },
    {
     "name": "stderr",
     "output_type": "stream",
     "text": [
      "/Users/jzinn/envs/anaconda/envs/py38/lib/python3.8/site-packages/pandas/core/computation/expressions.py:206: UserWarning: evaluating in Python space because the '*' operator is not supported by numexpr for the bool dtype, use '&' instead\n",
      "  warnings.warn(\n",
      "/Users/jzinn/envs/anaconda/envs/py38/lib/python3.8/site-packages/pandas/core/computation/expressions.py:206: UserWarning: evaluating in Python space because the '*' operator is not supported by numexpr for the bool dtype, use '&' instead\n",
      "  warnings.warn(\n",
      "/Users/jzinn/envs/anaconda/envs/py38/lib/python3.8/site-packages/pandas/core/computation/expressions.py:206: UserWarning: evaluating in Python space because the '*' operator is not supported by numexpr for the bool dtype, use '&' instead\n",
      "  warnings.warn(\n",
      "/Users/jzinn/envs/anaconda/envs/py38/lib/python3.8/site-packages/pandas/core/computation/expressions.py:206: UserWarning: evaluating in Python space because the '*' operator is not supported by numexpr for the bool dtype, use '&' instead\n",
      "  warnings.warn(\n"
     ]
    },
    {
     "name": "stdout",
     "output_type": "stream",
     "text": [
      "0.3581369101009074 29\n"
     ]
    },
    {
     "name": "stderr",
     "output_type": "stream",
     "text": [
      "/Users/jzinn/envs/anaconda/envs/py38/lib/python3.8/site-packages/pandas/core/computation/expressions.py:206: UserWarning: evaluating in Python space because the '*' operator is not supported by numexpr for the bool dtype, use '&' instead\n",
      "  warnings.warn(\n",
      "/Users/jzinn/envs/anaconda/envs/py38/lib/python3.8/site-packages/pandas/core/computation/expressions.py:206: UserWarning: evaluating in Python space because the '*' operator is not supported by numexpr for the bool dtype, use '&' instead\n",
      "  warnings.warn(\n",
      "/Users/jzinn/envs/anaconda/envs/py38/lib/python3.8/site-packages/pandas/core/computation/expressions.py:206: UserWarning: evaluating in Python space because the '*' operator is not supported by numexpr for the bool dtype, use '&' instead\n",
      "  warnings.warn(\n",
      "/Users/jzinn/envs/anaconda/envs/py38/lib/python3.8/site-packages/pandas/core/computation/expressions.py:206: UserWarning: evaluating in Python space because the '*' operator is not supported by numexpr for the bool dtype, use '&' instead\n",
      "  warnings.warn(\n"
     ]
    },
    {
     "name": "stdout",
     "output_type": "stream",
     "text": [
      "0.255306920594429 30\n"
     ]
    },
    {
     "name": "stderr",
     "output_type": "stream",
     "text": [
      "/Users/jzinn/envs/anaconda/envs/py38/lib/python3.8/site-packages/pandas/core/computation/expressions.py:206: UserWarning: evaluating in Python space because the '*' operator is not supported by numexpr for the bool dtype, use '&' instead\n",
      "  warnings.warn(\n",
      "/Users/jzinn/envs/anaconda/envs/py38/lib/python3.8/site-packages/pandas/core/computation/expressions.py:206: UserWarning: evaluating in Python space because the '*' operator is not supported by numexpr for the bool dtype, use '&' instead\n",
      "  warnings.warn(\n",
      "/Users/jzinn/envs/anaconda/envs/py38/lib/python3.8/site-packages/pandas/core/computation/expressions.py:206: UserWarning: evaluating in Python space because the '*' operator is not supported by numexpr for the bool dtype, use '&' instead\n",
      "  warnings.warn(\n",
      "/Users/jzinn/envs/anaconda/envs/py38/lib/python3.8/site-packages/pandas/core/computation/expressions.py:206: UserWarning: evaluating in Python space because the '*' operator is not supported by numexpr for the bool dtype, use '&' instead\n",
      "  warnings.warn(\n"
     ]
    },
    {
     "name": "stdout",
     "output_type": "stream",
     "text": [
      "0.298447557411516 31\n"
     ]
    },
    {
     "name": "stderr",
     "output_type": "stream",
     "text": [
      "/Users/jzinn/envs/anaconda/envs/py38/lib/python3.8/site-packages/pandas/core/computation/expressions.py:206: UserWarning: evaluating in Python space because the '*' operator is not supported by numexpr for the bool dtype, use '&' instead\n",
      "  warnings.warn(\n",
      "/Users/jzinn/envs/anaconda/envs/py38/lib/python3.8/site-packages/pandas/core/computation/expressions.py:206: UserWarning: evaluating in Python space because the '*' operator is not supported by numexpr for the bool dtype, use '&' instead\n",
      "  warnings.warn(\n",
      "/Users/jzinn/envs/anaconda/envs/py38/lib/python3.8/site-packages/pandas/core/computation/expressions.py:206: UserWarning: evaluating in Python space because the '*' operator is not supported by numexpr for the bool dtype, use '&' instead\n",
      "  warnings.warn(\n",
      "/Users/jzinn/envs/anaconda/envs/py38/lib/python3.8/site-packages/pandas/core/computation/expressions.py:206: UserWarning: evaluating in Python space because the '*' operator is not supported by numexpr for the bool dtype, use '&' instead\n",
      "  warnings.warn(\n"
     ]
    },
    {
     "name": "stdout",
     "output_type": "stream",
     "text": [
      "0.2586762499278113 32\n"
     ]
    },
    {
     "name": "stderr",
     "output_type": "stream",
     "text": [
      "/Users/jzinn/envs/anaconda/envs/py38/lib/python3.8/site-packages/pandas/core/computation/expressions.py:206: UserWarning: evaluating in Python space because the '*' operator is not supported by numexpr for the bool dtype, use '&' instead\n",
      "  warnings.warn(\n",
      "/Users/jzinn/envs/anaconda/envs/py38/lib/python3.8/site-packages/pandas/core/computation/expressions.py:206: UserWarning: evaluating in Python space because the '*' operator is not supported by numexpr for the bool dtype, use '&' instead\n",
      "  warnings.warn(\n",
      "/Users/jzinn/envs/anaconda/envs/py38/lib/python3.8/site-packages/pandas/core/computation/expressions.py:206: UserWarning: evaluating in Python space because the '*' operator is not supported by numexpr for the bool dtype, use '&' instead\n",
      "  warnings.warn(\n",
      "/Users/jzinn/envs/anaconda/envs/py38/lib/python3.8/site-packages/pandas/core/computation/expressions.py:206: UserWarning: evaluating in Python space because the '*' operator is not supported by numexpr for the bool dtype, use '&' instead\n",
      "  warnings.warn(\n"
     ]
    },
    {
     "name": "stdout",
     "output_type": "stream",
     "text": [
      "0.2564627904914675 33\n"
     ]
    },
    {
     "name": "stderr",
     "output_type": "stream",
     "text": [
      "/Users/jzinn/envs/anaconda/envs/py38/lib/python3.8/site-packages/pandas/core/computation/expressions.py:206: UserWarning: evaluating in Python space because the '*' operator is not supported by numexpr for the bool dtype, use '&' instead\n",
      "  warnings.warn(\n",
      "/Users/jzinn/envs/anaconda/envs/py38/lib/python3.8/site-packages/pandas/core/computation/expressions.py:206: UserWarning: evaluating in Python space because the '*' operator is not supported by numexpr for the bool dtype, use '&' instead\n",
      "  warnings.warn(\n",
      "/Users/jzinn/envs/anaconda/envs/py38/lib/python3.8/site-packages/pandas/core/computation/expressions.py:206: UserWarning: evaluating in Python space because the '*' operator is not supported by numexpr for the bool dtype, use '&' instead\n",
      "  warnings.warn(\n",
      "/Users/jzinn/envs/anaconda/envs/py38/lib/python3.8/site-packages/pandas/core/computation/expressions.py:206: UserWarning: evaluating in Python space because the '*' operator is not supported by numexpr for the bool dtype, use '&' instead\n",
      "  warnings.warn(\n"
     ]
    },
    {
     "name": "stdout",
     "output_type": "stream",
     "text": [
      "0.2646448422618478 34\n"
     ]
    },
    {
     "name": "stderr",
     "output_type": "stream",
     "text": [
      "/Users/jzinn/envs/anaconda/envs/py38/lib/python3.8/site-packages/pandas/core/computation/expressions.py:206: UserWarning: evaluating in Python space because the '*' operator is not supported by numexpr for the bool dtype, use '&' instead\n",
      "  warnings.warn(\n",
      "/Users/jzinn/envs/anaconda/envs/py38/lib/python3.8/site-packages/pandas/core/computation/expressions.py:206: UserWarning: evaluating in Python space because the '*' operator is not supported by numexpr for the bool dtype, use '&' instead\n",
      "  warnings.warn(\n",
      "/Users/jzinn/envs/anaconda/envs/py38/lib/python3.8/site-packages/pandas/core/computation/expressions.py:206: UserWarning: evaluating in Python space because the '*' operator is not supported by numexpr for the bool dtype, use '&' instead\n",
      "  warnings.warn(\n",
      "/Users/jzinn/envs/anaconda/envs/py38/lib/python3.8/site-packages/pandas/core/computation/expressions.py:206: UserWarning: evaluating in Python space because the '*' operator is not supported by numexpr for the bool dtype, use '&' instead\n",
      "  warnings.warn(\n"
     ]
    },
    {
     "name": "stdout",
     "output_type": "stream",
     "text": [
      "0.2570291922015018 35\n",
      "1.2722360769594865 36\n"
     ]
    },
    {
     "name": "stderr",
     "output_type": "stream",
     "text": [
      "/Users/jzinn/envs/anaconda/envs/py38/lib/python3.8/site-packages/pandas/core/computation/expressions.py:206: UserWarning: evaluating in Python space because the '*' operator is not supported by numexpr for the bool dtype, use '&' instead\n",
      "  warnings.warn(\n",
      "/Users/jzinn/envs/anaconda/envs/py38/lib/python3.8/site-packages/pandas/core/computation/expressions.py:206: UserWarning: evaluating in Python space because the '*' operator is not supported by numexpr for the bool dtype, use '&' instead\n",
      "  warnings.warn(\n",
      "/Users/jzinn/envs/anaconda/envs/py38/lib/python3.8/site-packages/pandas/core/computation/expressions.py:206: UserWarning: evaluating in Python space because the '*' operator is not supported by numexpr for the bool dtype, use '&' instead\n",
      "  warnings.warn(\n",
      "/Users/jzinn/envs/anaconda/envs/py38/lib/python3.8/site-packages/pandas/core/computation/expressions.py:206: UserWarning: evaluating in Python space because the '*' operator is not supported by numexpr for the bool dtype, use '&' instead\n",
      "  warnings.warn(\n",
      "/Users/jzinn/envs/anaconda/envs/py38/lib/python3.8/site-packages/pandas/core/computation/expressions.py:206: UserWarning: evaluating in Python space because the '*' operator is not supported by numexpr for the bool dtype, use '&' instead\n",
      "  warnings.warn(\n",
      "/Users/jzinn/envs/anaconda/envs/py38/lib/python3.8/site-packages/pandas/core/computation/expressions.py:206: UserWarning: evaluating in Python space because the '*' operator is not supported by numexpr for the bool dtype, use '&' instead\n",
      "  warnings.warn(\n",
      "/Users/jzinn/envs/anaconda/envs/py38/lib/python3.8/site-packages/pandas/core/computation/expressions.py:206: UserWarning: evaluating in Python space because the '*' operator is not supported by numexpr for the bool dtype, use '&' instead\n",
      "  warnings.warn(\n",
      "/Users/jzinn/envs/anaconda/envs/py38/lib/python3.8/site-packages/pandas/core/computation/expressions.py:206: UserWarning: evaluating in Python space because the '*' operator is not supported by numexpr for the bool dtype, use '&' instead\n",
      "  warnings.warn(\n"
     ]
    },
    {
     "name": "stdout",
     "output_type": "stream",
     "text": [
      "1.5673319336026683 37\n",
      "0.6672925706332375 38\n"
     ]
    },
    {
     "name": "stderr",
     "output_type": "stream",
     "text": [
      "/Users/jzinn/envs/anaconda/envs/py38/lib/python3.8/site-packages/pandas/core/computation/expressions.py:206: UserWarning: evaluating in Python space because the '*' operator is not supported by numexpr for the bool dtype, use '&' instead\n",
      "  warnings.warn(\n",
      "/Users/jzinn/envs/anaconda/envs/py38/lib/python3.8/site-packages/pandas/core/computation/expressions.py:206: UserWarning: evaluating in Python space because the '*' operator is not supported by numexpr for the bool dtype, use '&' instead\n",
      "  warnings.warn(\n",
      "/Users/jzinn/envs/anaconda/envs/py38/lib/python3.8/site-packages/pandas/core/computation/expressions.py:206: UserWarning: evaluating in Python space because the '*' operator is not supported by numexpr for the bool dtype, use '&' instead\n",
      "  warnings.warn(\n",
      "/Users/jzinn/envs/anaconda/envs/py38/lib/python3.8/site-packages/pandas/core/computation/expressions.py:206: UserWarning: evaluating in Python space because the '*' operator is not supported by numexpr for the bool dtype, use '&' instead\n",
      "  warnings.warn(\n",
      "/Users/jzinn/envs/anaconda/envs/py38/lib/python3.8/site-packages/pandas/core/computation/expressions.py:206: UserWarning: evaluating in Python space because the '*' operator is not supported by numexpr for the bool dtype, use '&' instead\n",
      "  warnings.warn(\n",
      "/Users/jzinn/envs/anaconda/envs/py38/lib/python3.8/site-packages/pandas/core/computation/expressions.py:206: UserWarning: evaluating in Python space because the '*' operator is not supported by numexpr for the bool dtype, use '&' instead\n",
      "  warnings.warn(\n",
      "/Users/jzinn/envs/anaconda/envs/py38/lib/python3.8/site-packages/pandas/core/computation/expressions.py:206: UserWarning: evaluating in Python space because the '*' operator is not supported by numexpr for the bool dtype, use '&' instead\n",
      "  warnings.warn(\n",
      "/Users/jzinn/envs/anaconda/envs/py38/lib/python3.8/site-packages/pandas/core/computation/expressions.py:206: UserWarning: evaluating in Python space because the '*' operator is not supported by numexpr for the bool dtype, use '&' instead\n",
      "  warnings.warn(\n"
     ]
    },
    {
     "name": "stdout",
     "output_type": "stream",
     "text": [
      "0.8169833202951677 39\n",
      "0.4960069796278105 40\n"
     ]
    },
    {
     "name": "stderr",
     "output_type": "stream",
     "text": [
      "/Users/jzinn/envs/anaconda/envs/py38/lib/python3.8/site-packages/pandas/core/computation/expressions.py:206: UserWarning: evaluating in Python space because the '*' operator is not supported by numexpr for the bool dtype, use '&' instead\n",
      "  warnings.warn(\n",
      "/Users/jzinn/envs/anaconda/envs/py38/lib/python3.8/site-packages/pandas/core/computation/expressions.py:206: UserWarning: evaluating in Python space because the '*' operator is not supported by numexpr for the bool dtype, use '&' instead\n",
      "  warnings.warn(\n",
      "/Users/jzinn/envs/anaconda/envs/py38/lib/python3.8/site-packages/pandas/core/computation/expressions.py:206: UserWarning: evaluating in Python space because the '*' operator is not supported by numexpr for the bool dtype, use '&' instead\n",
      "  warnings.warn(\n",
      "/Users/jzinn/envs/anaconda/envs/py38/lib/python3.8/site-packages/pandas/core/computation/expressions.py:206: UserWarning: evaluating in Python space because the '*' operator is not supported by numexpr for the bool dtype, use '&' instead\n",
      "  warnings.warn(\n",
      "/Users/jzinn/envs/anaconda/envs/py38/lib/python3.8/site-packages/pandas/core/computation/expressions.py:206: UserWarning: evaluating in Python space because the '*' operator is not supported by numexpr for the bool dtype, use '&' instead\n",
      "  warnings.warn(\n",
      "/Users/jzinn/envs/anaconda/envs/py38/lib/python3.8/site-packages/pandas/core/computation/expressions.py:206: UserWarning: evaluating in Python space because the '*' operator is not supported by numexpr for the bool dtype, use '&' instead\n",
      "  warnings.warn(\n",
      "/Users/jzinn/envs/anaconda/envs/py38/lib/python3.8/site-packages/pandas/core/computation/expressions.py:206: UserWarning: evaluating in Python space because the '*' operator is not supported by numexpr for the bool dtype, use '&' instead\n",
      "  warnings.warn(\n",
      "/Users/jzinn/envs/anaconda/envs/py38/lib/python3.8/site-packages/pandas/core/computation/expressions.py:206: UserWarning: evaluating in Python space because the '*' operator is not supported by numexpr for the bool dtype, use '&' instead\n",
      "  warnings.warn(\n"
     ]
    },
    {
     "name": "stdout",
     "output_type": "stream",
     "text": [
      "0.6065256774301598 41\n"
     ]
    },
    {
     "name": "stderr",
     "output_type": "stream",
     "text": [
      "/Users/jzinn/envs/anaconda/envs/py38/lib/python3.8/site-packages/pandas/core/computation/expressions.py:206: UserWarning: evaluating in Python space because the '*' operator is not supported by numexpr for the bool dtype, use '&' instead\n",
      "  warnings.warn(\n",
      "/Users/jzinn/envs/anaconda/envs/py38/lib/python3.8/site-packages/pandas/core/computation/expressions.py:206: UserWarning: evaluating in Python space because the '*' operator is not supported by numexpr for the bool dtype, use '&' instead\n",
      "  warnings.warn(\n",
      "/Users/jzinn/envs/anaconda/envs/py38/lib/python3.8/site-packages/pandas/core/computation/expressions.py:206: UserWarning: evaluating in Python space because the '*' operator is not supported by numexpr for the bool dtype, use '&' instead\n",
      "  warnings.warn(\n",
      "/Users/jzinn/envs/anaconda/envs/py38/lib/python3.8/site-packages/pandas/core/computation/expressions.py:206: UserWarning: evaluating in Python space because the '*' operator is not supported by numexpr for the bool dtype, use '&' instead\n",
      "  warnings.warn(\n"
     ]
    },
    {
     "name": "stdout",
     "output_type": "stream",
     "text": [
      "0.3915856789544659 42\n",
      "0.4932819980811462 43\n"
     ]
    },
    {
     "name": "stderr",
     "output_type": "stream",
     "text": [
      "/Users/jzinn/envs/anaconda/envs/py38/lib/python3.8/site-packages/pandas/core/computation/expressions.py:206: UserWarning: evaluating in Python space because the '*' operator is not supported by numexpr for the bool dtype, use '&' instead\n",
      "  warnings.warn(\n",
      "/Users/jzinn/envs/anaconda/envs/py38/lib/python3.8/site-packages/pandas/core/computation/expressions.py:206: UserWarning: evaluating in Python space because the '*' operator is not supported by numexpr for the bool dtype, use '&' instead\n",
      "  warnings.warn(\n",
      "/Users/jzinn/envs/anaconda/envs/py38/lib/python3.8/site-packages/pandas/core/computation/expressions.py:206: UserWarning: evaluating in Python space because the '*' operator is not supported by numexpr for the bool dtype, use '&' instead\n",
      "  warnings.warn(\n",
      "/Users/jzinn/envs/anaconda/envs/py38/lib/python3.8/site-packages/pandas/core/computation/expressions.py:206: UserWarning: evaluating in Python space because the '*' operator is not supported by numexpr for the bool dtype, use '&' instead\n",
      "  warnings.warn(\n",
      "/Users/jzinn/envs/anaconda/envs/py38/lib/python3.8/site-packages/pandas/core/computation/expressions.py:206: UserWarning: evaluating in Python space because the '*' operator is not supported by numexpr for the bool dtype, use '&' instead\n",
      "  warnings.warn(\n",
      "/Users/jzinn/envs/anaconda/envs/py38/lib/python3.8/site-packages/pandas/core/computation/expressions.py:206: UserWarning: evaluating in Python space because the '*' operator is not supported by numexpr for the bool dtype, use '&' instead\n",
      "  warnings.warn(\n",
      "/Users/jzinn/envs/anaconda/envs/py38/lib/python3.8/site-packages/pandas/core/computation/expressions.py:206: UserWarning: evaluating in Python space because the '*' operator is not supported by numexpr for the bool dtype, use '&' instead\n",
      "  warnings.warn(\n"
     ]
    },
    {
     "name": "stdout",
     "output_type": "stream",
     "text": [
      "0.3287800714314263 44\n"
     ]
    },
    {
     "name": "stderr",
     "output_type": "stream",
     "text": [
      "/Users/jzinn/envs/anaconda/envs/py38/lib/python3.8/site-packages/pandas/core/computation/expressions.py:206: UserWarning: evaluating in Python space because the '*' operator is not supported by numexpr for the bool dtype, use '&' instead\n",
      "  warnings.warn(\n",
      "/Users/jzinn/envs/anaconda/envs/py38/lib/python3.8/site-packages/pandas/core/computation/expressions.py:206: UserWarning: evaluating in Python space because the '*' operator is not supported by numexpr for the bool dtype, use '&' instead\n",
      "  warnings.warn(\n",
      "/Users/jzinn/envs/anaconda/envs/py38/lib/python3.8/site-packages/pandas/core/computation/expressions.py:206: UserWarning: evaluating in Python space because the '*' operator is not supported by numexpr for the bool dtype, use '&' instead\n",
      "  warnings.warn(\n",
      "/Users/jzinn/envs/anaconda/envs/py38/lib/python3.8/site-packages/pandas/core/computation/expressions.py:206: UserWarning: evaluating in Python space because the '*' operator is not supported by numexpr for the bool dtype, use '&' instead\n",
      "  warnings.warn(\n",
      "/Users/jzinn/envs/anaconda/envs/py38/lib/python3.8/site-packages/pandas/core/computation/expressions.py:206: UserWarning: evaluating in Python space because the '*' operator is not supported by numexpr for the bool dtype, use '&' instead\n",
      "  warnings.warn(\n"
     ]
    },
    {
     "name": "stdout",
     "output_type": "stream",
     "text": [
      "0.3854149541680589 45\n"
     ]
    },
    {
     "name": "stderr",
     "output_type": "stream",
     "text": [
      "/Users/jzinn/envs/anaconda/envs/py38/lib/python3.8/site-packages/pandas/core/computation/expressions.py:206: UserWarning: evaluating in Python space because the '*' operator is not supported by numexpr for the bool dtype, use '&' instead\n",
      "  warnings.warn(\n",
      "/Users/jzinn/envs/anaconda/envs/py38/lib/python3.8/site-packages/pandas/core/computation/expressions.py:206: UserWarning: evaluating in Python space because the '*' operator is not supported by numexpr for the bool dtype, use '&' instead\n",
      "  warnings.warn(\n",
      "/Users/jzinn/envs/anaconda/envs/py38/lib/python3.8/site-packages/pandas/core/computation/expressions.py:206: UserWarning: evaluating in Python space because the '*' operator is not supported by numexpr for the bool dtype, use '&' instead\n",
      "  warnings.warn(\n",
      "/Users/jzinn/envs/anaconda/envs/py38/lib/python3.8/site-packages/pandas/core/computation/expressions.py:206: UserWarning: evaluating in Python space because the '*' operator is not supported by numexpr for the bool dtype, use '&' instead\n",
      "  warnings.warn(\n"
     ]
    },
    {
     "name": "stdout",
     "output_type": "stream",
     "text": [
      "0.331777707146736 46\n"
     ]
    },
    {
     "name": "stderr",
     "output_type": "stream",
     "text": [
      "/Users/jzinn/envs/anaconda/envs/py38/lib/python3.8/site-packages/pandas/core/computation/expressions.py:206: UserWarning: evaluating in Python space because the '*' operator is not supported by numexpr for the bool dtype, use '&' instead\n",
      "  warnings.warn(\n",
      "/Users/jzinn/envs/anaconda/envs/py38/lib/python3.8/site-packages/pandas/core/computation/expressions.py:206: UserWarning: evaluating in Python space because the '*' operator is not supported by numexpr for the bool dtype, use '&' instead\n",
      "  warnings.warn(\n",
      "/Users/jzinn/envs/anaconda/envs/py38/lib/python3.8/site-packages/pandas/core/computation/expressions.py:206: UserWarning: evaluating in Python space because the '*' operator is not supported by numexpr for the bool dtype, use '&' instead\n",
      "  warnings.warn(\n",
      "/Users/jzinn/envs/anaconda/envs/py38/lib/python3.8/site-packages/pandas/core/computation/expressions.py:206: UserWarning: evaluating in Python space because the '*' operator is not supported by numexpr for the bool dtype, use '&' instead\n",
      "  warnings.warn(\n"
     ]
    },
    {
     "name": "stdout",
     "output_type": "stream",
     "text": [
      "0.3267245851124884 47\n",
      "27.426912430616767 48\n",
      "29.36965990561129 49\n",
      "12.120266312565423 50\n"
     ]
    },
    {
     "name": "stderr",
     "output_type": "stream",
     "text": [
      "/Users/jzinn/envs/anaconda/envs/py38/lib/python3.8/site-packages/pandas/core/computation/expressions.py:206: UserWarning: evaluating in Python space because the '*' operator is not supported by numexpr for the bool dtype, use '&' instead\n",
      "  warnings.warn(\n",
      "/Users/jzinn/envs/anaconda/envs/py38/lib/python3.8/site-packages/pandas/core/computation/expressions.py:206: UserWarning: evaluating in Python space because the '*' operator is not supported by numexpr for the bool dtype, use '&' instead\n",
      "  warnings.warn(\n",
      "/Users/jzinn/envs/anaconda/envs/py38/lib/python3.8/site-packages/pandas/core/computation/expressions.py:206: UserWarning: evaluating in Python space because the '*' operator is not supported by numexpr for the bool dtype, use '&' instead\n",
      "  warnings.warn(\n",
      "/Users/jzinn/envs/anaconda/envs/py38/lib/python3.8/site-packages/pandas/core/computation/expressions.py:206: UserWarning: evaluating in Python space because the '*' operator is not supported by numexpr for the bool dtype, use '&' instead\n",
      "  warnings.warn(\n",
      "/Users/jzinn/envs/anaconda/envs/py38/lib/python3.8/site-packages/pandas/core/computation/expressions.py:206: UserWarning: evaluating in Python space because the '*' operator is not supported by numexpr for the bool dtype, use '&' instead\n",
      "  warnings.warn(\n",
      "/Users/jzinn/envs/anaconda/envs/py38/lib/python3.8/site-packages/pandas/core/computation/expressions.py:206: UserWarning: evaluating in Python space because the '*' operator is not supported by numexpr for the bool dtype, use '&' instead\n",
      "  warnings.warn(\n",
      "/Users/jzinn/envs/anaconda/envs/py38/lib/python3.8/site-packages/pandas/core/computation/expressions.py:206: UserWarning: evaluating in Python space because the '*' operator is not supported by numexpr for the bool dtype, use '&' instead\n",
      "  warnings.warn(\n",
      "/Users/jzinn/envs/anaconda/envs/py38/lib/python3.8/site-packages/pandas/core/computation/expressions.py:206: UserWarning: evaluating in Python space because the '*' operator is not supported by numexpr for the bool dtype, use '&' instead\n",
      "  warnings.warn(\n",
      "/Users/jzinn/envs/anaconda/envs/py38/lib/python3.8/site-packages/pandas/core/computation/expressions.py:206: UserWarning: evaluating in Python space because the '*' operator is not supported by numexpr for the bool dtype, use '&' instead\n",
      "  warnings.warn(\n",
      "/Users/jzinn/envs/anaconda/envs/py38/lib/python3.8/site-packages/pandas/core/computation/expressions.py:206: UserWarning: evaluating in Python space because the '*' operator is not supported by numexpr for the bool dtype, use '&' instead\n",
      "  warnings.warn(\n",
      "/Users/jzinn/envs/anaconda/envs/py38/lib/python3.8/site-packages/pandas/core/computation/expressions.py:206: UserWarning: evaluating in Python space because the '*' operator is not supported by numexpr for the bool dtype, use '&' instead\n",
      "  warnings.warn(\n",
      "/Users/jzinn/envs/anaconda/envs/py38/lib/python3.8/site-packages/pandas/core/computation/expressions.py:206: UserWarning: evaluating in Python space because the '*' operator is not supported by numexpr for the bool dtype, use '&' instead\n",
      "  warnings.warn(\n",
      "/Users/jzinn/envs/anaconda/envs/py38/lib/python3.8/site-packages/pandas/core/computation/expressions.py:206: UserWarning: evaluating in Python space because the '*' operator is not supported by numexpr for the bool dtype, use '&' instead\n",
      "  warnings.warn(\n",
      "/Users/jzinn/envs/anaconda/envs/py38/lib/python3.8/site-packages/pandas/core/computation/expressions.py:206: UserWarning: evaluating in Python space because the '*' operator is not supported by numexpr for the bool dtype, use '&' instead\n",
      "  warnings.warn(\n",
      "/Users/jzinn/envs/anaconda/envs/py38/lib/python3.8/site-packages/pandas/core/computation/expressions.py:206: UserWarning: evaluating in Python space because the '*' operator is not supported by numexpr for the bool dtype, use '&' instead\n",
      "  warnings.warn(\n",
      "/Users/jzinn/envs/anaconda/envs/py38/lib/python3.8/site-packages/pandas/core/computation/expressions.py:206: UserWarning: evaluating in Python space because the '*' operator is not supported by numexpr for the bool dtype, use '&' instead\n",
      "  warnings.warn(\n"
     ]
    },
    {
     "name": "stdout",
     "output_type": "stream",
     "text": [
      "13.876993918322338 51\n",
      "11.29401838268802 52\n",
      "12.992541610243382 53\n"
     ]
    },
    {
     "name": "stderr",
     "output_type": "stream",
     "text": [
      "/Users/jzinn/envs/anaconda/envs/py38/lib/python3.8/site-packages/pandas/core/computation/expressions.py:206: UserWarning: evaluating in Python space because the '*' operator is not supported by numexpr for the bool dtype, use '&' instead\n",
      "  warnings.warn(\n",
      "/Users/jzinn/envs/anaconda/envs/py38/lib/python3.8/site-packages/pandas/core/computation/expressions.py:206: UserWarning: evaluating in Python space because the '*' operator is not supported by numexpr for the bool dtype, use '&' instead\n",
      "  warnings.warn(\n",
      "/Users/jzinn/envs/anaconda/envs/py38/lib/python3.8/site-packages/pandas/core/computation/expressions.py:206: UserWarning: evaluating in Python space because the '*' operator is not supported by numexpr for the bool dtype, use '&' instead\n",
      "  warnings.warn(\n",
      "/Users/jzinn/envs/anaconda/envs/py38/lib/python3.8/site-packages/pandas/core/computation/expressions.py:206: UserWarning: evaluating in Python space because the '*' operator is not supported by numexpr for the bool dtype, use '&' instead\n",
      "  warnings.warn(\n",
      "/Users/jzinn/envs/anaconda/envs/py38/lib/python3.8/site-packages/pandas/core/computation/expressions.py:206: UserWarning: evaluating in Python space because the '*' operator is not supported by numexpr for the bool dtype, use '&' instead\n",
      "  warnings.warn(\n",
      "/Users/jzinn/envs/anaconda/envs/py38/lib/python3.8/site-packages/pandas/core/computation/expressions.py:206: UserWarning: evaluating in Python space because the '*' operator is not supported by numexpr for the bool dtype, use '&' instead\n",
      "  warnings.warn(\n",
      "/Users/jzinn/envs/anaconda/envs/py38/lib/python3.8/site-packages/pandas/core/computation/expressions.py:206: UserWarning: evaluating in Python space because the '*' operator is not supported by numexpr for the bool dtype, use '&' instead\n",
      "  warnings.warn(\n",
      "/Users/jzinn/envs/anaconda/envs/py38/lib/python3.8/site-packages/pandas/core/computation/expressions.py:206: UserWarning: evaluating in Python space because the '*' operator is not supported by numexpr for the bool dtype, use '&' instead\n",
      "  warnings.warn(\n",
      "/Users/jzinn/envs/anaconda/envs/py38/lib/python3.8/site-packages/pandas/core/computation/expressions.py:206: UserWarning: evaluating in Python space because the '*' operator is not supported by numexpr for the bool dtype, use '&' instead\n",
      "  warnings.warn(\n",
      "/Users/jzinn/envs/anaconda/envs/py38/lib/python3.8/site-packages/pandas/core/computation/expressions.py:206: UserWarning: evaluating in Python space because the '*' operator is not supported by numexpr for the bool dtype, use '&' instead\n",
      "  warnings.warn(\n",
      "/Users/jzinn/envs/anaconda/envs/py38/lib/python3.8/site-packages/pandas/core/computation/expressions.py:206: UserWarning: evaluating in Python space because the '*' operator is not supported by numexpr for the bool dtype, use '&' instead\n",
      "  warnings.warn(\n",
      "/Users/jzinn/envs/anaconda/envs/py38/lib/python3.8/site-packages/pandas/core/computation/expressions.py:206: UserWarning: evaluating in Python space because the '*' operator is not supported by numexpr for the bool dtype, use '&' instead\n",
      "  warnings.warn(\n"
     ]
    },
    {
     "name": "stdout",
     "output_type": "stream",
     "text": [
      "2.830773829548319 54\n",
      "3.984315819705489 55\n"
     ]
    },
    {
     "name": "stderr",
     "output_type": "stream",
     "text": [
      "/Users/jzinn/envs/anaconda/envs/py38/lib/python3.8/site-packages/pandas/core/computation/expressions.py:206: UserWarning: evaluating in Python space because the '*' operator is not supported by numexpr for the bool dtype, use '&' instead\n",
      "  warnings.warn(\n",
      "/Users/jzinn/envs/anaconda/envs/py38/lib/python3.8/site-packages/pandas/core/computation/expressions.py:206: UserWarning: evaluating in Python space because the '*' operator is not supported by numexpr for the bool dtype, use '&' instead\n",
      "  warnings.warn(\n",
      "/Users/jzinn/envs/anaconda/envs/py38/lib/python3.8/site-packages/pandas/core/computation/expressions.py:206: UserWarning: evaluating in Python space because the '*' operator is not supported by numexpr for the bool dtype, use '&' instead\n",
      "  warnings.warn(\n",
      "/Users/jzinn/envs/anaconda/envs/py38/lib/python3.8/site-packages/pandas/core/computation/expressions.py:206: UserWarning: evaluating in Python space because the '*' operator is not supported by numexpr for the bool dtype, use '&' instead\n",
      "  warnings.warn(\n",
      "/Users/jzinn/envs/anaconda/envs/py38/lib/python3.8/site-packages/pandas/core/computation/expressions.py:206: UserWarning: evaluating in Python space because the '*' operator is not supported by numexpr for the bool dtype, use '&' instead\n",
      "  warnings.warn(\n",
      "/Users/jzinn/envs/anaconda/envs/py38/lib/python3.8/site-packages/pandas/core/computation/expressions.py:206: UserWarning: evaluating in Python space because the '*' operator is not supported by numexpr for the bool dtype, use '&' instead\n",
      "  warnings.warn(\n",
      "/Users/jzinn/envs/anaconda/envs/py38/lib/python3.8/site-packages/pandas/core/computation/expressions.py:206: UserWarning: evaluating in Python space because the '*' operator is not supported by numexpr for the bool dtype, use '&' instead\n",
      "  warnings.warn(\n",
      "/Users/jzinn/envs/anaconda/envs/py38/lib/python3.8/site-packages/pandas/core/computation/expressions.py:206: UserWarning: evaluating in Python space because the '*' operator is not supported by numexpr for the bool dtype, use '&' instead\n",
      "  warnings.warn(\n"
     ]
    },
    {
     "name": "stdout",
     "output_type": "stream",
     "text": [
      "1.3474664331558115 56\n",
      "1.760704436974333 57\n"
     ]
    },
    {
     "name": "stderr",
     "output_type": "stream",
     "text": [
      "/Users/jzinn/envs/anaconda/envs/py38/lib/python3.8/site-packages/pandas/core/computation/expressions.py:206: UserWarning: evaluating in Python space because the '*' operator is not supported by numexpr for the bool dtype, use '&' instead\n",
      "  warnings.warn(\n",
      "/Users/jzinn/envs/anaconda/envs/py38/lib/python3.8/site-packages/pandas/core/computation/expressions.py:206: UserWarning: evaluating in Python space because the '*' operator is not supported by numexpr for the bool dtype, use '&' instead\n",
      "  warnings.warn(\n",
      "/Users/jzinn/envs/anaconda/envs/py38/lib/python3.8/site-packages/pandas/core/computation/expressions.py:206: UserWarning: evaluating in Python space because the '*' operator is not supported by numexpr for the bool dtype, use '&' instead\n",
      "  warnings.warn(\n",
      "/Users/jzinn/envs/anaconda/envs/py38/lib/python3.8/site-packages/pandas/core/computation/expressions.py:206: UserWarning: evaluating in Python space because the '*' operator is not supported by numexpr for the bool dtype, use '&' instead\n",
      "  warnings.warn(\n",
      "/Users/jzinn/envs/anaconda/envs/py38/lib/python3.8/site-packages/pandas/core/computation/expressions.py:206: UserWarning: evaluating in Python space because the '*' operator is not supported by numexpr for the bool dtype, use '&' instead\n",
      "  warnings.warn(\n",
      "/Users/jzinn/envs/anaconda/envs/py38/lib/python3.8/site-packages/pandas/core/computation/expressions.py:206: UserWarning: evaluating in Python space because the '*' operator is not supported by numexpr for the bool dtype, use '&' instead\n",
      "  warnings.warn(\n",
      "/Users/jzinn/envs/anaconda/envs/py38/lib/python3.8/site-packages/pandas/core/computation/expressions.py:206: UserWarning: evaluating in Python space because the '*' operator is not supported by numexpr for the bool dtype, use '&' instead\n",
      "  warnings.warn(\n",
      "/Users/jzinn/envs/anaconda/envs/py38/lib/python3.8/site-packages/pandas/core/computation/expressions.py:206: UserWarning: evaluating in Python space because the '*' operator is not supported by numexpr for the bool dtype, use '&' instead\n",
      "  warnings.warn(\n"
     ]
    },
    {
     "name": "stdout",
     "output_type": "stream",
     "text": [
      "0.9166628773823546 58\n",
      "1.2192225875795903 59\n",
      "0      0\n",
      "1      1\n",
      "2      2\n",
      "3      3\n",
      "4      4\n",
      "5      5\n",
      "6      6\n",
      "7      7\n",
      "8      8\n",
      "9      9\n",
      "10    10\n",
      "11    11\n",
      "12    12\n",
      "13    13\n",
      "14    14\n",
      "15    15\n",
      "16    16\n",
      "17    17\n",
      "18    18\n",
      "19    19\n",
      "20    20\n",
      "21    21\n",
      "22    22\n",
      "23    23\n",
      "24    24\n",
      "25    25\n",
      "26    26\n",
      "27    27\n",
      "28    28\n",
      "29    29\n",
      "30    30\n",
      "31    31\n",
      "32    32\n",
      "33    33\n",
      "34    34\n",
      "35    35\n",
      "36    36\n",
      "37    37\n",
      "38    38\n",
      "39    39\n",
      "40    40\n",
      "41    41\n",
      "42    42\n",
      "43    43\n",
      "44    44\n",
      "45    45\n",
      "46    46\n",
      "47    47\n",
      "48    48\n",
      "49    49\n",
      "50    50\n",
      "51    51\n",
      "52    52\n",
      "53    53\n",
      "54    54\n",
      "55    55\n",
      "56    56\n",
      "57    57\n",
      "58    58\n",
      "59    59\n",
      "Name: count, dtype: int64\n",
      "30\n",
      "30\n"
     ]
    },
    {
     "name": "stderr",
     "output_type": "stream",
     "text": [
      "/Users/jzinn/envs/anaconda/envs/py38/lib/python3.8/site-packages/pandas/core/computation/expressions.py:206: UserWarning: evaluating in Python space because the '*' operator is not supported by numexpr for the bool dtype, use '&' instead\n",
      "  warnings.warn(\n",
      "/Users/jzinn/envs/anaconda/envs/py38/lib/python3.8/site-packages/pandas/core/computation/expressions.py:206: UserWarning: evaluating in Python space because the '*' operator is not supported by numexpr for the bool dtype, use '&' instead\n",
      "  warnings.warn(\n",
      "/Users/jzinn/envs/anaconda/envs/py38/lib/python3.8/site-packages/pandas/core/computation/expressions.py:206: UserWarning: evaluating in Python space because the '*' operator is not supported by numexpr for the bool dtype, use '&' instead\n",
      "  warnings.warn(\n",
      "/Users/jzinn/envs/anaconda/envs/py38/lib/python3.8/site-packages/pandas/core/computation/expressions.py:206: UserWarning: evaluating in Python space because the '*' operator is not supported by numexpr for the bool dtype, use '&' instead\n",
      "  warnings.warn(\n",
      "/Users/jzinn/envs/anaconda/envs/py38/lib/python3.8/site-packages/pandas/core/computation/expressions.py:206: UserWarning: evaluating in Python space because the '*' operator is not supported by numexpr for the bool dtype, use '&' instead\n",
      "  warnings.warn(\n",
      "/Users/jzinn/envs/anaconda/envs/py38/lib/python3.8/site-packages/pandas/core/computation/expressions.py:206: UserWarning: evaluating in Python space because the '*' operator is not supported by numexpr for the bool dtype, use '&' instead\n",
      "  warnings.warn(\n",
      "/Users/jzinn/envs/anaconda/envs/py38/lib/python3.8/site-packages/pandas/core/computation/expressions.py:206: UserWarning: evaluating in Python space because the '*' operator is not supported by numexpr for the bool dtype, use '&' instead\n",
      "  warnings.warn(\n",
      "/Users/jzinn/envs/anaconda/envs/py38/lib/python3.8/site-packages/pandas/core/computation/expressions.py:206: UserWarning: evaluating in Python space because the '*' operator is not supported by numexpr for the bool dtype, use '&' instead\n",
      "  warnings.warn(\n",
      "<ipython-input-35-233d353b3764>:386: FutureWarning: elementwise comparison failed; returning scalar instead, but in the future will perform elementwise comparison\n",
      "  if color_eta == 'grey':\n",
      "<ipython-input-35-233d353b3764>:386: FutureWarning: elementwise comparison failed; returning scalar instead, but in the future will perform elementwise comparison\n",
      "  if color_eta == 'grey':\n",
      "<ipython-input-35-233d353b3764>:386: FutureWarning: elementwise comparison failed; returning scalar instead, but in the future will perform elementwise comparison\n",
      "  if color_eta == 'grey':\n",
      "<ipython-input-35-233d353b3764>:386: FutureWarning: elementwise comparison failed; returning scalar instead, but in the future will perform elementwise comparison\n",
      "  if color_eta == 'grey':\n"
     ]
    },
    {
     "name": "stdout",
     "output_type": "stream",
     "text": [
      "done \n",
      "0\n",
      "False\n",
      "done \n",
      "0\n",
      "False\n",
      "done \n",
      "0\n",
      "False\n",
      "done \n",
      "0\n",
      "False\n",
      "[1. 1. 1. 1. 1. 1. 1. 1. 1. 1. 1. 1. 1. 1. 1. 1. 1. 1. 1. 1. 1. 1. 1. 1.\n",
      " 1. 1. 1. 1. 1. 1. 1. 1. 1. 1. 1. 1. 1. 1. 1. 1. 1. 1. 1. 1. 1. 1. 1. 1.\n",
      " 1. 1. 1. 1. 1. 1. 1. 1. 1. 1. 1. 1. 1. 1. 1. 1. 1. 1. 1. 1. 1. 1. 1. 1.\n",
      " 1. 1. 1. 1. 1. 1. 1. 1. 1. 1. 1. 1. 1. 1. 1. 1. 1. 1. 1. 1. 1. 1. 1. 1.\n",
      " 1. 1. 1. 1. 1. 1. 1. 1. 1. 1. 1. 1. 1. 1. 1. 1. 1. 1. 1. 1. 1. 1. 1. 1.\n",
      " 1. 1. 1. 1. 1. 1. 1. 1. 1. 1. 1. 1. 1. 1. 1. 1. 1. 1. 1. 1. 1. 1. 1. 1.\n",
      " 1. 1. 1. 1. 1. 1. 1. 1. 1. 1. 1. 1. 1. 1. 1. 1. 1. 1. 1. 1. 1. 1. 1. 1.\n",
      " 1. 1. 1. 1. 1. 1. 1. 1. 1. 1. 1. 1. 1. 1. 1. 1. 1. 1. 1. 1. 1. 1. 1. 1.\n",
      " 1. 1. 1. 1. 1. 1. 1. 1. 1. 1. 1. 1. 1. 1. 1. 1. 1. 1. 1. 1. 1. 1. 1. 1.\n",
      " 1. 1. 1. 1. 1. 1. 1. 1. 1. 1. 1. 1. 1. 1. 1. 1. 1. 1. 1. 1. 1. 1. 1. 1.\n",
      " 1. 1. 1. 1. 1. 1. 1. 1. 1. 1. 1. 1. 1. 1. 1. 1. 1. 1. 1. 1. 1. 1. 1. 1.\n",
      " 1. 1. 1. 1. 1. 1. 1. 1. 1. 1. 1. 1. 1. 1. 1. 1. 1. 1. 1. 1. 1. 1. 1. 1.\n",
      " 1. 1. 1. 1. 1. 1. 1. 1. 1. 1. 1. 1. 1. 1. 1. 1. 1. 1. 1. 1. 1. 1. 1. 1.\n",
      " 1. 1. 1. 1. 1. 1. 1. 1. 1. 1. 1. 1. 1. 1. 1. 1. 1. 1. 1. 1. 1. 1. 1. 1.\n",
      " 1. 1. 1. 1. 1. 1. 1. 1. 1. 1. 1. 1. 1. 1. 1. 1. 1. 1. 1. 1. 1. 1. 1. 1.\n",
      " 1. 1. 1. 1. 1. 1. 1. 1. 1. 1. 1. 1. 1. 1. 1. 1. 1. 1. 1. 1. 1. 1. 1. 1.\n",
      " 1. 1. 1. 1. 1. 1. 1. 1. 1. 1. 1. 1. 1. 1. 1. 1. 1. 1. 1. 1. 1. 1. 1. 1.\n",
      " 1. 1. 1. 1. 1. 1. 1. 1. 1. 1. 1. 1. 1. 1. 1. 1. 1. 1. 1. 1. 1. 1. 1. 1.\n",
      " 1. 1. 1. 1. 1. 1. 1. 1. 1. 1. 1. 1. 1. 1. 1. 1. 1. 1. 1. 1. 1. 1. 1. 1.\n",
      " 1. 1. 1. 1. 1. 1. 1. 1. 1. 1. 1. 1. 1. 1. 1. 1. 1. 1. 1. 1. 1. 1. 1. 1.\n",
      " 1. 1. 1. 1. 1. 1. 1. 1. 1. 1. 1. 1. 1. 1. 1. 1. 1. 1. 1. 1. 1. 1. 1. 1.\n",
      " 1. 1. 1. 1. 1. 1. 1. 1. 1. 1. 1. 1. 1. 1. 1. 1. 1. 1. 1. 1. 1. 1. 1. 1.\n",
      " 1. 1. 1. 1. 1. 1. 1. 1. 1. 1. 1. 1. 1. 1. 1. 1. 1. 1. 1. 1. 1. 1. 1. 1.\n",
      " 1. 1. 1. 1. 1. 1. 1. 1. 1. 1. 1. 1. 1. 1. 1. 1. 1. 1. 1. 1. 1. 1. 1. 1.\n",
      " 1. 1. 1. 1. 1. 1. 1. 1. 1. 1. 1. 1. 1. 1. 1. 1. 1. 1. 1. 1. 1. 1. 1. 1.\n",
      " 1. 1. 1. 1. 1. 1. 1. 1. 1. 1. 1. 1. 1. 1. 1. 1. 1. 1. 1. 1. 1. 1. 1. 1.\n",
      " 1. 1. 1. 1. 1. 1. 1. 1. 1. 1. 1. 1. 1. 1. 1. 1. 1. 1. 1. 1. 1. 1. 1. 1.\n",
      " 1. 1. 1. 1. 1. 1. 1. 1. 1. 1. 1. 1. 1. 1. 1. 1. 1. 1. 1. 1. 1. 1. 1. 1.\n",
      " 1. 1. 1. 1. 1. 1. 1. 1. 1. 1. 1. 1. 1. 1. 1. 1. 1. 1. 1. 1. 1. 1. 1. 1.\n",
      " 1. 1. 1. 1. 1. 1. 1. 1. 1. 1. 1. 1. 1. 1. 1. 1. 1. 1. 1. 1. 1. 1. 1. 1.\n",
      " 1. 1. 1. 1. 1. 1. 1. 1. 1. 1. 1. 1. 1. 1. 1. 1. 1. 1. 1. 1. 1. 1. 1. 1.\n",
      " 1. 1. 1. 1. 1. 1. 1. 1. 1. 1. 1. 1. 1. 1. 1. 1. 1. 1. 1. 1. 1. 1. 1. 1.\n",
      " 1. 1. 1. 1. 1. 1. 1. 1. 1.]\n",
      "0\n"
     ]
    },
    {
     "name": "stderr",
     "output_type": "stream",
     "text": [
      "<ipython-input-35-233d353b3764>:386: FutureWarning: elementwise comparison failed; returning scalar instead, but in the future will perform elementwise comparison\n",
      "  if color_eta == 'grey':\n",
      "<ipython-input-35-233d353b3764>:386: FutureWarning: elementwise comparison failed; returning scalar instead, but in the future will perform elementwise comparison\n",
      "  if color_eta == 'grey':\n",
      "<ipython-input-35-233d353b3764>:386: FutureWarning: elementwise comparison failed; returning scalar instead, but in the future will perform elementwise comparison\n",
      "  if color_eta == 'grey':\n",
      "<ipython-input-35-233d353b3764>:558: MatplotlibDeprecationWarning: Adding an axes using the same arguments as a previous axes currently reuses the earlier instance.  In a future version, a new instance will always be created and returned.  Meanwhile, this warning can be suppressed, and the future behavior ensured, by passing a unique label to each axes instance.\n",
      "  cbaxes = ax.figure.add_axes(ratios)\n",
      "<ipython-input-35-233d353b3764>:166: MatplotlibDeprecationWarning: Adding an axes using the same arguments as a previous axes currently reuses the earlier instance.  In a future version, a new instance will always be created and returned.  Meanwhile, this warning can be suppressed, and the future behavior ensured, by passing a unique label to each axes instance.\n",
      "  ax = f1.add_subplot(gs1[0, 0])\n",
      "<ipython-input-35-233d353b3764>:167: MatplotlibDeprecationWarning: Adding an axes using the same arguments as a previous axes currently reuses the earlier instance.  In a future version, a new instance will always be created and returned.  Meanwhile, this warning can be suppressed, and the future behavior ensured, by passing a unique label to each axes instance.\n",
      "  ax_gyre = f2.add_subplot(gs2[0, 0])\n",
      "<ipython-input-35-233d353b3764>:168: MatplotlibDeprecationWarning: Adding an axes using the same arguments as a previous axes currently reuses the earlier instance.  In a future version, a new instance will always be created and returned.  Meanwhile, this warning can be suppressed, and the future behavior ensured, by passing a unique label to each axes instance.\n",
      "  ax_other = f3.add_subplot(gs3[0, 0])\n"
     ]
    },
    {
     "name": "stdout",
     "output_type": "stream",
     "text": [
      "done \n",
      "1\n",
      "False\n",
      "done \n",
      "1\n",
      "False\n",
      "done \n",
      "1\n",
      "False\n"
     ]
    },
    {
     "name": "stderr",
     "output_type": "stream",
     "text": [
      "<ipython-input-35-233d353b3764>:386: FutureWarning: elementwise comparison failed; returning scalar instead, but in the future will perform elementwise comparison\n",
      "  if color_eta == 'grey':\n",
      "<ipython-input-35-233d353b3764>:386: FutureWarning: elementwise comparison failed; returning scalar instead, but in the future will perform elementwise comparison\n",
      "  if color_eta == 'grey':\n",
      "<ipython-input-35-233d353b3764>:386: FutureWarning: elementwise comparison failed; returning scalar instead, but in the future will perform elementwise comparison\n",
      "  if color_eta == 'grey':\n",
      "<ipython-input-35-233d353b3764>:558: MatplotlibDeprecationWarning: Adding an axes using the same arguments as a previous axes currently reuses the earlier instance.  In a future version, a new instance will always be created and returned.  Meanwhile, this warning can be suppressed, and the future behavior ensured, by passing a unique label to each axes instance.\n",
      "  cbaxes = ax.figure.add_axes(ratios)\n",
      "<ipython-input-35-233d353b3764>:176: MatplotlibDeprecationWarning: Adding an axes using the same arguments as a previous axes currently reuses the earlier instance.  In a future version, a new instance will always be created and returned.  Meanwhile, this warning can be suppressed, and the future behavior ensured, by passing a unique label to each axes instance.\n",
      "  ax = f1.add_subplot(gs1[0, 1])\n",
      "<ipython-input-35-233d353b3764>:177: MatplotlibDeprecationWarning: Adding an axes using the same arguments as a previous axes currently reuses the earlier instance.  In a future version, a new instance will always be created and returned.  Meanwhile, this warning can be suppressed, and the future behavior ensured, by passing a unique label to each axes instance.\n",
      "  ax_gyre = f2.add_subplot(gs2[0, 1])\n",
      "<ipython-input-35-233d353b3764>:178: MatplotlibDeprecationWarning: Adding an axes using the same arguments as a previous axes currently reuses the earlier instance.  In a future version, a new instance will always be created and returned.  Meanwhile, this warning can be suppressed, and the future behavior ensured, by passing a unique label to each axes instance.\n",
      "  ax_other = f3.add_subplot(gs3[0, 1])\n"
     ]
    },
    {
     "name": "stdout",
     "output_type": "stream",
     "text": [
      "done \n",
      "0\n",
      "False\n",
      "done \n",
      "0\n",
      "False\n",
      "done \n",
      "0\n",
      "False\n",
      "[1. 1. 1. ... 1. 1. 1.]\n",
      "0\n"
     ]
    },
    {
     "name": "stderr",
     "output_type": "stream",
     "text": [
      "<ipython-input-35-233d353b3764>:386: FutureWarning: elementwise comparison failed; returning scalar instead, but in the future will perform elementwise comparison\n",
      "  if color_eta == 'grey':\n",
      "<ipython-input-35-233d353b3764>:386: FutureWarning: elementwise comparison failed; returning scalar instead, but in the future will perform elementwise comparison\n",
      "  if color_eta == 'grey':\n",
      "<ipython-input-35-233d353b3764>:386: FutureWarning: elementwise comparison failed; returning scalar instead, but in the future will perform elementwise comparison\n",
      "  if color_eta == 'grey':\n",
      "<ipython-input-35-233d353b3764>:558: MatplotlibDeprecationWarning: Adding an axes using the same arguments as a previous axes currently reuses the earlier instance.  In a future version, a new instance will always be created and returned.  Meanwhile, this warning can be suppressed, and the future behavior ensured, by passing a unique label to each axes instance.\n",
      "  cbaxes = ax.figure.add_axes(ratios)\n",
      "<ipython-input-35-233d353b3764>:166: MatplotlibDeprecationWarning: Adding an axes using the same arguments as a previous axes currently reuses the earlier instance.  In a future version, a new instance will always be created and returned.  Meanwhile, this warning can be suppressed, and the future behavior ensured, by passing a unique label to each axes instance.\n",
      "  ax = f1.add_subplot(gs1[0, 0])\n",
      "<ipython-input-35-233d353b3764>:167: MatplotlibDeprecationWarning: Adding an axes using the same arguments as a previous axes currently reuses the earlier instance.  In a future version, a new instance will always be created and returned.  Meanwhile, this warning can be suppressed, and the future behavior ensured, by passing a unique label to each axes instance.\n",
      "  ax_gyre = f2.add_subplot(gs2[0, 0])\n",
      "<ipython-input-35-233d353b3764>:168: MatplotlibDeprecationWarning: Adding an axes using the same arguments as a previous axes currently reuses the earlier instance.  In a future version, a new instance will always be created and returned.  Meanwhile, this warning can be suppressed, and the future behavior ensured, by passing a unique label to each axes instance.\n",
      "  ax_other = f3.add_subplot(gs3[0, 0])\n"
     ]
    },
    {
     "name": "stdout",
     "output_type": "stream",
     "text": [
      "done \n",
      "1\n",
      "False\n",
      "done \n",
      "1\n",
      "False\n",
      "done \n",
      "1\n",
      "False\n"
     ]
    },
    {
     "name": "stderr",
     "output_type": "stream",
     "text": [
      "<ipython-input-35-233d353b3764>:386: FutureWarning: elementwise comparison failed; returning scalar instead, but in the future will perform elementwise comparison\n",
      "  if color_eta == 'grey':\n",
      "<ipython-input-35-233d353b3764>:386: FutureWarning: elementwise comparison failed; returning scalar instead, but in the future will perform elementwise comparison\n",
      "  if color_eta == 'grey':\n",
      "<ipython-input-35-233d353b3764>:386: FutureWarning: elementwise comparison failed; returning scalar instead, but in the future will perform elementwise comparison\n",
      "  if color_eta == 'grey':\n",
      "<ipython-input-35-233d353b3764>:558: MatplotlibDeprecationWarning: Adding an axes using the same arguments as a previous axes currently reuses the earlier instance.  In a future version, a new instance will always be created and returned.  Meanwhile, this warning can be suppressed, and the future behavior ensured, by passing a unique label to each axes instance.\n",
      "  cbaxes = ax.figure.add_axes(ratios)\n",
      "<ipython-input-35-233d353b3764>:176: MatplotlibDeprecationWarning: Adding an axes using the same arguments as a previous axes currently reuses the earlier instance.  In a future version, a new instance will always be created and returned.  Meanwhile, this warning can be suppressed, and the future behavior ensured, by passing a unique label to each axes instance.\n",
      "  ax = f1.add_subplot(gs1[0, 1])\n",
      "<ipython-input-35-233d353b3764>:177: MatplotlibDeprecationWarning: Adding an axes using the same arguments as a previous axes currently reuses the earlier instance.  In a future version, a new instance will always be created and returned.  Meanwhile, this warning can be suppressed, and the future behavior ensured, by passing a unique label to each axes instance.\n",
      "  ax_gyre = f2.add_subplot(gs2[0, 1])\n",
      "<ipython-input-35-233d353b3764>:178: MatplotlibDeprecationWarning: Adding an axes using the same arguments as a previous axes currently reuses the earlier instance.  In a future version, a new instance will always be created and returned.  Meanwhile, this warning can be suppressed, and the future behavior ensured, by passing a unique label to each axes instance.\n",
      "  ax_other = f3.add_subplot(gs3[0, 1])\n"
     ]
    },
    {
     "name": "stdout",
     "output_type": "stream",
     "text": [
      "done \n",
      "0\n",
      "False\n",
      "done \n",
      "0\n",
      "False\n",
      "done \n",
      "0\n",
      "False\n",
      "[1. 1. 1. ... 1. 1. 1.]\n",
      "0\n"
     ]
    },
    {
     "name": "stderr",
     "output_type": "stream",
     "text": [
      "<ipython-input-35-233d353b3764>:386: FutureWarning: elementwise comparison failed; returning scalar instead, but in the future will perform elementwise comparison\n",
      "  if color_eta == 'grey':\n",
      "<ipython-input-35-233d353b3764>:386: FutureWarning: elementwise comparison failed; returning scalar instead, but in the future will perform elementwise comparison\n",
      "  if color_eta == 'grey':\n",
      "<ipython-input-35-233d353b3764>:386: FutureWarning: elementwise comparison failed; returning scalar instead, but in the future will perform elementwise comparison\n",
      "  if color_eta == 'grey':\n",
      "<ipython-input-35-233d353b3764>:558: MatplotlibDeprecationWarning: Adding an axes using the same arguments as a previous axes currently reuses the earlier instance.  In a future version, a new instance will always be created and returned.  Meanwhile, this warning can be suppressed, and the future behavior ensured, by passing a unique label to each axes instance.\n",
      "  cbaxes = ax.figure.add_axes(ratios)\n",
      "<ipython-input-35-233d353b3764>:166: MatplotlibDeprecationWarning: Adding an axes using the same arguments as a previous axes currently reuses the earlier instance.  In a future version, a new instance will always be created and returned.  Meanwhile, this warning can be suppressed, and the future behavior ensured, by passing a unique label to each axes instance.\n",
      "  ax = f1.add_subplot(gs1[0, 0])\n",
      "<ipython-input-35-233d353b3764>:167: MatplotlibDeprecationWarning: Adding an axes using the same arguments as a previous axes currently reuses the earlier instance.  In a future version, a new instance will always be created and returned.  Meanwhile, this warning can be suppressed, and the future behavior ensured, by passing a unique label to each axes instance.\n",
      "  ax_gyre = f2.add_subplot(gs2[0, 0])\n",
      "<ipython-input-35-233d353b3764>:168: MatplotlibDeprecationWarning: Adding an axes using the same arguments as a previous axes currently reuses the earlier instance.  In a future version, a new instance will always be created and returned.  Meanwhile, this warning can be suppressed, and the future behavior ensured, by passing a unique label to each axes instance.\n",
      "  ax_other = f3.add_subplot(gs3[0, 0])\n"
     ]
    },
    {
     "name": "stdout",
     "output_type": "stream",
     "text": [
      "done \n",
      "1\n",
      "False\n",
      "done \n",
      "1\n",
      "False\n",
      "done \n",
      "1\n",
      "False\n"
     ]
    },
    {
     "name": "stderr",
     "output_type": "stream",
     "text": [
      "<ipython-input-35-233d353b3764>:386: FutureWarning: elementwise comparison failed; returning scalar instead, but in the future will perform elementwise comparison\n",
      "  if color_eta == 'grey':\n",
      "<ipython-input-35-233d353b3764>:386: FutureWarning: elementwise comparison failed; returning scalar instead, but in the future will perform elementwise comparison\n",
      "  if color_eta == 'grey':\n",
      "<ipython-input-35-233d353b3764>:386: FutureWarning: elementwise comparison failed; returning scalar instead, but in the future will perform elementwise comparison\n",
      "  if color_eta == 'grey':\n",
      "<ipython-input-35-233d353b3764>:558: MatplotlibDeprecationWarning: Adding an axes using the same arguments as a previous axes currently reuses the earlier instance.  In a future version, a new instance will always be created and returned.  Meanwhile, this warning can be suppressed, and the future behavior ensured, by passing a unique label to each axes instance.\n",
      "  cbaxes = ax.figure.add_axes(ratios)\n",
      "<ipython-input-35-233d353b3764>:176: MatplotlibDeprecationWarning: Adding an axes using the same arguments as a previous axes currently reuses the earlier instance.  In a future version, a new instance will always be created and returned.  Meanwhile, this warning can be suppressed, and the future behavior ensured, by passing a unique label to each axes instance.\n",
      "  ax = f1.add_subplot(gs1[0, 1])\n",
      "<ipython-input-35-233d353b3764>:177: MatplotlibDeprecationWarning: Adding an axes using the same arguments as a previous axes currently reuses the earlier instance.  In a future version, a new instance will always be created and returned.  Meanwhile, this warning can be suppressed, and the future behavior ensured, by passing a unique label to each axes instance.\n",
      "  ax_gyre = f2.add_subplot(gs2[0, 1])\n",
      "<ipython-input-35-233d353b3764>:178: MatplotlibDeprecationWarning: Adding an axes using the same arguments as a previous axes currently reuses the earlier instance.  In a future version, a new instance will always be created and returned.  Meanwhile, this warning can be suppressed, and the future behavior ensured, by passing a unique label to each axes instance.\n",
      "  ax_other = f3.add_subplot(gs3[0, 1])\n"
     ]
    },
    {
     "name": "stdout",
     "output_type": "stream",
     "text": [
      "done \n",
      "0\n",
      "False\n",
      "done \n",
      "0\n",
      "False\n",
      "done \n",
      "0\n",
      "False\n",
      "[1. 1. 1. ... 1. 1. 1.]\n",
      "0\n"
     ]
    },
    {
     "name": "stderr",
     "output_type": "stream",
     "text": [
      "<ipython-input-35-233d353b3764>:386: FutureWarning: elementwise comparison failed; returning scalar instead, but in the future will perform elementwise comparison\n",
      "  if color_eta == 'grey':\n",
      "<ipython-input-35-233d353b3764>:386: FutureWarning: elementwise comparison failed; returning scalar instead, but in the future will perform elementwise comparison\n",
      "  if color_eta == 'grey':\n",
      "<ipython-input-35-233d353b3764>:386: FutureWarning: elementwise comparison failed; returning scalar instead, but in the future will perform elementwise comparison\n",
      "  if color_eta == 'grey':\n",
      "<ipython-input-35-233d353b3764>:558: MatplotlibDeprecationWarning: Adding an axes using the same arguments as a previous axes currently reuses the earlier instance.  In a future version, a new instance will always be created and returned.  Meanwhile, this warning can be suppressed, and the future behavior ensured, by passing a unique label to each axes instance.\n",
      "  cbaxes = ax.figure.add_axes(ratios)\n",
      "<ipython-input-35-233d353b3764>:166: MatplotlibDeprecationWarning: Adding an axes using the same arguments as a previous axes currently reuses the earlier instance.  In a future version, a new instance will always be created and returned.  Meanwhile, this warning can be suppressed, and the future behavior ensured, by passing a unique label to each axes instance.\n",
      "  ax = f1.add_subplot(gs1[0, 0])\n",
      "<ipython-input-35-233d353b3764>:167: MatplotlibDeprecationWarning: Adding an axes using the same arguments as a previous axes currently reuses the earlier instance.  In a future version, a new instance will always be created and returned.  Meanwhile, this warning can be suppressed, and the future behavior ensured, by passing a unique label to each axes instance.\n",
      "  ax_gyre = f2.add_subplot(gs2[0, 0])\n",
      "<ipython-input-35-233d353b3764>:168: MatplotlibDeprecationWarning: Adding an axes using the same arguments as a previous axes currently reuses the earlier instance.  In a future version, a new instance will always be created and returned.  Meanwhile, this warning can be suppressed, and the future behavior ensured, by passing a unique label to each axes instance.\n",
      "  ax_other = f3.add_subplot(gs3[0, 0])\n"
     ]
    },
    {
     "name": "stdout",
     "output_type": "stream",
     "text": [
      "done \n",
      "1\n",
      "False\n",
      "done \n",
      "1\n",
      "False\n",
      "done \n",
      "1\n",
      "False\n"
     ]
    },
    {
     "name": "stderr",
     "output_type": "stream",
     "text": [
      "<ipython-input-35-233d353b3764>:386: FutureWarning: elementwise comparison failed; returning scalar instead, but in the future will perform elementwise comparison\n",
      "  if color_eta == 'grey':\n",
      "<ipython-input-35-233d353b3764>:386: FutureWarning: elementwise comparison failed; returning scalar instead, but in the future will perform elementwise comparison\n",
      "  if color_eta == 'grey':\n",
      "<ipython-input-35-233d353b3764>:386: FutureWarning: elementwise comparison failed; returning scalar instead, but in the future will perform elementwise comparison\n",
      "  if color_eta == 'grey':\n",
      "<ipython-input-35-233d353b3764>:558: MatplotlibDeprecationWarning: Adding an axes using the same arguments as a previous axes currently reuses the earlier instance.  In a future version, a new instance will always be created and returned.  Meanwhile, this warning can be suppressed, and the future behavior ensured, by passing a unique label to each axes instance.\n",
      "  cbaxes = ax.figure.add_axes(ratios)\n",
      "<ipython-input-35-233d353b3764>:176: MatplotlibDeprecationWarning: Adding an axes using the same arguments as a previous axes currently reuses the earlier instance.  In a future version, a new instance will always be created and returned.  Meanwhile, this warning can be suppressed, and the future behavior ensured, by passing a unique label to each axes instance.\n",
      "  ax = f1.add_subplot(gs1[0, 1])\n",
      "<ipython-input-35-233d353b3764>:177: MatplotlibDeprecationWarning: Adding an axes using the same arguments as a previous axes currently reuses the earlier instance.  In a future version, a new instance will always be created and returned.  Meanwhile, this warning can be suppressed, and the future behavior ensured, by passing a unique label to each axes instance.\n",
      "  ax_gyre = f2.add_subplot(gs2[0, 1])\n",
      "<ipython-input-35-233d353b3764>:178: MatplotlibDeprecationWarning: Adding an axes using the same arguments as a previous axes currently reuses the earlier instance.  In a future version, a new instance will always be created and returned.  Meanwhile, this warning can be suppressed, and the future behavior ensured, by passing a unique label to each axes instance.\n",
      "  ax_other = f3.add_subplot(gs3[0, 1])\n"
     ]
    },
    {
     "name": "stdout",
     "output_type": "stream",
     "text": [
      "done \n",
      "0\n",
      "False\n",
      "done \n",
      "0\n",
      "False\n",
      "done \n",
      "0\n",
      "False\n",
      "[1. 1. 1. ... 1. 1. 1.]\n",
      "0\n"
     ]
    },
    {
     "name": "stderr",
     "output_type": "stream",
     "text": [
      "<ipython-input-35-233d353b3764>:386: FutureWarning: elementwise comparison failed; returning scalar instead, but in the future will perform elementwise comparison\n",
      "  if color_eta == 'grey':\n",
      "<ipython-input-35-233d353b3764>:386: FutureWarning: elementwise comparison failed; returning scalar instead, but in the future will perform elementwise comparison\n",
      "  if color_eta == 'grey':\n",
      "<ipython-input-35-233d353b3764>:386: FutureWarning: elementwise comparison failed; returning scalar instead, but in the future will perform elementwise comparison\n",
      "  if color_eta == 'grey':\n",
      "<ipython-input-35-233d353b3764>:558: MatplotlibDeprecationWarning: Adding an axes using the same arguments as a previous axes currently reuses the earlier instance.  In a future version, a new instance will always be created and returned.  Meanwhile, this warning can be suppressed, and the future behavior ensured, by passing a unique label to each axes instance.\n",
      "  cbaxes = ax.figure.add_axes(ratios)\n",
      "<ipython-input-35-233d353b3764>:166: MatplotlibDeprecationWarning: Adding an axes using the same arguments as a previous axes currently reuses the earlier instance.  In a future version, a new instance will always be created and returned.  Meanwhile, this warning can be suppressed, and the future behavior ensured, by passing a unique label to each axes instance.\n",
      "  ax = f1.add_subplot(gs1[0, 0])\n",
      "<ipython-input-35-233d353b3764>:167: MatplotlibDeprecationWarning: Adding an axes using the same arguments as a previous axes currently reuses the earlier instance.  In a future version, a new instance will always be created and returned.  Meanwhile, this warning can be suppressed, and the future behavior ensured, by passing a unique label to each axes instance.\n",
      "  ax_gyre = f2.add_subplot(gs2[0, 0])\n",
      "<ipython-input-35-233d353b3764>:168: MatplotlibDeprecationWarning: Adding an axes using the same arguments as a previous axes currently reuses the earlier instance.  In a future version, a new instance will always be created and returned.  Meanwhile, this warning can be suppressed, and the future behavior ensured, by passing a unique label to each axes instance.\n",
      "  ax_other = f3.add_subplot(gs3[0, 0])\n"
     ]
    },
    {
     "name": "stdout",
     "output_type": "stream",
     "text": [
      "done \n",
      "1\n",
      "False\n",
      "done \n",
      "1\n",
      "False\n",
      "done \n",
      "1\n",
      "False\n"
     ]
    },
    {
     "name": "stderr",
     "output_type": "stream",
     "text": [
      "<ipython-input-35-233d353b3764>:386: FutureWarning: elementwise comparison failed; returning scalar instead, but in the future will perform elementwise comparison\n",
      "  if color_eta == 'grey':\n",
      "<ipython-input-35-233d353b3764>:386: FutureWarning: elementwise comparison failed; returning scalar instead, but in the future will perform elementwise comparison\n",
      "  if color_eta == 'grey':\n",
      "<ipython-input-35-233d353b3764>:386: FutureWarning: elementwise comparison failed; returning scalar instead, but in the future will perform elementwise comparison\n",
      "  if color_eta == 'grey':\n",
      "<ipython-input-35-233d353b3764>:558: MatplotlibDeprecationWarning: Adding an axes using the same arguments as a previous axes currently reuses the earlier instance.  In a future version, a new instance will always be created and returned.  Meanwhile, this warning can be suppressed, and the future behavior ensured, by passing a unique label to each axes instance.\n",
      "  cbaxes = ax.figure.add_axes(ratios)\n",
      "<ipython-input-35-233d353b3764>:176: MatplotlibDeprecationWarning: Adding an axes using the same arguments as a previous axes currently reuses the earlier instance.  In a future version, a new instance will always be created and returned.  Meanwhile, this warning can be suppressed, and the future behavior ensured, by passing a unique label to each axes instance.\n",
      "  ax = f1.add_subplot(gs1[0, 1])\n",
      "<ipython-input-35-233d353b3764>:177: MatplotlibDeprecationWarning: Adding an axes using the same arguments as a previous axes currently reuses the earlier instance.  In a future version, a new instance will always be created and returned.  Meanwhile, this warning can be suppressed, and the future behavior ensured, by passing a unique label to each axes instance.\n",
      "  ax_gyre = f2.add_subplot(gs2[0, 1])\n",
      "<ipython-input-35-233d353b3764>:178: MatplotlibDeprecationWarning: Adding an axes using the same arguments as a previous axes currently reuses the earlier instance.  In a future version, a new instance will always be created and returned.  Meanwhile, this warning can be suppressed, and the future behavior ensured, by passing a unique label to each axes instance.\n",
      "  ax_other = f3.add_subplot(gs3[0, 1])\n"
     ]
    },
    {
     "name": "stdout",
     "output_type": "stream",
     "text": [
      "done \n",
      "0\n",
      "False\n",
      "done \n",
      "0\n",
      "False\n",
      "done \n",
      "0\n",
      "False\n",
      "[1. 1. 1. ... 1. 1. 1.]\n",
      "0\n"
     ]
    },
    {
     "name": "stderr",
     "output_type": "stream",
     "text": [
      "<ipython-input-35-233d353b3764>:386: FutureWarning: elementwise comparison failed; returning scalar instead, but in the future will perform elementwise comparison\n",
      "  if color_eta == 'grey':\n",
      "<ipython-input-35-233d353b3764>:386: FutureWarning: elementwise comparison failed; returning scalar instead, but in the future will perform elementwise comparison\n",
      "  if color_eta == 'grey':\n",
      "<ipython-input-35-233d353b3764>:386: FutureWarning: elementwise comparison failed; returning scalar instead, but in the future will perform elementwise comparison\n",
      "  if color_eta == 'grey':\n",
      "<ipython-input-35-233d353b3764>:558: MatplotlibDeprecationWarning: Adding an axes using the same arguments as a previous axes currently reuses the earlier instance.  In a future version, a new instance will always be created and returned.  Meanwhile, this warning can be suppressed, and the future behavior ensured, by passing a unique label to each axes instance.\n",
      "  cbaxes = ax.figure.add_axes(ratios)\n"
     ]
    },
    {
     "name": "stdout",
     "output_type": "stream",
     "text": [
      "done \n",
      "1\n",
      "False\n",
      "done \n",
      "1\n",
      "False\n",
      "done \n",
      "1\n",
      "False\n"
     ]
    },
    {
     "name": "stderr",
     "output_type": "stream",
     "text": [
      "<ipython-input-35-233d353b3764>:386: FutureWarning: elementwise comparison failed; returning scalar instead, but in the future will perform elementwise comparison\n",
      "  if color_eta == 'grey':\n",
      "<ipython-input-35-233d353b3764>:386: FutureWarning: elementwise comparison failed; returning scalar instead, but in the future will perform elementwise comparison\n",
      "  if color_eta == 'grey':\n",
      "<ipython-input-35-233d353b3764>:386: FutureWarning: elementwise comparison failed; returning scalar instead, but in the future will perform elementwise comparison\n",
      "  if color_eta == 'grey':\n",
      "<ipython-input-35-233d353b3764>:558: MatplotlibDeprecationWarning: Adding an axes using the same arguments as a previous axes currently reuses the earlier instance.  In a future version, a new instance will always be created and returned.  Meanwhile, this warning can be suppressed, and the future behavior ensured, by passing a unique label to each axes instance.\n",
      "  cbaxes = ax.figure.add_axes(ratios)\n"
     ]
    },
    {
     "name": "stdout",
     "output_type": "stream",
     "text": [
      "done \n",
      "2\n",
      "False\n",
      "done \n",
      "2\n",
      "False\n",
      "done \n",
      "2\n",
      "False\n",
      "[1.2 1.2 1.2 1.2 1.2 1.2 1.2 1.2 1.2 1.2 1.2 1.2 1.2 1.2 1.2 1.2 1.2 1.2\n",
      " 1.2 1.2 1.2 1.2 1.2 1.2 1.2 1.2 1.2 1.2 1.2 1.2 1.2 1.2 1.2 1.2 1.2 1.2\n",
      " 1.2 1.2 1.2 1.2 1.2 1.2 1.2 1.2 1.2 1.2 1.2 1.2 1.2 1.2 1.2 1.2 1.2 1.2\n",
      " 1.2 1.2 1.2 1.2 1.2 1.2 1.2 1.2 1.2 1.2 1.2 1.2 1.2 1.2 1.2 1.2 1.2 1.2\n",
      " 1.2 1.2 1.2 1.2 1.2 1.2 1.2 1.2 1.2 1.2 1.2 1.2 1.2 1.2 1.2 1.2 1.2 1.2\n",
      " 1.2 1.2 1.2 1.2 1.2 1.2 1.2 1.2 1.2 1.2 1.2 1.2 1.2 1.2 1.2 1.2 1.2 1.2\n",
      " 1.2 1.2 1.2 1.2 1.2 1.2 1.2 1.2 1.2 1.2 1.2 1.2 1.2 1.2 1.2 1.2 1.2 1.2\n",
      " 1.2 1.2 1.2 1.2 1.2 1.2 1.2 1.2 1.2 1.2 1.2 1.2 1.2 1.2 1.2 1.2 1.2 1.2\n",
      " 1.2 1.2 1.2 1.2 1.2 1.2 1.2 1.2 1.2 1.2 1.2 1.2 1.2 1.2 1.2 1.2 1.2 1.2\n",
      " 1.2 1.2 1.2 1.2 1.2 1.2 1.2 1.2 1.2 1.2 1.2 1.2 1.2 1.2 1.2 1.2 1.2 1.2\n",
      " 1.2 1.2 1.2 1.2 1.2 1.2 1.2 1.2 1.2 1.2 1.2 1.2 1.2 1.2 1.2 1.2 1.2 1.2\n",
      " 1.2 1.2 1.2 1.2 1.2 1.2 1.2 1.2 1.2 1.2 1.2 1.2 1.2 1.2 1.2 1.2 1.2 1.2\n",
      " 1.2 1.2 1.2 1.2 1.2 1.2 1.2 1.2 1.2 1.2 1.2 1.2 1.2 1.2 1.2 1.2 1.2 1.2\n",
      " 1.2 1.2 1.2 1.2 1.2 1.2 1.2 1.2 1.2 1.2 1.2 1.2 1.2 1.2 1.2 1.2 1.2 1.2\n",
      " 1.2 1.2 1.2 1.2 1.2 1.2 1.2 1.2 1.2 1.2 1.2 1.2 1.2 1.2 1.2 1.2 1.2 1.2\n",
      " 1.2 1.2 1.2 1.2 1.2 1.2 1.2 1.2 1.2 1.2 1.2 1.2 1.2 1.2 1.2 1.2 1.2 1.2\n",
      " 1.2 1.2 1.2 1.2 1.2 1.2 1.2 1.2 1.2 1.2 1.2 1.2 1.2 1.2 1.2 1.2 1.2 1.2\n",
      " 1.2 1.2 1.2 1.2 1.2 1.2 1.2 1.2 1.2 1.2 1.2 1.2 1.2 1.2 1.2 1.2 1.2 1.2\n",
      " 1.2 1.2 1.2 1.2 1.2 1.2 1.2 1.2 1.2 1.2 1.2 1.2 1.2 1.2 1.2 1.2 1.2 1.2\n",
      " 1.2 1.2 1.2 1.2 1.2 1.2 1.2 1.2 1.2 1.2 1.2 1.2 1.2 1.2 1.2 1.2 1.2 1.2\n",
      " 1.2 1.2 1.2 1.2 1.2 1.2 1.2 1.2 1.2 1.2 1.2 1.2 1.2 1.2 1.2 1.2 1.2 1.2\n",
      " 1.2 1.2 1.2 1.2 1.2 1.2 1.2 1.2 1.2 1.2 1.2 1.2 1.2 1.2 1.2 1.2 1.2 1.2\n",
      " 1.2 1.2 1.2 1.2 1.2 1.2 1.2 1.2 1.2 1.2 1.2 1.2 1.2 1.2 1.2 1.2 1.2 1.2\n",
      " 1.2 1.2 1.2 1.2 1.2 1.2 1.2 1.2 1.2 1.2 1.2 1.2 1.2 1.2 1.2 1.2 1.2 1.2\n",
      " 1.2 1.2 1.2 1.2 1.2 1.2 1.2 1.2 1.2 1.2 1.2 1.2 1.2 1.2 1.2 1.2 1.2 1.2\n",
      " 1.2 1.2 1.2 1.2 1.2 1.2 1.2 1.2 1.2 1.2 1.2 1.2 1.2 1.2 1.2 1.2 1.2 1.2\n",
      " 1.2 1.2 1.2 1.2 1.2 1.2 1.2 1.2 1.2 1.2 1.2 1.2 1.2 1.2 1.2 1.2 1.2 1.2\n",
      " 1.2 1.2 1.2 1.2 1.2 1.2 1.2 1.2 1.2 1.2 1.2 1.2 1.2 1.2 1.2 1.2 1.2 1.2\n",
      " 1.2 1.2 1.2 1.2 1.2 1.2 1.2 1.2 1.2 1.2 1.2 1.2 1.2 1.2 1.2 1.2 1.2 1.2\n",
      " 1.2 1.2 1.2 1.2 1.2 1.2 1.2 1.2 1.2 1.2 1.2 1.2 1.2 1.2 1.2 1.2 1.2 1.2\n",
      " 1.2 1.2 1.2 1.2 1.2 1.2 1.2 1.2 1.2 1.2 1.2 1.2 1.2 1.2 1.2 1.2 1.2 1.2\n",
      " 1.2 1.2 1.2 1.2 1.2 1.2 1.2 1.2 1.2 1.2 1.2 1.2 1.2 1.2 1.2 1.2 1.2 1.2\n",
      " 1.2 1.2 1.2 1.2 1.2 1.2 1.2 1.2 1.2 1.2 1.2 1.2 1.2 1.2 1.2 1.2 1.2 1.2\n",
      " 1.2 1.2 1.2 1.2 1.2 1.2 1.2 1.2 1.2 1.2 1.2 1.2 1.2 1.2 1.2 1.2 1.2 1.2\n",
      " 1.2 1.2 1.2 1.2 1.2 1.2 1.2 1.2 1.2 1.2 1.2 1.2 1.2 1.2 1.2 1.2 1.2 1.2\n",
      " 1.2 1.2 1.2 1.2 1.2 1.2 1.2 1.2 1.2 1.2 1.2 1.2 1.2 1.2 1.2 1.2 1.2 1.2\n",
      " 1.2 1.2 1.2 1.2 1.2 1.2 1.2 1.2 1.2 1.2 1.2 1.2 1.2 1.2 1.2 1.2 1.2 1.2\n",
      " 1.2 1.2 1.2 1.2 1.2 1.2 1.2 1.2 1.2 1.2 1.2 1.2 1.2 1.2 1.2 1.2 1.2 1.2\n",
      " 1.2 1.2 1.2]\n",
      "2\n"
     ]
    },
    {
     "name": "stderr",
     "output_type": "stream",
     "text": [
      "<ipython-input-35-233d353b3764>:386: FutureWarning: elementwise comparison failed; returning scalar instead, but in the future will perform elementwise comparison\n",
      "  if color_eta == 'grey':\n",
      "<ipython-input-35-233d353b3764>:558: MatplotlibDeprecationWarning: Adding an axes using the same arguments as a previous axes currently reuses the earlier instance.  In a future version, a new instance will always be created and returned.  Meanwhile, this warning can be suppressed, and the future behavior ensured, by passing a unique label to each axes instance.\n",
      "  cbaxes = ax.figure.add_axes(ratios)\n",
      "<ipython-input-35-233d353b3764>:185: MatplotlibDeprecationWarning: Adding an axes using the same arguments as a previous axes currently reuses the earlier instance.  In a future version, a new instance will always be created and returned.  Meanwhile, this warning can be suppressed, and the future behavior ensured, by passing a unique label to each axes instance.\n",
      "  ax = f1.add_subplot(gs1[1, 0])\n",
      "<ipython-input-35-233d353b3764>:186: MatplotlibDeprecationWarning: Adding an axes using the same arguments as a previous axes currently reuses the earlier instance.  In a future version, a new instance will always be created and returned.  Meanwhile, this warning can be suppressed, and the future behavior ensured, by passing a unique label to each axes instance.\n",
      "  ax_gyre = f2.add_subplot(gs2[1, 0])\n",
      "<ipython-input-35-233d353b3764>:187: MatplotlibDeprecationWarning: Adding an axes using the same arguments as a previous axes currently reuses the earlier instance.  In a future version, a new instance will always be created and returned.  Meanwhile, this warning can be suppressed, and the future behavior ensured, by passing a unique label to each axes instance.\n",
      "  ax_other = f3.add_subplot(gs3[1, 0])\n"
     ]
    },
    {
     "name": "stdout",
     "output_type": "stream",
     "text": [
      "done \n",
      "3\n",
      "False\n"
     ]
    },
    {
     "name": "stderr",
     "output_type": "stream",
     "text": [
      "<ipython-input-35-233d353b3764>:386: FutureWarning: elementwise comparison failed; returning scalar instead, but in the future will perform elementwise comparison\n",
      "  if color_eta == 'grey':\n",
      "<ipython-input-35-233d353b3764>:386: FutureWarning: elementwise comparison failed; returning scalar instead, but in the future will perform elementwise comparison\n",
      "  if color_eta == 'grey':\n",
      "<ipython-input-35-233d353b3764>:386: FutureWarning: elementwise comparison failed; returning scalar instead, but in the future will perform elementwise comparison\n",
      "  if color_eta == 'grey':\n",
      "<ipython-input-35-233d353b3764>:558: MatplotlibDeprecationWarning: Adding an axes using the same arguments as a previous axes currently reuses the earlier instance.  In a future version, a new instance will always be created and returned.  Meanwhile, this warning can be suppressed, and the future behavior ensured, by passing a unique label to each axes instance.\n",
      "  cbaxes = ax.figure.add_axes(ratios)\n",
      "<ipython-input-35-233d353b3764>:197: MatplotlibDeprecationWarning: Adding an axes using the same arguments as a previous axes currently reuses the earlier instance.  In a future version, a new instance will always be created and returned.  Meanwhile, this warning can be suppressed, and the future behavior ensured, by passing a unique label to each axes instance.\n",
      "  ax = f1.add_subplot(gs1[1, 1])\n",
      "<ipython-input-35-233d353b3764>:198: MatplotlibDeprecationWarning: Adding an axes using the same arguments as a previous axes currently reuses the earlier instance.  In a future version, a new instance will always be created and returned.  Meanwhile, this warning can be suppressed, and the future behavior ensured, by passing a unique label to each axes instance.\n",
      "  ax_gyre = f2.add_subplot(gs2[1, 1])\n",
      "<ipython-input-35-233d353b3764>:199: MatplotlibDeprecationWarning: Adding an axes using the same arguments as a previous axes currently reuses the earlier instance.  In a future version, a new instance will always be created and returned.  Meanwhile, this warning can be suppressed, and the future behavior ensured, by passing a unique label to each axes instance.\n",
      "  ax_other = f3.add_subplot(gs3[1, 1])\n"
     ]
    },
    {
     "name": "stdout",
     "output_type": "stream",
     "text": [
      "done \n",
      "2\n",
      "False\n",
      "done \n",
      "2\n",
      "False\n",
      "done \n",
      "2\n",
      "False\n",
      "[1.2 1.2 1.2 1.2 1.2 1.2 1.2 1.2 1.2 1.2 1.2 1.2 1.2 1.2 1.2 1.2 1.2 1.2\n",
      " 1.2 1.2 1.2 1.2 1.2 1.2 1.2 1.2 1.2 1.2 1.2 1.2 1.2 1.2 1.2 1.2 1.2 1.2\n",
      " 1.2 1.2 1.2 1.2 1.2 1.2 1.2 1.2 1.2 1.2 1.2 1.2 1.2 1.2 1.2 1.2 1.2 1.2\n",
      " 1.2 1.2 1.2 1.2 1.2 1.2 1.2 1.2 1.2 1.2 1.2 1.2 1.2 1.2 1.2 1.2 1.2 1.2\n",
      " 1.2 1.2 1.2 1.2 1.2 1.2 1.2 1.2 1.2 1.2 1.2 1.2 1.2 1.2 1.2 1.2 1.2 1.2\n",
      " 1.2 1.2 1.2 1.2 1.2 1.2 1.2 1.2 1.2 1.2 1.2 1.2 1.2 1.2 1.2 1.2 1.2 1.2\n",
      " 1.2 1.2 1.2 1.2 1.2 1.2 1.2 1.2 1.2 1.2 1.2 1.2 1.2 1.2 1.2 1.2 1.2 1.2\n",
      " 1.2 1.2 1.2 1.2 1.2 1.2 1.2 1.2 1.2 1.2 1.2 1.2 1.2 1.2 1.2 1.2 1.2 1.2\n",
      " 1.2 1.2 1.2 1.2 1.2 1.2 1.2 1.2 1.2 1.2 1.2 1.2 1.2 1.2 1.2 1.2 1.2 1.2\n",
      " 1.2 1.2 1.2 1.2 1.2 1.2 1.2 1.2 1.2 1.2 1.2 1.2 1.2 1.2 1.2 1.2 1.2 1.2\n",
      " 1.2 1.2 1.2 1.2 1.2 1.2 1.2 1.2 1.2 1.2 1.2 1.2 1.2 1.2 1.2 1.2 1.2 1.2\n",
      " 1.2 1.2 1.2 1.2 1.2 1.2 1.2 1.2 1.2 1.2 1.2 1.2 1.2 1.2 1.2 1.2 1.2 1.2\n",
      " 1.2 1.2 1.2 1.2 1.2 1.2 1.2 1.2 1.2 1.2 1.2 1.2 1.2 1.2 1.2 1.2 1.2 1.2\n",
      " 1.2 1.2 1.2 1.2 1.2 1.2 1.2 1.2 1.2 1.2 1.2 1.2 1.2 1.2 1.2 1.2 1.2 1.2\n",
      " 1.2 1.2 1.2 1.2 1.2 1.2 1.2 1.2 1.2 1.2 1.2 1.2 1.2 1.2 1.2 1.2 1.2 1.2\n",
      " 1.2 1.2 1.2 1.2 1.2 1.2 1.2 1.2 1.2 1.2 1.2 1.2 1.2 1.2 1.2 1.2 1.2 1.2\n",
      " 1.2 1.2 1.2 1.2 1.2 1.2 1.2 1.2 1.2 1.2 1.2 1.2 1.2 1.2 1.2 1.2 1.2 1.2\n",
      " 1.2 1.2 1.2 1.2 1.2 1.2 1.2 1.2 1.2 1.2 1.2 1.2 1.2 1.2 1.2 1.2 1.2 1.2\n",
      " 1.2 1.2 1.2 1.2 1.2 1.2 1.2 1.2 1.2 1.2 1.2 1.2 1.2 1.2 1.2 1.2 1.2 1.2\n",
      " 1.2 1.2 1.2 1.2 1.2 1.2 1.2 1.2 1.2 1.2 1.2 1.2 1.2 1.2 1.2 1.2 1.2 1.2\n",
      " 1.2 1.2 1.2 1.2 1.2 1.2 1.2 1.2 1.2 1.2 1.2 1.2 1.2 1.2 1.2 1.2 1.2 1.2\n",
      " 1.2 1.2 1.2 1.2 1.2 1.2 1.2 1.2 1.2 1.2 1.2 1.2 1.2 1.2 1.2 1.2 1.2 1.2\n",
      " 1.2 1.2 1.2 1.2 1.2 1.2 1.2 1.2 1.2 1.2 1.2 1.2 1.2 1.2 1.2 1.2 1.2 1.2\n",
      " 1.2 1.2 1.2 1.2 1.2 1.2 1.2 1.2 1.2 1.2 1.2 1.2 1.2 1.2 1.2 1.2 1.2 1.2\n",
      " 1.2 1.2 1.2 1.2 1.2 1.2 1.2 1.2 1.2 1.2 1.2 1.2 1.2 1.2 1.2 1.2 1.2 1.2\n",
      " 1.2 1.2 1.2 1.2 1.2 1.2 1.2 1.2 1.2 1.2 1.2 1.2 1.2 1.2 1.2 1.2 1.2 1.2\n",
      " 1.2 1.2 1.2 1.2 1.2 1.2 1.2 1.2 1.2 1.2 1.2 1.2 1.2 1.2 1.2 1.2 1.2 1.2\n",
      " 1.2 1.2 1.2 1.2 1.2 1.2 1.2 1.2 1.2 1.2 1.2 1.2 1.2 1.2 1.2 1.2 1.2 1.2\n",
      " 1.2 1.2 1.2 1.2 1.2 1.2 1.2 1.2 1.2 1.2 1.2 1.2 1.2 1.2 1.2 1.2 1.2 1.2\n",
      " 1.2 1.2 1.2 1.2 1.2 1.2 1.2 1.2 1.2 1.2 1.2 1.2 1.2 1.2 1.2 1.2 1.2 1.2\n",
      " 1.2 1.2 1.2 1.2 1.2 1.2 1.2 1.2 1.2 1.2 1.2 1.2 1.2 1.2 1.2 1.2 1.2 1.2\n",
      " 1.2 1.2 1.2 1.2 1.2 1.2 1.2 1.2 1.2 1.2 1.2 1.2 1.2 1.2 1.2 1.2 1.2 1.2\n",
      " 1.2 1.2 1.2 1.2 1.2 1.2 1.2 1.2 1.2 1.2 1.2 1.2 1.2 1.2 1.2 1.2 1.2 1.2\n",
      " 1.2 1.2 1.2 1.2 1.2 1.2 1.2 1.2 1.2 1.2 1.2 1.2 1.2 1.2 1.2 1.2 1.2 1.2\n",
      " 1.2 1.2 1.2 1.2 1.2 1.2 1.2 1.2 1.2 1.2 1.2 1.2 1.2 1.2 1.2 1.2 1.2 1.2\n",
      " 1.2 1.2 1.2 1.2 1.2 1.2 1.2 1.2 1.2 1.2 1.2 1.2 1.2 1.2 1.2 1.2 1.2 1.2\n",
      " 1.2 1.2 1.2 1.2 1.2 1.2 1.2 1.2 1.2 1.2 1.2 1.2 1.2 1.2 1.2 1.2 1.2 1.2\n",
      " 1.2 1.2 1.2 1.2 1.2 1.2 1.2 1.2 1.2 1.2 1.2 1.2 1.2 1.2 1.2 1.2 1.2 1.2\n",
      " 1.2 1.2 1.2 1.2 1.2 1.2 1.2 1.2 1.2 1.2 1.2 1.2 1.2 1.2 1.2 1.2 1.2 1.2\n",
      " 1.2 1.2 1.2 1.2 1.2 1.2 1.2 1.2 1.2 1.2 1.2 1.2 1.2 1.2 1.2 1.2 1.2 1.2\n",
      " 1.2 1.2 1.2 1.2 1.2 1.2 1.2 1.2 1.2 1.2 1.2 1.2 1.2 1.2 1.2 1.2 1.2 1.2\n",
      " 1.2 1.2 1.2 1.2 1.2 1.2 1.2 1.2 1.2 1.2 1.2 1.2 1.2 1.2 1.2 1.2 1.2 1.2\n",
      " 1.2 1.2 1.2 1.2 1.2 1.2 1.2 1.2 1.2 1.2 1.2 1.2 1.2 1.2 1.2 1.2 1.2 1.2\n",
      " 1.2 1.2 1.2 1.2 1.2 1.2 1.2 1.2 1.2 1.2 1.2 1.2 1.2 1.2 1.2 1.2 1.2 1.2\n",
      " 1.2 1.2 1.2 1.2 1.2 1.2 1.2 1.2 1.2 1.2 1.2 1.2 1.2 1.2 1.2 1.2 1.2 1.2\n",
      " 1.2 1.2 1.2 1.2 1.2 1.2 1.2 1.2 1.2 1.2 1.2 1.2 1.2 1.2 1.2 1.2 1.2 1.2\n",
      " 1.2 1.2 1.2 1.2 1.2 1.2 1.2 1.2 1.2 1.2 1.2 1.2 1.2 1.2 1.2 1.2 1.2 1.2\n",
      " 1.2 1.2 1.2 1.2 1.2 1.2 1.2 1.2 1.2 1.2 1.2 1.2 1.2 1.2 1.2 1.2 1.2 1.2\n",
      " 1.2 1.2 1.2 1.2 1.2 1.2 1.2 1.2 1.2 1.2 1.2 1.2 1.2 1.2 1.2 1.2 1.2 1.2\n",
      " 1.2 1.2 1.2 1.2 1.2 1.2 1.2 1.2 1.2 1.2 1.2 1.2 1.2 1.2 1.2 1.2 1.2 1.2\n",
      " 1.2 1.2 1.2 1.2 1.2 1.2 1.2 1.2 1.2 1.2 1.2 1.2 1.2 1.2 1.2 1.2 1.2 1.2\n",
      " 1.2 1.2 1.2 1.2 1.2 1.2 1.2 1.2 1.2 1.2 1.2 1.2 1.2 1.2 1.2 1.2 1.2 1.2\n",
      " 1.2 1.2 1.2 1.2 1.2 1.2 1.2 1.2 1.2 1.2 1.2 1.2 1.2 1.2 1.2 1.2 1.2 1.2\n",
      " 1.2 1.2 1.2 1.2 1.2 1.2 1.2 1.2 1.2 1.2 1.2 1.2 1.2 1.2 1.2 1.2 1.2 1.2\n",
      " 1.2 1.2 1.2 1.2 1.2 1.2 1.2 1.2 1.2 1.2 1.2 1.2]\n",
      "2\n"
     ]
    },
    {
     "name": "stderr",
     "output_type": "stream",
     "text": [
      "<ipython-input-35-233d353b3764>:386: FutureWarning: elementwise comparison failed; returning scalar instead, but in the future will perform elementwise comparison\n",
      "  if color_eta == 'grey':\n",
      "<ipython-input-35-233d353b3764>:386: FutureWarning: elementwise comparison failed; returning scalar instead, but in the future will perform elementwise comparison\n",
      "  if color_eta == 'grey':\n",
      "<ipython-input-35-233d353b3764>:386: FutureWarning: elementwise comparison failed; returning scalar instead, but in the future will perform elementwise comparison\n",
      "  if color_eta == 'grey':\n",
      "<ipython-input-35-233d353b3764>:558: MatplotlibDeprecationWarning: Adding an axes using the same arguments as a previous axes currently reuses the earlier instance.  In a future version, a new instance will always be created and returned.  Meanwhile, this warning can be suppressed, and the future behavior ensured, by passing a unique label to each axes instance.\n",
      "  cbaxes = ax.figure.add_axes(ratios)\n",
      "<ipython-input-35-233d353b3764>:185: MatplotlibDeprecationWarning: Adding an axes using the same arguments as a previous axes currently reuses the earlier instance.  In a future version, a new instance will always be created and returned.  Meanwhile, this warning can be suppressed, and the future behavior ensured, by passing a unique label to each axes instance.\n",
      "  ax = f1.add_subplot(gs1[1, 0])\n",
      "<ipython-input-35-233d353b3764>:186: MatplotlibDeprecationWarning: Adding an axes using the same arguments as a previous axes currently reuses the earlier instance.  In a future version, a new instance will always be created and returned.  Meanwhile, this warning can be suppressed, and the future behavior ensured, by passing a unique label to each axes instance.\n",
      "  ax_gyre = f2.add_subplot(gs2[1, 0])\n",
      "<ipython-input-35-233d353b3764>:187: MatplotlibDeprecationWarning: Adding an axes using the same arguments as a previous axes currently reuses the earlier instance.  In a future version, a new instance will always be created and returned.  Meanwhile, this warning can be suppressed, and the future behavior ensured, by passing a unique label to each axes instance.\n",
      "  ax_other = f3.add_subplot(gs3[1, 0])\n"
     ]
    },
    {
     "name": "stdout",
     "output_type": "stream",
     "text": [
      "done \n",
      "3\n",
      "False\n",
      "done \n",
      "3\n",
      "False\n",
      "done \n",
      "3\n",
      "False\n"
     ]
    },
    {
     "name": "stderr",
     "output_type": "stream",
     "text": [
      "<ipython-input-35-233d353b3764>:386: FutureWarning: elementwise comparison failed; returning scalar instead, but in the future will perform elementwise comparison\n",
      "  if color_eta == 'grey':\n",
      "<ipython-input-35-233d353b3764>:386: FutureWarning: elementwise comparison failed; returning scalar instead, but in the future will perform elementwise comparison\n",
      "  if color_eta == 'grey':\n",
      "<ipython-input-35-233d353b3764>:386: FutureWarning: elementwise comparison failed; returning scalar instead, but in the future will perform elementwise comparison\n",
      "  if color_eta == 'grey':\n",
      "<ipython-input-35-233d353b3764>:558: MatplotlibDeprecationWarning: Adding an axes using the same arguments as a previous axes currently reuses the earlier instance.  In a future version, a new instance will always be created and returned.  Meanwhile, this warning can be suppressed, and the future behavior ensured, by passing a unique label to each axes instance.\n",
      "  cbaxes = ax.figure.add_axes(ratios)\n",
      "<ipython-input-35-233d353b3764>:197: MatplotlibDeprecationWarning: Adding an axes using the same arguments as a previous axes currently reuses the earlier instance.  In a future version, a new instance will always be created and returned.  Meanwhile, this warning can be suppressed, and the future behavior ensured, by passing a unique label to each axes instance.\n",
      "  ax = f1.add_subplot(gs1[1, 1])\n",
      "<ipython-input-35-233d353b3764>:198: MatplotlibDeprecationWarning: Adding an axes using the same arguments as a previous axes currently reuses the earlier instance.  In a future version, a new instance will always be created and returned.  Meanwhile, this warning can be suppressed, and the future behavior ensured, by passing a unique label to each axes instance.\n",
      "  ax_gyre = f2.add_subplot(gs2[1, 1])\n",
      "<ipython-input-35-233d353b3764>:199: MatplotlibDeprecationWarning: Adding an axes using the same arguments as a previous axes currently reuses the earlier instance.  In a future version, a new instance will always be created and returned.  Meanwhile, this warning can be suppressed, and the future behavior ensured, by passing a unique label to each axes instance.\n",
      "  ax_other = f3.add_subplot(gs3[1, 1])\n"
     ]
    },
    {
     "name": "stdout",
     "output_type": "stream",
     "text": [
      "done \n",
      "2\n",
      "False\n",
      "done \n",
      "2\n",
      "False\n",
      "done \n",
      "2\n",
      "False\n",
      "[1.2 1.2 1.2 ... 1.2 1.2 1.2]\n",
      "2\n"
     ]
    },
    {
     "name": "stderr",
     "output_type": "stream",
     "text": [
      "<ipython-input-35-233d353b3764>:386: FutureWarning: elementwise comparison failed; returning scalar instead, but in the future will perform elementwise comparison\n",
      "  if color_eta == 'grey':\n",
      "<ipython-input-35-233d353b3764>:558: MatplotlibDeprecationWarning: Adding an axes using the same arguments as a previous axes currently reuses the earlier instance.  In a future version, a new instance will always be created and returned.  Meanwhile, this warning can be suppressed, and the future behavior ensured, by passing a unique label to each axes instance.\n",
      "  cbaxes = ax.figure.add_axes(ratios)\n",
      "<ipython-input-35-233d353b3764>:185: MatplotlibDeprecationWarning: Adding an axes using the same arguments as a previous axes currently reuses the earlier instance.  In a future version, a new instance will always be created and returned.  Meanwhile, this warning can be suppressed, and the future behavior ensured, by passing a unique label to each axes instance.\n",
      "  ax = f1.add_subplot(gs1[1, 0])\n",
      "<ipython-input-35-233d353b3764>:186: MatplotlibDeprecationWarning: Adding an axes using the same arguments as a previous axes currently reuses the earlier instance.  In a future version, a new instance will always be created and returned.  Meanwhile, this warning can be suppressed, and the future behavior ensured, by passing a unique label to each axes instance.\n",
      "  ax_gyre = f2.add_subplot(gs2[1, 0])\n",
      "<ipython-input-35-233d353b3764>:187: MatplotlibDeprecationWarning: Adding an axes using the same arguments as a previous axes currently reuses the earlier instance.  In a future version, a new instance will always be created and returned.  Meanwhile, this warning can be suppressed, and the future behavior ensured, by passing a unique label to each axes instance.\n",
      "  ax_other = f3.add_subplot(gs3[1, 0])\n"
     ]
    },
    {
     "name": "stdout",
     "output_type": "stream",
     "text": [
      "done \n",
      "3\n",
      "False\n"
     ]
    },
    {
     "name": "stderr",
     "output_type": "stream",
     "text": [
      "<ipython-input-35-233d353b3764>:386: FutureWarning: elementwise comparison failed; returning scalar instead, but in the future will perform elementwise comparison\n",
      "  if color_eta == 'grey':\n",
      "<ipython-input-35-233d353b3764>:386: FutureWarning: elementwise comparison failed; returning scalar instead, but in the future will perform elementwise comparison\n",
      "  if color_eta == 'grey':\n",
      "<ipython-input-35-233d353b3764>:386: FutureWarning: elementwise comparison failed; returning scalar instead, but in the future will perform elementwise comparison\n",
      "  if color_eta == 'grey':\n",
      "<ipython-input-35-233d353b3764>:558: MatplotlibDeprecationWarning: Adding an axes using the same arguments as a previous axes currently reuses the earlier instance.  In a future version, a new instance will always be created and returned.  Meanwhile, this warning can be suppressed, and the future behavior ensured, by passing a unique label to each axes instance.\n",
      "  cbaxes = ax.figure.add_axes(ratios)\n",
      "<ipython-input-35-233d353b3764>:197: MatplotlibDeprecationWarning: Adding an axes using the same arguments as a previous axes currently reuses the earlier instance.  In a future version, a new instance will always be created and returned.  Meanwhile, this warning can be suppressed, and the future behavior ensured, by passing a unique label to each axes instance.\n",
      "  ax = f1.add_subplot(gs1[1, 1])\n",
      "<ipython-input-35-233d353b3764>:198: MatplotlibDeprecationWarning: Adding an axes using the same arguments as a previous axes currently reuses the earlier instance.  In a future version, a new instance will always be created and returned.  Meanwhile, this warning can be suppressed, and the future behavior ensured, by passing a unique label to each axes instance.\n",
      "  ax_gyre = f2.add_subplot(gs2[1, 1])\n",
      "<ipython-input-35-233d353b3764>:199: MatplotlibDeprecationWarning: Adding an axes using the same arguments as a previous axes currently reuses the earlier instance.  In a future version, a new instance will always be created and returned.  Meanwhile, this warning can be suppressed, and the future behavior ensured, by passing a unique label to each axes instance.\n",
      "  ax_other = f3.add_subplot(gs3[1, 1])\n"
     ]
    },
    {
     "name": "stdout",
     "output_type": "stream",
     "text": [
      "done \n",
      "2\n",
      "False\n",
      "done \n",
      "2\n",
      "False\n",
      "done \n",
      "2\n",
      "False\n",
      "[1.2 1.2 1.2 ... 1.2 1.2 1.2]\n",
      "2\n"
     ]
    },
    {
     "name": "stderr",
     "output_type": "stream",
     "text": [
      "<ipython-input-35-233d353b3764>:386: FutureWarning: elementwise comparison failed; returning scalar instead, but in the future will perform elementwise comparison\n",
      "  if color_eta == 'grey':\n",
      "<ipython-input-35-233d353b3764>:558: MatplotlibDeprecationWarning: Adding an axes using the same arguments as a previous axes currently reuses the earlier instance.  In a future version, a new instance will always be created and returned.  Meanwhile, this warning can be suppressed, and the future behavior ensured, by passing a unique label to each axes instance.\n",
      "  cbaxes = ax.figure.add_axes(ratios)\n",
      "<ipython-input-35-233d353b3764>:185: MatplotlibDeprecationWarning: Adding an axes using the same arguments as a previous axes currently reuses the earlier instance.  In a future version, a new instance will always be created and returned.  Meanwhile, this warning can be suppressed, and the future behavior ensured, by passing a unique label to each axes instance.\n",
      "  ax = f1.add_subplot(gs1[1, 0])\n",
      "<ipython-input-35-233d353b3764>:186: MatplotlibDeprecationWarning: Adding an axes using the same arguments as a previous axes currently reuses the earlier instance.  In a future version, a new instance will always be created and returned.  Meanwhile, this warning can be suppressed, and the future behavior ensured, by passing a unique label to each axes instance.\n",
      "  ax_gyre = f2.add_subplot(gs2[1, 0])\n",
      "<ipython-input-35-233d353b3764>:187: MatplotlibDeprecationWarning: Adding an axes using the same arguments as a previous axes currently reuses the earlier instance.  In a future version, a new instance will always be created and returned.  Meanwhile, this warning can be suppressed, and the future behavior ensured, by passing a unique label to each axes instance.\n",
      "  ax_other = f3.add_subplot(gs3[1, 0])\n"
     ]
    },
    {
     "name": "stdout",
     "output_type": "stream",
     "text": [
      "done \n",
      "3\n",
      "False\n"
     ]
    },
    {
     "name": "stderr",
     "output_type": "stream",
     "text": [
      "<ipython-input-35-233d353b3764>:386: FutureWarning: elementwise comparison failed; returning scalar instead, but in the future will perform elementwise comparison\n",
      "  if color_eta == 'grey':\n",
      "<ipython-input-35-233d353b3764>:386: FutureWarning: elementwise comparison failed; returning scalar instead, but in the future will perform elementwise comparison\n",
      "  if color_eta == 'grey':\n",
      "<ipython-input-35-233d353b3764>:386: FutureWarning: elementwise comparison failed; returning scalar instead, but in the future will perform elementwise comparison\n",
      "  if color_eta == 'grey':\n",
      "<ipython-input-35-233d353b3764>:558: MatplotlibDeprecationWarning: Adding an axes using the same arguments as a previous axes currently reuses the earlier instance.  In a future version, a new instance will always be created and returned.  Meanwhile, this warning can be suppressed, and the future behavior ensured, by passing a unique label to each axes instance.\n",
      "  cbaxes = ax.figure.add_axes(ratios)\n",
      "<ipython-input-35-233d353b3764>:197: MatplotlibDeprecationWarning: Adding an axes using the same arguments as a previous axes currently reuses the earlier instance.  In a future version, a new instance will always be created and returned.  Meanwhile, this warning can be suppressed, and the future behavior ensured, by passing a unique label to each axes instance.\n",
      "  ax = f1.add_subplot(gs1[1, 1])\n",
      "<ipython-input-35-233d353b3764>:198: MatplotlibDeprecationWarning: Adding an axes using the same arguments as a previous axes currently reuses the earlier instance.  In a future version, a new instance will always be created and returned.  Meanwhile, this warning can be suppressed, and the future behavior ensured, by passing a unique label to each axes instance.\n",
      "  ax_gyre = f2.add_subplot(gs2[1, 1])\n",
      "<ipython-input-35-233d353b3764>:199: MatplotlibDeprecationWarning: Adding an axes using the same arguments as a previous axes currently reuses the earlier instance.  In a future version, a new instance will always be created and returned.  Meanwhile, this warning can be suppressed, and the future behavior ensured, by passing a unique label to each axes instance.\n",
      "  ax_other = f3.add_subplot(gs3[1, 1])\n"
     ]
    },
    {
     "name": "stdout",
     "output_type": "stream",
     "text": [
      "done \n",
      "2\n",
      "False\n",
      "done \n",
      "2\n",
      "False\n",
      "done \n",
      "2\n",
      "False\n",
      "[1.2 1.2 1.2 ... 1.2 1.2 1.2]\n",
      "2\n"
     ]
    },
    {
     "name": "stderr",
     "output_type": "stream",
     "text": [
      "<ipython-input-35-233d353b3764>:386: FutureWarning: elementwise comparison failed; returning scalar instead, but in the future will perform elementwise comparison\n",
      "  if color_eta == 'grey':\n",
      "<ipython-input-35-233d353b3764>:558: MatplotlibDeprecationWarning: Adding an axes using the same arguments as a previous axes currently reuses the earlier instance.  In a future version, a new instance will always be created and returned.  Meanwhile, this warning can be suppressed, and the future behavior ensured, by passing a unique label to each axes instance.\n",
      "  cbaxes = ax.figure.add_axes(ratios)\n",
      "<ipython-input-35-233d353b3764>:185: MatplotlibDeprecationWarning: Adding an axes using the same arguments as a previous axes currently reuses the earlier instance.  In a future version, a new instance will always be created and returned.  Meanwhile, this warning can be suppressed, and the future behavior ensured, by passing a unique label to each axes instance.\n",
      "  ax = f1.add_subplot(gs1[1, 0])\n",
      "<ipython-input-35-233d353b3764>:186: MatplotlibDeprecationWarning: Adding an axes using the same arguments as a previous axes currently reuses the earlier instance.  In a future version, a new instance will always be created and returned.  Meanwhile, this warning can be suppressed, and the future behavior ensured, by passing a unique label to each axes instance.\n",
      "  ax_gyre = f2.add_subplot(gs2[1, 0])\n",
      "<ipython-input-35-233d353b3764>:187: MatplotlibDeprecationWarning: Adding an axes using the same arguments as a previous axes currently reuses the earlier instance.  In a future version, a new instance will always be created and returned.  Meanwhile, this warning can be suppressed, and the future behavior ensured, by passing a unique label to each axes instance.\n",
      "  ax_other = f3.add_subplot(gs3[1, 0])\n"
     ]
    },
    {
     "name": "stdout",
     "output_type": "stream",
     "text": [
      "done \n",
      "3\n",
      "False\n"
     ]
    },
    {
     "name": "stderr",
     "output_type": "stream",
     "text": [
      "<ipython-input-35-233d353b3764>:386: FutureWarning: elementwise comparison failed; returning scalar instead, but in the future will perform elementwise comparison\n",
      "  if color_eta == 'grey':\n",
      "<ipython-input-35-233d353b3764>:386: FutureWarning: elementwise comparison failed; returning scalar instead, but in the future will perform elementwise comparison\n",
      "  if color_eta == 'grey':\n",
      "<ipython-input-35-233d353b3764>:386: FutureWarning: elementwise comparison failed; returning scalar instead, but in the future will perform elementwise comparison\n",
      "  if color_eta == 'grey':\n",
      "<ipython-input-35-233d353b3764>:558: MatplotlibDeprecationWarning: Adding an axes using the same arguments as a previous axes currently reuses the earlier instance.  In a future version, a new instance will always be created and returned.  Meanwhile, this warning can be suppressed, and the future behavior ensured, by passing a unique label to each axes instance.\n",
      "  cbaxes = ax.figure.add_axes(ratios)\n",
      "<ipython-input-35-233d353b3764>:197: MatplotlibDeprecationWarning: Adding an axes using the same arguments as a previous axes currently reuses the earlier instance.  In a future version, a new instance will always be created and returned.  Meanwhile, this warning can be suppressed, and the future behavior ensured, by passing a unique label to each axes instance.\n",
      "  ax = f1.add_subplot(gs1[1, 1])\n",
      "<ipython-input-35-233d353b3764>:198: MatplotlibDeprecationWarning: Adding an axes using the same arguments as a previous axes currently reuses the earlier instance.  In a future version, a new instance will always be created and returned.  Meanwhile, this warning can be suppressed, and the future behavior ensured, by passing a unique label to each axes instance.\n",
      "  ax_gyre = f2.add_subplot(gs2[1, 1])\n",
      "<ipython-input-35-233d353b3764>:199: MatplotlibDeprecationWarning: Adding an axes using the same arguments as a previous axes currently reuses the earlier instance.  In a future version, a new instance will always be created and returned.  Meanwhile, this warning can be suppressed, and the future behavior ensured, by passing a unique label to each axes instance.\n",
      "  ax_other = f3.add_subplot(gs3[1, 1])\n"
     ]
    },
    {
     "name": "stdout",
     "output_type": "stream",
     "text": [
      "done \n",
      "2\n",
      "False\n",
      "done \n",
      "2\n",
      "False\n",
      "done \n",
      "2\n",
      "False\n",
      "[1.2 1.2 1.2 ... 1.2 1.2 1.2]\n",
      "2\n"
     ]
    },
    {
     "name": "stderr",
     "output_type": "stream",
     "text": [
      "<ipython-input-35-233d353b3764>:386: FutureWarning: elementwise comparison failed; returning scalar instead, but in the future will perform elementwise comparison\n",
      "  if color_eta == 'grey':\n",
      "<ipython-input-35-233d353b3764>:558: MatplotlibDeprecationWarning: Adding an axes using the same arguments as a previous axes currently reuses the earlier instance.  In a future version, a new instance will always be created and returned.  Meanwhile, this warning can be suppressed, and the future behavior ensured, by passing a unique label to each axes instance.\n",
      "  cbaxes = ax.figure.add_axes(ratios)\n"
     ]
    },
    {
     "name": "stdout",
     "output_type": "stream",
     "text": [
      "done \n",
      "3\n",
      "False\n"
     ]
    },
    {
     "name": "stderr",
     "output_type": "stream",
     "text": [
      "<ipython-input-35-233d353b3764>:386: FutureWarning: elementwise comparison failed; returning scalar instead, but in the future will perform elementwise comparison\n",
      "  if color_eta == 'grey':\n"
     ]
    },
    {
     "name": "stdout",
     "output_type": "stream",
     "text": [
      "done \n",
      "4\n",
      "False\n",
      "[1.4 1.4 1.4 1.4 1.4 1.4 1.4 1.4 1.4 1.4 1.4 1.4 1.4 1.4 1.4 1.4 1.4 1.4\n",
      " 1.4 1.4 1.4 1.4 1.4 1.4 1.4 1.4 1.4 1.4 1.4 1.4 1.4 1.4 1.4 1.4 1.4 1.4\n",
      " 1.4 1.4 1.4 1.4 1.4 1.4 1.4 1.4 1.4 1.4 1.4 1.4 1.4 1.4 1.4 1.4 1.4 1.4\n",
      " 1.4 1.4 1.4 1.4 1.4 1.4 1.4 1.4 1.4 1.4 1.4 1.4 1.4 1.4 1.4 1.4 1.4 1.4\n",
      " 1.4 1.4 1.4 1.4 1.4 1.4 1.4 1.4 1.4 1.4 1.4 1.4 1.4 1.4 1.4 1.4 1.4 1.4\n",
      " 1.4 1.4 1.4 1.4 1.4 1.4 1.4 1.4 1.4 1.4 1.4 1.4 1.4 1.4 1.4 1.4 1.4 1.4\n",
      " 1.4 1.4 1.4 1.4 1.4 1.4 1.4 1.4 1.4 1.4 1.4 1.4 1.4 1.4 1.4 1.4 1.4 1.4\n",
      " 1.4 1.4 1.4 1.4 1.4 1.4 1.4 1.4 1.4 1.4 1.4 1.4 1.4 1.4 1.4 1.4 1.4 1.4\n",
      " 1.4 1.4 1.4 1.4 1.4 1.4 1.4 1.4 1.4 1.4 1.4 1.4 1.4 1.4 1.4 1.4 1.4 1.4\n",
      " 1.4 1.4 1.4 1.4 1.4 1.4 1.4 1.4 1.4 1.4 1.4 1.4 1.4 1.4 1.4 1.4 1.4 1.4\n",
      " 1.4 1.4 1.4 1.4 1.4 1.4 1.4 1.4 1.4 1.4 1.4 1.4 1.4 1.4 1.4 1.4 1.4 1.4\n",
      " 1.4 1.4 1.4 1.4 1.4 1.4 1.4 1.4 1.4 1.4 1.4 1.4 1.4 1.4 1.4 1.4 1.4 1.4\n",
      " 1.4 1.4 1.4 1.4 1.4 1.4 1.4 1.4 1.4 1.4 1.4 1.4 1.4 1.4 1.4 1.4 1.4 1.4\n",
      " 1.4 1.4 1.4 1.4 1.4 1.4 1.4 1.4 1.4 1.4 1.4 1.4 1.4 1.4 1.4 1.4 1.4 1.4\n",
      " 1.4 1.4 1.4 1.4 1.4 1.4 1.4 1.4 1.4 1.4 1.4 1.4 1.4 1.4 1.4 1.4 1.4 1.4\n",
      " 1.4 1.4 1.4 1.4 1.4 1.4 1.4 1.4 1.4 1.4 1.4 1.4 1.4 1.4 1.4 1.4 1.4 1.4\n",
      " 1.4 1.4 1.4 1.4 1.4 1.4 1.4 1.4 1.4 1.4 1.4 1.4 1.4 1.4 1.4 1.4 1.4 1.4\n",
      " 1.4 1.4 1.4 1.4 1.4 1.4 1.4 1.4 1.4 1.4 1.4 1.4 1.4 1.4 1.4 1.4 1.4 1.4\n",
      " 1.4 1.4 1.4 1.4 1.4 1.4 1.4 1.4 1.4 1.4 1.4 1.4 1.4 1.4 1.4 1.4 1.4 1.4\n",
      " 1.4 1.4 1.4 1.4 1.4 1.4 1.4 1.4 1.4 1.4 1.4 1.4 1.4 1.4 1.4 1.4 1.4 1.4\n",
      " 1.4 1.4 1.4 1.4 1.4 1.4 1.4 1.4 1.4 1.4 1.4 1.4 1.4 1.4 1.4 1.4 1.4 1.4\n",
      " 1.4 1.4 1.4 1.4 1.4 1.4 1.4 1.4 1.4 1.4 1.4 1.4 1.4 1.4 1.4 1.4 1.4 1.4\n",
      " 1.4 1.4 1.4 1.4 1.4 1.4 1.4 1.4 1.4 1.4 1.4 1.4 1.4 1.4 1.4 1.4 1.4 1.4\n",
      " 1.4 1.4 1.4 1.4 1.4 1.4 1.4 1.4 1.4 1.4 1.4 1.4 1.4 1.4 1.4 1.4 1.4 1.4\n",
      " 1.4 1.4 1.4 1.4 1.4 1.4 1.4 1.4 1.4 1.4 1.4 1.4 1.4 1.4 1.4 1.4 1.4 1.4\n",
      " 1.4 1.4 1.4 1.4 1.4 1.4 1.4 1.4 1.4 1.4 1.4 1.4 1.4 1.4 1.4 1.4 1.4 1.4\n",
      " 1.4 1.4 1.4 1.4 1.4 1.4 1.4 1.4 1.4 1.4 1.4 1.4 1.4 1.4 1.4 1.4 1.4 1.4\n",
      " 1.4 1.4 1.4 1.4 1.4 1.4 1.4 1.4 1.4 1.4 1.4 1.4 1.4 1.4 1.4 1.4 1.4 1.4\n",
      " 1.4 1.4 1.4 1.4 1.4 1.4 1.4 1.4 1.4 1.4 1.4 1.4 1.4 1.4 1.4 1.4 1.4 1.4\n",
      " 1.4 1.4 1.4 1.4 1.4 1.4 1.4 1.4 1.4 1.4 1.4 1.4 1.4 1.4 1.4 1.4 1.4 1.4\n",
      " 1.4 1.4 1.4 1.4 1.4 1.4 1.4 1.4 1.4 1.4 1.4 1.4 1.4 1.4 1.4 1.4 1.4 1.4\n",
      " 1.4 1.4 1.4 1.4 1.4 1.4 1.4 1.4 1.4 1.4 1.4 1.4 1.4 1.4 1.4 1.4 1.4 1.4\n",
      " 1.4 1.4 1.4 1.4 1.4 1.4 1.4 1.4 1.4 1.4 1.4 1.4 1.4 1.4 1.4 1.4 1.4 1.4\n",
      " 1.4 1.4 1.4 1.4 1.4 1.4 1.4 1.4 1.4 1.4 1.4 1.4 1.4 1.4 1.4 1.4 1.4 1.4\n",
      " 1.4 1.4 1.4 1.4 1.4 1.4 1.4 1.4 1.4 1.4 1.4 1.4 1.4 1.4 1.4 1.4 1.4 1.4\n",
      " 1.4 1.4 1.4 1.4 1.4 1.4 1.4 1.4 1.4 1.4 1.4 1.4 1.4 1.4 1.4 1.4 1.4 1.4\n",
      " 1.4 1.4 1.4]\n",
      "4\n"
     ]
    },
    {
     "name": "stderr",
     "output_type": "stream",
     "text": [
      "<ipython-input-35-233d353b3764>:558: MatplotlibDeprecationWarning: Adding an axes using the same arguments as a previous axes currently reuses the earlier instance.  In a future version, a new instance will always be created and returned.  Meanwhile, this warning can be suppressed, and the future behavior ensured, by passing a unique label to each axes instance.\n",
      "  cbaxes = ax.figure.add_axes(ratios)\n",
      "<ipython-input-35-233d353b3764>:386: FutureWarning: elementwise comparison failed; returning scalar instead, but in the future will perform elementwise comparison\n",
      "  if color_eta == 'grey':\n",
      "<ipython-input-35-233d353b3764>:558: MatplotlibDeprecationWarning: Adding an axes using the same arguments as a previous axes currently reuses the earlier instance.  In a future version, a new instance will always be created and returned.  Meanwhile, this warning can be suppressed, and the future behavior ensured, by passing a unique label to each axes instance.\n",
      "  cbaxes = ax.figure.add_axes(ratios)\n",
      "<ipython-input-35-233d353b3764>:207: MatplotlibDeprecationWarning: Adding an axes using the same arguments as a previous axes currently reuses the earlier instance.  In a future version, a new instance will always be created and returned.  Meanwhile, this warning can be suppressed, and the future behavior ensured, by passing a unique label to each axes instance.\n",
      "  ax = f1.add_subplot(gs1[2, 0])\n",
      "<ipython-input-35-233d353b3764>:208: MatplotlibDeprecationWarning: Adding an axes using the same arguments as a previous axes currently reuses the earlier instance.  In a future version, a new instance will always be created and returned.  Meanwhile, this warning can be suppressed, and the future behavior ensured, by passing a unique label to each axes instance.\n",
      "  ax_gyre = f2.add_subplot(gs2[2, 0])\n",
      "<ipython-input-35-233d353b3764>:209: MatplotlibDeprecationWarning: Adding an axes using the same arguments as a previous axes currently reuses the earlier instance.  In a future version, a new instance will always be created and returned.  Meanwhile, this warning can be suppressed, and the future behavior ensured, by passing a unique label to each axes instance.\n",
      "  ax_other = f3.add_subplot(gs3[2, 0])\n"
     ]
    },
    {
     "name": "stdout",
     "output_type": "stream",
     "text": [
      "done \n",
      "7\n",
      "False\n"
     ]
    },
    {
     "name": "stderr",
     "output_type": "stream",
     "text": [
      "<ipython-input-35-233d353b3764>:386: FutureWarning: elementwise comparison failed; returning scalar instead, but in the future will perform elementwise comparison\n",
      "  if color_eta == 'grey':\n",
      "<ipython-input-35-233d353b3764>:558: MatplotlibDeprecationWarning: Adding an axes using the same arguments as a previous axes currently reuses the earlier instance.  In a future version, a new instance will always be created and returned.  Meanwhile, this warning can be suppressed, and the future behavior ensured, by passing a unique label to each axes instance.\n",
      "  cbaxes = ax.figure.add_axes(ratios)\n",
      "<ipython-input-35-233d353b3764>:241: MatplotlibDeprecationWarning: Adding an axes using the same arguments as a previous axes currently reuses the earlier instance.  In a future version, a new instance will always be created and returned.  Meanwhile, this warning can be suppressed, and the future behavior ensured, by passing a unique label to each axes instance.\n",
      "  ax = f1.add_subplot(gs1[2, 1])\n",
      "<ipython-input-35-233d353b3764>:242: MatplotlibDeprecationWarning: Adding an axes using the same arguments as a previous axes currently reuses the earlier instance.  In a future version, a new instance will always be created and returned.  Meanwhile, this warning can be suppressed, and the future behavior ensured, by passing a unique label to each axes instance.\n",
      "  ax_gyre = f2.add_subplot(gs2[2, 1])\n",
      "<ipython-input-35-233d353b3764>:243: MatplotlibDeprecationWarning: Adding an axes using the same arguments as a previous axes currently reuses the earlier instance.  In a future version, a new instance will always be created and returned.  Meanwhile, this warning can be suppressed, and the future behavior ensured, by passing a unique label to each axes instance.\n",
      "  ax_other = f3.add_subplot(gs3[2, 1])\n"
     ]
    },
    {
     "name": "stdout",
     "output_type": "stream",
     "text": [
      "done \n",
      "4\n",
      "False\n",
      "[1.4 1.4 1.4 1.4 1.4 1.4 1.4 1.4 1.4 1.4 1.4 1.4 1.4 1.4 1.4 1.4 1.4 1.4\n",
      " 1.4 1.4 1.4 1.4 1.4 1.4 1.4 1.4 1.4 1.4 1.4 1.4 1.4 1.4 1.4 1.4 1.4 1.4\n",
      " 1.4 1.4 1.4 1.4 1.4 1.4 1.4 1.4 1.4 1.4 1.4 1.4 1.4 1.4 1.4 1.4 1.4 1.4\n",
      " 1.4 1.4 1.4 1.4 1.4 1.4 1.4 1.4 1.4 1.4 1.4 1.4 1.4 1.4 1.4 1.4 1.4 1.4\n",
      " 1.4 1.4 1.4 1.4 1.4 1.4 1.4 1.4 1.4 1.4 1.4 1.4 1.4 1.4 1.4 1.4 1.4 1.4\n",
      " 1.4 1.4 1.4 1.4 1.4 1.4 1.4 1.4 1.4 1.4 1.4 1.4 1.4 1.4 1.4 1.4 1.4 1.4\n",
      " 1.4 1.4 1.4 1.4 1.4 1.4 1.4 1.4 1.4 1.4 1.4 1.4 1.4 1.4 1.4 1.4 1.4 1.4\n",
      " 1.4 1.4 1.4 1.4 1.4 1.4 1.4 1.4 1.4 1.4 1.4 1.4 1.4 1.4 1.4 1.4 1.4 1.4\n",
      " 1.4 1.4 1.4 1.4 1.4 1.4 1.4 1.4 1.4 1.4 1.4 1.4 1.4 1.4 1.4 1.4 1.4 1.4\n",
      " 1.4 1.4 1.4 1.4 1.4 1.4 1.4 1.4 1.4 1.4 1.4 1.4 1.4 1.4 1.4 1.4 1.4 1.4\n",
      " 1.4 1.4 1.4 1.4 1.4 1.4 1.4 1.4 1.4 1.4 1.4 1.4 1.4 1.4 1.4 1.4 1.4 1.4\n",
      " 1.4 1.4 1.4 1.4 1.4 1.4 1.4 1.4 1.4 1.4 1.4 1.4 1.4 1.4 1.4 1.4 1.4 1.4\n",
      " 1.4 1.4 1.4 1.4 1.4 1.4 1.4 1.4 1.4 1.4 1.4 1.4 1.4 1.4 1.4 1.4 1.4 1.4\n",
      " 1.4 1.4 1.4 1.4 1.4 1.4 1.4 1.4 1.4 1.4 1.4 1.4 1.4 1.4 1.4 1.4 1.4 1.4\n",
      " 1.4 1.4 1.4 1.4 1.4 1.4 1.4 1.4 1.4 1.4 1.4 1.4 1.4 1.4 1.4 1.4 1.4 1.4\n",
      " 1.4 1.4 1.4 1.4 1.4 1.4 1.4 1.4 1.4 1.4 1.4 1.4 1.4 1.4 1.4 1.4 1.4 1.4\n",
      " 1.4 1.4 1.4 1.4 1.4 1.4 1.4 1.4 1.4 1.4 1.4 1.4 1.4 1.4 1.4 1.4 1.4 1.4\n",
      " 1.4 1.4 1.4 1.4 1.4 1.4 1.4 1.4 1.4 1.4 1.4 1.4 1.4 1.4 1.4 1.4 1.4 1.4\n",
      " 1.4 1.4 1.4 1.4 1.4 1.4 1.4 1.4 1.4 1.4 1.4 1.4 1.4 1.4 1.4 1.4 1.4 1.4\n",
      " 1.4 1.4 1.4 1.4 1.4 1.4 1.4 1.4 1.4 1.4 1.4 1.4 1.4 1.4 1.4 1.4 1.4 1.4\n",
      " 1.4 1.4 1.4 1.4 1.4 1.4 1.4 1.4 1.4 1.4 1.4 1.4 1.4 1.4 1.4 1.4 1.4 1.4\n",
      " 1.4 1.4 1.4 1.4 1.4 1.4 1.4 1.4 1.4 1.4 1.4 1.4 1.4 1.4 1.4 1.4 1.4 1.4\n",
      " 1.4 1.4 1.4 1.4 1.4 1.4 1.4 1.4 1.4 1.4 1.4 1.4 1.4 1.4 1.4 1.4 1.4 1.4\n",
      " 1.4 1.4 1.4 1.4 1.4 1.4 1.4 1.4 1.4 1.4 1.4 1.4 1.4 1.4 1.4 1.4 1.4 1.4\n",
      " 1.4 1.4 1.4 1.4 1.4 1.4 1.4 1.4 1.4 1.4 1.4 1.4 1.4 1.4 1.4 1.4 1.4 1.4\n",
      " 1.4 1.4 1.4 1.4 1.4 1.4 1.4 1.4 1.4 1.4 1.4 1.4 1.4 1.4 1.4 1.4 1.4 1.4\n",
      " 1.4 1.4 1.4 1.4 1.4 1.4 1.4 1.4 1.4 1.4 1.4 1.4 1.4 1.4 1.4 1.4 1.4 1.4\n",
      " 1.4 1.4 1.4 1.4 1.4 1.4 1.4 1.4 1.4 1.4 1.4 1.4 1.4 1.4 1.4 1.4 1.4 1.4\n",
      " 1.4 1.4 1.4 1.4 1.4 1.4 1.4 1.4 1.4 1.4 1.4 1.4 1.4 1.4 1.4 1.4 1.4 1.4\n",
      " 1.4 1.4 1.4 1.4 1.4 1.4 1.4 1.4 1.4 1.4 1.4 1.4 1.4 1.4 1.4 1.4 1.4 1.4\n",
      " 1.4 1.4 1.4 1.4 1.4 1.4 1.4 1.4 1.4 1.4 1.4 1.4 1.4 1.4 1.4 1.4 1.4 1.4\n",
      " 1.4 1.4 1.4 1.4 1.4 1.4 1.4 1.4 1.4 1.4 1.4 1.4 1.4 1.4 1.4 1.4 1.4 1.4\n",
      " 1.4 1.4 1.4 1.4 1.4 1.4 1.4 1.4 1.4 1.4 1.4 1.4 1.4 1.4 1.4 1.4 1.4 1.4\n",
      " 1.4 1.4 1.4 1.4 1.4 1.4 1.4 1.4 1.4 1.4 1.4 1.4 1.4 1.4 1.4 1.4 1.4 1.4\n",
      " 1.4 1.4 1.4 1.4 1.4 1.4 1.4 1.4 1.4 1.4 1.4 1.4 1.4 1.4 1.4 1.4 1.4 1.4\n",
      " 1.4 1.4 1.4 1.4 1.4 1.4 1.4 1.4 1.4 1.4 1.4 1.4 1.4 1.4 1.4 1.4 1.4 1.4\n",
      " 1.4 1.4 1.4 1.4 1.4 1.4 1.4 1.4 1.4 1.4 1.4 1.4 1.4 1.4 1.4 1.4 1.4 1.4\n",
      " 1.4 1.4 1.4 1.4 1.4 1.4 1.4 1.4 1.4 1.4 1.4 1.4 1.4 1.4 1.4 1.4 1.4 1.4\n",
      " 1.4 1.4 1.4 1.4 1.4 1.4 1.4 1.4 1.4 1.4 1.4 1.4 1.4 1.4 1.4 1.4 1.4 1.4\n",
      " 1.4 1.4 1.4 1.4 1.4 1.4 1.4 1.4 1.4 1.4 1.4 1.4 1.4 1.4 1.4 1.4 1.4 1.4\n",
      " 1.4 1.4 1.4 1.4 1.4 1.4 1.4 1.4 1.4 1.4 1.4 1.4 1.4 1.4 1.4 1.4 1.4 1.4\n",
      " 1.4 1.4 1.4 1.4 1.4 1.4 1.4 1.4 1.4 1.4 1.4 1.4 1.4 1.4 1.4 1.4 1.4 1.4\n",
      " 1.4 1.4 1.4 1.4 1.4 1.4 1.4 1.4 1.4 1.4 1.4 1.4 1.4 1.4 1.4 1.4 1.4 1.4\n",
      " 1.4 1.4 1.4 1.4 1.4 1.4 1.4 1.4 1.4 1.4 1.4 1.4 1.4 1.4 1.4 1.4 1.4 1.4\n",
      " 1.4 1.4 1.4 1.4 1.4 1.4 1.4 1.4 1.4 1.4 1.4 1.4 1.4 1.4 1.4 1.4 1.4 1.4\n",
      " 1.4 1.4 1.4 1.4 1.4 1.4 1.4 1.4 1.4 1.4 1.4 1.4 1.4 1.4 1.4 1.4 1.4 1.4\n",
      " 1.4 1.4 1.4 1.4 1.4 1.4 1.4 1.4 1.4 1.4 1.4 1.4 1.4 1.4 1.4 1.4 1.4 1.4\n",
      " 1.4 1.4 1.4 1.4 1.4 1.4 1.4 1.4 1.4 1.4 1.4 1.4 1.4 1.4 1.4 1.4 1.4 1.4\n",
      " 1.4 1.4 1.4 1.4 1.4 1.4 1.4 1.4 1.4 1.4 1.4 1.4 1.4 1.4 1.4 1.4 1.4 1.4\n",
      " 1.4 1.4 1.4 1.4 1.4 1.4 1.4 1.4 1.4 1.4 1.4 1.4 1.4 1.4 1.4 1.4 1.4 1.4\n",
      " 1.4 1.4 1.4 1.4 1.4 1.4 1.4 1.4 1.4 1.4 1.4 1.4 1.4 1.4 1.4 1.4 1.4 1.4]\n",
      "4\n"
     ]
    },
    {
     "name": "stderr",
     "output_type": "stream",
     "text": [
      "<ipython-input-35-233d353b3764>:386: FutureWarning: elementwise comparison failed; returning scalar instead, but in the future will perform elementwise comparison\n",
      "  if color_eta == 'grey':\n",
      "<ipython-input-35-233d353b3764>:558: MatplotlibDeprecationWarning: Adding an axes using the same arguments as a previous axes currently reuses the earlier instance.  In a future version, a new instance will always be created and returned.  Meanwhile, this warning can be suppressed, and the future behavior ensured, by passing a unique label to each axes instance.\n",
      "  cbaxes = ax.figure.add_axes(ratios)\n",
      "<ipython-input-35-233d353b3764>:207: MatplotlibDeprecationWarning: Adding an axes using the same arguments as a previous axes currently reuses the earlier instance.  In a future version, a new instance will always be created and returned.  Meanwhile, this warning can be suppressed, and the future behavior ensured, by passing a unique label to each axes instance.\n",
      "  ax = f1.add_subplot(gs1[2, 0])\n",
      "<ipython-input-35-233d353b3764>:208: MatplotlibDeprecationWarning: Adding an axes using the same arguments as a previous axes currently reuses the earlier instance.  In a future version, a new instance will always be created and returned.  Meanwhile, this warning can be suppressed, and the future behavior ensured, by passing a unique label to each axes instance.\n",
      "  ax_gyre = f2.add_subplot(gs2[2, 0])\n",
      "<ipython-input-35-233d353b3764>:209: MatplotlibDeprecationWarning: Adding an axes using the same arguments as a previous axes currently reuses the earlier instance.  In a future version, a new instance will always be created and returned.  Meanwhile, this warning can be suppressed, and the future behavior ensured, by passing a unique label to each axes instance.\n",
      "  ax_other = f3.add_subplot(gs3[2, 0])\n"
     ]
    },
    {
     "name": "stdout",
     "output_type": "stream",
     "text": [
      "done \n",
      "7\n",
      "False\n"
     ]
    },
    {
     "name": "stderr",
     "output_type": "stream",
     "text": [
      "<ipython-input-35-233d353b3764>:386: FutureWarning: elementwise comparison failed; returning scalar instead, but in the future will perform elementwise comparison\n",
      "  if color_eta == 'grey':\n",
      "<ipython-input-35-233d353b3764>:558: MatplotlibDeprecationWarning: Adding an axes using the same arguments as a previous axes currently reuses the earlier instance.  In a future version, a new instance will always be created and returned.  Meanwhile, this warning can be suppressed, and the future behavior ensured, by passing a unique label to each axes instance.\n",
      "  cbaxes = ax.figure.add_axes(ratios)\n",
      "<ipython-input-35-233d353b3764>:241: MatplotlibDeprecationWarning: Adding an axes using the same arguments as a previous axes currently reuses the earlier instance.  In a future version, a new instance will always be created and returned.  Meanwhile, this warning can be suppressed, and the future behavior ensured, by passing a unique label to each axes instance.\n",
      "  ax = f1.add_subplot(gs1[2, 1])\n",
      "<ipython-input-35-233d353b3764>:242: MatplotlibDeprecationWarning: Adding an axes using the same arguments as a previous axes currently reuses the earlier instance.  In a future version, a new instance will always be created and returned.  Meanwhile, this warning can be suppressed, and the future behavior ensured, by passing a unique label to each axes instance.\n",
      "  ax_gyre = f2.add_subplot(gs2[2, 1])\n",
      "<ipython-input-35-233d353b3764>:243: MatplotlibDeprecationWarning: Adding an axes using the same arguments as a previous axes currently reuses the earlier instance.  In a future version, a new instance will always be created and returned.  Meanwhile, this warning can be suppressed, and the future behavior ensured, by passing a unique label to each axes instance.\n",
      "  ax_other = f3.add_subplot(gs3[2, 1])\n"
     ]
    },
    {
     "name": "stdout",
     "output_type": "stream",
     "text": [
      "done \n",
      "4\n",
      "False\n",
      "[1.4 1.4 1.4 ... 1.4 1.4 1.4]\n",
      "4\n"
     ]
    },
    {
     "name": "stderr",
     "output_type": "stream",
     "text": [
      "<ipython-input-35-233d353b3764>:386: FutureWarning: elementwise comparison failed; returning scalar instead, but in the future will perform elementwise comparison\n",
      "  if color_eta == 'grey':\n",
      "<ipython-input-35-233d353b3764>:558: MatplotlibDeprecationWarning: Adding an axes using the same arguments as a previous axes currently reuses the earlier instance.  In a future version, a new instance will always be created and returned.  Meanwhile, this warning can be suppressed, and the future behavior ensured, by passing a unique label to each axes instance.\n",
      "  cbaxes = ax.figure.add_axes(ratios)\n",
      "<ipython-input-35-233d353b3764>:207: MatplotlibDeprecationWarning: Adding an axes using the same arguments as a previous axes currently reuses the earlier instance.  In a future version, a new instance will always be created and returned.  Meanwhile, this warning can be suppressed, and the future behavior ensured, by passing a unique label to each axes instance.\n",
      "  ax = f1.add_subplot(gs1[2, 0])\n",
      "<ipython-input-35-233d353b3764>:208: MatplotlibDeprecationWarning: Adding an axes using the same arguments as a previous axes currently reuses the earlier instance.  In a future version, a new instance will always be created and returned.  Meanwhile, this warning can be suppressed, and the future behavior ensured, by passing a unique label to each axes instance.\n",
      "  ax_gyre = f2.add_subplot(gs2[2, 0])\n",
      "<ipython-input-35-233d353b3764>:209: MatplotlibDeprecationWarning: Adding an axes using the same arguments as a previous axes currently reuses the earlier instance.  In a future version, a new instance will always be created and returned.  Meanwhile, this warning can be suppressed, and the future behavior ensured, by passing a unique label to each axes instance.\n",
      "  ax_other = f3.add_subplot(gs3[2, 0])\n"
     ]
    },
    {
     "name": "stdout",
     "output_type": "stream",
     "text": [
      "done \n",
      "7\n",
      "False\n"
     ]
    },
    {
     "name": "stderr",
     "output_type": "stream",
     "text": [
      "<ipython-input-35-233d353b3764>:386: FutureWarning: elementwise comparison failed; returning scalar instead, but in the future will perform elementwise comparison\n",
      "  if color_eta == 'grey':\n",
      "<ipython-input-35-233d353b3764>:558: MatplotlibDeprecationWarning: Adding an axes using the same arguments as a previous axes currently reuses the earlier instance.  In a future version, a new instance will always be created and returned.  Meanwhile, this warning can be suppressed, and the future behavior ensured, by passing a unique label to each axes instance.\n",
      "  cbaxes = ax.figure.add_axes(ratios)\n",
      "<ipython-input-35-233d353b3764>:241: MatplotlibDeprecationWarning: Adding an axes using the same arguments as a previous axes currently reuses the earlier instance.  In a future version, a new instance will always be created and returned.  Meanwhile, this warning can be suppressed, and the future behavior ensured, by passing a unique label to each axes instance.\n",
      "  ax = f1.add_subplot(gs1[2, 1])\n",
      "<ipython-input-35-233d353b3764>:242: MatplotlibDeprecationWarning: Adding an axes using the same arguments as a previous axes currently reuses the earlier instance.  In a future version, a new instance will always be created and returned.  Meanwhile, this warning can be suppressed, and the future behavior ensured, by passing a unique label to each axes instance.\n",
      "  ax_gyre = f2.add_subplot(gs2[2, 1])\n",
      "<ipython-input-35-233d353b3764>:243: MatplotlibDeprecationWarning: Adding an axes using the same arguments as a previous axes currently reuses the earlier instance.  In a future version, a new instance will always be created and returned.  Meanwhile, this warning can be suppressed, and the future behavior ensured, by passing a unique label to each axes instance.\n",
      "  ax_other = f3.add_subplot(gs3[2, 1])\n"
     ]
    },
    {
     "name": "stdout",
     "output_type": "stream",
     "text": [
      "done \n",
      "4\n",
      "False\n",
      "[1.4 1.4 1.4 ... 1.4 1.4 1.4]\n",
      "4\n"
     ]
    },
    {
     "name": "stderr",
     "output_type": "stream",
     "text": [
      "<ipython-input-35-233d353b3764>:386: FutureWarning: elementwise comparison failed; returning scalar instead, but in the future will perform elementwise comparison\n",
      "  if color_eta == 'grey':\n",
      "<ipython-input-35-233d353b3764>:558: MatplotlibDeprecationWarning: Adding an axes using the same arguments as a previous axes currently reuses the earlier instance.  In a future version, a new instance will always be created and returned.  Meanwhile, this warning can be suppressed, and the future behavior ensured, by passing a unique label to each axes instance.\n",
      "  cbaxes = ax.figure.add_axes(ratios)\n",
      "<ipython-input-35-233d353b3764>:207: MatplotlibDeprecationWarning: Adding an axes using the same arguments as a previous axes currently reuses the earlier instance.  In a future version, a new instance will always be created and returned.  Meanwhile, this warning can be suppressed, and the future behavior ensured, by passing a unique label to each axes instance.\n",
      "  ax = f1.add_subplot(gs1[2, 0])\n",
      "<ipython-input-35-233d353b3764>:208: MatplotlibDeprecationWarning: Adding an axes using the same arguments as a previous axes currently reuses the earlier instance.  In a future version, a new instance will always be created and returned.  Meanwhile, this warning can be suppressed, and the future behavior ensured, by passing a unique label to each axes instance.\n",
      "  ax_gyre = f2.add_subplot(gs2[2, 0])\n",
      "<ipython-input-35-233d353b3764>:209: MatplotlibDeprecationWarning: Adding an axes using the same arguments as a previous axes currently reuses the earlier instance.  In a future version, a new instance will always be created and returned.  Meanwhile, this warning can be suppressed, and the future behavior ensured, by passing a unique label to each axes instance.\n",
      "  ax_other = f3.add_subplot(gs3[2, 0])\n"
     ]
    },
    {
     "name": "stdout",
     "output_type": "stream",
     "text": [
      "done \n",
      "7\n",
      "False\n"
     ]
    },
    {
     "name": "stderr",
     "output_type": "stream",
     "text": [
      "<ipython-input-35-233d353b3764>:386: FutureWarning: elementwise comparison failed; returning scalar instead, but in the future will perform elementwise comparison\n",
      "  if color_eta == 'grey':\n",
      "<ipython-input-35-233d353b3764>:558: MatplotlibDeprecationWarning: Adding an axes using the same arguments as a previous axes currently reuses the earlier instance.  In a future version, a new instance will always be created and returned.  Meanwhile, this warning can be suppressed, and the future behavior ensured, by passing a unique label to each axes instance.\n",
      "  cbaxes = ax.figure.add_axes(ratios)\n",
      "<ipython-input-35-233d353b3764>:241: MatplotlibDeprecationWarning: Adding an axes using the same arguments as a previous axes currently reuses the earlier instance.  In a future version, a new instance will always be created and returned.  Meanwhile, this warning can be suppressed, and the future behavior ensured, by passing a unique label to each axes instance.\n",
      "  ax = f1.add_subplot(gs1[2, 1])\n",
      "<ipython-input-35-233d353b3764>:242: MatplotlibDeprecationWarning: Adding an axes using the same arguments as a previous axes currently reuses the earlier instance.  In a future version, a new instance will always be created and returned.  Meanwhile, this warning can be suppressed, and the future behavior ensured, by passing a unique label to each axes instance.\n",
      "  ax_gyre = f2.add_subplot(gs2[2, 1])\n",
      "<ipython-input-35-233d353b3764>:243: MatplotlibDeprecationWarning: Adding an axes using the same arguments as a previous axes currently reuses the earlier instance.  In a future version, a new instance will always be created and returned.  Meanwhile, this warning can be suppressed, and the future behavior ensured, by passing a unique label to each axes instance.\n",
      "  ax_other = f3.add_subplot(gs3[2, 1])\n"
     ]
    },
    {
     "name": "stdout",
     "output_type": "stream",
     "text": [
      "done \n",
      "4\n",
      "False\n",
      "[1.4 1.4 1.4 ... 1.4 1.4 1.4]\n",
      "4\n"
     ]
    },
    {
     "name": "stderr",
     "output_type": "stream",
     "text": [
      "<ipython-input-35-233d353b3764>:386: FutureWarning: elementwise comparison failed; returning scalar instead, but in the future will perform elementwise comparison\n",
      "  if color_eta == 'grey':\n",
      "<ipython-input-35-233d353b3764>:558: MatplotlibDeprecationWarning: Adding an axes using the same arguments as a previous axes currently reuses the earlier instance.  In a future version, a new instance will always be created and returned.  Meanwhile, this warning can be suppressed, and the future behavior ensured, by passing a unique label to each axes instance.\n",
      "  cbaxes = ax.figure.add_axes(ratios)\n",
      "<ipython-input-35-233d353b3764>:207: MatplotlibDeprecationWarning: Adding an axes using the same arguments as a previous axes currently reuses the earlier instance.  In a future version, a new instance will always be created and returned.  Meanwhile, this warning can be suppressed, and the future behavior ensured, by passing a unique label to each axes instance.\n",
      "  ax = f1.add_subplot(gs1[2, 0])\n",
      "<ipython-input-35-233d353b3764>:208: MatplotlibDeprecationWarning: Adding an axes using the same arguments as a previous axes currently reuses the earlier instance.  In a future version, a new instance will always be created and returned.  Meanwhile, this warning can be suppressed, and the future behavior ensured, by passing a unique label to each axes instance.\n",
      "  ax_gyre = f2.add_subplot(gs2[2, 0])\n",
      "<ipython-input-35-233d353b3764>:209: MatplotlibDeprecationWarning: Adding an axes using the same arguments as a previous axes currently reuses the earlier instance.  In a future version, a new instance will always be created and returned.  Meanwhile, this warning can be suppressed, and the future behavior ensured, by passing a unique label to each axes instance.\n",
      "  ax_other = f3.add_subplot(gs3[2, 0])\n"
     ]
    },
    {
     "name": "stdout",
     "output_type": "stream",
     "text": [
      "done \n",
      "7\n",
      "False\n"
     ]
    },
    {
     "name": "stderr",
     "output_type": "stream",
     "text": [
      "<ipython-input-35-233d353b3764>:386: FutureWarning: elementwise comparison failed; returning scalar instead, but in the future will perform elementwise comparison\n",
      "  if color_eta == 'grey':\n",
      "<ipython-input-35-233d353b3764>:558: MatplotlibDeprecationWarning: Adding an axes using the same arguments as a previous axes currently reuses the earlier instance.  In a future version, a new instance will always be created and returned.  Meanwhile, this warning can be suppressed, and the future behavior ensured, by passing a unique label to each axes instance.\n",
      "  cbaxes = ax.figure.add_axes(ratios)\n",
      "<ipython-input-35-233d353b3764>:241: MatplotlibDeprecationWarning: Adding an axes using the same arguments as a previous axes currently reuses the earlier instance.  In a future version, a new instance will always be created and returned.  Meanwhile, this warning can be suppressed, and the future behavior ensured, by passing a unique label to each axes instance.\n",
      "  ax = f1.add_subplot(gs1[2, 1])\n",
      "<ipython-input-35-233d353b3764>:242: MatplotlibDeprecationWarning: Adding an axes using the same arguments as a previous axes currently reuses the earlier instance.  In a future version, a new instance will always be created and returned.  Meanwhile, this warning can be suppressed, and the future behavior ensured, by passing a unique label to each axes instance.\n",
      "  ax_gyre = f2.add_subplot(gs2[2, 1])\n",
      "<ipython-input-35-233d353b3764>:243: MatplotlibDeprecationWarning: Adding an axes using the same arguments as a previous axes currently reuses the earlier instance.  In a future version, a new instance will always be created and returned.  Meanwhile, this warning can be suppressed, and the future behavior ensured, by passing a unique label to each axes instance.\n",
      "  ax_other = f3.add_subplot(gs3[2, 1])\n"
     ]
    },
    {
     "name": "stdout",
     "output_type": "stream",
     "text": [
      "done \n",
      "4\n",
      "False\n",
      "[1.4 1.4 1.4 ... 1.4 1.4 1.4]\n",
      "4\n"
     ]
    },
    {
     "name": "stderr",
     "output_type": "stream",
     "text": [
      "<ipython-input-35-233d353b3764>:386: FutureWarning: elementwise comparison failed; returning scalar instead, but in the future will perform elementwise comparison\n",
      "  if color_eta == 'grey':\n",
      "<ipython-input-35-233d353b3764>:558: MatplotlibDeprecationWarning: Adding an axes using the same arguments as a previous axes currently reuses the earlier instance.  In a future version, a new instance will always be created and returned.  Meanwhile, this warning can be suppressed, and the future behavior ensured, by passing a unique label to each axes instance.\n",
      "  cbaxes = ax.figure.add_axes(ratios)\n",
      "<ipython-input-35-233d353b3764>:386: FutureWarning: elementwise comparison failed; returning scalar instead, but in the future will perform elementwise comparison\n",
      "  if color_eta == 'grey':\n"
     ]
    },
    {
     "name": "stdout",
     "output_type": "stream",
     "text": [
      "done \n",
      "7\n",
      "False\n",
      "done \n",
      "5\n",
      "False\n",
      "[1.8 1.8 1.8 1.8 1.8 1.8 1.8 1.8 1.8 1.8 1.8 1.8 1.8 1.8 1.8 1.8 1.8 1.8\n",
      " 1.8 1.8 1.8 1.8 1.8 1.8 1.8 1.8 1.8 1.8 1.8 1.8 1.8 1.8 1.8 1.8 1.8 1.8\n",
      " 1.8 1.8 1.8 1.8 1.8 1.8 1.8 1.8 1.8 1.8 1.8 1.8 1.8 1.8 1.8 1.8 1.8 1.8\n",
      " 1.8 1.8 1.8 1.8 1.8 1.8 1.8 1.8 1.8 1.8 1.8 1.8 1.8 1.8 1.8 1.8 1.8 1.8\n",
      " 1.8 1.8 1.8 1.8 1.8 1.8 1.8 1.8 1.8 1.8 1.8 1.8 1.8 1.8 1.8 1.8 1.8 1.8\n",
      " 1.8 1.8 1.8 1.8 1.8 1.8 1.8 1.8 1.8 1.8 1.8 1.8 1.8 1.8 1.8 1.8 1.8 1.8\n",
      " 1.8 1.8 1.8 1.8 1.8 1.8 1.8 1.8 1.8 1.8 1.8 1.8 1.8 1.8 1.8 1.8 1.8 1.8\n",
      " 1.8 1.8 1.8 1.8 1.8 1.8 1.8 1.8 1.8 1.8 1.8 1.8 1.8 1.8 1.8 1.8 1.8 1.8\n",
      " 1.8 1.8 1.8 1.8 1.8 1.8 1.8 1.8 1.8 1.8 1.8 1.8 1.8 1.8 1.8 1.8 1.8 1.8\n",
      " 1.8 1.8 1.8 1.8 1.8 1.8 1.8 1.8 1.8 1.8 1.8 1.8 1.8 1.8 1.8 1.8 1.8 1.8\n",
      " 1.8 1.8 1.8 1.8 1.8 1.8 1.8 1.8 1.8 1.8 1.8 1.8 1.8 1.8 1.8 1.8 1.8 1.8\n",
      " 1.8 1.8 1.8 1.8 1.8 1.8 1.8 1.8 1.8 1.8 1.8 1.8 1.8 1.8 1.8 1.8 1.8 1.8\n",
      " 1.8 1.8 1.8 1.8 1.8 1.8 1.8 1.8 1.8 1.8 1.8 1.8 1.8 1.8 1.8 1.8 1.8 1.8\n",
      " 1.8 1.8 1.8 1.8 1.8 1.8 1.8 1.8 1.8 1.8 1.8 1.8 1.8 1.8 1.8 1.8 1.8 1.8\n",
      " 1.8 1.8 1.8 1.8 1.8 1.8 1.8 1.8 1.8 1.8 1.8 1.8 1.8 1.8 1.8 1.8 1.8 1.8\n",
      " 1.8 1.8 1.8 1.8 1.8 1.8 1.8 1.8 1.8 1.8 1.8 1.8 1.8 1.8 1.8 1.8 1.8 1.8\n",
      " 1.8 1.8 1.8 1.8 1.8 1.8 1.8 1.8 1.8 1.8 1.8 1.8 1.8 1.8 1.8 1.8 1.8 1.8\n",
      " 1.8 1.8 1.8 1.8 1.8 1.8 1.8 1.8 1.8 1.8 1.8 1.8 1.8 1.8 1.8 1.8 1.8 1.8\n",
      " 1.8 1.8 1.8 1.8 1.8 1.8 1.8 1.8 1.8 1.8 1.8 1.8 1.8 1.8 1.8 1.8 1.8 1.8\n",
      " 1.8 1.8 1.8 1.8 1.8 1.8 1.8 1.8 1.8 1.8 1.8 1.8 1.8 1.8 1.8 1.8 1.8 1.8\n",
      " 1.8 1.8 1.8 1.8 1.8 1.8 1.8 1.8 1.8 1.8 1.8 1.8 1.8 1.8 1.8 1.8 1.8 1.8\n",
      " 1.8 1.8 1.8 1.8 1.8 1.8 1.8 1.8 1.8 1.8 1.8 1.8 1.8 1.8 1.8 1.8 1.8 1.8\n",
      " 1.8 1.8 1.8 1.8 1.8 1.8 1.8 1.8 1.8 1.8 1.8 1.8 1.8 1.8 1.8 1.8 1.8 1.8\n",
      " 1.8 1.8 1.8 1.8 1.8 1.8 1.8 1.8 1.8 1.8 1.8 1.8 1.8 1.8 1.8 1.8 1.8 1.8\n",
      " 1.8 1.8 1.8 1.8 1.8 1.8 1.8 1.8 1.8 1.8 1.8 1.8 1.8 1.8 1.8 1.8 1.8 1.8\n",
      " 1.8 1.8 1.8 1.8 1.8 1.8 1.8 1.8 1.8 1.8 1.8 1.8 1.8 1.8 1.8 1.8 1.8 1.8\n",
      " 1.8 1.8 1.8 1.8 1.8 1.8 1.8 1.8 1.8 1.8 1.8 1.8 1.8 1.8 1.8 1.8 1.8 1.8\n",
      " 1.8 1.8 1.8 1.8 1.8 1.8]\n",
      "5\n"
     ]
    },
    {
     "name": "stderr",
     "output_type": "stream",
     "text": [
      "<ipython-input-35-233d353b3764>:558: MatplotlibDeprecationWarning: Adding an axes using the same arguments as a previous axes currently reuses the earlier instance.  In a future version, a new instance will always be created and returned.  Meanwhile, this warning can be suppressed, and the future behavior ensured, by passing a unique label to each axes instance.\n",
      "  cbaxes = ax.figure.add_axes(ratios)\n",
      "<ipython-input-35-233d353b3764>:386: FutureWarning: elementwise comparison failed; returning scalar instead, but in the future will perform elementwise comparison\n",
      "  if color_eta == 'grey':\n",
      "<ipython-input-35-233d353b3764>:558: MatplotlibDeprecationWarning: Adding an axes using the same arguments as a previous axes currently reuses the earlier instance.  In a future version, a new instance will always be created and returned.  Meanwhile, this warning can be suppressed, and the future behavior ensured, by passing a unique label to each axes instance.\n",
      "  cbaxes = ax.figure.add_axes(ratios)\n",
      "<ipython-input-35-233d353b3764>:218: MatplotlibDeprecationWarning: Adding an axes using the same arguments as a previous axes currently reuses the earlier instance.  In a future version, a new instance will always be created and returned.  Meanwhile, this warning can be suppressed, and the future behavior ensured, by passing a unique label to each axes instance.\n",
      "  ax = f1.add_subplot(gs1[3, 0])\n",
      "<ipython-input-35-233d353b3764>:219: MatplotlibDeprecationWarning: Adding an axes using the same arguments as a previous axes currently reuses the earlier instance.  In a future version, a new instance will always be created and returned.  Meanwhile, this warning can be suppressed, and the future behavior ensured, by passing a unique label to each axes instance.\n",
      "  ax_gyre = f2.add_subplot(gs2[3, 0])\n",
      "<ipython-input-35-233d353b3764>:220: MatplotlibDeprecationWarning: Adding an axes using the same arguments as a previous axes currently reuses the earlier instance.  In a future version, a new instance will always be created and returned.  Meanwhile, this warning can be suppressed, and the future behavior ensured, by passing a unique label to each axes instance.\n",
      "  ax_other = f3.add_subplot(gs3[3, 0])\n"
     ]
    },
    {
     "name": "stdout",
     "output_type": "stream",
     "text": [
      "done \n",
      "8\n",
      "False\n"
     ]
    },
    {
     "name": "stderr",
     "output_type": "stream",
     "text": [
      "<ipython-input-35-233d353b3764>:386: FutureWarning: elementwise comparison failed; returning scalar instead, but in the future will perform elementwise comparison\n",
      "  if color_eta == 'grey':\n",
      "<ipython-input-35-233d353b3764>:558: MatplotlibDeprecationWarning: Adding an axes using the same arguments as a previous axes currently reuses the earlier instance.  In a future version, a new instance will always be created and returned.  Meanwhile, this warning can be suppressed, and the future behavior ensured, by passing a unique label to each axes instance.\n",
      "  cbaxes = ax.figure.add_axes(ratios)\n",
      "<ipython-input-35-233d353b3764>:251: MatplotlibDeprecationWarning: Adding an axes using the same arguments as a previous axes currently reuses the earlier instance.  In a future version, a new instance will always be created and returned.  Meanwhile, this warning can be suppressed, and the future behavior ensured, by passing a unique label to each axes instance.\n",
      "  ax = f1.add_subplot(gs1[3, 1])\n",
      "<ipython-input-35-233d353b3764>:252: MatplotlibDeprecationWarning: Adding an axes using the same arguments as a previous axes currently reuses the earlier instance.  In a future version, a new instance will always be created and returned.  Meanwhile, this warning can be suppressed, and the future behavior ensured, by passing a unique label to each axes instance.\n",
      "  ax_gyre = f2.add_subplot(gs2[3, 1])\n",
      "<ipython-input-35-233d353b3764>:253: MatplotlibDeprecationWarning: Adding an axes using the same arguments as a previous axes currently reuses the earlier instance.  In a future version, a new instance will always be created and returned.  Meanwhile, this warning can be suppressed, and the future behavior ensured, by passing a unique label to each axes instance.\n",
      "  ax_other = f3.add_subplot(gs3[3, 1])\n"
     ]
    },
    {
     "name": "stdout",
     "output_type": "stream",
     "text": [
      "done \n",
      "5\n",
      "False\n",
      "[1.8 1.8 1.8 1.8 1.8 1.8 1.8 1.8 1.8 1.8 1.8 1.8 1.8 1.8 1.8 1.8 1.8 1.8\n",
      " 1.8 1.8 1.8 1.8 1.8 1.8 1.8 1.8 1.8 1.8 1.8 1.8 1.8 1.8 1.8 1.8 1.8 1.8\n",
      " 1.8 1.8 1.8 1.8 1.8 1.8 1.8 1.8 1.8 1.8 1.8 1.8 1.8 1.8 1.8 1.8 1.8 1.8\n",
      " 1.8 1.8 1.8 1.8 1.8 1.8 1.8 1.8 1.8 1.8 1.8 1.8 1.8 1.8 1.8 1.8 1.8 1.8\n",
      " 1.8 1.8 1.8 1.8 1.8 1.8 1.8 1.8 1.8 1.8 1.8 1.8 1.8 1.8 1.8 1.8 1.8 1.8\n",
      " 1.8 1.8 1.8 1.8 1.8 1.8 1.8 1.8 1.8 1.8 1.8 1.8 1.8 1.8 1.8 1.8 1.8 1.8\n",
      " 1.8 1.8 1.8 1.8 1.8 1.8 1.8 1.8 1.8 1.8 1.8 1.8 1.8 1.8 1.8 1.8 1.8 1.8\n",
      " 1.8 1.8 1.8 1.8 1.8 1.8 1.8 1.8 1.8 1.8 1.8 1.8 1.8 1.8 1.8 1.8 1.8 1.8\n",
      " 1.8 1.8 1.8 1.8 1.8 1.8 1.8 1.8 1.8 1.8 1.8 1.8 1.8 1.8 1.8 1.8 1.8 1.8\n",
      " 1.8 1.8 1.8 1.8 1.8 1.8 1.8 1.8 1.8 1.8 1.8 1.8 1.8 1.8 1.8 1.8 1.8 1.8\n",
      " 1.8 1.8 1.8 1.8 1.8 1.8 1.8 1.8 1.8 1.8 1.8 1.8 1.8 1.8 1.8 1.8 1.8 1.8\n",
      " 1.8 1.8 1.8 1.8 1.8 1.8 1.8 1.8 1.8 1.8 1.8 1.8 1.8 1.8 1.8 1.8 1.8 1.8\n",
      " 1.8 1.8 1.8 1.8 1.8 1.8 1.8 1.8 1.8 1.8 1.8 1.8 1.8 1.8 1.8 1.8 1.8 1.8\n",
      " 1.8 1.8 1.8 1.8 1.8 1.8 1.8 1.8 1.8 1.8 1.8 1.8 1.8 1.8 1.8 1.8 1.8 1.8\n",
      " 1.8 1.8 1.8 1.8 1.8 1.8 1.8 1.8 1.8 1.8 1.8 1.8 1.8 1.8 1.8 1.8 1.8 1.8\n",
      " 1.8 1.8 1.8 1.8 1.8 1.8 1.8 1.8 1.8 1.8 1.8 1.8 1.8 1.8 1.8 1.8 1.8 1.8\n",
      " 1.8 1.8 1.8 1.8 1.8 1.8 1.8 1.8 1.8 1.8 1.8 1.8 1.8 1.8 1.8 1.8 1.8 1.8\n",
      " 1.8 1.8 1.8 1.8 1.8 1.8 1.8 1.8 1.8 1.8 1.8 1.8 1.8 1.8 1.8 1.8 1.8 1.8\n",
      " 1.8 1.8 1.8 1.8 1.8 1.8 1.8 1.8 1.8 1.8 1.8 1.8 1.8 1.8 1.8 1.8 1.8 1.8\n",
      " 1.8 1.8 1.8 1.8 1.8 1.8 1.8 1.8 1.8 1.8 1.8 1.8 1.8 1.8 1.8 1.8 1.8 1.8\n",
      " 1.8 1.8 1.8 1.8 1.8 1.8 1.8 1.8 1.8 1.8 1.8 1.8 1.8 1.8 1.8 1.8 1.8 1.8\n",
      " 1.8 1.8 1.8 1.8 1.8 1.8 1.8 1.8 1.8 1.8 1.8 1.8 1.8 1.8 1.8 1.8 1.8 1.8\n",
      " 1.8 1.8 1.8 1.8 1.8 1.8 1.8 1.8 1.8 1.8 1.8 1.8 1.8 1.8 1.8 1.8 1.8 1.8\n",
      " 1.8 1.8 1.8 1.8 1.8 1.8 1.8 1.8 1.8 1.8 1.8 1.8 1.8 1.8 1.8 1.8 1.8 1.8\n",
      " 1.8 1.8 1.8 1.8 1.8 1.8 1.8 1.8 1.8 1.8 1.8 1.8 1.8 1.8 1.8 1.8 1.8 1.8\n",
      " 1.8 1.8 1.8 1.8 1.8 1.8 1.8 1.8 1.8 1.8 1.8 1.8 1.8 1.8 1.8 1.8 1.8 1.8\n",
      " 1.8 1.8 1.8 1.8 1.8 1.8 1.8 1.8 1.8 1.8 1.8 1.8 1.8 1.8 1.8 1.8 1.8 1.8\n",
      " 1.8 1.8 1.8 1.8 1.8 1.8 1.8 1.8 1.8 1.8 1.8 1.8 1.8 1.8 1.8 1.8 1.8 1.8\n",
      " 1.8 1.8 1.8 1.8 1.8 1.8 1.8 1.8 1.8 1.8 1.8 1.8 1.8 1.8 1.8 1.8 1.8 1.8\n",
      " 1.8 1.8 1.8 1.8 1.8 1.8 1.8 1.8 1.8 1.8 1.8 1.8 1.8 1.8 1.8 1.8 1.8 1.8\n",
      " 1.8 1.8 1.8 1.8 1.8 1.8 1.8 1.8 1.8 1.8 1.8 1.8 1.8 1.8 1.8 1.8 1.8 1.8\n",
      " 1.8 1.8 1.8 1.8 1.8 1.8 1.8 1.8 1.8 1.8 1.8 1.8 1.8 1.8 1.8 1.8 1.8 1.8\n",
      " 1.8 1.8 1.8 1.8 1.8 1.8 1.8 1.8 1.8 1.8 1.8 1.8 1.8 1.8 1.8 1.8 1.8 1.8\n",
      " 1.8 1.8 1.8 1.8 1.8 1.8 1.8 1.8 1.8 1.8 1.8 1.8 1.8 1.8 1.8 1.8 1.8 1.8\n",
      " 1.8 1.8 1.8 1.8 1.8 1.8 1.8 1.8 1.8 1.8 1.8 1.8 1.8 1.8 1.8 1.8 1.8 1.8\n",
      " 1.8 1.8 1.8 1.8 1.8 1.8 1.8 1.8 1.8 1.8 1.8 1.8 1.8 1.8 1.8 1.8 1.8 1.8\n",
      " 1.8 1.8 1.8 1.8 1.8 1.8 1.8 1.8 1.8 1.8 1.8 1.8 1.8 1.8 1.8 1.8 1.8 1.8\n",
      " 1.8 1.8 1.8 1.8 1.8 1.8 1.8 1.8 1.8 1.8 1.8 1.8 1.8 1.8 1.8 1.8 1.8 1.8\n",
      " 1.8 1.8 1.8 1.8 1.8 1.8 1.8 1.8 1.8 1.8 1.8 1.8 1.8 1.8]\n",
      "5\n"
     ]
    },
    {
     "name": "stderr",
     "output_type": "stream",
     "text": [
      "<ipython-input-35-233d353b3764>:386: FutureWarning: elementwise comparison failed; returning scalar instead, but in the future will perform elementwise comparison\n",
      "  if color_eta == 'grey':\n",
      "<ipython-input-35-233d353b3764>:558: MatplotlibDeprecationWarning: Adding an axes using the same arguments as a previous axes currently reuses the earlier instance.  In a future version, a new instance will always be created and returned.  Meanwhile, this warning can be suppressed, and the future behavior ensured, by passing a unique label to each axes instance.\n",
      "  cbaxes = ax.figure.add_axes(ratios)\n",
      "<ipython-input-35-233d353b3764>:218: MatplotlibDeprecationWarning: Adding an axes using the same arguments as a previous axes currently reuses the earlier instance.  In a future version, a new instance will always be created and returned.  Meanwhile, this warning can be suppressed, and the future behavior ensured, by passing a unique label to each axes instance.\n",
      "  ax = f1.add_subplot(gs1[3, 0])\n",
      "<ipython-input-35-233d353b3764>:219: MatplotlibDeprecationWarning: Adding an axes using the same arguments as a previous axes currently reuses the earlier instance.  In a future version, a new instance will always be created and returned.  Meanwhile, this warning can be suppressed, and the future behavior ensured, by passing a unique label to each axes instance.\n",
      "  ax_gyre = f2.add_subplot(gs2[3, 0])\n",
      "<ipython-input-35-233d353b3764>:220: MatplotlibDeprecationWarning: Adding an axes using the same arguments as a previous axes currently reuses the earlier instance.  In a future version, a new instance will always be created and returned.  Meanwhile, this warning can be suppressed, and the future behavior ensured, by passing a unique label to each axes instance.\n",
      "  ax_other = f3.add_subplot(gs3[3, 0])\n"
     ]
    },
    {
     "name": "stdout",
     "output_type": "stream",
     "text": [
      "done \n",
      "8\n",
      "False\n"
     ]
    },
    {
     "name": "stderr",
     "output_type": "stream",
     "text": [
      "<ipython-input-35-233d353b3764>:386: FutureWarning: elementwise comparison failed; returning scalar instead, but in the future will perform elementwise comparison\n",
      "  if color_eta == 'grey':\n",
      "<ipython-input-35-233d353b3764>:558: MatplotlibDeprecationWarning: Adding an axes using the same arguments as a previous axes currently reuses the earlier instance.  In a future version, a new instance will always be created and returned.  Meanwhile, this warning can be suppressed, and the future behavior ensured, by passing a unique label to each axes instance.\n",
      "  cbaxes = ax.figure.add_axes(ratios)\n",
      "<ipython-input-35-233d353b3764>:251: MatplotlibDeprecationWarning: Adding an axes using the same arguments as a previous axes currently reuses the earlier instance.  In a future version, a new instance will always be created and returned.  Meanwhile, this warning can be suppressed, and the future behavior ensured, by passing a unique label to each axes instance.\n",
      "  ax = f1.add_subplot(gs1[3, 1])\n",
      "<ipython-input-35-233d353b3764>:252: MatplotlibDeprecationWarning: Adding an axes using the same arguments as a previous axes currently reuses the earlier instance.  In a future version, a new instance will always be created and returned.  Meanwhile, this warning can be suppressed, and the future behavior ensured, by passing a unique label to each axes instance.\n",
      "  ax_gyre = f2.add_subplot(gs2[3, 1])\n",
      "<ipython-input-35-233d353b3764>:253: MatplotlibDeprecationWarning: Adding an axes using the same arguments as a previous axes currently reuses the earlier instance.  In a future version, a new instance will always be created and returned.  Meanwhile, this warning can be suppressed, and the future behavior ensured, by passing a unique label to each axes instance.\n",
      "  ax_other = f3.add_subplot(gs3[3, 1])\n"
     ]
    },
    {
     "name": "stdout",
     "output_type": "stream",
     "text": [
      "done \n",
      "5\n",
      "False\n",
      "[1.8 1.8 1.8 1.8 1.8 1.8 1.8 1.8 1.8 1.8 1.8 1.8 1.8 1.8 1.8 1.8 1.8 1.8\n",
      " 1.8 1.8 1.8 1.8 1.8 1.8 1.8 1.8 1.8 1.8 1.8 1.8 1.8 1.8 1.8 1.8 1.8 1.8\n",
      " 1.8 1.8 1.8 1.8 1.8 1.8 1.8 1.8 1.8 1.8 1.8 1.8 1.8 1.8 1.8 1.8 1.8 1.8\n",
      " 1.8 1.8 1.8 1.8 1.8 1.8 1.8 1.8 1.8 1.8 1.8 1.8 1.8 1.8 1.8 1.8 1.8 1.8\n",
      " 1.8 1.8 1.8 1.8 1.8 1.8 1.8 1.8 1.8 1.8 1.8 1.8 1.8 1.8 1.8 1.8 1.8 1.8\n",
      " 1.8 1.8 1.8 1.8 1.8 1.8 1.8 1.8 1.8 1.8 1.8 1.8 1.8 1.8 1.8 1.8 1.8 1.8\n",
      " 1.8 1.8 1.8 1.8 1.8 1.8 1.8 1.8 1.8 1.8 1.8 1.8 1.8 1.8 1.8 1.8 1.8 1.8\n",
      " 1.8 1.8 1.8 1.8 1.8 1.8 1.8 1.8 1.8 1.8 1.8 1.8 1.8 1.8 1.8 1.8 1.8 1.8\n",
      " 1.8 1.8 1.8 1.8 1.8 1.8 1.8 1.8 1.8 1.8 1.8 1.8 1.8 1.8 1.8 1.8 1.8 1.8\n",
      " 1.8 1.8 1.8 1.8 1.8 1.8 1.8 1.8 1.8 1.8 1.8 1.8 1.8 1.8 1.8 1.8 1.8 1.8\n",
      " 1.8 1.8 1.8 1.8 1.8 1.8 1.8 1.8 1.8 1.8 1.8 1.8 1.8 1.8 1.8 1.8 1.8 1.8\n",
      " 1.8 1.8 1.8 1.8 1.8 1.8 1.8 1.8 1.8 1.8 1.8 1.8 1.8 1.8 1.8 1.8 1.8 1.8\n",
      " 1.8 1.8 1.8 1.8 1.8 1.8 1.8 1.8 1.8 1.8 1.8 1.8 1.8 1.8 1.8 1.8 1.8 1.8\n",
      " 1.8 1.8 1.8 1.8 1.8 1.8 1.8 1.8 1.8 1.8 1.8 1.8 1.8 1.8 1.8 1.8 1.8 1.8\n",
      " 1.8 1.8 1.8 1.8 1.8 1.8 1.8 1.8 1.8 1.8 1.8 1.8 1.8 1.8 1.8 1.8 1.8 1.8\n",
      " 1.8 1.8 1.8 1.8 1.8 1.8 1.8 1.8 1.8 1.8 1.8 1.8 1.8 1.8 1.8 1.8 1.8 1.8\n",
      " 1.8 1.8 1.8 1.8 1.8 1.8 1.8 1.8 1.8 1.8 1.8 1.8 1.8 1.8 1.8 1.8 1.8 1.8\n",
      " 1.8 1.8 1.8 1.8 1.8 1.8 1.8 1.8 1.8 1.8 1.8 1.8 1.8 1.8 1.8 1.8 1.8 1.8\n",
      " 1.8 1.8 1.8 1.8 1.8 1.8 1.8 1.8 1.8 1.8 1.8 1.8 1.8 1.8 1.8 1.8 1.8 1.8\n",
      " 1.8 1.8 1.8 1.8 1.8 1.8 1.8 1.8 1.8 1.8 1.8 1.8 1.8 1.8 1.8 1.8 1.8 1.8\n",
      " 1.8 1.8 1.8 1.8 1.8 1.8 1.8 1.8 1.8 1.8 1.8 1.8 1.8 1.8 1.8 1.8 1.8 1.8\n",
      " 1.8 1.8 1.8 1.8 1.8 1.8 1.8 1.8 1.8 1.8 1.8 1.8 1.8 1.8 1.8 1.8 1.8 1.8\n",
      " 1.8 1.8 1.8 1.8 1.8 1.8 1.8 1.8 1.8 1.8 1.8 1.8 1.8 1.8 1.8 1.8 1.8 1.8\n",
      " 1.8 1.8 1.8 1.8 1.8 1.8 1.8 1.8 1.8 1.8 1.8 1.8 1.8 1.8 1.8 1.8 1.8 1.8\n",
      " 1.8 1.8 1.8 1.8 1.8 1.8 1.8 1.8 1.8 1.8 1.8 1.8 1.8 1.8 1.8 1.8 1.8 1.8\n",
      " 1.8 1.8 1.8 1.8 1.8 1.8 1.8 1.8 1.8 1.8 1.8 1.8 1.8 1.8 1.8 1.8 1.8 1.8\n",
      " 1.8 1.8 1.8 1.8 1.8 1.8 1.8 1.8 1.8 1.8 1.8 1.8 1.8 1.8 1.8 1.8 1.8 1.8\n",
      " 1.8 1.8 1.8 1.8 1.8 1.8 1.8 1.8 1.8 1.8 1.8 1.8 1.8 1.8 1.8 1.8 1.8 1.8\n",
      " 1.8 1.8 1.8 1.8 1.8 1.8 1.8 1.8 1.8 1.8 1.8 1.8 1.8 1.8 1.8 1.8 1.8 1.8\n",
      " 1.8 1.8 1.8 1.8 1.8 1.8 1.8 1.8 1.8 1.8 1.8 1.8 1.8 1.8 1.8 1.8 1.8 1.8\n",
      " 1.8 1.8 1.8 1.8 1.8 1.8 1.8 1.8 1.8 1.8 1.8 1.8 1.8 1.8 1.8 1.8 1.8 1.8\n",
      " 1.8 1.8 1.8 1.8 1.8 1.8 1.8 1.8 1.8 1.8 1.8 1.8 1.8 1.8 1.8 1.8 1.8 1.8\n",
      " 1.8 1.8 1.8 1.8 1.8 1.8 1.8 1.8 1.8 1.8 1.8 1.8 1.8 1.8 1.8 1.8 1.8 1.8\n",
      " 1.8 1.8 1.8 1.8 1.8 1.8 1.8 1.8 1.8 1.8 1.8 1.8 1.8 1.8 1.8 1.8 1.8 1.8\n",
      " 1.8 1.8 1.8 1.8 1.8 1.8 1.8 1.8 1.8 1.8 1.8 1.8 1.8 1.8 1.8 1.8 1.8 1.8\n",
      " 1.8 1.8 1.8 1.8 1.8 1.8 1.8 1.8 1.8 1.8 1.8 1.8 1.8 1.8 1.8 1.8 1.8 1.8\n",
      " 1.8 1.8 1.8 1.8 1.8 1.8 1.8 1.8 1.8 1.8 1.8 1.8 1.8 1.8 1.8 1.8 1.8 1.8\n",
      " 1.8 1.8 1.8 1.8 1.8 1.8 1.8 1.8 1.8 1.8 1.8 1.8 1.8 1.8 1.8 1.8 1.8 1.8\n",
      " 1.8 1.8 1.8 1.8 1.8 1.8 1.8 1.8 1.8 1.8 1.8 1.8 1.8 1.8 1.8 1.8 1.8 1.8\n",
      " 1.8 1.8 1.8 1.8 1.8 1.8 1.8 1.8 1.8 1.8 1.8 1.8 1.8 1.8 1.8 1.8 1.8 1.8\n",
      " 1.8 1.8 1.8 1.8 1.8 1.8 1.8 1.8 1.8 1.8 1.8 1.8 1.8 1.8 1.8 1.8 1.8 1.8\n",
      " 1.8 1.8 1.8 1.8 1.8 1.8 1.8 1.8 1.8 1.8 1.8 1.8 1.8 1.8 1.8 1.8 1.8 1.8\n",
      " 1.8 1.8 1.8 1.8 1.8 1.8 1.8 1.8 1.8 1.8 1.8 1.8 1.8 1.8 1.8 1.8 1.8 1.8\n",
      " 1.8 1.8 1.8 1.8 1.8 1.8 1.8 1.8 1.8 1.8 1.8 1.8 1.8 1.8 1.8 1.8 1.8 1.8\n",
      " 1.8 1.8 1.8 1.8 1.8 1.8 1.8 1.8 1.8 1.8 1.8 1.8 1.8 1.8 1.8 1.8 1.8]\n",
      "5\n"
     ]
    },
    {
     "name": "stderr",
     "output_type": "stream",
     "text": [
      "<ipython-input-35-233d353b3764>:386: FutureWarning: elementwise comparison failed; returning scalar instead, but in the future will perform elementwise comparison\n",
      "  if color_eta == 'grey':\n",
      "<ipython-input-35-233d353b3764>:558: MatplotlibDeprecationWarning: Adding an axes using the same arguments as a previous axes currently reuses the earlier instance.  In a future version, a new instance will always be created and returned.  Meanwhile, this warning can be suppressed, and the future behavior ensured, by passing a unique label to each axes instance.\n",
      "  cbaxes = ax.figure.add_axes(ratios)\n",
      "<ipython-input-35-233d353b3764>:218: MatplotlibDeprecationWarning: Adding an axes using the same arguments as a previous axes currently reuses the earlier instance.  In a future version, a new instance will always be created and returned.  Meanwhile, this warning can be suppressed, and the future behavior ensured, by passing a unique label to each axes instance.\n",
      "  ax = f1.add_subplot(gs1[3, 0])\n",
      "<ipython-input-35-233d353b3764>:219: MatplotlibDeprecationWarning: Adding an axes using the same arguments as a previous axes currently reuses the earlier instance.  In a future version, a new instance will always be created and returned.  Meanwhile, this warning can be suppressed, and the future behavior ensured, by passing a unique label to each axes instance.\n",
      "  ax_gyre = f2.add_subplot(gs2[3, 0])\n",
      "<ipython-input-35-233d353b3764>:220: MatplotlibDeprecationWarning: Adding an axes using the same arguments as a previous axes currently reuses the earlier instance.  In a future version, a new instance will always be created and returned.  Meanwhile, this warning can be suppressed, and the future behavior ensured, by passing a unique label to each axes instance.\n",
      "  ax_other = f3.add_subplot(gs3[3, 0])\n"
     ]
    },
    {
     "name": "stdout",
     "output_type": "stream",
     "text": [
      "done \n",
      "8\n",
      "False\n"
     ]
    },
    {
     "name": "stderr",
     "output_type": "stream",
     "text": [
      "<ipython-input-35-233d353b3764>:386: FutureWarning: elementwise comparison failed; returning scalar instead, but in the future will perform elementwise comparison\n",
      "  if color_eta == 'grey':\n",
      "<ipython-input-35-233d353b3764>:558: MatplotlibDeprecationWarning: Adding an axes using the same arguments as a previous axes currently reuses the earlier instance.  In a future version, a new instance will always be created and returned.  Meanwhile, this warning can be suppressed, and the future behavior ensured, by passing a unique label to each axes instance.\n",
      "  cbaxes = ax.figure.add_axes(ratios)\n",
      "<ipython-input-35-233d353b3764>:251: MatplotlibDeprecationWarning: Adding an axes using the same arguments as a previous axes currently reuses the earlier instance.  In a future version, a new instance will always be created and returned.  Meanwhile, this warning can be suppressed, and the future behavior ensured, by passing a unique label to each axes instance.\n",
      "  ax = f1.add_subplot(gs1[3, 1])\n",
      "<ipython-input-35-233d353b3764>:252: MatplotlibDeprecationWarning: Adding an axes using the same arguments as a previous axes currently reuses the earlier instance.  In a future version, a new instance will always be created and returned.  Meanwhile, this warning can be suppressed, and the future behavior ensured, by passing a unique label to each axes instance.\n",
      "  ax_gyre = f2.add_subplot(gs2[3, 1])\n",
      "<ipython-input-35-233d353b3764>:253: MatplotlibDeprecationWarning: Adding an axes using the same arguments as a previous axes currently reuses the earlier instance.  In a future version, a new instance will always be created and returned.  Meanwhile, this warning can be suppressed, and the future behavior ensured, by passing a unique label to each axes instance.\n",
      "  ax_other = f3.add_subplot(gs3[3, 1])\n"
     ]
    },
    {
     "name": "stdout",
     "output_type": "stream",
     "text": [
      "done \n",
      "5\n",
      "False\n",
      "[1.8 1.8 1.8 1.8 1.8 1.8 1.8 1.8 1.8 1.8 1.8 1.8 1.8 1.8 1.8 1.8 1.8 1.8\n",
      " 1.8 1.8 1.8 1.8 1.8 1.8 1.8 1.8 1.8 1.8 1.8 1.8 1.8 1.8 1.8 1.8 1.8 1.8\n",
      " 1.8 1.8 1.8 1.8 1.8 1.8 1.8 1.8 1.8 1.8 1.8 1.8 1.8 1.8 1.8 1.8 1.8 1.8\n",
      " 1.8 1.8 1.8 1.8 1.8 1.8 1.8 1.8 1.8 1.8 1.8 1.8 1.8 1.8 1.8 1.8 1.8 1.8\n",
      " 1.8 1.8 1.8 1.8 1.8 1.8 1.8 1.8 1.8 1.8 1.8 1.8 1.8 1.8 1.8 1.8 1.8 1.8\n",
      " 1.8 1.8 1.8 1.8 1.8 1.8 1.8 1.8 1.8 1.8 1.8 1.8 1.8 1.8 1.8 1.8 1.8 1.8\n",
      " 1.8 1.8 1.8 1.8 1.8 1.8 1.8 1.8 1.8 1.8 1.8 1.8 1.8 1.8 1.8 1.8 1.8 1.8\n",
      " 1.8 1.8 1.8 1.8 1.8 1.8 1.8 1.8 1.8 1.8 1.8 1.8 1.8 1.8 1.8 1.8 1.8 1.8\n",
      " 1.8 1.8 1.8 1.8 1.8 1.8 1.8 1.8 1.8 1.8 1.8 1.8 1.8 1.8 1.8 1.8 1.8 1.8\n",
      " 1.8 1.8 1.8 1.8 1.8 1.8 1.8 1.8 1.8 1.8 1.8 1.8 1.8 1.8 1.8 1.8 1.8 1.8\n",
      " 1.8 1.8 1.8 1.8 1.8 1.8 1.8 1.8 1.8 1.8 1.8 1.8 1.8 1.8 1.8 1.8 1.8 1.8\n",
      " 1.8 1.8 1.8 1.8 1.8 1.8 1.8 1.8 1.8 1.8 1.8 1.8 1.8 1.8 1.8 1.8 1.8 1.8\n",
      " 1.8 1.8 1.8 1.8 1.8 1.8 1.8 1.8 1.8 1.8 1.8 1.8 1.8 1.8 1.8 1.8 1.8 1.8\n",
      " 1.8 1.8 1.8 1.8 1.8 1.8 1.8 1.8 1.8 1.8 1.8 1.8 1.8 1.8 1.8 1.8 1.8 1.8\n",
      " 1.8 1.8 1.8 1.8 1.8 1.8 1.8 1.8 1.8 1.8 1.8 1.8 1.8 1.8 1.8 1.8 1.8 1.8\n",
      " 1.8 1.8 1.8 1.8 1.8 1.8 1.8 1.8 1.8 1.8 1.8 1.8 1.8 1.8 1.8 1.8 1.8 1.8\n",
      " 1.8 1.8 1.8 1.8 1.8 1.8 1.8 1.8 1.8 1.8 1.8 1.8 1.8 1.8 1.8 1.8 1.8 1.8\n",
      " 1.8 1.8 1.8 1.8 1.8 1.8 1.8 1.8 1.8 1.8 1.8 1.8 1.8 1.8 1.8 1.8 1.8 1.8\n",
      " 1.8 1.8 1.8 1.8 1.8 1.8 1.8 1.8 1.8 1.8 1.8 1.8 1.8 1.8 1.8 1.8 1.8 1.8\n",
      " 1.8 1.8 1.8 1.8 1.8 1.8 1.8 1.8 1.8 1.8 1.8 1.8 1.8 1.8 1.8 1.8 1.8 1.8\n",
      " 1.8 1.8 1.8 1.8 1.8 1.8 1.8 1.8 1.8 1.8 1.8 1.8 1.8 1.8 1.8 1.8 1.8 1.8\n",
      " 1.8 1.8 1.8 1.8 1.8 1.8 1.8 1.8 1.8 1.8 1.8 1.8 1.8 1.8 1.8 1.8 1.8 1.8\n",
      " 1.8 1.8 1.8 1.8 1.8 1.8 1.8 1.8 1.8 1.8 1.8 1.8 1.8 1.8 1.8 1.8 1.8 1.8\n",
      " 1.8 1.8 1.8 1.8 1.8 1.8 1.8 1.8 1.8 1.8 1.8 1.8 1.8 1.8 1.8 1.8 1.8 1.8\n",
      " 1.8 1.8 1.8 1.8 1.8 1.8 1.8 1.8 1.8 1.8 1.8 1.8 1.8 1.8 1.8 1.8 1.8 1.8\n",
      " 1.8 1.8 1.8 1.8 1.8 1.8 1.8 1.8 1.8 1.8 1.8 1.8 1.8 1.8 1.8 1.8 1.8 1.8\n",
      " 1.8 1.8 1.8 1.8 1.8 1.8 1.8 1.8 1.8 1.8 1.8 1.8 1.8 1.8 1.8 1.8 1.8 1.8\n",
      " 1.8 1.8 1.8 1.8 1.8 1.8 1.8 1.8 1.8 1.8 1.8 1.8 1.8 1.8 1.8 1.8 1.8 1.8\n",
      " 1.8 1.8 1.8 1.8 1.8 1.8 1.8 1.8 1.8 1.8 1.8 1.8 1.8 1.8 1.8 1.8 1.8 1.8\n",
      " 1.8 1.8 1.8 1.8 1.8 1.8 1.8 1.8 1.8 1.8 1.8 1.8 1.8 1.8 1.8 1.8 1.8 1.8\n",
      " 1.8 1.8 1.8 1.8 1.8 1.8 1.8 1.8 1.8 1.8 1.8 1.8 1.8 1.8 1.8 1.8 1.8 1.8\n",
      " 1.8 1.8 1.8 1.8 1.8 1.8 1.8 1.8 1.8 1.8 1.8 1.8 1.8 1.8 1.8 1.8 1.8 1.8\n",
      " 1.8 1.8 1.8 1.8 1.8 1.8 1.8 1.8 1.8 1.8 1.8 1.8 1.8 1.8 1.8 1.8 1.8 1.8\n",
      " 1.8 1.8 1.8 1.8 1.8 1.8 1.8 1.8 1.8 1.8 1.8 1.8 1.8 1.8 1.8 1.8 1.8 1.8\n",
      " 1.8 1.8 1.8 1.8 1.8 1.8 1.8 1.8 1.8 1.8 1.8 1.8 1.8 1.8 1.8 1.8 1.8 1.8\n",
      " 1.8 1.8 1.8 1.8 1.8 1.8 1.8 1.8 1.8 1.8 1.8 1.8 1.8 1.8 1.8 1.8 1.8 1.8\n",
      " 1.8 1.8 1.8 1.8 1.8 1.8 1.8 1.8 1.8 1.8 1.8 1.8 1.8 1.8 1.8 1.8 1.8 1.8\n",
      " 1.8 1.8 1.8 1.8 1.8 1.8 1.8 1.8 1.8 1.8 1.8 1.8 1.8 1.8 1.8 1.8 1.8 1.8\n",
      " 1.8 1.8 1.8 1.8 1.8 1.8 1.8 1.8 1.8 1.8 1.8 1.8 1.8 1.8 1.8 1.8 1.8 1.8\n",
      " 1.8 1.8 1.8 1.8 1.8 1.8 1.8 1.8 1.8 1.8 1.8 1.8 1.8 1.8 1.8 1.8 1.8 1.8\n",
      " 1.8 1.8 1.8 1.8 1.8 1.8 1.8 1.8 1.8 1.8 1.8 1.8 1.8 1.8 1.8 1.8 1.8 1.8\n",
      " 1.8 1.8 1.8 1.8 1.8 1.8 1.8 1.8 1.8 1.8 1.8 1.8 1.8 1.8 1.8 1.8 1.8 1.8\n",
      " 1.8 1.8 1.8 1.8 1.8 1.8 1.8 1.8 1.8 1.8 1.8 1.8 1.8 1.8 1.8 1.8 1.8 1.8\n",
      " 1.8 1.8 1.8 1.8 1.8 1.8 1.8 1.8 1.8 1.8 1.8 1.8 1.8 1.8 1.8 1.8 1.8 1.8\n",
      " 1.8 1.8 1.8 1.8 1.8 1.8 1.8 1.8 1.8 1.8 1.8 1.8 1.8 1.8 1.8 1.8 1.8 1.8\n",
      " 1.8 1.8 1.8 1.8 1.8 1.8 1.8 1.8 1.8 1.8 1.8 1.8 1.8 1.8 1.8 1.8 1.8 1.8\n",
      " 1.8 1.8 1.8 1.8 1.8 1.8 1.8 1.8 1.8 1.8 1.8 1.8 1.8 1.8 1.8 1.8 1.8 1.8\n",
      " 1.8 1.8 1.8 1.8 1.8 1.8 1.8 1.8 1.8 1.8 1.8 1.8 1.8 1.8 1.8 1.8 1.8 1.8\n",
      " 1.8 1.8 1.8 1.8 1.8 1.8 1.8 1.8 1.8 1.8 1.8 1.8 1.8 1.8 1.8 1.8 1.8 1.8\n",
      " 1.8 1.8 1.8 1.8 1.8 1.8 1.8 1.8 1.8 1.8 1.8 1.8 1.8 1.8 1.8 1.8 1.8 1.8\n",
      " 1.8 1.8 1.8 1.8 1.8 1.8 1.8 1.8 1.8 1.8 1.8 1.8 1.8 1.8 1.8 1.8 1.8 1.8\n",
      " 1.8 1.8 1.8]\n",
      "5\n"
     ]
    },
    {
     "name": "stderr",
     "output_type": "stream",
     "text": [
      "<ipython-input-35-233d353b3764>:386: FutureWarning: elementwise comparison failed; returning scalar instead, but in the future will perform elementwise comparison\n",
      "  if color_eta == 'grey':\n",
      "<ipython-input-35-233d353b3764>:558: MatplotlibDeprecationWarning: Adding an axes using the same arguments as a previous axes currently reuses the earlier instance.  In a future version, a new instance will always be created and returned.  Meanwhile, this warning can be suppressed, and the future behavior ensured, by passing a unique label to each axes instance.\n",
      "  cbaxes = ax.figure.add_axes(ratios)\n",
      "<ipython-input-35-233d353b3764>:218: MatplotlibDeprecationWarning: Adding an axes using the same arguments as a previous axes currently reuses the earlier instance.  In a future version, a new instance will always be created and returned.  Meanwhile, this warning can be suppressed, and the future behavior ensured, by passing a unique label to each axes instance.\n",
      "  ax = f1.add_subplot(gs1[3, 0])\n",
      "<ipython-input-35-233d353b3764>:219: MatplotlibDeprecationWarning: Adding an axes using the same arguments as a previous axes currently reuses the earlier instance.  In a future version, a new instance will always be created and returned.  Meanwhile, this warning can be suppressed, and the future behavior ensured, by passing a unique label to each axes instance.\n",
      "  ax_gyre = f2.add_subplot(gs2[3, 0])\n",
      "<ipython-input-35-233d353b3764>:220: MatplotlibDeprecationWarning: Adding an axes using the same arguments as a previous axes currently reuses the earlier instance.  In a future version, a new instance will always be created and returned.  Meanwhile, this warning can be suppressed, and the future behavior ensured, by passing a unique label to each axes instance.\n",
      "  ax_other = f3.add_subplot(gs3[3, 0])\n"
     ]
    },
    {
     "name": "stdout",
     "output_type": "stream",
     "text": [
      "done \n",
      "8\n",
      "False\n"
     ]
    },
    {
     "name": "stderr",
     "output_type": "stream",
     "text": [
      "<ipython-input-35-233d353b3764>:386: FutureWarning: elementwise comparison failed; returning scalar instead, but in the future will perform elementwise comparison\n",
      "  if color_eta == 'grey':\n",
      "<ipython-input-35-233d353b3764>:558: MatplotlibDeprecationWarning: Adding an axes using the same arguments as a previous axes currently reuses the earlier instance.  In a future version, a new instance will always be created and returned.  Meanwhile, this warning can be suppressed, and the future behavior ensured, by passing a unique label to each axes instance.\n",
      "  cbaxes = ax.figure.add_axes(ratios)\n",
      "<ipython-input-35-233d353b3764>:251: MatplotlibDeprecationWarning: Adding an axes using the same arguments as a previous axes currently reuses the earlier instance.  In a future version, a new instance will always be created and returned.  Meanwhile, this warning can be suppressed, and the future behavior ensured, by passing a unique label to each axes instance.\n",
      "  ax = f1.add_subplot(gs1[3, 1])\n",
      "<ipython-input-35-233d353b3764>:252: MatplotlibDeprecationWarning: Adding an axes using the same arguments as a previous axes currently reuses the earlier instance.  In a future version, a new instance will always be created and returned.  Meanwhile, this warning can be suppressed, and the future behavior ensured, by passing a unique label to each axes instance.\n",
      "  ax_gyre = f2.add_subplot(gs2[3, 1])\n",
      "<ipython-input-35-233d353b3764>:253: MatplotlibDeprecationWarning: Adding an axes using the same arguments as a previous axes currently reuses the earlier instance.  In a future version, a new instance will always be created and returned.  Meanwhile, this warning can be suppressed, and the future behavior ensured, by passing a unique label to each axes instance.\n",
      "  ax_other = f3.add_subplot(gs3[3, 1])\n"
     ]
    },
    {
     "name": "stdout",
     "output_type": "stream",
     "text": [
      "done \n",
      "5\n",
      "False\n",
      "[1.8 1.8 1.8 ... 1.8 1.8 1.8]\n",
      "5\n"
     ]
    },
    {
     "name": "stderr",
     "output_type": "stream",
     "text": [
      "<ipython-input-35-233d353b3764>:386: FutureWarning: elementwise comparison failed; returning scalar instead, but in the future will perform elementwise comparison\n",
      "  if color_eta == 'grey':\n",
      "<ipython-input-35-233d353b3764>:558: MatplotlibDeprecationWarning: Adding an axes using the same arguments as a previous axes currently reuses the earlier instance.  In a future version, a new instance will always be created and returned.  Meanwhile, this warning can be suppressed, and the future behavior ensured, by passing a unique label to each axes instance.\n",
      "  cbaxes = ax.figure.add_axes(ratios)\n",
      "<ipython-input-35-233d353b3764>:218: MatplotlibDeprecationWarning: Adding an axes using the same arguments as a previous axes currently reuses the earlier instance.  In a future version, a new instance will always be created and returned.  Meanwhile, this warning can be suppressed, and the future behavior ensured, by passing a unique label to each axes instance.\n",
      "  ax = f1.add_subplot(gs1[3, 0])\n",
      "<ipython-input-35-233d353b3764>:219: MatplotlibDeprecationWarning: Adding an axes using the same arguments as a previous axes currently reuses the earlier instance.  In a future version, a new instance will always be created and returned.  Meanwhile, this warning can be suppressed, and the future behavior ensured, by passing a unique label to each axes instance.\n",
      "  ax_gyre = f2.add_subplot(gs2[3, 0])\n",
      "<ipython-input-35-233d353b3764>:220: MatplotlibDeprecationWarning: Adding an axes using the same arguments as a previous axes currently reuses the earlier instance.  In a future version, a new instance will always be created and returned.  Meanwhile, this warning can be suppressed, and the future behavior ensured, by passing a unique label to each axes instance.\n",
      "  ax_other = f3.add_subplot(gs3[3, 0])\n"
     ]
    },
    {
     "name": "stdout",
     "output_type": "stream",
     "text": [
      "done \n",
      "8\n",
      "False\n"
     ]
    },
    {
     "name": "stderr",
     "output_type": "stream",
     "text": [
      "<ipython-input-35-233d353b3764>:386: FutureWarning: elementwise comparison failed; returning scalar instead, but in the future will perform elementwise comparison\n",
      "  if color_eta == 'grey':\n",
      "<ipython-input-35-233d353b3764>:558: MatplotlibDeprecationWarning: Adding an axes using the same arguments as a previous axes currently reuses the earlier instance.  In a future version, a new instance will always be created and returned.  Meanwhile, this warning can be suppressed, and the future behavior ensured, by passing a unique label to each axes instance.\n",
      "  cbaxes = ax.figure.add_axes(ratios)\n",
      "<ipython-input-35-233d353b3764>:251: MatplotlibDeprecationWarning: Adding an axes using the same arguments as a previous axes currently reuses the earlier instance.  In a future version, a new instance will always be created and returned.  Meanwhile, this warning can be suppressed, and the future behavior ensured, by passing a unique label to each axes instance.\n",
      "  ax = f1.add_subplot(gs1[3, 1])\n",
      "<ipython-input-35-233d353b3764>:252: MatplotlibDeprecationWarning: Adding an axes using the same arguments as a previous axes currently reuses the earlier instance.  In a future version, a new instance will always be created and returned.  Meanwhile, this warning can be suppressed, and the future behavior ensured, by passing a unique label to each axes instance.\n",
      "  ax_gyre = f2.add_subplot(gs2[3, 1])\n",
      "<ipython-input-35-233d353b3764>:253: MatplotlibDeprecationWarning: Adding an axes using the same arguments as a previous axes currently reuses the earlier instance.  In a future version, a new instance will always be created and returned.  Meanwhile, this warning can be suppressed, and the future behavior ensured, by passing a unique label to each axes instance.\n",
      "  ax_other = f3.add_subplot(gs3[3, 1])\n"
     ]
    },
    {
     "name": "stdout",
     "output_type": "stream",
     "text": [
      "done \n",
      "5\n",
      "False\n",
      "[1.8 1.8 1.8 ... 1.8 1.8 1.8]\n",
      "5\n"
     ]
    },
    {
     "name": "stderr",
     "output_type": "stream",
     "text": [
      "<ipython-input-35-233d353b3764>:386: FutureWarning: elementwise comparison failed; returning scalar instead, but in the future will perform elementwise comparison\n",
      "  if color_eta == 'grey':\n",
      "<ipython-input-35-233d353b3764>:558: MatplotlibDeprecationWarning: Adding an axes using the same arguments as a previous axes currently reuses the earlier instance.  In a future version, a new instance will always be created and returned.  Meanwhile, this warning can be suppressed, and the future behavior ensured, by passing a unique label to each axes instance.\n",
      "  cbaxes = ax.figure.add_axes(ratios)\n",
      "<ipython-input-35-233d353b3764>:386: FutureWarning: elementwise comparison failed; returning scalar instead, but in the future will perform elementwise comparison\n",
      "  if color_eta == 'grey':\n"
     ]
    },
    {
     "name": "stdout",
     "output_type": "stream",
     "text": [
      "done \n",
      "8\n",
      "False\n",
      "done \n",
      "6\n",
      "False\n",
      "[2.2 2.2 2.2 2.2 2.2 2.2 2.2 2.2 2.2 2.2 2.2 2.2 2.2 2.2 2.2 2.2 2.2 2.2\n",
      " 2.2 2.2]\n",
      "6\n"
     ]
    },
    {
     "name": "stderr",
     "output_type": "stream",
     "text": [
      "<ipython-input-35-233d353b3764>:558: MatplotlibDeprecationWarning: Adding an axes using the same arguments as a previous axes currently reuses the earlier instance.  In a future version, a new instance will always be created and returned.  Meanwhile, this warning can be suppressed, and the future behavior ensured, by passing a unique label to each axes instance.\n",
      "  cbaxes = ax.figure.add_axes(ratios)\n",
      "<ipython-input-35-233d353b3764>:386: FutureWarning: elementwise comparison failed; returning scalar instead, but in the future will perform elementwise comparison\n",
      "  if color_eta == 'grey':\n",
      "<ipython-input-35-233d353b3764>:558: MatplotlibDeprecationWarning: Adding an axes using the same arguments as a previous axes currently reuses the earlier instance.  In a future version, a new instance will always be created and returned.  Meanwhile, this warning can be suppressed, and the future behavior ensured, by passing a unique label to each axes instance.\n",
      "  cbaxes = ax.figure.add_axes(ratios)\n",
      "<ipython-input-35-233d353b3764>:229: MatplotlibDeprecationWarning: Adding an axes using the same arguments as a previous axes currently reuses the earlier instance.  In a future version, a new instance will always be created and returned.  Meanwhile, this warning can be suppressed, and the future behavior ensured, by passing a unique label to each axes instance.\n",
      "  ax = f1.add_subplot(gs1[4, 0])\n",
      "<ipython-input-35-233d353b3764>:230: MatplotlibDeprecationWarning: Adding an axes using the same arguments as a previous axes currently reuses the earlier instance.  In a future version, a new instance will always be created and returned.  Meanwhile, this warning can be suppressed, and the future behavior ensured, by passing a unique label to each axes instance.\n",
      "  ax_gyre = f2.add_subplot(gs2[4, 0])\n",
      "<ipython-input-35-233d353b3764>:231: MatplotlibDeprecationWarning: Adding an axes using the same arguments as a previous axes currently reuses the earlier instance.  In a future version, a new instance will always be created and returned.  Meanwhile, this warning can be suppressed, and the future behavior ensured, by passing a unique label to each axes instance.\n",
      "  ax_other = f3.add_subplot(gs3[4, 0])\n"
     ]
    },
    {
     "name": "stdout",
     "output_type": "stream",
     "text": [
      "done \n",
      "9\n",
      "False\n",
      "done \n",
      "6\n",
      "False\n",
      "[2.2 2.2 2.2 2.2 2.2 2.2 2.2 2.2 2.2 2.2 2.2 2.2 2.2 2.2 2.2 2.2 2.2 2.2\n",
      " 2.2 2.2 2.2 2.2 2.2 2.2 2.2 2.2 2.2 2.2 2.2 2.2 2.2 2.2 2.2 2.2 2.2 2.2\n",
      " 2.2 2.2 2.2 2.2 2.2 2.2 2.2 2.2 2.2 2.2 2.2 2.2 2.2 2.2 2.2 2.2 2.2]\n",
      "6\n"
     ]
    },
    {
     "name": "stderr",
     "output_type": "stream",
     "text": [
      "<ipython-input-35-233d353b3764>:386: FutureWarning: elementwise comparison failed; returning scalar instead, but in the future will perform elementwise comparison\n",
      "  if color_eta == 'grey':\n",
      "<ipython-input-35-233d353b3764>:558: MatplotlibDeprecationWarning: Adding an axes using the same arguments as a previous axes currently reuses the earlier instance.  In a future version, a new instance will always be created and returned.  Meanwhile, this warning can be suppressed, and the future behavior ensured, by passing a unique label to each axes instance.\n",
      "  cbaxes = ax.figure.add_axes(ratios)\n",
      "<ipython-input-35-233d353b3764>:261: MatplotlibDeprecationWarning: Adding an axes using the same arguments as a previous axes currently reuses the earlier instance.  In a future version, a new instance will always be created and returned.  Meanwhile, this warning can be suppressed, and the future behavior ensured, by passing a unique label to each axes instance.\n",
      "  ax = f1.add_subplot(gs1[4, 1])\n",
      "<ipython-input-35-233d353b3764>:262: MatplotlibDeprecationWarning: Adding an axes using the same arguments as a previous axes currently reuses the earlier instance.  In a future version, a new instance will always be created and returned.  Meanwhile, this warning can be suppressed, and the future behavior ensured, by passing a unique label to each axes instance.\n",
      "  ax_gyre = f2.add_subplot(gs2[4, 1])\n",
      "<ipython-input-35-233d353b3764>:263: MatplotlibDeprecationWarning: Adding an axes using the same arguments as a previous axes currently reuses the earlier instance.  In a future version, a new instance will always be created and returned.  Meanwhile, this warning can be suppressed, and the future behavior ensured, by passing a unique label to each axes instance.\n",
      "  ax_other = f3.add_subplot(gs3[4, 1])\n",
      "<ipython-input-35-233d353b3764>:386: FutureWarning: elementwise comparison failed; returning scalar instead, but in the future will perform elementwise comparison\n",
      "  if color_eta == 'grey':\n",
      "<ipython-input-35-233d353b3764>:558: MatplotlibDeprecationWarning: Adding an axes using the same arguments as a previous axes currently reuses the earlier instance.  In a future version, a new instance will always be created and returned.  Meanwhile, this warning can be suppressed, and the future behavior ensured, by passing a unique label to each axes instance.\n",
      "  cbaxes = ax.figure.add_axes(ratios)\n",
      "<ipython-input-35-233d353b3764>:229: MatplotlibDeprecationWarning: Adding an axes using the same arguments as a previous axes currently reuses the earlier instance.  In a future version, a new instance will always be created and returned.  Meanwhile, this warning can be suppressed, and the future behavior ensured, by passing a unique label to each axes instance.\n",
      "  ax = f1.add_subplot(gs1[4, 0])\n",
      "<ipython-input-35-233d353b3764>:230: MatplotlibDeprecationWarning: Adding an axes using the same arguments as a previous axes currently reuses the earlier instance.  In a future version, a new instance will always be created and returned.  Meanwhile, this warning can be suppressed, and the future behavior ensured, by passing a unique label to each axes instance.\n",
      "  ax_gyre = f2.add_subplot(gs2[4, 0])\n",
      "<ipython-input-35-233d353b3764>:231: MatplotlibDeprecationWarning: Adding an axes using the same arguments as a previous axes currently reuses the earlier instance.  In a future version, a new instance will always be created and returned.  Meanwhile, this warning can be suppressed, and the future behavior ensured, by passing a unique label to each axes instance.\n",
      "  ax_other = f3.add_subplot(gs3[4, 0])\n"
     ]
    },
    {
     "name": "stdout",
     "output_type": "stream",
     "text": [
      "done \n",
      "9\n",
      "False\n",
      "done \n",
      "6\n",
      "False\n",
      "[2.2 2.2 2.2 2.2 2.2 2.2 2.2 2.2 2.2 2.2 2.2 2.2 2.2 2.2 2.2 2.2 2.2 2.2\n",
      " 2.2 2.2 2.2 2.2 2.2 2.2 2.2 2.2 2.2 2.2 2.2 2.2 2.2 2.2 2.2 2.2 2.2 2.2\n",
      " 2.2 2.2 2.2 2.2 2.2 2.2 2.2 2.2 2.2 2.2 2.2 2.2 2.2 2.2 2.2 2.2 2.2 2.2\n",
      " 2.2 2.2 2.2 2.2 2.2 2.2 2.2 2.2 2.2 2.2]\n",
      "6\n"
     ]
    },
    {
     "name": "stderr",
     "output_type": "stream",
     "text": [
      "<ipython-input-35-233d353b3764>:386: FutureWarning: elementwise comparison failed; returning scalar instead, but in the future will perform elementwise comparison\n",
      "  if color_eta == 'grey':\n",
      "<ipython-input-35-233d353b3764>:558: MatplotlibDeprecationWarning: Adding an axes using the same arguments as a previous axes currently reuses the earlier instance.  In a future version, a new instance will always be created and returned.  Meanwhile, this warning can be suppressed, and the future behavior ensured, by passing a unique label to each axes instance.\n",
      "  cbaxes = ax.figure.add_axes(ratios)\n",
      "<ipython-input-35-233d353b3764>:261: MatplotlibDeprecationWarning: Adding an axes using the same arguments as a previous axes currently reuses the earlier instance.  In a future version, a new instance will always be created and returned.  Meanwhile, this warning can be suppressed, and the future behavior ensured, by passing a unique label to each axes instance.\n",
      "  ax = f1.add_subplot(gs1[4, 1])\n",
      "<ipython-input-35-233d353b3764>:262: MatplotlibDeprecationWarning: Adding an axes using the same arguments as a previous axes currently reuses the earlier instance.  In a future version, a new instance will always be created and returned.  Meanwhile, this warning can be suppressed, and the future behavior ensured, by passing a unique label to each axes instance.\n",
      "  ax_gyre = f2.add_subplot(gs2[4, 1])\n",
      "<ipython-input-35-233d353b3764>:263: MatplotlibDeprecationWarning: Adding an axes using the same arguments as a previous axes currently reuses the earlier instance.  In a future version, a new instance will always be created and returned.  Meanwhile, this warning can be suppressed, and the future behavior ensured, by passing a unique label to each axes instance.\n",
      "  ax_other = f3.add_subplot(gs3[4, 1])\n",
      "<ipython-input-35-233d353b3764>:386: FutureWarning: elementwise comparison failed; returning scalar instead, but in the future will perform elementwise comparison\n",
      "  if color_eta == 'grey':\n",
      "<ipython-input-35-233d353b3764>:558: MatplotlibDeprecationWarning: Adding an axes using the same arguments as a previous axes currently reuses the earlier instance.  In a future version, a new instance will always be created and returned.  Meanwhile, this warning can be suppressed, and the future behavior ensured, by passing a unique label to each axes instance.\n",
      "  cbaxes = ax.figure.add_axes(ratios)\n",
      "<ipython-input-35-233d353b3764>:229: MatplotlibDeprecationWarning: Adding an axes using the same arguments as a previous axes currently reuses the earlier instance.  In a future version, a new instance will always be created and returned.  Meanwhile, this warning can be suppressed, and the future behavior ensured, by passing a unique label to each axes instance.\n",
      "  ax = f1.add_subplot(gs1[4, 0])\n",
      "<ipython-input-35-233d353b3764>:230: MatplotlibDeprecationWarning: Adding an axes using the same arguments as a previous axes currently reuses the earlier instance.  In a future version, a new instance will always be created and returned.  Meanwhile, this warning can be suppressed, and the future behavior ensured, by passing a unique label to each axes instance.\n",
      "  ax_gyre = f2.add_subplot(gs2[4, 0])\n",
      "<ipython-input-35-233d353b3764>:231: MatplotlibDeprecationWarning: Adding an axes using the same arguments as a previous axes currently reuses the earlier instance.  In a future version, a new instance will always be created and returned.  Meanwhile, this warning can be suppressed, and the future behavior ensured, by passing a unique label to each axes instance.\n",
      "  ax_other = f3.add_subplot(gs3[4, 0])\n"
     ]
    },
    {
     "name": "stdout",
     "output_type": "stream",
     "text": [
      "done \n",
      "9\n",
      "False\n",
      "done \n",
      "6\n",
      "False\n",
      "[2.2 2.2 2.2 2.2 2.2 2.2 2.2 2.2 2.2 2.2 2.2 2.2 2.2 2.2 2.2 2.2 2.2 2.2\n",
      " 2.2 2.2 2.2 2.2 2.2 2.2 2.2 2.2 2.2 2.2 2.2 2.2 2.2 2.2 2.2 2.2 2.2 2.2\n",
      " 2.2 2.2 2.2 2.2 2.2 2.2 2.2 2.2 2.2 2.2 2.2 2.2 2.2 2.2 2.2 2.2 2.2 2.2\n",
      " 2.2 2.2 2.2 2.2 2.2 2.2 2.2 2.2 2.2 2.2 2.2 2.2 2.2 2.2 2.2 2.2 2.2 2.2\n",
      " 2.2 2.2 2.2 2.2 2.2 2.2 2.2 2.2 2.2 2.2 2.2 2.2 2.2 2.2 2.2 2.2 2.2 2.2\n",
      " 2.2 2.2 2.2 2.2 2.2 2.2 2.2 2.2 2.2 2.2 2.2 2.2 2.2 2.2 2.2 2.2 2.2 2.2\n",
      " 2.2 2.2 2.2 2.2 2.2 2.2 2.2 2.2 2.2 2.2 2.2 2.2 2.2 2.2 2.2 2.2 2.2 2.2\n",
      " 2.2 2.2 2.2 2.2 2.2 2.2 2.2 2.2 2.2 2.2 2.2 2.2 2.2 2.2 2.2 2.2 2.2 2.2\n",
      " 2.2 2.2 2.2 2.2 2.2 2.2 2.2 2.2 2.2 2.2 2.2 2.2 2.2 2.2 2.2 2.2 2.2 2.2\n",
      " 2.2 2.2 2.2 2.2 2.2 2.2 2.2 2.2 2.2 2.2 2.2 2.2 2.2 2.2 2.2 2.2 2.2 2.2\n",
      " 2.2 2.2 2.2 2.2 2.2 2.2 2.2 2.2 2.2 2.2 2.2 2.2 2.2 2.2 2.2 2.2 2.2 2.2\n",
      " 2.2 2.2 2.2 2.2 2.2 2.2 2.2 2.2 2.2 2.2 2.2 2.2 2.2 2.2 2.2 2.2 2.2 2.2\n",
      " 2.2 2.2 2.2 2.2 2.2 2.2 2.2 2.2 2.2 2.2 2.2 2.2 2.2 2.2 2.2 2.2 2.2 2.2\n",
      " 2.2 2.2 2.2 2.2 2.2 2.2 2.2 2.2 2.2 2.2 2.2 2.2 2.2 2.2 2.2 2.2 2.2 2.2\n",
      " 2.2 2.2 2.2 2.2]\n",
      "6\n"
     ]
    },
    {
     "name": "stderr",
     "output_type": "stream",
     "text": [
      "<ipython-input-35-233d353b3764>:386: FutureWarning: elementwise comparison failed; returning scalar instead, but in the future will perform elementwise comparison\n",
      "  if color_eta == 'grey':\n",
      "<ipython-input-35-233d353b3764>:558: MatplotlibDeprecationWarning: Adding an axes using the same arguments as a previous axes currently reuses the earlier instance.  In a future version, a new instance will always be created and returned.  Meanwhile, this warning can be suppressed, and the future behavior ensured, by passing a unique label to each axes instance.\n",
      "  cbaxes = ax.figure.add_axes(ratios)\n",
      "<ipython-input-35-233d353b3764>:261: MatplotlibDeprecationWarning: Adding an axes using the same arguments as a previous axes currently reuses the earlier instance.  In a future version, a new instance will always be created and returned.  Meanwhile, this warning can be suppressed, and the future behavior ensured, by passing a unique label to each axes instance.\n",
      "  ax = f1.add_subplot(gs1[4, 1])\n",
      "<ipython-input-35-233d353b3764>:262: MatplotlibDeprecationWarning: Adding an axes using the same arguments as a previous axes currently reuses the earlier instance.  In a future version, a new instance will always be created and returned.  Meanwhile, this warning can be suppressed, and the future behavior ensured, by passing a unique label to each axes instance.\n",
      "  ax_gyre = f2.add_subplot(gs2[4, 1])\n",
      "<ipython-input-35-233d353b3764>:263: MatplotlibDeprecationWarning: Adding an axes using the same arguments as a previous axes currently reuses the earlier instance.  In a future version, a new instance will always be created and returned.  Meanwhile, this warning can be suppressed, and the future behavior ensured, by passing a unique label to each axes instance.\n",
      "  ax_other = f3.add_subplot(gs3[4, 1])\n",
      "<ipython-input-35-233d353b3764>:386: FutureWarning: elementwise comparison failed; returning scalar instead, but in the future will perform elementwise comparison\n",
      "  if color_eta == 'grey':\n",
      "<ipython-input-35-233d353b3764>:558: MatplotlibDeprecationWarning: Adding an axes using the same arguments as a previous axes currently reuses the earlier instance.  In a future version, a new instance will always be created and returned.  Meanwhile, this warning can be suppressed, and the future behavior ensured, by passing a unique label to each axes instance.\n",
      "  cbaxes = ax.figure.add_axes(ratios)\n",
      "<ipython-input-35-233d353b3764>:229: MatplotlibDeprecationWarning: Adding an axes using the same arguments as a previous axes currently reuses the earlier instance.  In a future version, a new instance will always be created and returned.  Meanwhile, this warning can be suppressed, and the future behavior ensured, by passing a unique label to each axes instance.\n",
      "  ax = f1.add_subplot(gs1[4, 0])\n",
      "<ipython-input-35-233d353b3764>:230: MatplotlibDeprecationWarning: Adding an axes using the same arguments as a previous axes currently reuses the earlier instance.  In a future version, a new instance will always be created and returned.  Meanwhile, this warning can be suppressed, and the future behavior ensured, by passing a unique label to each axes instance.\n",
      "  ax_gyre = f2.add_subplot(gs2[4, 0])\n",
      "<ipython-input-35-233d353b3764>:231: MatplotlibDeprecationWarning: Adding an axes using the same arguments as a previous axes currently reuses the earlier instance.  In a future version, a new instance will always be created and returned.  Meanwhile, this warning can be suppressed, and the future behavior ensured, by passing a unique label to each axes instance.\n",
      "  ax_other = f3.add_subplot(gs3[4, 0])\n"
     ]
    },
    {
     "name": "stdout",
     "output_type": "stream",
     "text": [
      "done \n",
      "9\n",
      "False\n",
      "done \n",
      "6\n",
      "False\n",
      "done \n",
      "6\n",
      "False\n",
      "[2.2 2.2 2.2 2.2 2.2 2.2 2.2 2.2 2.2 2.2 2.2 2.2 2.2 2.2 2.2 2.2 2.2 2.2\n",
      " 2.2 2.2 2.2 2.2 2.2 2.2 2.2 2.2 2.2 2.2 2.2 2.2 2.2 2.2 2.2 2.2 2.2 2.2\n",
      " 2.2 2.2 2.2 2.2 2.2 2.2 2.2 2.2 2.2 2.2 2.2 2.2 2.2 2.2 2.2 2.2 2.2 2.2\n",
      " 2.2 2.2 2.2 2.2 2.2 2.2 2.2 2.2 2.2 2.2 2.2 2.2 2.2 2.2 2.2 2.2 2.2 2.2\n",
      " 2.2 2.2 2.2 2.2 2.2 2.2 2.2 2.2 2.2 2.2 2.2 2.2 2.2 2.2 2.2 2.2 2.2 2.2\n",
      " 2.2 2.2 2.2 2.2 2.2 2.2 2.2 2.2 2.2 2.2 2.2 2.2 2.2 2.2 2.2 2.2 2.2 2.2\n",
      " 2.2 2.2 2.2 2.2 2.2 2.2 2.2 2.2 2.2 2.2 2.2 2.2 2.2 2.2 2.2 2.2 2.2 2.2\n",
      " 2.2 2.2 2.2 2.2 2.2 2.2 2.2 2.2 2.2 2.2 2.2 2.2 2.2 2.2 2.2 2.2 2.2 2.2\n",
      " 2.2 2.2 2.2 2.2 2.2 2.2 2.2 2.2 2.2 2.2 2.2 2.2 2.2 2.2 2.2 2.2 2.2 2.2\n",
      " 2.2 2.2 2.2 2.2 2.2 2.2 2.2 2.2 2.2 2.2 2.2 2.2 2.2 2.2 2.2 2.2 2.2 2.2\n",
      " 2.2 2.2 2.2 2.2 2.2 2.2 2.2 2.2 2.2 2.2 2.2 2.2 2.2 2.2 2.2 2.2 2.2 2.2\n",
      " 2.2 2.2 2.2 2.2 2.2 2.2 2.2 2.2 2.2 2.2 2.2 2.2 2.2 2.2 2.2 2.2 2.2 2.2\n",
      " 2.2 2.2 2.2 2.2 2.2 2.2 2.2 2.2 2.2 2.2 2.2 2.2 2.2 2.2 2.2 2.2 2.2 2.2\n",
      " 2.2 2.2 2.2 2.2 2.2 2.2 2.2 2.2 2.2 2.2 2.2 2.2 2.2 2.2 2.2 2.2 2.2 2.2\n",
      " 2.2 2.2 2.2 2.2 2.2 2.2 2.2 2.2 2.2 2.2 2.2 2.2 2.2 2.2 2.2 2.2 2.2 2.2\n",
      " 2.2 2.2 2.2 2.2 2.2 2.2 2.2 2.2 2.2 2.2 2.2 2.2 2.2 2.2 2.2 2.2 2.2 2.2\n",
      " 2.2 2.2 2.2 2.2 2.2 2.2 2.2 2.2 2.2 2.2 2.2 2.2 2.2 2.2 2.2 2.2 2.2 2.2\n",
      " 2.2 2.2 2.2 2.2 2.2 2.2 2.2 2.2 2.2 2.2 2.2 2.2 2.2 2.2 2.2 2.2 2.2 2.2\n",
      " 2.2 2.2 2.2 2.2 2.2 2.2 2.2 2.2 2.2 2.2 2.2 2.2 2.2 2.2 2.2 2.2 2.2 2.2\n",
      " 2.2 2.2 2.2 2.2 2.2 2.2 2.2 2.2 2.2 2.2 2.2 2.2 2.2 2.2 2.2 2.2 2.2 2.2\n",
      " 2.2 2.2 2.2 2.2 2.2 2.2 2.2 2.2 2.2 2.2 2.2 2.2 2.2 2.2 2.2 2.2 2.2 2.2\n",
      " 2.2 2.2 2.2 2.2 2.2 2.2 2.2 2.2 2.2 2.2 2.2 2.2 2.2 2.2 2.2 2.2 2.2 2.2\n",
      " 2.2 2.2 2.2 2.2 2.2 2.2 2.2 2.2 2.2 2.2 2.2 2.2 2.2 2.2 2.2 2.2 2.2 2.2\n",
      " 2.2 2.2 2.2 2.2 2.2 2.2 2.2 2.2 2.2 2.2 2.2 2.2 2.2 2.2 2.2]\n",
      "6\n"
     ]
    },
    {
     "name": "stderr",
     "output_type": "stream",
     "text": [
      "<ipython-input-35-233d353b3764>:386: FutureWarning: elementwise comparison failed; returning scalar instead, but in the future will perform elementwise comparison\n",
      "  if color_eta == 'grey':\n",
      "<ipython-input-35-233d353b3764>:386: FutureWarning: elementwise comparison failed; returning scalar instead, but in the future will perform elementwise comparison\n",
      "  if color_eta == 'grey':\n",
      "<ipython-input-35-233d353b3764>:558: MatplotlibDeprecationWarning: Adding an axes using the same arguments as a previous axes currently reuses the earlier instance.  In a future version, a new instance will always be created and returned.  Meanwhile, this warning can be suppressed, and the future behavior ensured, by passing a unique label to each axes instance.\n",
      "  cbaxes = ax.figure.add_axes(ratios)\n",
      "<ipython-input-35-233d353b3764>:261: MatplotlibDeprecationWarning: Adding an axes using the same arguments as a previous axes currently reuses the earlier instance.  In a future version, a new instance will always be created and returned.  Meanwhile, this warning can be suppressed, and the future behavior ensured, by passing a unique label to each axes instance.\n",
      "  ax = f1.add_subplot(gs1[4, 1])\n",
      "<ipython-input-35-233d353b3764>:262: MatplotlibDeprecationWarning: Adding an axes using the same arguments as a previous axes currently reuses the earlier instance.  In a future version, a new instance will always be created and returned.  Meanwhile, this warning can be suppressed, and the future behavior ensured, by passing a unique label to each axes instance.\n",
      "  ax_gyre = f2.add_subplot(gs2[4, 1])\n",
      "<ipython-input-35-233d353b3764>:263: MatplotlibDeprecationWarning: Adding an axes using the same arguments as a previous axes currently reuses the earlier instance.  In a future version, a new instance will always be created and returned.  Meanwhile, this warning can be suppressed, and the future behavior ensured, by passing a unique label to each axes instance.\n",
      "  ax_other = f3.add_subplot(gs3[4, 1])\n",
      "<ipython-input-35-233d353b3764>:386: FutureWarning: elementwise comparison failed; returning scalar instead, but in the future will perform elementwise comparison\n",
      "  if color_eta == 'grey':\n",
      "<ipython-input-35-233d353b3764>:558: MatplotlibDeprecationWarning: Adding an axes using the same arguments as a previous axes currently reuses the earlier instance.  In a future version, a new instance will always be created and returned.  Meanwhile, this warning can be suppressed, and the future behavior ensured, by passing a unique label to each axes instance.\n",
      "  cbaxes = ax.figure.add_axes(ratios)\n",
      "<ipython-input-35-233d353b3764>:229: MatplotlibDeprecationWarning: Adding an axes using the same arguments as a previous axes currently reuses the earlier instance.  In a future version, a new instance will always be created and returned.  Meanwhile, this warning can be suppressed, and the future behavior ensured, by passing a unique label to each axes instance.\n",
      "  ax = f1.add_subplot(gs1[4, 0])\n",
      "<ipython-input-35-233d353b3764>:230: MatplotlibDeprecationWarning: Adding an axes using the same arguments as a previous axes currently reuses the earlier instance.  In a future version, a new instance will always be created and returned.  Meanwhile, this warning can be suppressed, and the future behavior ensured, by passing a unique label to each axes instance.\n",
      "  ax_gyre = f2.add_subplot(gs2[4, 0])\n",
      "<ipython-input-35-233d353b3764>:231: MatplotlibDeprecationWarning: Adding an axes using the same arguments as a previous axes currently reuses the earlier instance.  In a future version, a new instance will always be created and returned.  Meanwhile, this warning can be suppressed, and the future behavior ensured, by passing a unique label to each axes instance.\n",
      "  ax_other = f3.add_subplot(gs3[4, 0])\n",
      "<ipython-input-35-233d353b3764>:386: FutureWarning: elementwise comparison failed; returning scalar instead, but in the future will perform elementwise comparison\n",
      "  if color_eta == 'grey':\n",
      "<ipython-input-35-233d353b3764>:558: MatplotlibDeprecationWarning: Adding an axes using the same arguments as a previous axes currently reuses the earlier instance.  In a future version, a new instance will always be created and returned.  Meanwhile, this warning can be suppressed, and the future behavior ensured, by passing a unique label to each axes instance.\n",
      "  cbaxes = ax.figure.add_axes(ratios)\n",
      "<ipython-input-35-233d353b3764>:261: MatplotlibDeprecationWarning: Adding an axes using the same arguments as a previous axes currently reuses the earlier instance.  In a future version, a new instance will always be created and returned.  Meanwhile, this warning can be suppressed, and the future behavior ensured, by passing a unique label to each axes instance.\n",
      "  ax = f1.add_subplot(gs1[4, 1])\n",
      "<ipython-input-35-233d353b3764>:262: MatplotlibDeprecationWarning: Adding an axes using the same arguments as a previous axes currently reuses the earlier instance.  In a future version, a new instance will always be created and returned.  Meanwhile, this warning can be suppressed, and the future behavior ensured, by passing a unique label to each axes instance.\n",
      "  ax_gyre = f2.add_subplot(gs2[4, 1])\n",
      "<ipython-input-35-233d353b3764>:263: MatplotlibDeprecationWarning: Adding an axes using the same arguments as a previous axes currently reuses the earlier instance.  In a future version, a new instance will always be created and returned.  Meanwhile, this warning can be suppressed, and the future behavior ensured, by passing a unique label to each axes instance.\n",
      "  ax_other = f3.add_subplot(gs3[4, 1])\n"
     ]
    },
    {
     "name": "stdout",
     "output_type": "stream",
     "text": [
      "done \n",
      "9\n",
      "False\n",
      "done \n",
      "6\n",
      "False\n",
      "[2.2 2.2 2.2 2.2 2.2 2.2 2.2 2.2 2.2 2.2 2.2 2.2 2.2 2.2 2.2 2.2 2.2 2.2\n",
      " 2.2 2.2 2.2 2.2 2.2 2.2 2.2 2.2 2.2 2.2 2.2 2.2 2.2 2.2 2.2 2.2 2.2 2.2\n",
      " 2.2 2.2 2.2 2.2 2.2 2.2 2.2 2.2 2.2 2.2 2.2 2.2 2.2 2.2 2.2 2.2 2.2 2.2\n",
      " 2.2 2.2 2.2 2.2 2.2 2.2 2.2 2.2 2.2 2.2 2.2 2.2 2.2 2.2 2.2 2.2 2.2 2.2\n",
      " 2.2 2.2 2.2 2.2 2.2 2.2 2.2 2.2 2.2 2.2 2.2 2.2 2.2 2.2 2.2 2.2 2.2 2.2\n",
      " 2.2 2.2 2.2 2.2 2.2 2.2 2.2 2.2 2.2 2.2 2.2 2.2 2.2 2.2 2.2 2.2 2.2 2.2\n",
      " 2.2 2.2 2.2 2.2 2.2 2.2 2.2 2.2 2.2 2.2 2.2 2.2 2.2 2.2 2.2 2.2 2.2 2.2\n",
      " 2.2 2.2 2.2 2.2 2.2 2.2 2.2 2.2 2.2 2.2 2.2 2.2 2.2 2.2 2.2 2.2 2.2 2.2\n",
      " 2.2 2.2 2.2 2.2 2.2 2.2 2.2 2.2 2.2 2.2 2.2 2.2 2.2 2.2 2.2 2.2 2.2 2.2\n",
      " 2.2 2.2 2.2 2.2 2.2 2.2 2.2 2.2 2.2 2.2 2.2 2.2 2.2 2.2 2.2 2.2 2.2 2.2\n",
      " 2.2 2.2 2.2 2.2 2.2 2.2 2.2 2.2 2.2 2.2 2.2 2.2 2.2 2.2 2.2 2.2 2.2 2.2\n",
      " 2.2 2.2 2.2 2.2 2.2 2.2 2.2 2.2 2.2 2.2 2.2 2.2 2.2 2.2 2.2 2.2 2.2 2.2\n",
      " 2.2 2.2 2.2 2.2 2.2 2.2 2.2 2.2 2.2 2.2 2.2 2.2 2.2 2.2 2.2 2.2 2.2 2.2\n",
      " 2.2 2.2 2.2 2.2 2.2 2.2 2.2 2.2 2.2 2.2 2.2 2.2 2.2 2.2 2.2 2.2 2.2 2.2\n",
      " 2.2 2.2 2.2 2.2 2.2 2.2 2.2 2.2 2.2 2.2 2.2 2.2 2.2 2.2 2.2 2.2 2.2 2.2\n",
      " 2.2 2.2 2.2 2.2 2.2 2.2 2.2 2.2 2.2 2.2 2.2 2.2 2.2 2.2 2.2 2.2 2.2 2.2\n",
      " 2.2 2.2 2.2 2.2 2.2 2.2 2.2 2.2 2.2 2.2 2.2 2.2 2.2 2.2 2.2 2.2 2.2 2.2\n",
      " 2.2 2.2 2.2 2.2 2.2 2.2 2.2 2.2 2.2 2.2 2.2 2.2 2.2 2.2 2.2 2.2 2.2 2.2\n",
      " 2.2 2.2 2.2 2.2 2.2 2.2 2.2 2.2 2.2 2.2 2.2 2.2 2.2 2.2 2.2 2.2 2.2 2.2\n",
      " 2.2 2.2 2.2 2.2 2.2 2.2 2.2 2.2 2.2 2.2 2.2 2.2 2.2 2.2 2.2 2.2 2.2 2.2\n",
      " 2.2 2.2 2.2 2.2 2.2 2.2 2.2 2.2 2.2 2.2 2.2 2.2 2.2 2.2 2.2 2.2 2.2 2.2\n",
      " 2.2 2.2 2.2 2.2 2.2 2.2 2.2 2.2 2.2 2.2 2.2 2.2 2.2 2.2 2.2 2.2 2.2 2.2\n",
      " 2.2 2.2 2.2 2.2 2.2 2.2 2.2 2.2 2.2 2.2 2.2 2.2 2.2 2.2 2.2 2.2 2.2 2.2\n",
      " 2.2 2.2 2.2 2.2 2.2 2.2 2.2 2.2 2.2 2.2 2.2 2.2 2.2 2.2 2.2 2.2 2.2 2.2\n",
      " 2.2 2.2 2.2 2.2 2.2 2.2 2.2 2.2 2.2 2.2 2.2 2.2 2.2 2.2 2.2 2.2 2.2 2.2\n",
      " 2.2 2.2 2.2 2.2 2.2 2.2 2.2 2.2 2.2 2.2 2.2 2.2 2.2 2.2 2.2 2.2 2.2 2.2\n",
      " 2.2 2.2 2.2 2.2 2.2 2.2 2.2 2.2 2.2 2.2 2.2 2.2 2.2 2.2 2.2 2.2 2.2 2.2\n",
      " 2.2 2.2 2.2 2.2 2.2 2.2 2.2 2.2 2.2 2.2 2.2 2.2 2.2 2.2 2.2 2.2 2.2 2.2\n",
      " 2.2 2.2 2.2 2.2 2.2 2.2 2.2 2.2 2.2 2.2 2.2 2.2 2.2 2.2 2.2 2.2 2.2 2.2\n",
      " 2.2 2.2 2.2 2.2 2.2 2.2 2.2]\n",
      "6\n"
     ]
    },
    {
     "name": "stderr",
     "output_type": "stream",
     "text": [
      "<ipython-input-35-233d353b3764>:386: FutureWarning: elementwise comparison failed; returning scalar instead, but in the future will perform elementwise comparison\n",
      "  if color_eta == 'grey':\n",
      "<ipython-input-35-233d353b3764>:558: MatplotlibDeprecationWarning: Adding an axes using the same arguments as a previous axes currently reuses the earlier instance.  In a future version, a new instance will always be created and returned.  Meanwhile, this warning can be suppressed, and the future behavior ensured, by passing a unique label to each axes instance.\n",
      "  cbaxes = ax.figure.add_axes(ratios)\n"
     ]
    },
    {
     "name": "stdout",
     "output_type": "stream",
     "text": [
      "done \n",
      "9\n",
      "False\n",
      "[(1.0, -1.0, -2.2505404415595835), (1.0, -1.0, -1.3265207789878948), (1.0, -1.0, -0.402501116416206), (1.0, -1.0, 0.5215185461554824), (1.0, -1.0, 1.4455382087271713), (1.0, -1.0, 2.3695578712988596), (1.0, -1.0, 3.2935775338705477), (1.0, -1.0, 4.217597196442237), (1.0, -1.0, 5.141616859013926), (1.0, -1.0, 6.065636521585613), (1.0, -1.0, 6.989656184157304), (1.0, -1.0, 7.913675846728991), (1.0, -1.0, 8.837695509300678), (1.0, -1.0, 9.76171517187237), (1.0, -1.0, 10.685734834444059), (1.0, -1.0, 11.609754497015746), (1.0, -1.0, 12.533774159587436), (1.0, -1.0, 13.457793822159124), (1.0, -1.0, 14.381813484730813), (1.0, -1.0, 15.3058331473025), (1.0, -0.4, -3.552570980888566), (1.0, -0.4, -2.5185959587638687), (1.0, -0.4, -1.4846209366391698), (1.0, -0.4, -0.45064591451447134), (1.0, -0.4, 0.5833291076102266), (1.0, -0.4, 1.6173041297349244), (1.0, -0.4, 2.6512791518596233), (1.0, -0.4, 3.685254173984321), (1.0, -0.4, 4.719229196109019), (1.0, -0.4, 5.7532042182337175), (1.0, -0.4, 6.787179240358415), (1.0, -0.4, 7.8211542624831125), (1.0, -0.4, 8.855129284607813), (1.0, -0.4, 9.88910430673251), (1.0, -0.4, 10.923079328857208), (1.0, -0.4, 11.957054350981906), (1.0, -0.4, 12.991029373106604), (1.0, -0.4, 14.025004395231301), (1.0, -0.4, 15.058979417356), (1.0, -0.4, 16.092954439480696), (1.0, -0.2, -3.9241659004073903), (1.0, -0.2, -2.857201059907448), (1.0, -0.2, -1.7902362194075063), (1.0, -0.2, -0.7232713789075645), (1.0, -0.2, 0.34369346159237735), (1.0, -0.2, 1.410658302092319), (1.0, -0.2, 2.477623142592261), (1.0, -0.2, 3.544587983092203), (1.0, -0.2, 4.611552823592145), (1.0, -0.2, 5.678517664092086), (1.0, -0.2, 6.745482504592028), (1.0, -0.2, 7.81244734509197), (1.0, -0.2, 8.879412185591912), (1.0, -0.2, 9.946377026091854), (1.0, -0.2, 11.013341866591796), (1.0, -0.2, 12.080306707091738), (1.0, -0.2, 13.14727154759168), (1.0, -0.2, 14.214236388091622), (1.0, -0.2, 15.281201228591561), (1.0, -0.2, 16.34816606909151), (1.0, 0.0, -3.8897396690914703), (1.0, 0.0, -2.8122030733517698), (1.0, 0.0, -1.7346664776120684), (1.0, 0.0, -0.6571298818723672), (1.0, 0.0, 0.4204067138673341), (1.0, 0.0, 1.497943309607035), (1.0, 0.0, 2.5754799053467363), (1.0, 0.0, 3.6530165010864377), (1.0, 0.0, 4.730553096826139), (1.0, 0.0, 5.80808969256584), (1.0, 0.0, 6.885626288305541), (1.0, 0.0, 7.963162884045241), (1.0, 0.0, 9.040699479784942), (1.0, 0.0, 10.118236075524646), (1.0, 0.0, 11.195772671264345), (1.0, 0.0, 12.273309267004047), (1.0, 0.0, 13.350845862743748), (1.0, 0.0, 14.42838245848345), (1.0, 0.0, 15.505919054223153), (1.0, 0.0, 16.58345564996285), (1.0, 0.2, -3.8004895934280873), (1.0, 0.2, -2.713056207386833), (1.0, 0.2, -1.6256228213455786), (1.0, 0.2, -0.5381894353043242), (1.0, 0.2, 0.54924395073693), (1.0, 0.2, 1.6366773367781846), (1.0, 0.2, 2.724110722819439), (1.0, 0.2, 3.8115441088606925), (1.0, 0.2, 4.898977494901947), (1.0, 0.2, 5.9864108809432), (1.0, 0.2, 7.073844266984456), (1.0, 0.2, 8.16127765302571), (1.0, 0.2, 9.248711039066965), (1.0, 0.2, 10.336144425108216), (1.0, 0.2, 11.423577811149473), (1.0, 0.2, 12.511011197190726), (1.0, 0.2, 13.59844458323198), (1.0, 0.2, 14.685877969273234), (1.0, 0.2, 15.773311355314489), (1.0, 0.2, 16.86074474135575), (1.0, 0.4, -3.7903350704429037), (1.0, 0.4, -2.6897476524158206), (1.0, 0.4, -1.589160234388737), (1.0, 0.4, -0.4885728163616536), (1.0, 0.4, 0.6120146016654302), (1.0, 0.4, 1.7126020196925138), (1.0, 0.4, 2.8131894377195965), (1.0, 0.4, 3.91377685574668), (1.0, 0.4, 5.014364273773763), (1.0, 0.4, 6.114951691800846), (1.0, 0.4, 7.2155391098279305), (1.0, 0.4, 8.316126527855014), (1.0, 0.4, 9.416713945882096), (1.0, 0.4, 10.517301363909182), (1.0, 0.4, 11.617888781936262), (1.0, 0.4, 12.718476199963348), (1.0, 0.4, 13.819063617990432), (1.0, 0.4, 14.919651036017516), (1.0, 0.4, 16.0202384540446), (1.0, 0.4, 17.120825872071684), (1.2, -1.0, -1.5802895185428372), (1.2, -1.0, -0.7632503864569736), (1.2, -1.0, 0.053788745628890106), (1.2, -1.0, 0.8708278777147539), (1.2, -1.0, 1.6878670098006172), (1.2, -1.0, 2.504906141886481), (1.2, -1.0, 3.321945273972345), (1.2, -1.0, 4.138984406058208), (1.2, -1.0, 4.9560235381440725), (1.2, -1.0, 5.773062670229935), (1.2, -1.0, 6.590101802315799), (1.2, -1.0, 7.407140934401662), (1.2, -1.0, 8.224180066487527), (1.2, -1.0, 9.04121919857339), (1.2, -1.0, 9.858258330659254), (1.2, -1.0, 10.67529746274512), (1.2, -1.0, 11.49233659483098), (1.2, -1.0, 12.309375726916844), (1.2, -1.0, 13.126414859002708), (1.2, -1.0, 13.943453991088571), (1.2, -0.4, -2.890864142054866), (1.2, -0.4, -1.9208762803453552), (1.2, -0.4, -0.9508884186358437), (1.2, -0.4, 0.019099443073667642), (1.2, -0.4, 0.9890873047831792), (1.2, -0.4, 1.95907516649269), (1.2, -0.4, 2.9290630282022017), (1.2, -0.4, 3.8990508899117136), (1.2, -0.4, 4.869038751621225), (1.2, -0.4, 5.839026613330736), (1.2, -0.4, 6.809014475040247), (1.2, -0.4, 7.77900233674976), (1.2, -0.4, 8.74899019845927), (1.2, -0.4, 9.71897806016878), (1.2, -0.4, 10.688965921878294), (1.2, -0.4, 11.658953783587805), (1.2, -0.4, 12.628941645297317), (1.2, -0.4, 13.598929507006826), (1.2, -0.4, 14.568917368716338), (1.2, -0.4, 15.538905230425849), (1.2, -0.2, -3.49969240510481), (1.2, -0.2, -2.489698155323433), (1.2, -0.2, -1.4797039055420567), (1.2, -0.2, -0.46970965576068024), (1.2, -0.2, 0.5402845940206966), (1.2, -0.2, 1.550278843802073), (1.2, -0.2, 2.56027309358345), (1.2, -0.2, 3.5702673433648267), (1.2, -0.2, 4.580261593146203), (1.2, -0.2, 5.590255842927579), (1.2, -0.2, 6.600250092708956), (1.2, -0.2, 7.610244342490334), (1.2, -0.2, 8.62023859227171), (1.2, -0.2, 9.630232842053088), (1.2, -0.2, 10.640227091834463), (1.2, -0.2, 11.65022134161584), (1.2, -0.2, 12.660215591397217), (1.2, -0.2, 13.670209841178592), (1.2, -0.2, 14.68020409095997), (1.2, -0.2, 15.690198340741347), (1.2, 0.0, -3.4779732849362914), (1.2, 0.0, -2.45528179025029), (1.2, 0.0, -1.432590295564288), (1.2, 0.0, -0.4098988008782861), (1.2, 0.0, 0.6127926938077155), (1.2, 0.0, 1.6354841884937172), (1.2, 0.0, 2.6581756831797194), (1.2, 0.0, 3.68086717786572), (1.2, 0.0, 4.703558672551722), (1.2, 0.0, 5.726250167237724), (1.2, 0.0, 6.748941661923726), (1.2, 0.0, 7.771633156609728), (1.2, 0.0, 8.794324651295732), (1.2, 0.0, 9.817016145981732), (1.2, 0.0, 10.839707640667733), (1.2, 0.0, 11.862399135353735), (1.2, 0.0, 12.885090630039736), (1.2, 0.0, 13.90778212472574), (1.2, 0.0, 14.93047361941174), (1.2, 0.0, 15.953165114097741), (1.2, 0.2, -3.4561138669446203), (1.2, 0.2, -2.4192960972089685), (1.2, 0.2, -1.382478327473317), (1.2, 0.2, -0.34566055773766513), (1.2, 0.2, 0.6911572119979862), (1.2, 0.2, 1.7279749817336376), (1.2, 0.2, 2.7647927514692903), (1.2, 0.2, 3.8016105212049416), (1.2, 0.2, 4.838428290940594), (1.2, 0.2, 5.875246060676246), (1.2, 0.2, 6.912063830411896), (1.2, 0.2, 7.948881600147549), (1.2, 0.2, 8.985699369883202), (1.2, 0.2, 10.02251713961885), (1.2, 0.2, 11.059334909354504), (1.2, 0.2, 12.096152679090153), (1.2, 0.2, 13.132970448825807), (1.2, 0.2, 14.16978821856146), (1.2, 0.2, 15.206605988297111), (1.2, 0.2, 16.243423758032762), (1.2, 0.4, -3.3931939392034436), (1.2, 0.4, -2.345774398213236), (1.2, 0.4, -1.2983548572230286), (1.2, 0.4, -0.2509353162328213), (1.2, 0.4, 0.7964842247573863), (1.2, 0.4, 1.843903765747594), (1.2, 0.4, 2.891323306737801), (1.2, 0.4, 3.938742847728009), (1.2, 0.4, 4.986162388718217), (1.2, 0.4, 6.033581929708423), (1.2, 0.4, 7.081001470698631), (1.2, 0.4, 8.128421011688838), (1.2, 0.4, 9.175840552679047), (1.2, 0.4, 10.223260093669253), (1.2, 0.4, 11.270679634659462), (1.2, 0.4, 12.31809917564967), (1.2, 0.4, 13.365518716639876), (1.2, 0.4, 14.412938257630085), (1.2, 0.4, 15.46035779862029), (1.2, 0.4, 16.507777339610495), (1.4, -1.0, -0.96916224700801), (1.4, -1.0, -0.2764627809838239), (1.4, -1.0, 0.41623668504036226), (1.4, -1.0, 1.1089361510645481), (1.4, -1.0, 1.8016356170887342), (1.4, -1.0, 2.4943350831129205), (1.4, -1.0, 3.187034549137106), (1.4, -1.0, 3.879734015161293), (1.4, -1.0, 4.572433481185478), (1.4, -1.0, 5.265132947209665), (1.4, -1.0, 5.957832413233851), (1.4, -1.0, 6.650531879258036), (1.4, -1.0, 7.343231345282223), (1.4, -1.0, 8.03593081130641), (1.4, -1.0, 8.728630277330597), (1.4, -1.0, 9.42132974335478), (1.4, -1.0, 10.114029209378968), (1.4, -1.0, 10.806728675403155), (1.4, -1.0, 11.49942814142734), (1.4, -1.0, 12.192127607451527), (1.4, -0.4, -2.3398422455890877), (1.4, -0.4, -1.4684813312555538), (1.4, -0.4, -0.5971204169220201), (1.4, -0.4, 0.2742404974115135), (1.4, -0.4, 1.145601411745047), (1.4, -0.4, 2.016962326078581), (1.4, -0.4, 2.8883232404121144), (1.4, -0.4, 3.759684154745648), (1.4, -0.4, 4.631045069079182), (1.4, -0.4, 5.502405983412716), (1.4, -0.4, 6.37376689774625), (1.4, -0.4, 7.245127812079783), (1.4, -0.4, 8.116488726413317), (1.4, -0.4, 8.98784964074685), (1.4, -0.4, 9.859210555080383), (1.4, -0.4, 10.730571469413919), (1.4, -0.4, 11.601932383747451), (1.4, -0.4, 12.473293298080984), (1.4, -0.4, 13.34465421241452), (1.4, -0.4, 14.21601512674805), (1.4, -0.2, -2.9041281613373804), (1.4, -0.2, -1.9572210138956083), (1.4, -0.2, -1.010313866453836), (1.4, -0.2, -0.06340671901206421), (1.4, -0.2, 0.8835004284297083), (1.4, -0.2, 1.8304075758714806), (1.4, -0.2, 2.777314723313252), (1.4, -0.2, 3.7242218707550245), (1.4, -0.2, 4.671129018196797), (1.4, -0.2, 5.6180361656385704), (1.4, -0.2, 6.564943313080341), (1.4, -0.2, 7.511850460522113), (1.4, -0.2, 8.458757607963884), (1.4, -0.2, 9.405664755405658), (1.4, -0.2, 10.35257190284743), (1.4, -0.2, 11.299479050289202), (1.4, -0.2, 12.246386197730974), (1.4, -0.2, 13.193293345172746), (1.4, -0.2, 14.140200492614518), (1.4, -0.2, 15.08710764005629), (1.4, 0.0, -3.1436937476715667), (1.4, 0.0, -2.172230792007124), (1.4, 0.0, -1.2007678363426812), (1.4, 0.0, -0.22930488067823837), (1.4, 0.0, 0.7421580749862039), (1.4, 0.0, 1.7136210306506463), (1.4, 0.0, 2.6850839863150897), (1.4, 0.0, 3.6565469419795322), (1.4, 0.0, 4.628009897643974), (1.4, 0.0, 5.599472853308417), (1.4, 0.0, 6.570935808972859), (1.4, 0.0, 7.542398764637302), (1.4, 0.0, 8.513861720301746), (1.4, 0.0, 9.485324675966186), (1.4, 0.0, 10.45678763163063), (1.4, 0.0, 11.428250587295073), (1.4, 0.0, 12.399713542959516), (1.4, 0.0, 13.371176498623958), (1.4, 0.0, 14.342639454288399), (1.4, 0.0, 15.314102409952847), (1.4, 0.2, -3.113504904638755), (1.4, 0.2, -2.126036800294656), (1.4, 0.2, -1.1385686959505572), (1.4, 0.2, -0.1511005916064581), (1.4, 0.2, 0.8363675127376405), (1.4, 0.2, 1.8238356170817391), (1.4, 0.2, 2.8113037214258387), (1.4, 0.2, 3.7987718257699377), (1.4, 0.2, 4.786239930114037), (1.4, 0.2, 5.773708034458134), (1.4, 0.2, 6.761176138802233), (1.4, 0.2, 7.748644243146333), (1.4, 0.2, 8.736112347490433), (1.4, 0.2, 9.723580451834529), (1.4, 0.2, 10.711048556178632), (1.4, 0.2, 11.698516660522728), (1.4, 0.2, 12.685984764866825), (1.4, 0.2, 13.673452869210928), (1.4, 0.2, 14.660920973555026), (1.4, 0.2, 15.648389077899125), (1.4, 0.4, -3.0609796466792196), (1.4, 0.4, -2.06263617330716), (1.4, 0.4, -1.064292699935101), (1.4, 0.4, -0.06594922656304164), (1.4, 0.4, 0.9323942468090178), (1.4, 0.4, 1.9307377201810767), (1.4, 0.4, 2.9290811935531362), (1.4, 0.4, 3.9274246669251958), (1.4, 0.4, 4.925768140297256), (1.4, 0.4, 5.9241116136693135), (1.4, 0.4, 6.922455087041373), (1.4, 0.4, 7.920798560413433), (1.4, 0.4, 8.91914203378549), (1.4, 0.4, 9.917485507157553), (1.4, 0.4, 10.91582898052961), (1.4, 0.4, 11.91417245390167), (1.4, 0.4, 12.912515927273729), (1.4, 0.4, 13.910859400645787), (1.4, 0.4, 14.909202874017847), (1.4, 0.4, 15.907546347389907), (1.8, -1.0, 0.554407326881177), (1.8, -1.0, 1.090951023477117), (1.8, -1.0, 1.627494720073057), (1.8, -1.0, 2.1640384166689968), (1.8, -1.0, 2.7005821132649364), (1.8, -1.0, 3.2371258098608764), (1.8, -1.0, 3.773669506456816), (1.8, -1.0, 4.310213203052757), (1.8, -1.0, 4.846756899648697), (1.8, -1.0, 5.383300596244637), (1.8, -1.0, 5.919844292840576), (1.8, -1.0, 6.456387989436517), (1.8, -1.0, 6.992931686032456), (1.8, -1.0, 7.529475382628396), (1.8, -1.0, 8.066019079224334), (1.8, -1.0, 8.602562775820276), (1.8, -1.0, 9.139106472416215), (1.8, -1.0, 9.675650169012156), (1.8, -1.0, 10.212193865608095), (1.8, -1.0, 10.748737562204036), (1.8, -0.4, -0.9314571321171301), (1.8, -0.4, -0.22670478099270192), (1.8, -0.4, 0.4780475701317263), (1.8, -0.4, 1.1827999212561544), (1.8, -0.4, 1.8875522723805824), (1.8, -0.4, 2.5923046235050102), (1.8, -0.4, 3.2970569746294385), (1.8, -0.4, 4.001809325753866), (1.8, -0.4, 4.706561676878295), (1.8, -0.4, 5.411314028002723), (1.8, -0.4, 6.116066379127151), (1.8, -0.4, 6.820818730251578), (1.8, -0.4, 7.525571081376007), (1.8, -0.4, 8.230323432500436), (1.8, -0.4, 8.935075783624864), (1.8, -0.4, 9.639828134749292), (1.8, -0.4, 10.344580485873719), (1.8, -0.4, 11.049332836998147), (1.8, -0.4, 11.754085188122575), (1.8, -0.4, 12.458837539247005), (1.8, -0.2, -1.614492722664049), (1.8, -0.2, -0.8819469338900512), (1.8, -0.2, -0.14940114511605312), (1.8, -0.2, 0.583144643657945), (1.8, -0.2, 1.3156904324319432), (1.8, -0.2, 2.048236221205941), (1.8, -0.2, 2.7807820099799394), (1.8, -0.2, 3.5133277987539375), (1.8, -0.2, 4.245873587527936), (1.8, -0.2, 4.978419376301934), (1.8, -0.2, 5.710965165075931), (1.8, -0.2, 6.4435109538499304), (1.8, -0.2, 7.176056742623928), (1.8, -0.2, 7.908602531397925), (1.8, -0.2, 8.641148320171924), (1.8, -0.2, 9.373694108945923), (1.8, -0.2, 10.106239897719918), (1.8, -0.2, 10.838785686493916), (1.8, -0.2, 11.571331475267915), (1.8, -0.2, 12.303877264041914), (1.8, 0.0, -2.158790817424478), (1.8, 0.0, -1.3316215115256138), (1.8, 0.0, -0.50445220562675), (1.8, 0.0, 0.3227171002721135), (1.8, 0.0, 1.1498864061709777), (1.8, 0.0, 1.9770557120698418), (1.8, 0.0, 2.804225017968705), (1.8, 0.0, 3.6313943238675694), (1.8, 0.0, 4.458563629766433), (1.8, 0.0, 5.285732935665298), (1.8, 0.0, 6.112902241564162), (1.8, 0.0, 6.940071547463025), (1.8, 0.0, 7.767240853361888), (1.8, 0.0, 8.594410159260754), (1.8, 0.0, 9.421579465159617), (1.8, 0.0, 10.248748771058482), (1.8, 0.0, 11.075918076957345), (1.8, 0.0, 11.903087382856208), (1.8, 0.0, 12.730256688755073), (1.8, 0.0, 13.557425994653936), (1.8, 0.2, -2.5613178937109318), (1.8, 0.2, -1.6709837679504387), (1.8, 0.2, -0.7806496421899448), (1.8, 0.2, 0.10968448357054882), (1.8, 0.2, 1.0000186093310424), (1.8, 0.2, 1.8903527350915357), (1.8, 0.2, 2.7806868608520294), (1.8, 0.2, 3.6710209866125227), (1.8, 0.2, 4.561355112373016), (1.8, 0.2, 5.451689238133509), (1.8, 0.2, 6.342023363894002), (1.8, 0.2, 7.232357489654497), (1.8, 0.2, 8.12269161541499), (1.8, 0.2, 9.013025741175483), (1.8, 0.2, 9.903359866935977), (1.8, 0.2, 10.79369399269647), (1.8, 0.2, 11.684028118456965), (1.8, 0.2, 12.574362244217458), (1.8, 0.2, 13.46469636997795), (1.8, 0.2, 14.355030495738443), (1.8, 0.4, -2.540419317028349), (1.8, 0.4, -1.6365418264955915), (1.8, 0.4, -0.7326643359628344), (1.8, 0.4, 0.1712131545699229), (1.8, 0.4, 1.0750906451026803), (1.8, 0.4, 1.9789681356354376), (1.8, 0.4, 2.8828456261681943), (1.8, 0.4, 3.7867231167009523), (1.8, 0.4, 4.690600607233709), (1.8, 0.4, 5.5944780977664665), (1.8, 0.4, 6.498355588299224), (1.8, 0.4, 7.402233078831981), (1.8, 0.4, 8.306110569364737), (1.8, 0.4, 9.209988059897494), (1.8, 0.4, 10.113865550430255), (1.8, 0.4, 11.01774304096301), (1.8, 0.4, 11.921620531495769), (1.8, 0.4, 12.825498022028524), (1.8, 0.4, 13.729375512561282), (1.8, 0.4, 14.63325300309404), (2.2, -1.0, 7.625067494135235), (2.2, -1.0, 7.780933308312514), (2.2, -1.0, 7.936799122489794), (2.2, -1.0, 8.092664936667072), (2.2, -1.0, 8.24853075084435), (2.2, -1.0, 8.40439656502163), (2.2, -1.0, 8.560262379198909), (2.2, -1.0, 8.716128193376187), (2.2, -1.0, 8.871994007553466), (2.2, -1.0, 9.027859821730745), (2.2, -1.0, 9.183725635908026), (2.2, -1.0, 9.339591450085303), (2.2, -1.0, 9.495457264262583), (2.2, -1.0, 9.651323078439862), (2.2, -1.0, 9.807188892617141), (2.2, -1.0, 9.96305470679442), (2.2, -1.0, 10.118920520971699), (2.2, -1.0, 10.274786335148976), (2.2, -1.0, 10.430652149326257), (2.2, -1.0, 10.586517963503535), (2.2, -0.4, 5.744671086885922), (2.2, -0.4, 5.947415492455258), (2.2, -0.4, 6.150159898024594), (2.2, -0.4, 6.352904303593929), (2.2, -0.4, 6.555648709163266), (2.2, -0.4, 6.7583931147326), (2.2, -0.4, 6.9611375203019366), (2.2, -0.4, 7.163881925871272), (2.2, -0.4, 7.366626331440608), (2.2, -0.4, 7.569370737009944), (2.2, -0.4, 7.772115142579279), (2.2, -0.4, 7.974859548148617), (2.2, -0.4, 8.17760395371795), (2.2, -0.4, 8.380348359287288), (2.2, -0.4, 8.583092764856625), (2.2, -0.4, 8.785837170425959), (2.2, -0.4, 8.988581575995294), (2.2, -0.4, 9.191325981564631), (2.2, -0.4, 9.394070387133965), (2.2, -0.4, 9.596814792703302), (2.2, -0.2, 5.5820954212357865), (2.2, -0.2, 5.91753571752546), (2.2, -0.2, 6.2529760138151325), (2.2, -0.2, 6.588416310104807), (2.2, -0.2, 6.92385660639448), (2.2, -0.2, 7.259296902684153), (2.2, -0.2, 7.594737198973826), (2.2, -0.2, 7.930177495263499), (2.2, -0.2, 8.265617791553174), (2.2, -0.2, 8.601058087842846), (2.2, -0.2, 8.93649838413252), (2.2, -0.2, 9.27193868042219), (2.2, -0.2, 9.607378976711866), (2.2, -0.2, 9.94281927300154), (2.2, -0.2, 10.278259569291212), (2.2, -0.2, 10.613699865580886), (2.2, -0.2, 10.949140161870558), (2.2, -0.2, 11.284580458160232), (2.2, -0.2, 11.620020754449904), (2.2, -0.2, 11.955461050739578), (2.2, 0.0, 2.3959551770508862), (2.2, 0.0, 2.801512077921635), (2.2, 0.0, 3.2070689787923845), (2.2, 0.0, 3.6126258796631334), (2.2, 0.0, 4.0181827805338814), (2.2, 0.0, 4.423739681404632), (2.2, 0.0, 4.829296582275381), (2.2, 0.0, 5.23485348314613), (2.2, 0.0, 5.640410384016878), (2.2, 0.0, 6.045967284887627), (2.2, 0.0, 6.451524185758377), (2.2, 0.0, 6.857081086629126), (2.2, 0.0, 7.262637987499875), (2.2, 0.0, 7.668194888370624), (2.2, 0.0, 8.073751789241372), (2.2, 0.0, 8.479308690112124), (2.2, 0.0, 8.884865590982871), (2.2, 0.0, 9.29042249185362), (2.2, 0.0, 9.695979392724368), (2.2, 0.0, 10.101536293595117), (2.2, 0.2, 0.68669100220728), (2.2, 0.2, 1.346147915135836), (2.2, 0.2, 2.005604828064392), (2.2, 0.2, 2.6650617409929476), (2.2, 0.2, 3.324518653921504), (2.2, 0.2, 3.9839755668500603), (2.2, 0.2, 4.643432479778617), (2.2, 0.2, 5.302889392707173), (2.2, 0.2, 5.962346305635729), (2.2, 0.2, 6.621803218564284), (2.2, 0.2, 7.281260131492841), (2.2, 0.2, 7.9407170444213975), (2.2, 0.2, 8.600173957349952), (2.2, 0.2, 9.259630870278508), (2.2, 0.2, 9.919087783207067), (2.2, 0.2, 10.578544696135621), (2.2, 0.2, 11.238001609064177), (2.2, 0.2, 11.897458521992734), (2.2, 0.2, 12.556915434921288), (2.2, 0.2, 13.216372347849845), (2.2, 0.4, -0.2003606179418655), (2.2, 0.4, 0.3965356387822192), (2.2, 0.4, 0.9934318955063041), (2.2, 0.4, 1.5903281522303887), (2.2, 0.4, 2.1872244089544735), (2.2, 0.4, 2.784120665678558), (2.2, 0.4, 3.381016922402643), (2.2, 0.4, 3.9779131791267277), (2.2, 0.4, 4.5748094358508125), (2.2, 0.4, 5.171705692574896), (2.2, 0.4, 5.768601949298981), (2.2, 0.4, 6.365498206023067), (2.2, 0.4, 6.9623944627471515), (2.2, 0.4, 7.559290719471235), (2.2, 0.4, 8.156186976195322), (2.2, 0.4, 8.753083232919405), (2.2, 0.4, 9.34997948964349), (2.2, 0.4, 9.946875746367576), (2.2, 0.4, 10.543772003091657), (2.2, 0.4, 11.140668259815746)]\n",
      "[1.2066529121790102, 1.2066529121790102, 1.117083956484928, 0.9805943095110005, 0.9882489082207379, 0.9730846501444782, 0.97153164410651, 0.980444783714557, 0.9903729807201272, 1.0108533527730335, 0.9767730899169534, 0.9767730899169534, 0.9767730899169534, 0.9767730899169534, 0.9767730899169534, 0.9767730899169534, 0.9767730899169534, 0.9767730899169534, 0.9767730899169534, 0.9767730899169534, 1.1078679672057263, 1.1078679672057263, 1.10486019011958, 1.0547898406799867, 0.9675411319703449, 0.968077865323531, 0.9641320936635404, 0.9675253396861722, 0.9811412113765317, 0.9949456623621351, 1.0144834712734327, 1.0080680546015695, 1.0080680546015695, 1.0080680546015695, 1.0080680546015695, 1.0080680546015695, 1.0080680546015695, 1.0080680546015695, 1.0080680546015695, 1.0080680546015695, 1.1038035040603866, 1.1038035040603866, 1.1038035040603866, 1.0628934063521254, 0.9660351067217076, 0.9751186431621486, 0.9619668186506193, 0.9636308735886552, 0.976799733282376, 0.9910536757586398, 1.0188409433059007, 1.0163010592770039, 1.0163010592770039, 1.0163010592770039, 1.0163010592770039, 1.0163010592770039, 1.0163010592770039, 1.0163010592770039, 1.0163010592770039, 1.0163010592770039, 1.095960408966395, 1.095960408966395, 1.095960408966395, 1.0572943070771552, 0.9635813319704994, 0.9683280147342678, 0.9597723346675625, 0.9628943767771693, 0.9765580706321794, 0.9914033864194254, 1.0188344066272952, 1.0183045254865175, 1.0183045254865175, 1.0183045254865175, 1.0183045254865175, 1.0183045254865175, 1.0183045254865175, 1.0183045254865175, 1.0183045254865175, 1.0183045254865175, 1.0928374517405102, 1.0928374517405102, 1.0911179009178582, 1.0490275300324876, 0.9677111360612947, 0.9614109361376924, 0.9585928784007149, 0.9628969018788124, 0.9773882473526904, 0.9922718974053287, 1.0189852290659283, 1.0177497988014925, 1.0177497988014925, 1.0177497988014925, 1.0177497988014925, 1.0177497988014925, 1.0177497988014925, 1.0177497988014925, 1.0177497988014925, 1.0177497988014925, 1.098445612584064, 1.098445612584064, 1.093758475565396, 1.0417534547680056, 0.9742812061937776, 0.9594857656895721, 0.9576081437975175, 0.9642177777117159, 0.9777965719794851, 0.993208399739914, 1.0179176299375177, 1.0154294212936774, 1.0154294212936774, 1.0154294212936774, 1.0154294212936774, 1.0154294212936774, 1.0154294212936774, 1.0154294212936774, 1.0154294212936774, 1.0154294212936774, 1.0847822593639243, 1.0847822593639243, 0.9873272968331557, 1.0078408566703538, 0.9774956918201247, 0.9753247490744793, 0.9755437955888235, 0.9827710928878285, 0.9903070127059025, 1.0039903690676377, 0.9798624622677392, 0.9798624622677392, 0.9798624622677392, 0.9798624622677392, 0.9798624622677392, 0.9798624622677392, 0.9798624622677392, 0.9798624622677392, 0.9798624622677392, 0.9798624622677392, 1.104902226314568, 1.104902226314568, 1.0889909986539261, 0.982497427806552, 0.9984645640878624, 0.9719195760656273, 0.9686644562423422, 0.973300878662732, 0.9851405198379886, 0.9991572283351633, 0.9832130324109387, 0.9832130324109387, 0.9832130324109387, 0.9832130324109387, 0.9832130324109387, 0.9832130324109387, 0.9832130324109387, 0.9832130324109387, 0.9832130324109387, 0.9832130324109387, 1.1073696200043854, 1.1073696200043854, 1.1053199434955967, 1.0436575596711168, 0.9909790071824545, 0.9690653217921069, 0.9658397358979345, 0.9676268951938491, 0.9789384105116449, 0.9909141851949842, 1.0151246516133108, 1.0051458058557017, 1.0051458058557017, 1.0051458058557017, 1.0051458058557017, 1.0051458058557017, 1.0051458058557017, 1.0051458058557017, 1.0051458058557017, 1.0051458058557017, 1.098464493543671, 1.098464493543671, 1.0947301854768097, 1.0311840916065849, 0.9967649535962575, 0.9682106880630226, 0.9638615534772464, 0.9666022402992415, 0.9789780060505945, 0.9911899449634182, 1.0193088616429113, 1.0143648121694133, 1.0143648121694133, 1.0143648121694133, 1.0143648121694133, 1.0143648121694133, 1.0143648121694133, 1.0143648121694133, 1.0143648121694133, 1.0143648121694133, 1.0938216138337642, 1.0938216138337642, 1.0873281566561033, 1.014912876422585, 1.0001625732587536, 0.9676735228176234, 0.9623391568607469, 0.965895215727957, 0.9786658269856884, 0.9914401189741574, 1.0212321827963344, 1.0190868660885666, 1.0190868660885666, 1.0190868660885666, 1.0190868660885666, 1.0190868660885666, 1.0190868660885666, 1.0190868660885666, 1.0190868660885666, 1.0190868660885666, 1.0949193255866936, 1.0949193255866936, 1.0846685273195493, 0.9927896261816452, 0.9984303881189371, 0.9670006850276593, 0.9617810172842008, 0.9664742842353222, 0.9794639755016571, 0.9924246974676584, 1.0203777218381578, 1.0191910761961414, 1.0191910761961414, 1.0191910761961414, 1.0191910761961414, 1.0191910761961414, 1.0191910761961414, 1.0191910761961414, 1.0191910761961414, 1.0191910761961414, 1.0314878725222691, 1.0102368522741194, 1.0077235936278588, 0.994303829071058, 0.9847065969893118, 0.9782697749202286, 0.9783502998032447, 0.9826214636855615, 0.9879345998586461, 0.9989459541786746, 0.9995436408821134, 0.9995436408821134, 0.9995436408821134, 0.9995436408821134, 0.9995436408821134, 0.9995436408821134, 0.9995436408821134, 0.9995436408821134, 0.9995436408821134, 0.9995436408821134, 1.0987713980272924, 1.0987713980272924, 1.0486032033013712, 0.9955733813705312, 0.9838032472919659, 0.9757708463652528, 0.9721119994100967, 0.9750812302898259, 0.9843784054615083, 0.9944771304055378, 0.9921193614166101, 0.9921193614166101, 0.9921193614166101, 0.9921193614166101, 0.9921193614166101, 0.9921193614166101, 0.9921193614166101, 0.9921193614166101, 0.9921193614166101, 0.9921193614166101, 1.1062641720899042, 1.1062641720899042, 1.0919465248159674, 0.982531482842971, 0.9992610106735896, 0.975216105439479, 0.9694368515602102, 0.9721236701119045, 0.9824542161879398, 0.9932489571052705, 0.9840754105711784, 0.9840754105711784, 0.9840754105711784, 0.9840754105711784, 0.9840754105711784, 0.9840754105711784, 0.9840754105711784, 0.9840754105711784, 0.9840754105711784, 0.9840754105711784, 1.1034892471963895, 1.1034892471963895, 1.0965297725543879, 0.9892538642858482, 1.0061994842921882, 0.974978625497738, 0.9676667360148832, 0.9696467087063136, 0.9798990965992642, 0.9906511771976864, 1.00633540442353, 1.0012269171172288, 1.0012269171172288, 1.0012269171172288, 1.0012269171172288, 1.0012269171172288, 1.0012269171172288, 1.0012269171172288, 1.0012269171172288, 1.0012269171172288, 1.097511604395154, 1.097511604395154, 1.0883218088292308, 0.9812403922620362, 0.9965341822308456, 0.9725842580383656, 0.9659368296164423, 0.9689343938385915, 0.9799763507311875, 0.9914089839291625, 1.0147452121229366, 1.013390903338556, 1.013390903338556, 1.013390903338556, 1.013390903338556, 1.013390903338556, 1.013390903338556, 1.013390903338556, 1.013390903338556, 1.013390903338556, 1.0973391529312477, 1.0973391529312477, 1.0820592647154472, 0.980023598359832, 0.9849776408676549, 0.9697497567186483, 0.9651814562747917, 0.9685326413429686, 0.980264940928383, 0.9918742239149114, 1.0190124160971918, 1.0190124160971918, 1.0190124160971918, 1.0190124160971918, 1.0190124160971918, 1.0190124160971918, 1.0190124160971918, 1.0190124160971918, 1.0190124160971918, 1.0190124160971918, 1.0252111629771137, 0.9938109266491917, 0.9940792313031053, 0.9874656277077088, 0.9844570121806874, 0.9847174403207843, 0.9875118081881354, 0.9906312293860078, 0.9940189776958847, 0.9940189776958847, 0.9940189776958847, 0.9940189776958847, 0.9940189776958847, 0.9940189776958847, 0.9940189776958847, 0.9940189776958847, 0.9940189776958847, 0.9940189776958847, 0.9940189776958847, 0.9940189776958847, 1.0009236068895497, 1.0021176833489145, 1.023117527381617, 0.988870133178094, 0.9832558534674103, 0.9789755920347708, 0.9787918749135276, 0.9832918957188059, 0.9908166401235609, 1.0017668704780764, 1.0017668704780764, 1.0017668704780764, 1.0017668704780764, 1.0017668704780764, 1.0017668704780764, 1.0017668704780764, 1.0017668704780764, 1.0017668704780764, 1.0017668704780764, 1.0017668704780764, 1.0252550426529046, 1.0252550426529046, 1.0064364126686232, 1.0117630524131531, 0.9878509260401296, 0.9789060001068162, 0.9759066338596045, 0.9769837917533944, 0.9827265728512101, 0.9907509176332017, 0.9950741363540824, 0.9950741363540824, 0.9950741363540824, 0.9950741363540824, 0.9950741363540824, 0.9950741363540824, 0.9950741363540824, 0.9950741363540824, 0.9950741363540824, 0.9950741363540824, 1.0586370279170585, 1.0586370279170585, 1.0002696223267942, 1.0277841469894147, 0.9866039377977392, 0.9776991388022607, 0.9738520835952965, 0.9754948454408803, 0.9830335778326083, 0.9971287678066844, 1.02177128644753, 1.02177128644753, 1.02177128644753, 1.02177128644753, 1.02177128644753, 1.02177128644753, 1.02177128644753, 1.02177128644753, 1.02177128644753, 1.02177128644753, 1.078879393476623, 1.078879393476623, 1.024725780848055, 1.0279275580489087, 0.9855976622629224, 0.9770439212588032, 0.9719567389382114, 0.9735591008337461, 0.9818087129277657, 0.9915878073825315, 0.9891095029355458, 0.9891095029355458, 0.9891095029355458, 0.9891095029355458, 0.9891095029355458, 0.9891095029355458, 0.9891095029355458, 0.9891095029355458, 0.9891095029355458, 0.9891095029355458, 1.0702143223831848, 1.0702143223831848, 1.0100671228625449, 1.0286068440984946, 0.9853464312287887, 0.9747759571339273, 0.970698360934231, 0.9726740915338928, 0.9813649350550205, 0.9913054452708362, 1.0030313152443582, 1.0030313152443582, 1.0030313152443582, 1.0030313152443582, 1.0030313152443582, 1.0030313152443582, 1.0030313152443582, 1.0030313152443582, 1.0030313152443582, 1.0030313152443582, 1.0128969102006895, 1.0128969102006895, 1.0128969102006895, 1.0128969102006895, 1.0128969102006895, 1.0128969102006895, 1.0128969102006895, 1.0128969102006895, 1.0128969102006895, 1.0128969102006895, 1.0128969102006895, 1.0128969102006895, 1.0128969102006895, 1.0128969102006895, 1.0128969102006895, 1.0128969102006895, 1.0128969102006895, 1.0128969102006895, 1.0128969102006895, 1.0128969102006895, 0.9938562434097128, 0.9938562434097128, 0.9938562434097128, 0.9938562434097128, 0.9938562434097128, 0.9938562434097128, 0.9938562434097128, 0.9938562434097128, 0.9938562434097128, 0.9938562434097128, 0.9938562434097128, 0.9938562434097128, 0.9938562434097128, 0.9938562434097128, 0.9938562434097128, 0.9938562434097128, 0.9938562434097128, 0.9938562434097128, 0.9938562434097128, 0.9938562434097128, 1.0064523999222168, 1.0064523999222168, 1.0064523999222168, 1.0064523999222168, 1.0064523999222168, 1.0064523999222168, 1.0064523999222168, 1.0064523999222168, 1.0064523999222168, 1.0064523999222168, 1.0064523999222168, 1.0064523999222168, 1.0064523999222168, 1.0064523999222168, 1.0064523999222168, 1.0064523999222168, 1.0064523999222168, 1.0064523999222168, 1.0064523999222168, 1.0064523999222168, 0.9816537656838078, 0.9789364749824093, 0.9797560758313709, 0.9825099519569152, 0.9866119109289998, 0.9903426900422659, 0.9903426900422659, 0.9903426900422659, 0.9903426900422659, 0.9903426900422659, 0.9903426900422659, 0.9903426900422659, 0.9903426900422659, 0.9903426900422659, 0.9903426900422659, 0.9903426900422659, 0.9903426900422659, 0.9903426900422659, 0.9903426900422659, 0.9903426900422659, 0.9964218580144729, 0.9919605781297808, 0.9823792079342862, 0.9786981593957366, 0.9779692484803413, 0.9835774563126107, 0.9846370515277783, 0.9837776445805999, 0.9832082640413663, 0.9832082640413663, 0.9832082640413663, 0.9832082640413663, 0.9832082640413663, 0.9832082640413663, 0.9832082640413663, 0.9832082640413663, 0.9832082640413663, 0.9832082640413663, 0.9832082640413663, 0.9832082640413663, 1.0436771460117225, 1.004837186853682, 0.9966266505254222, 0.9854655758836182, 0.9795062719113327, 0.9771083981655159, 0.976396653972243, 0.9808752520744597, 0.9877090287805061, 0.9907260452177336, 0.9907260452177336, 0.9907260452177336, 0.9907260452177336, 0.9907260452177336, 0.9907260452177336, 0.9907260452177336, 0.9907260452177336, 0.9907260452177336, 0.9907260452177336, 0.9907260452177336]\n",
      "[3.27884946 2.99947529 2.7723616  2.56375313 2.35235714 2.09986248\n",
      " 1.85535375 1.63049939 1.40845767 1.1894929  1.0022119  0.830806\n",
      " 0.78505478 0.76170243 0.76170243 0.76170243 0.76170243 0.76170243\n",
      " 0.76170243 0.76170243]\n",
      "[(1.0, -1.0, -2.2505404415595835), (1.0, -1.0, -1.3265207789878948), (1.0, -1.0, -0.402501116416206), (1.0, -1.0, 0.5215185461554824), (1.0, -1.0, 1.4455382087271713), (1.0, -1.0, 2.3695578712988596), (1.0, -1.0, 3.2935775338705477), (1.0, -1.0, 4.217597196442237), (1.0, -1.0, 5.141616859013926), (1.0, -1.0, 6.065636521585613), (1.0, -1.0, 6.989656184157304), (1.0, -1.0, 7.913675846728991), (1.0, -1.0, 8.837695509300678), (1.0, -1.0, 9.76171517187237), (1.0, -1.0, 10.685734834444059), (1.0, -1.0, 11.609754497015746), (1.0, -1.0, 12.533774159587436), (1.0, -1.0, 13.457793822159124), (1.0, -1.0, 14.381813484730813), (1.0, -1.0, 15.3058331473025), (1.0, -0.4, -3.552570980888566), (1.0, -0.4, -2.5185959587638687), (1.0, -0.4, -1.4846209366391698), (1.0, -0.4, -0.45064591451447134), (1.0, -0.4, 0.5833291076102266), (1.0, -0.4, 1.6173041297349244), (1.0, -0.4, 2.6512791518596233), (1.0, -0.4, 3.685254173984321), (1.0, -0.4, 4.719229196109019), (1.0, -0.4, 5.7532042182337175), (1.0, -0.4, 6.787179240358415), (1.0, -0.4, 7.8211542624831125), (1.0, -0.4, 8.855129284607813), (1.0, -0.4, 9.88910430673251), (1.0, -0.4, 10.923079328857208), (1.0, -0.4, 11.957054350981906), (1.0, -0.4, 12.991029373106604), (1.0, -0.4, 14.025004395231301), (1.0, -0.4, 15.058979417356), (1.0, -0.4, 16.092954439480696), (1.0, -0.2, -3.9241659004073903), (1.0, -0.2, -2.857201059907448), (1.0, -0.2, -1.7902362194075063), (1.0, -0.2, -0.7232713789075645), (1.0, -0.2, 0.34369346159237735), (1.0, -0.2, 1.410658302092319), (1.0, -0.2, 2.477623142592261), (1.0, -0.2, 3.544587983092203), (1.0, -0.2, 4.611552823592145), (1.0, -0.2, 5.678517664092086), (1.0, -0.2, 6.745482504592028), (1.0, -0.2, 7.81244734509197), (1.0, -0.2, 8.879412185591912), (1.0, -0.2, 9.946377026091854), (1.0, -0.2, 11.013341866591796), (1.0, -0.2, 12.080306707091738), (1.0, -0.2, 13.14727154759168), (1.0, -0.2, 14.214236388091622), (1.0, -0.2, 15.281201228591561), (1.0, -0.2, 16.34816606909151), (1.0, 0.0, -3.8897396690914703), (1.0, 0.0, -2.8122030733517698), (1.0, 0.0, -1.7346664776120684), (1.0, 0.0, -0.6571298818723672), (1.0, 0.0, 0.4204067138673341), (1.0, 0.0, 1.497943309607035), (1.0, 0.0, 2.5754799053467363), (1.0, 0.0, 3.6530165010864377), (1.0, 0.0, 4.730553096826139), (1.0, 0.0, 5.80808969256584), (1.0, 0.0, 6.885626288305541), (1.0, 0.0, 7.963162884045241), (1.0, 0.0, 9.040699479784942), (1.0, 0.0, 10.118236075524646), (1.0, 0.0, 11.195772671264345), (1.0, 0.0, 12.273309267004047), (1.0, 0.0, 13.350845862743748), (1.0, 0.0, 14.42838245848345), (1.0, 0.0, 15.505919054223153), (1.0, 0.0, 16.58345564996285), (1.0, 0.2, -3.8004895934280873), (1.0, 0.2, -2.713056207386833), (1.0, 0.2, -1.6256228213455786), (1.0, 0.2, -0.5381894353043242), (1.0, 0.2, 0.54924395073693), (1.0, 0.2, 1.6366773367781846), (1.0, 0.2, 2.724110722819439), (1.0, 0.2, 3.8115441088606925), (1.0, 0.2, 4.898977494901947), (1.0, 0.2, 5.9864108809432), (1.0, 0.2, 7.073844266984456), (1.0, 0.2, 8.16127765302571), (1.0, 0.2, 9.248711039066965), (1.0, 0.2, 10.336144425108216), (1.0, 0.2, 11.423577811149473), (1.0, 0.2, 12.511011197190726), (1.0, 0.2, 13.59844458323198), (1.0, 0.2, 14.685877969273234), (1.0, 0.2, 15.773311355314489), (1.0, 0.2, 16.86074474135575), (1.0, 0.4, -3.7903350704429037), (1.0, 0.4, -2.6897476524158206), (1.0, 0.4, -1.589160234388737), (1.0, 0.4, -0.4885728163616536), (1.0, 0.4, 0.6120146016654302), (1.0, 0.4, 1.7126020196925138), (1.0, 0.4, 2.8131894377195965), (1.0, 0.4, 3.91377685574668), (1.0, 0.4, 5.014364273773763), (1.0, 0.4, 6.114951691800846), (1.0, 0.4, 7.2155391098279305), (1.0, 0.4, 8.316126527855014), (1.0, 0.4, 9.416713945882096), (1.0, 0.4, 10.517301363909182), (1.0, 0.4, 11.617888781936262), (1.0, 0.4, 12.718476199963348), (1.0, 0.4, 13.819063617990432), (1.0, 0.4, 14.919651036017516), (1.0, 0.4, 16.0202384540446), (1.0, 0.4, 17.120825872071684), (1.2, -1.0, -1.5802895185428372), (1.2, -1.0, -0.7632503864569736), (1.2, -1.0, 0.053788745628890106), (1.2, -1.0, 0.8708278777147539), (1.2, -1.0, 1.6878670098006172), (1.2, -1.0, 2.504906141886481), (1.2, -1.0, 3.321945273972345), (1.2, -1.0, 4.138984406058208), (1.2, -1.0, 4.9560235381440725), (1.2, -1.0, 5.773062670229935), (1.2, -1.0, 6.590101802315799), (1.2, -1.0, 7.407140934401662), (1.2, -1.0, 8.224180066487527), (1.2, -1.0, 9.04121919857339), (1.2, -1.0, 9.858258330659254), (1.2, -1.0, 10.67529746274512), (1.2, -1.0, 11.49233659483098), (1.2, -1.0, 12.309375726916844), (1.2, -1.0, 13.126414859002708), (1.2, -1.0, 13.943453991088571), (1.2, -0.4, -2.890864142054866), (1.2, -0.4, -1.9208762803453552), (1.2, -0.4, -0.9508884186358437), (1.2, -0.4, 0.019099443073667642), (1.2, -0.4, 0.9890873047831792), (1.2, -0.4, 1.95907516649269), (1.2, -0.4, 2.9290630282022017), (1.2, -0.4, 3.8990508899117136), (1.2, -0.4, 4.869038751621225), (1.2, -0.4, 5.839026613330736), (1.2, -0.4, 6.809014475040247), (1.2, -0.4, 7.77900233674976), (1.2, -0.4, 8.74899019845927), (1.2, -0.4, 9.71897806016878), (1.2, -0.4, 10.688965921878294), (1.2, -0.4, 11.658953783587805), (1.2, -0.4, 12.628941645297317), (1.2, -0.4, 13.598929507006826), (1.2, -0.4, 14.568917368716338), (1.2, -0.4, 15.538905230425849), (1.2, -0.2, -3.49969240510481), (1.2, -0.2, -2.489698155323433), (1.2, -0.2, -1.4797039055420567), (1.2, -0.2, -0.46970965576068024), (1.2, -0.2, 0.5402845940206966), (1.2, -0.2, 1.550278843802073), (1.2, -0.2, 2.56027309358345), (1.2, -0.2, 3.5702673433648267), (1.2, -0.2, 4.580261593146203), (1.2, -0.2, 5.590255842927579), (1.2, -0.2, 6.600250092708956), (1.2, -0.2, 7.610244342490334), (1.2, -0.2, 8.62023859227171), (1.2, -0.2, 9.630232842053088), (1.2, -0.2, 10.640227091834463), (1.2, -0.2, 11.65022134161584), (1.2, -0.2, 12.660215591397217), (1.2, -0.2, 13.670209841178592), (1.2, -0.2, 14.68020409095997), (1.2, -0.2, 15.690198340741347), (1.2, 0.0, -3.4779732849362914), (1.2, 0.0, -2.45528179025029), (1.2, 0.0, -1.432590295564288), (1.2, 0.0, -0.4098988008782861), (1.2, 0.0, 0.6127926938077155), (1.2, 0.0, 1.6354841884937172), (1.2, 0.0, 2.6581756831797194), (1.2, 0.0, 3.68086717786572), (1.2, 0.0, 4.703558672551722), (1.2, 0.0, 5.726250167237724), (1.2, 0.0, 6.748941661923726), (1.2, 0.0, 7.771633156609728), (1.2, 0.0, 8.794324651295732), (1.2, 0.0, 9.817016145981732), (1.2, 0.0, 10.839707640667733), (1.2, 0.0, 11.862399135353735), (1.2, 0.0, 12.885090630039736), (1.2, 0.0, 13.90778212472574), (1.2, 0.0, 14.93047361941174), (1.2, 0.0, 15.953165114097741), (1.2, 0.2, -3.4561138669446203), (1.2, 0.2, -2.4192960972089685), (1.2, 0.2, -1.382478327473317), (1.2, 0.2, -0.34566055773766513), (1.2, 0.2, 0.6911572119979862), (1.2, 0.2, 1.7279749817336376), (1.2, 0.2, 2.7647927514692903), (1.2, 0.2, 3.8016105212049416), (1.2, 0.2, 4.838428290940594), (1.2, 0.2, 5.875246060676246), (1.2, 0.2, 6.912063830411896), (1.2, 0.2, 7.948881600147549), (1.2, 0.2, 8.985699369883202), (1.2, 0.2, 10.02251713961885), (1.2, 0.2, 11.059334909354504), (1.2, 0.2, 12.096152679090153), (1.2, 0.2, 13.132970448825807), (1.2, 0.2, 14.16978821856146), (1.2, 0.2, 15.206605988297111), (1.2, 0.2, 16.243423758032762), (1.2, 0.4, -3.3931939392034436), (1.2, 0.4, -2.345774398213236), (1.2, 0.4, -1.2983548572230286), (1.2, 0.4, -0.2509353162328213), (1.2, 0.4, 0.7964842247573863), (1.2, 0.4, 1.843903765747594), (1.2, 0.4, 2.891323306737801), (1.2, 0.4, 3.938742847728009), (1.2, 0.4, 4.986162388718217), (1.2, 0.4, 6.033581929708423), (1.2, 0.4, 7.081001470698631), (1.2, 0.4, 8.128421011688838), (1.2, 0.4, 9.175840552679047), (1.2, 0.4, 10.223260093669253), (1.2, 0.4, 11.270679634659462), (1.2, 0.4, 12.31809917564967), (1.2, 0.4, 13.365518716639876), (1.2, 0.4, 14.412938257630085), (1.2, 0.4, 15.46035779862029), (1.2, 0.4, 16.507777339610495), (1.4, -1.0, -0.96916224700801), (1.4, -1.0, -0.2764627809838239), (1.4, -1.0, 0.41623668504036226), (1.4, -1.0, 1.1089361510645481), (1.4, -1.0, 1.8016356170887342), (1.4, -1.0, 2.4943350831129205), (1.4, -1.0, 3.187034549137106), (1.4, -1.0, 3.879734015161293), (1.4, -1.0, 4.572433481185478), (1.4, -1.0, 5.265132947209665), (1.4, -1.0, 5.957832413233851), (1.4, -1.0, 6.650531879258036), (1.4, -1.0, 7.343231345282223), (1.4, -1.0, 8.03593081130641), (1.4, -1.0, 8.728630277330597), (1.4, -1.0, 9.42132974335478), (1.4, -1.0, 10.114029209378968), (1.4, -1.0, 10.806728675403155), (1.4, -1.0, 11.49942814142734), (1.4, -1.0, 12.192127607451527), (1.4, -0.4, -2.3398422455890877), (1.4, -0.4, -1.4684813312555538), (1.4, -0.4, -0.5971204169220201), (1.4, -0.4, 0.2742404974115135), (1.4, -0.4, 1.145601411745047), (1.4, -0.4, 2.016962326078581), (1.4, -0.4, 2.8883232404121144), (1.4, -0.4, 3.759684154745648), (1.4, -0.4, 4.631045069079182), (1.4, -0.4, 5.502405983412716), (1.4, -0.4, 6.37376689774625), (1.4, -0.4, 7.245127812079783), (1.4, -0.4, 8.116488726413317), (1.4, -0.4, 8.98784964074685), (1.4, -0.4, 9.859210555080383), (1.4, -0.4, 10.730571469413919), (1.4, -0.4, 11.601932383747451), (1.4, -0.4, 12.473293298080984), (1.4, -0.4, 13.34465421241452), (1.4, -0.4, 14.21601512674805), (1.4, -0.2, -2.9041281613373804), (1.4, -0.2, -1.9572210138956083), (1.4, -0.2, -1.010313866453836), (1.4, -0.2, -0.06340671901206421), (1.4, -0.2, 0.8835004284297083), (1.4, -0.2, 1.8304075758714806), (1.4, -0.2, 2.777314723313252), (1.4, -0.2, 3.7242218707550245), (1.4, -0.2, 4.671129018196797), (1.4, -0.2, 5.6180361656385704), (1.4, -0.2, 6.564943313080341), (1.4, -0.2, 7.511850460522113), (1.4, -0.2, 8.458757607963884), (1.4, -0.2, 9.405664755405658), (1.4, -0.2, 10.35257190284743), (1.4, -0.2, 11.299479050289202), (1.4, -0.2, 12.246386197730974), (1.4, -0.2, 13.193293345172746), (1.4, -0.2, 14.140200492614518), (1.4, -0.2, 15.08710764005629), (1.4, 0.0, -3.1436937476715667), (1.4, 0.0, -2.172230792007124), (1.4, 0.0, -1.2007678363426812), (1.4, 0.0, -0.22930488067823837), (1.4, 0.0, 0.7421580749862039), (1.4, 0.0, 1.7136210306506463), (1.4, 0.0, 2.6850839863150897), (1.4, 0.0, 3.6565469419795322), (1.4, 0.0, 4.628009897643974), (1.4, 0.0, 5.599472853308417), (1.4, 0.0, 6.570935808972859), (1.4, 0.0, 7.542398764637302), (1.4, 0.0, 8.513861720301746), (1.4, 0.0, 9.485324675966186), (1.4, 0.0, 10.45678763163063), (1.4, 0.0, 11.428250587295073), (1.4, 0.0, 12.399713542959516), (1.4, 0.0, 13.371176498623958), (1.4, 0.0, 14.342639454288399), (1.4, 0.0, 15.314102409952847), (1.4, 0.2, -3.113504904638755), (1.4, 0.2, -2.126036800294656), (1.4, 0.2, -1.1385686959505572), (1.4, 0.2, -0.1511005916064581), (1.4, 0.2, 0.8363675127376405), (1.4, 0.2, 1.8238356170817391), (1.4, 0.2, 2.8113037214258387), (1.4, 0.2, 3.7987718257699377), (1.4, 0.2, 4.786239930114037), (1.4, 0.2, 5.773708034458134), (1.4, 0.2, 6.761176138802233), (1.4, 0.2, 7.748644243146333), (1.4, 0.2, 8.736112347490433), (1.4, 0.2, 9.723580451834529), (1.4, 0.2, 10.711048556178632), (1.4, 0.2, 11.698516660522728), (1.4, 0.2, 12.685984764866825), (1.4, 0.2, 13.673452869210928), (1.4, 0.2, 14.660920973555026), (1.4, 0.2, 15.648389077899125), (1.4, 0.4, -3.0609796466792196), (1.4, 0.4, -2.06263617330716), (1.4, 0.4, -1.064292699935101), (1.4, 0.4, -0.06594922656304164), (1.4, 0.4, 0.9323942468090178), (1.4, 0.4, 1.9307377201810767), (1.4, 0.4, 2.9290811935531362), (1.4, 0.4, 3.9274246669251958), (1.4, 0.4, 4.925768140297256), (1.4, 0.4, 5.9241116136693135), (1.4, 0.4, 6.922455087041373), (1.4, 0.4, 7.920798560413433), (1.4, 0.4, 8.91914203378549), (1.4, 0.4, 9.917485507157553), (1.4, 0.4, 10.91582898052961), (1.4, 0.4, 11.91417245390167), (1.4, 0.4, 12.912515927273729), (1.4, 0.4, 13.910859400645787), (1.4, 0.4, 14.909202874017847), (1.4, 0.4, 15.907546347389907), (1.8, -1.0, 0.554407326881177), (1.8, -1.0, 1.090951023477117), (1.8, -1.0, 1.627494720073057), (1.8, -1.0, 2.1640384166689968), (1.8, -1.0, 2.7005821132649364), (1.8, -1.0, 3.2371258098608764), (1.8, -1.0, 3.773669506456816), (1.8, -1.0, 4.310213203052757), (1.8, -1.0, 4.846756899648697), (1.8, -1.0, 5.383300596244637), (1.8, -1.0, 5.919844292840576), (1.8, -1.0, 6.456387989436517), (1.8, -1.0, 6.992931686032456), (1.8, -1.0, 7.529475382628396), (1.8, -1.0, 8.066019079224334), (1.8, -1.0, 8.602562775820276), (1.8, -1.0, 9.139106472416215), (1.8, -1.0, 9.675650169012156), (1.8, -1.0, 10.212193865608095), (1.8, -1.0, 10.748737562204036), (1.8, -0.4, -0.9314571321171301), (1.8, -0.4, -0.22670478099270192), (1.8, -0.4, 0.4780475701317263), (1.8, -0.4, 1.1827999212561544), (1.8, -0.4, 1.8875522723805824), (1.8, -0.4, 2.5923046235050102), (1.8, -0.4, 3.2970569746294385), (1.8, -0.4, 4.001809325753866), (1.8, -0.4, 4.706561676878295), (1.8, -0.4, 5.411314028002723), (1.8, -0.4, 6.116066379127151), (1.8, -0.4, 6.820818730251578), (1.8, -0.4, 7.525571081376007), (1.8, -0.4, 8.230323432500436), (1.8, -0.4, 8.935075783624864), (1.8, -0.4, 9.639828134749292), (1.8, -0.4, 10.344580485873719), (1.8, -0.4, 11.049332836998147), (1.8, -0.4, 11.754085188122575), (1.8, -0.4, 12.458837539247005), (1.8, -0.2, -1.614492722664049), (1.8, -0.2, -0.8819469338900512), (1.8, -0.2, -0.14940114511605312), (1.8, -0.2, 0.583144643657945), (1.8, -0.2, 1.3156904324319432), (1.8, -0.2, 2.048236221205941), (1.8, -0.2, 2.7807820099799394), (1.8, -0.2, 3.5133277987539375), (1.8, -0.2, 4.245873587527936), (1.8, -0.2, 4.978419376301934), (1.8, -0.2, 5.710965165075931), (1.8, -0.2, 6.4435109538499304), (1.8, -0.2, 7.176056742623928), (1.8, -0.2, 7.908602531397925), (1.8, -0.2, 8.641148320171924), (1.8, -0.2, 9.373694108945923), (1.8, -0.2, 10.106239897719918), (1.8, -0.2, 10.838785686493916), (1.8, -0.2, 11.571331475267915), (1.8, -0.2, 12.303877264041914), (1.8, 0.0, -2.158790817424478), (1.8, 0.0, -1.3316215115256138), (1.8, 0.0, -0.50445220562675), (1.8, 0.0, 0.3227171002721135), (1.8, 0.0, 1.1498864061709777), (1.8, 0.0, 1.9770557120698418), (1.8, 0.0, 2.804225017968705), (1.8, 0.0, 3.6313943238675694), (1.8, 0.0, 4.458563629766433), (1.8, 0.0, 5.285732935665298), (1.8, 0.0, 6.112902241564162), (1.8, 0.0, 6.940071547463025), (1.8, 0.0, 7.767240853361888), (1.8, 0.0, 8.594410159260754), (1.8, 0.0, 9.421579465159617), (1.8, 0.0, 10.248748771058482), (1.8, 0.0, 11.075918076957345), (1.8, 0.0, 11.903087382856208), (1.8, 0.0, 12.730256688755073), (1.8, 0.0, 13.557425994653936), (1.8, 0.2, -2.5613178937109318), (1.8, 0.2, -1.6709837679504387), (1.8, 0.2, -0.7806496421899448), (1.8, 0.2, 0.10968448357054882), (1.8, 0.2, 1.0000186093310424), (1.8, 0.2, 1.8903527350915357), (1.8, 0.2, 2.7806868608520294), (1.8, 0.2, 3.6710209866125227), (1.8, 0.2, 4.561355112373016), (1.8, 0.2, 5.451689238133509), (1.8, 0.2, 6.342023363894002), (1.8, 0.2, 7.232357489654497), (1.8, 0.2, 8.12269161541499), (1.8, 0.2, 9.013025741175483), (1.8, 0.2, 9.903359866935977), (1.8, 0.2, 10.79369399269647), (1.8, 0.2, 11.684028118456965), (1.8, 0.2, 12.574362244217458), (1.8, 0.2, 13.46469636997795), (1.8, 0.2, 14.355030495738443), (1.8, 0.4, -2.540419317028349), (1.8, 0.4, -1.6365418264955915), (1.8, 0.4, -0.7326643359628344), (1.8, 0.4, 0.1712131545699229), (1.8, 0.4, 1.0750906451026803), (1.8, 0.4, 1.9789681356354376), (1.8, 0.4, 2.8828456261681943), (1.8, 0.4, 3.7867231167009523), (1.8, 0.4, 4.690600607233709), (1.8, 0.4, 5.5944780977664665), (1.8, 0.4, 6.498355588299224), (1.8, 0.4, 7.402233078831981), (1.8, 0.4, 8.306110569364737), (1.8, 0.4, 9.209988059897494), (1.8, 0.4, 10.113865550430255), (1.8, 0.4, 11.01774304096301), (1.8, 0.4, 11.921620531495769), (1.8, 0.4, 12.825498022028524), (1.8, 0.4, 13.729375512561282), (1.8, 0.4, 14.63325300309404), (2.2, -1.0, 7.625067494135235), (2.2, -1.0, 7.780933308312514), (2.2, -1.0, 7.936799122489794), (2.2, -1.0, 8.092664936667072), (2.2, -1.0, 8.24853075084435), (2.2, -1.0, 8.40439656502163), (2.2, -1.0, 8.560262379198909), (2.2, -1.0, 8.716128193376187), (2.2, -1.0, 8.871994007553466), (2.2, -1.0, 9.027859821730745), (2.2, -1.0, 9.183725635908026), (2.2, -1.0, 9.339591450085303), (2.2, -1.0, 9.495457264262583), (2.2, -1.0, 9.651323078439862), (2.2, -1.0, 9.807188892617141), (2.2, -1.0, 9.96305470679442), (2.2, -1.0, 10.118920520971699), (2.2, -1.0, 10.274786335148976), (2.2, -1.0, 10.430652149326257), (2.2, -1.0, 10.586517963503535), (2.2, -0.4, 5.744671086885922), (2.2, -0.4, 5.947415492455258), (2.2, -0.4, 6.150159898024594), (2.2, -0.4, 6.352904303593929), (2.2, -0.4, 6.555648709163266), (2.2, -0.4, 6.7583931147326), (2.2, -0.4, 6.9611375203019366), (2.2, -0.4, 7.163881925871272), (2.2, -0.4, 7.366626331440608), (2.2, -0.4, 7.569370737009944), (2.2, -0.4, 7.772115142579279), (2.2, -0.4, 7.974859548148617), (2.2, -0.4, 8.17760395371795), (2.2, -0.4, 8.380348359287288), (2.2, -0.4, 8.583092764856625), (2.2, -0.4, 8.785837170425959), (2.2, -0.4, 8.988581575995294), (2.2, -0.4, 9.191325981564631), (2.2, -0.4, 9.394070387133965), (2.2, -0.4, 9.596814792703302), (2.2, -0.2, 5.5820954212357865), (2.2, -0.2, 5.91753571752546), (2.2, -0.2, 6.2529760138151325), (2.2, -0.2, 6.588416310104807), (2.2, -0.2, 6.92385660639448), (2.2, -0.2, 7.259296902684153), (2.2, -0.2, 7.594737198973826), (2.2, -0.2, 7.930177495263499), (2.2, -0.2, 8.265617791553174), (2.2, -0.2, 8.601058087842846), (2.2, -0.2, 8.93649838413252), (2.2, -0.2, 9.27193868042219), (2.2, -0.2, 9.607378976711866), (2.2, -0.2, 9.94281927300154), (2.2, -0.2, 10.278259569291212), (2.2, -0.2, 10.613699865580886), (2.2, -0.2, 10.949140161870558), (2.2, -0.2, 11.284580458160232), (2.2, -0.2, 11.620020754449904), (2.2, -0.2, 11.955461050739578), (2.2, 0.0, 2.3959551770508862), (2.2, 0.0, 2.801512077921635), (2.2, 0.0, 3.2070689787923845), (2.2, 0.0, 3.6126258796631334), (2.2, 0.0, 4.0181827805338814), (2.2, 0.0, 4.423739681404632), (2.2, 0.0, 4.829296582275381), (2.2, 0.0, 5.23485348314613), (2.2, 0.0, 5.640410384016878), (2.2, 0.0, 6.045967284887627), (2.2, 0.0, 6.451524185758377), (2.2, 0.0, 6.857081086629126), (2.2, 0.0, 7.262637987499875), (2.2, 0.0, 7.668194888370624), (2.2, 0.0, 8.073751789241372), (2.2, 0.0, 8.479308690112124), (2.2, 0.0, 8.884865590982871), (2.2, 0.0, 9.29042249185362), (2.2, 0.0, 9.695979392724368), (2.2, 0.0, 10.101536293595117), (2.2, 0.2, 0.68669100220728), (2.2, 0.2, 1.346147915135836), (2.2, 0.2, 2.005604828064392), (2.2, 0.2, 2.6650617409929476), (2.2, 0.2, 3.324518653921504), (2.2, 0.2, 3.9839755668500603), (2.2, 0.2, 4.643432479778617), (2.2, 0.2, 5.302889392707173), (2.2, 0.2, 5.962346305635729), (2.2, 0.2, 6.621803218564284), (2.2, 0.2, 7.281260131492841), (2.2, 0.2, 7.9407170444213975), (2.2, 0.2, 8.600173957349952), (2.2, 0.2, 9.259630870278508), (2.2, 0.2, 9.919087783207067), (2.2, 0.2, 10.578544696135621), (2.2, 0.2, 11.238001609064177), (2.2, 0.2, 11.897458521992734), (2.2, 0.2, 12.556915434921288), (2.2, 0.2, 13.216372347849845), (2.2, 0.4, -0.2003606179418655), (2.2, 0.4, 0.3965356387822192), (2.2, 0.4, 0.9934318955063041), (2.2, 0.4, 1.5903281522303887), (2.2, 0.4, 2.1872244089544735), (2.2, 0.4, 2.784120665678558), (2.2, 0.4, 3.381016922402643), (2.2, 0.4, 3.9779131791267277), (2.2, 0.4, 4.5748094358508125), (2.2, 0.4, 5.171705692574896), (2.2, 0.4, 5.768601949298981), (2.2, 0.4, 6.365498206023067), (2.2, 0.4, 6.9623944627471515), (2.2, 0.4, 7.559290719471235), (2.2, 0.4, 8.156186976195322), (2.2, 0.4, 8.753083232919405), (2.2, 0.4, 9.34997948964349), (2.2, 0.4, 9.946875746367576), (2.2, 0.4, 10.543772003091657), (2.2, 0.4, 11.140668259815746)]\n",
      "[1.2066529121790102, 1.2066529121790102, 1.117083956484928, 0.9805943095110005, 0.9882489082207379, 0.9730846501444782, 0.97153164410651, 0.980444783714557, 0.9903729807201272, 1.0108533527730335, 0.9767730899169534, 0.9767730899169534, 0.9767730899169534, 0.9767730899169534, 0.9767730899169534, 0.9767730899169534, 0.9767730899169534, 0.9767730899169534, 0.9767730899169534, 0.9767730899169534, 1.1078679672057263, 1.1078679672057263, 1.10486019011958, 1.0547898406799867, 0.9675411319703449, 0.968077865323531, 0.9641320936635404, 0.9675253396861722, 0.9811412113765317, 0.9949456623621351, 1.0144834712734327, 1.0080680546015695, 1.0080680546015695, 1.0080680546015695, 1.0080680546015695, 1.0080680546015695, 1.0080680546015695, 1.0080680546015695, 1.0080680546015695, 1.0080680546015695, 1.1038035040603866, 1.1038035040603866, 1.1038035040603866, 1.0628934063521254, 0.9660351067217076, 0.9751186431621486, 0.9619668186506193, 0.9636308735886552, 0.976799733282376, 0.9910536757586398, 1.0188409433059007, 1.0163010592770039, 1.0163010592770039, 1.0163010592770039, 1.0163010592770039, 1.0163010592770039, 1.0163010592770039, 1.0163010592770039, 1.0163010592770039, 1.0163010592770039, 1.095960408966395, 1.095960408966395, 1.095960408966395, 1.0572943070771552, 0.9635813319704994, 0.9683280147342678, 0.9597723346675625, 0.9628943767771693, 0.9765580706321794, 0.9914033864194254, 1.0188344066272952, 1.0183045254865175, 1.0183045254865175, 1.0183045254865175, 1.0183045254865175, 1.0183045254865175, 1.0183045254865175, 1.0183045254865175, 1.0183045254865175, 1.0183045254865175, 1.0928374517405102, 1.0928374517405102, 1.0911179009178582, 1.0490275300324876, 0.9677111360612947, 0.9614109361376924, 0.9585928784007149, 0.9628969018788124, 0.9773882473526904, 0.9922718974053287, 1.0189852290659283, 1.0177497988014925, 1.0177497988014925, 1.0177497988014925, 1.0177497988014925, 1.0177497988014925, 1.0177497988014925, 1.0177497988014925, 1.0177497988014925, 1.0177497988014925, 1.098445612584064, 1.098445612584064, 1.093758475565396, 1.0417534547680056, 0.9742812061937776, 0.9594857656895721, 0.9576081437975175, 0.9642177777117159, 0.9777965719794851, 0.993208399739914, 1.0179176299375177, 1.0154294212936774, 1.0154294212936774, 1.0154294212936774, 1.0154294212936774, 1.0154294212936774, 1.0154294212936774, 1.0154294212936774, 1.0154294212936774, 1.0154294212936774, 1.0847822593639243, 1.0847822593639243, 0.9873272968331557, 1.0078408566703538, 0.9774956918201247, 0.9753247490744793, 0.9755437955888235, 0.9827710928878285, 0.9903070127059025, 1.0039903690676377, 0.9798624622677392, 0.9798624622677392, 0.9798624622677392, 0.9798624622677392, 0.9798624622677392, 0.9798624622677392, 0.9798624622677392, 0.9798624622677392, 0.9798624622677392, 0.9798624622677392, 1.104902226314568, 1.104902226314568, 1.0889909986539261, 0.982497427806552, 0.9984645640878624, 0.9719195760656273, 0.9686644562423422, 0.973300878662732, 0.9851405198379886, 0.9991572283351633, 0.9832130324109387, 0.9832130324109387, 0.9832130324109387, 0.9832130324109387, 0.9832130324109387, 0.9832130324109387, 0.9832130324109387, 0.9832130324109387, 0.9832130324109387, 0.9832130324109387, 1.1073696200043854, 1.1073696200043854, 1.1053199434955967, 1.0436575596711168, 0.9909790071824545, 0.9690653217921069, 0.9658397358979345, 0.9676268951938491, 0.9789384105116449, 0.9909141851949842, 1.0151246516133108, 1.0051458058557017, 1.0051458058557017, 1.0051458058557017, 1.0051458058557017, 1.0051458058557017, 1.0051458058557017, 1.0051458058557017, 1.0051458058557017, 1.0051458058557017, 1.098464493543671, 1.098464493543671, 1.0947301854768097, 1.0311840916065849, 0.9967649535962575, 0.9682106880630226, 0.9638615534772464, 0.9666022402992415, 0.9789780060505945, 0.9911899449634182, 1.0193088616429113, 1.0143648121694133, 1.0143648121694133, 1.0143648121694133, 1.0143648121694133, 1.0143648121694133, 1.0143648121694133, 1.0143648121694133, 1.0143648121694133, 1.0143648121694133, 1.0938216138337642, 1.0938216138337642, 1.0873281566561033, 1.014912876422585, 1.0001625732587536, 0.9676735228176234, 0.9623391568607469, 0.965895215727957, 0.9786658269856884, 0.9914401189741574, 1.0212321827963344, 1.0190868660885666, 1.0190868660885666, 1.0190868660885666, 1.0190868660885666, 1.0190868660885666, 1.0190868660885666, 1.0190868660885666, 1.0190868660885666, 1.0190868660885666, 1.0949193255866936, 1.0949193255866936, 1.0846685273195493, 0.9927896261816452, 0.9984303881189371, 0.9670006850276593, 0.9617810172842008, 0.9664742842353222, 0.9794639755016571, 0.9924246974676584, 1.0203777218381578, 1.0191910761961414, 1.0191910761961414, 1.0191910761961414, 1.0191910761961414, 1.0191910761961414, 1.0191910761961414, 1.0191910761961414, 1.0191910761961414, 1.0191910761961414, 1.0314878725222691, 1.0102368522741194, 1.0077235936278588, 0.994303829071058, 0.9847065969893118, 0.9782697749202286, 0.9783502998032447, 0.9826214636855615, 0.9879345998586461, 0.9989459541786746, 0.9995436408821134, 0.9995436408821134, 0.9995436408821134, 0.9995436408821134, 0.9995436408821134, 0.9995436408821134, 0.9995436408821134, 0.9995436408821134, 0.9995436408821134, 0.9995436408821134, 1.0987713980272924, 1.0987713980272924, 1.0486032033013712, 0.9955733813705312, 0.9838032472919659, 0.9757708463652528, 0.9721119994100967, 0.9750812302898259, 0.9843784054615083, 0.9944771304055378, 0.9921193614166101, 0.9921193614166101, 0.9921193614166101, 0.9921193614166101, 0.9921193614166101, 0.9921193614166101, 0.9921193614166101, 0.9921193614166101, 0.9921193614166101, 0.9921193614166101, 1.1062641720899042, 1.1062641720899042, 1.0919465248159674, 0.982531482842971, 0.9992610106735896, 0.975216105439479, 0.9694368515602102, 0.9721236701119045, 0.9824542161879398, 0.9932489571052705, 0.9840754105711784, 0.9840754105711784, 0.9840754105711784, 0.9840754105711784, 0.9840754105711784, 0.9840754105711784, 0.9840754105711784, 0.9840754105711784, 0.9840754105711784, 0.9840754105711784, 1.1034892471963895, 1.1034892471963895, 1.0965297725543879, 0.9892538642858482, 1.0061994842921882, 0.974978625497738, 0.9676667360148832, 0.9696467087063136, 0.9798990965992642, 0.9906511771976864, 1.00633540442353, 1.0012269171172288, 1.0012269171172288, 1.0012269171172288, 1.0012269171172288, 1.0012269171172288, 1.0012269171172288, 1.0012269171172288, 1.0012269171172288, 1.0012269171172288, 1.097511604395154, 1.097511604395154, 1.0883218088292308, 0.9812403922620362, 0.9965341822308456, 0.9725842580383656, 0.9659368296164423, 0.9689343938385915, 0.9799763507311875, 0.9914089839291625, 1.0147452121229366, 1.013390903338556, 1.013390903338556, 1.013390903338556, 1.013390903338556, 1.013390903338556, 1.013390903338556, 1.013390903338556, 1.013390903338556, 1.013390903338556, 1.0973391529312477, 1.0973391529312477, 1.0820592647154472, 0.980023598359832, 0.9849776408676549, 0.9697497567186483, 0.9651814562747917, 0.9685326413429686, 0.980264940928383, 0.9918742239149114, 1.0190124160971918, 1.0190124160971918, 1.0190124160971918, 1.0190124160971918, 1.0190124160971918, 1.0190124160971918, 1.0190124160971918, 1.0190124160971918, 1.0190124160971918, 1.0190124160971918, 1.0252111629771137, 0.9938109266491917, 0.9940792313031053, 0.9874656277077088, 0.9844570121806874, 0.9847174403207843, 0.9875118081881354, 0.9906312293860078, 0.9940189776958847, 0.9940189776958847, 0.9940189776958847, 0.9940189776958847, 0.9940189776958847, 0.9940189776958847, 0.9940189776958847, 0.9940189776958847, 0.9940189776958847, 0.9940189776958847, 0.9940189776958847, 0.9940189776958847, 1.0009236068895497, 1.0021176833489145, 1.023117527381617, 0.988870133178094, 0.9832558534674103, 0.9789755920347708, 0.9787918749135276, 0.9832918957188059, 0.9908166401235609, 1.0017668704780764, 1.0017668704780764, 1.0017668704780764, 1.0017668704780764, 1.0017668704780764, 1.0017668704780764, 1.0017668704780764, 1.0017668704780764, 1.0017668704780764, 1.0017668704780764, 1.0017668704780764, 1.0252550426529046, 1.0252550426529046, 1.0064364126686232, 1.0117630524131531, 0.9878509260401296, 0.9789060001068162, 0.9759066338596045, 0.9769837917533944, 0.9827265728512101, 0.9907509176332017, 0.9950741363540824, 0.9950741363540824, 0.9950741363540824, 0.9950741363540824, 0.9950741363540824, 0.9950741363540824, 0.9950741363540824, 0.9950741363540824, 0.9950741363540824, 0.9950741363540824, 1.0586370279170585, 1.0586370279170585, 1.0002696223267942, 1.0277841469894147, 0.9866039377977392, 0.9776991388022607, 0.9738520835952965, 0.9754948454408803, 0.9830335778326083, 0.9971287678066844, 1.02177128644753, 1.02177128644753, 1.02177128644753, 1.02177128644753, 1.02177128644753, 1.02177128644753, 1.02177128644753, 1.02177128644753, 1.02177128644753, 1.02177128644753, 1.078879393476623, 1.078879393476623, 1.024725780848055, 1.0279275580489087, 0.9855976622629224, 0.9770439212588032, 0.9719567389382114, 0.9735591008337461, 0.9818087129277657, 0.9915878073825315, 0.9891095029355458, 0.9891095029355458, 0.9891095029355458, 0.9891095029355458, 0.9891095029355458, 0.9891095029355458, 0.9891095029355458, 0.9891095029355458, 0.9891095029355458, 0.9891095029355458, 1.0702143223831848, 1.0702143223831848, 1.0100671228625449, 1.0286068440984946, 0.9853464312287887, 0.9747759571339273, 0.970698360934231, 0.9726740915338928, 0.9813649350550205, 0.9913054452708362, 1.0030313152443582, 1.0030313152443582, 1.0030313152443582, 1.0030313152443582, 1.0030313152443582, 1.0030313152443582, 1.0030313152443582, 1.0030313152443582, 1.0030313152443582, 1.0030313152443582, 1.0128969102006895, 1.0128969102006895, 1.0128969102006895, 1.0128969102006895, 1.0128969102006895, 1.0128969102006895, 1.0128969102006895, 1.0128969102006895, 1.0128969102006895, 1.0128969102006895, 1.0128969102006895, 1.0128969102006895, 1.0128969102006895, 1.0128969102006895, 1.0128969102006895, 1.0128969102006895, 1.0128969102006895, 1.0128969102006895, 1.0128969102006895, 1.0128969102006895, 0.9938562434097128, 0.9938562434097128, 0.9938562434097128, 0.9938562434097128, 0.9938562434097128, 0.9938562434097128, 0.9938562434097128, 0.9938562434097128, 0.9938562434097128, 0.9938562434097128, 0.9938562434097128, 0.9938562434097128, 0.9938562434097128, 0.9938562434097128, 0.9938562434097128, 0.9938562434097128, 0.9938562434097128, 0.9938562434097128, 0.9938562434097128, 0.9938562434097128, 1.0064523999222168, 1.0064523999222168, 1.0064523999222168, 1.0064523999222168, 1.0064523999222168, 1.0064523999222168, 1.0064523999222168, 1.0064523999222168, 1.0064523999222168, 1.0064523999222168, 1.0064523999222168, 1.0064523999222168, 1.0064523999222168, 1.0064523999222168, 1.0064523999222168, 1.0064523999222168, 1.0064523999222168, 1.0064523999222168, 1.0064523999222168, 1.0064523999222168, 0.9816537656838078, 0.9789364749824093, 0.9797560758313709, 0.9825099519569152, 0.9866119109289998, 0.9903426900422659, 0.9903426900422659, 0.9903426900422659, 0.9903426900422659, 0.9903426900422659, 0.9903426900422659, 0.9903426900422659, 0.9903426900422659, 0.9903426900422659, 0.9903426900422659, 0.9903426900422659, 0.9903426900422659, 0.9903426900422659, 0.9903426900422659, 0.9903426900422659, 0.9964218580144729, 0.9919605781297808, 0.9823792079342862, 0.9786981593957366, 0.9779692484803413, 0.9835774563126107, 0.9846370515277783, 0.9837776445805999, 0.9832082640413663, 0.9832082640413663, 0.9832082640413663, 0.9832082640413663, 0.9832082640413663, 0.9832082640413663, 0.9832082640413663, 0.9832082640413663, 0.9832082640413663, 0.9832082640413663, 0.9832082640413663, 0.9832082640413663, 1.0436771460117225, 1.004837186853682, 0.9966266505254222, 0.9854655758836182, 0.9795062719113327, 0.9771083981655159, 0.976396653972243, 0.9808752520744597, 0.9877090287805061, 0.9907260452177336, 0.9907260452177336, 0.9907260452177336, 0.9907260452177336, 0.9907260452177336, 0.9907260452177336, 0.9907260452177336, 0.9907260452177336, 0.9907260452177336, 0.9907260452177336, 0.9907260452177336]\n",
      "[1.3019653599373404, 1.3019653599373404, 2.4887278836149207, 2.9205231082635588, 2.5190430500753918, 2.0273209514258648, 1.6215191686036359, 1.2840113978398595, 1.0141817487152407, 0.9688947139188959, 0.8607514760789137, 0.8607514760789137, 0.8607514760789137, 0.8607514760789137, 0.8607514760789137, 0.8607514760789137, 0.8607514760789137, 0.8607514760789137, 0.8607514760789137, 0.8607514760789137, 7.527684394218337, 7.527684394218337, 7.134355471833531, 4.054960593191471, 3.2969504313266733, 2.93757539001472, 2.3225577971228377, 1.7928615949896582, 1.3428865776023093, 0.9498711415478908, 0.8351998956930322, 0.8050346641788719, 0.8050346641788719, 0.8050346641788719, 0.8050346641788719, 0.8050346641788719, 0.8050346641788719, 0.8050346641788719, 0.8050346641788719, 0.8050346641788719, 8.963155038626791, 8.963155038626791, 8.963155038626791, 4.176402998958418, 3.3829707484304774, 3.095611101238683, 2.5412511244987925, 1.9987420126579596, 1.5306989012385963, 1.0868569525412488, 0.7984091915133272, 0.7505982252771437, 0.7505982252771437, 0.7505982252771437, 0.7505982252771437, 0.7505982252771437, 0.7505982252771437, 0.7505982252771437, 0.7505982252771437, 0.7505982252771437, 8.859058321107117, 8.859058321107117, 8.859058321107117, 4.320070022375442, 3.29224720073751, 2.9276718658917584, 2.516442070768527, 2.012235540274673, 1.561749674963052, 1.1098783929129592, 0.8128282463661923, 0.7329957697806977, 0.7329957697806977, 0.7329957697806977, 0.7329957697806977, 0.7329957697806977, 0.7329957697806977, 0.7329957697806977, 0.7329957697806977, 0.7329957697806977, 7.939486912737692, 7.939486912737692, 7.784081934349412, 4.563919316602376, 3.2404530285185422, 2.7800001577443187, 2.340888893845101, 1.9692244175428684, 1.5372373042007832, 1.0776113811709318, 0.8192318466178119, 0.7470290800393853, 0.7470290800393853, 0.7470290800393853, 0.7470290800393853, 0.7470290800393853, 0.7470290800393853, 0.7470290800393853, 0.7470290800393853, 0.7470290800393853, 6.705849727519264, 6.705849727519264, 6.435473970215691, 4.675806457512337, 3.246191561660605, 2.630844322315704, 2.207076251735148, 1.8239314525212975, 1.4640215426047147, 0.9940460630398127, 0.7877206142139935, 0.7409665872111892, 0.7409665872111892, 0.7409665872111892, 0.7409665872111892, 0.7409665872111892, 0.7409665872111892, 0.7409665872111892, 0.7409665872111892, 0.7409665872111892, 4.093499534545342, 4.093499534545342, 3.4323620253773326, 2.789978244457863, 2.275168613773897, 1.8768936877160984, 1.5429014106092693, 1.2653678531218584, 1.0395968339855692, 0.9588134440358684, 0.8549903802237857, 0.8549903802237857, 0.8549903802237857, 0.8549903802237857, 0.8549903802237857, 0.8549903802237857, 0.8549903802237857, 0.8549903802237857, 0.8549903802237857, 0.8549903802237857, 4.924059192656149, 4.924059192656149, 4.132627066721275, 3.460140286396156, 3.1445176644945656, 2.600106228006356, 2.0688347852260907, 1.6149827871400955, 1.224668629006292, 0.8984506385958061, 0.7999051238652077, 0.7999051238652077, 0.7999051238652077, 0.7999051238652077, 0.7999051238652077, 0.7999051238652077, 0.7999051238652077, 0.7999051238652077, 0.7999051238652077, 0.7999051238652077, 6.286475763140764, 6.286475763140764, 6.055344784835605, 3.952637941588524, 3.2194562764199723, 2.8964856302928728, 2.386263569595411, 1.8997780035066552, 1.4745209161865167, 1.0843311176343247, 0.8330251293711162, 0.7850805580838838, 0.7850805580838838, 0.7850805580838838, 0.7850805580838838, 0.7850805580838838, 0.7850805580838838, 0.7850805580838838, 0.7850805580838838, 0.7850805580838838, 6.313970999466423, 6.313970999466423, 5.904555450105324, 3.916816888900679, 3.1636802358014746, 2.752295274347655, 2.37767858288119, 1.9203195155047386, 1.513027023181987, 1.1164027086341053, 0.8059246936929604, 0.7617024302956743, 0.7617024302956743, 0.7617024302956743, 0.7617024302956743, 0.7617024302956743, 0.7617024302956743, 0.7617024302956743, 0.7617024302956743, 0.7617024302956743, 6.00580663552841, 6.00580663552841, 5.565112653268257, 3.959674166459049, 3.0984546308055267, 2.6481031052664674, 2.3130825731038245, 1.9022576771585342, 1.5163361723810436, 1.1192338523665961, 0.814978849739588, 0.7599729404946354, 0.7599729404946354, 0.7599729404946354, 0.7599729404946354, 0.7599729404946354, 0.7599729404946354, 0.7599729404946354, 0.7599729404946354, 0.7599729404946354, 5.115971241778028, 5.115971241778028, 4.802984020663716, 3.886906077776241, 3.0124113259030207, 2.492548336277685, 2.1158084825027847, 1.8160486227936792, 1.4500013681504336, 1.061971195455207, 0.8277763256605409, 0.790168271103675, 0.790168271103675, 0.790168271103675, 0.790168271103675, 0.790168271103675, 0.790168271103675, 0.790168271103675, 0.790168271103675, 0.790168271103675, 3.8433847205129767, 3.6727547359713264, 2.9561725733741535, 2.5101902035514687, 2.129742822434858, 1.8148619504792252, 1.5432984581772906, 1.3097769254628653, 1.114471464733148, 0.972457118078672, 0.9670383349510424, 0.9670383349510424, 0.9670383349510424, 0.9670383349510424, 0.9670383349510424, 0.9670383349510424, 0.9670383349510424, 0.9670383349510424, 0.9670383349510424, 0.9670383349510424, 4.047134428806665, 4.047134428806665, 3.9204863043287776, 3.184123322572508, 2.922716992848865, 2.467991079480188, 2.008824989014535, 1.6083822545099997, 1.263151748684448, 0.9698257674370427, 0.8843096788222704, 0.8843096788222704, 0.8843096788222704, 0.8843096788222704, 0.8843096788222704, 0.8843096788222704, 0.8843096788222704, 0.8843096788222704, 0.8843096788222704, 0.8843096788222704, 4.53306414364052, 4.53306414364052, 4.186017416848926, 3.2983444268761315, 3.0173991341172117, 2.6660696567093285, 2.1913333254756373, 1.762126202230266, 1.3803197800470257, 1.0352986652584382, 0.7603764957974546, 0.7603764957974546, 0.7603764957974546, 0.7603764957974546, 0.7603764957974546, 0.7603764957974546, 0.7603764957974546, 0.7603764957974546, 0.7603764957974546, 0.7603764957974546, 5.022387824525398, 5.022387824525398, 4.644366991946106, 3.4244610333010854, 3.0349013741564344, 2.6468150323637984, 2.278596143420986, 1.8620418128920722, 1.4873381385351152, 1.1296229839608254, 0.7769568789018088, 0.7588446411120886, 0.7588446411120886, 0.7588446411120886, 0.7588446411120886, 0.7588446411120886, 0.7588446411120886, 0.7588446411120886, 0.7588446411120886, 0.7588446411120886, 5.078992463470056, 5.078992463470056, 4.87130620595349, 3.40852593490649, 2.9371281528890747, 2.5479574743003757, 2.225329523085366, 1.8443746810314008, 1.491168283196913, 1.1368886097294584, 0.7498984057228256, 0.7406410656642048, 0.7406410656642048, 0.7406410656642048, 0.7406410656642048, 0.7406410656642048, 0.7406410656642048, 0.7406410656642048, 0.7406410656642048, 0.7406410656642048, 4.668462072619994, 4.668462072619994, 4.8035906593113396, 3.4349543341602327, 2.820089062885372, 2.4018530193050713, 2.058619045469616, 1.773037484237489, 1.4426909935961467, 1.0999161795373789, 0.7629100318157889, 0.7629100318157889, 0.7629100318157889, 0.7629100318157889, 0.7629100318157889, 0.7629100318157889, 0.7629100318157889, 0.7629100318157889, 0.7629100318157889, 0.7629100318157889, 2.7020207025558953, 2.341702576562527, 2.0763923074409716, 1.8422037487160228, 1.6356858340647615, 1.452312635958285, 1.2864387378099442, 1.1424421750616043, 1.0636509999328414, 1.0636509999328414, 1.0636509999328414, 1.0636509999328414, 1.0636509999328414, 1.0636509999328414, 1.0636509999328414, 1.0636509999328414, 1.0636509999328414, 1.0636509999328414, 1.0636509999328414, 1.0636509999328414, 3.4043585082492056, 3.2348645094179185, 3.0177418767579463, 2.6999937081552248, 2.3677096090073935, 2.017654767116054, 1.6954197421965875, 1.4069329174160292, 1.1608264451778085, 0.9502380150002264, 0.9502380150002264, 0.9502380150002264, 0.9502380150002264, 0.9502380150002264, 0.9502380150002264, 0.9502380150002264, 0.9502380150002264, 0.9502380150002264, 0.9502380150002264, 0.9502380150002264, 3.709430127239788, 3.709430127239788, 3.15289931940582, 2.947232275860841, 2.7156453661911018, 2.3979256532316953, 2.053263923990801, 1.7361273963338528, 1.4437903882043317, 1.18128697496076, 1.0570767884718224, 1.0570767884718224, 1.0570767884718224, 1.0570767884718224, 1.0570767884718224, 1.0570767884718224, 1.0570767884718224, 1.0570767884718224, 1.0570767884718224, 1.0570767884718224, 4.154138739837388, 4.154138739837388, 3.426675064826841, 3.0098510514278325, 2.717848150017311, 2.4507374044738923, 2.0975793874243425, 1.7630274235024166, 1.4554410958177024, 1.1551903617055674, 0.925550631182248, 0.925550631182248, 0.925550631182248, 0.925550631182248, 0.925550631182248, 0.925550631182248, 0.925550631182248, 0.925550631182248, 0.925550631182248, 0.925550631182248, 4.719194857172804, 4.719194857172804, 4.040296038568342, 3.087494598913368, 2.7113380119673134, 2.415556096847043, 2.121185079063376, 1.7921780155356086, 1.487377777712455, 1.1923427406926188, 0.6938187922815864, 0.6938187922815864, 0.6938187922815864, 0.6938187922815864, 0.6938187922815864, 0.6938187922815864, 0.6938187922815864, 0.6938187922815864, 0.6938187922815864, 0.6938187922815864, 4.648101687451933, 4.648101687451933, 3.9977764162322926, 3.103130150795645, 2.600179956332539, 2.2880646941217253, 1.996320278331933, 1.7333815348322388, 1.4531206800283236, 1.1779779326751947, 0.7320920538221865, 0.7320920538221865, 0.7320920538221865, 0.7320920538221865, 0.7320920538221865, 0.7320920538221865, 0.7320920538221865, 0.7320920538221865, 0.7320920538221865, 0.7320920538221865, 1.0982905045515912, 1.0982905045515912, 1.0982905045515912, 1.0982905045515912, 1.0982905045515912, 1.0982905045515912, 1.0982905045515912, 1.0982905045515912, 1.0982905045515912, 1.0982905045515912, 1.0982905045515912, 1.0982905045515912, 1.0982905045515912, 1.0982905045515912, 1.0982905045515912, 1.0982905045515912, 1.0982905045515912, 1.0982905045515912, 1.0982905045515912, 1.0982905045515912, 1.2722744483316006, 1.2722744483316006, 1.2722744483316006, 1.2722744483316006, 1.2722744483316006, 1.2722744483316006, 1.2722744483316006, 1.2722744483316006, 1.2722744483316006, 1.2722744483316006, 1.2722744483316006, 1.2722744483316006, 1.2722744483316006, 1.2722744483316006, 1.2722744483316006, 1.2722744483316006, 1.2722744483316006, 1.2722744483316006, 1.2722744483316006, 1.2722744483316006, 1.04314914820538, 1.04314914820538, 1.04314914820538, 1.04314914820538, 1.04314914820538, 1.04314914820538, 1.04314914820538, 1.04314914820538, 1.04314914820538, 1.04314914820538, 1.04314914820538, 1.04314914820538, 1.04314914820538, 1.04314914820538, 1.04314914820538, 1.04314914820538, 1.04314914820538, 1.04314914820538, 1.04314914820538, 1.04314914820538, 2.1636743957937226, 1.9954146710971163, 1.8360951493470574, 1.6857007629116163, 1.539411551278078, 1.4063598218549522, 1.4063598218549522, 1.4063598218549522, 1.4063598218549522, 1.4063598218549522, 1.4063598218549522, 1.4063598218549522, 1.4063598218549522, 1.4063598218549522, 1.4063598218549522, 1.4063598218549522, 1.4063598218549522, 1.4063598218549522, 1.4063598218549522, 1.4063598218549522, 2.6582788387348764, 2.4828798939757184, 2.2749666521784446, 2.0725719196943757, 1.8315322064376642, 1.6091352470728957, 1.2722001746053726, 0.8940930172499088, 0.6435867142115193, 0.6435867142115193, 0.6435867142115193, 0.6435867142115193, 0.6435867142115193, 0.6435867142115193, 0.6435867142115193, 0.6435867142115193, 0.6435867142115193, 0.6435867142115193, 0.6435867142115193, 0.6435867142115193, 3.069320130065134, 2.734595510759508, 2.4976549466496096, 2.317730408059517, 2.1381847128426084, 1.9567466846293937, 1.7897650438613297, 1.6072042652702123, 1.4330110569476637, 1.3561072019683929, 1.3561072019683929, 1.3561072019683929, 1.3561072019683929, 1.3561072019683929, 1.3561072019683929, 1.3561072019683929, 1.3561072019683929, 1.3561072019683929, 1.3561072019683929, 1.3561072019683929]\n",
      "17.120825872071684\n",
      "1.2066529121790102\n",
      "-3.9241659004073903\n",
      "0.9576081437975175\n",
      "[3.16368024 3.16368024 2.75229527 2.37767858 2.37767858 1.92031952\n",
      " 1.92031952 1.51302702 1.51302702 1.11640271 1.11640271 0.80592469\n",
      " 0.80592469 0.76170243 0.76170243 0.76170243 0.76170243 0.76170243\n",
      " 0.76170243 0.76170243]\n"
     ]
    },
    {
     "data": {
      "image/png": "[encoded data removed]",
      "text/plain": [
       "<Figure size 475.2x936 with 11 Axes>"
      ]
     },
     "metadata": {
      "needs_background": "light"
     },
     "output_type": "display_data"
    },
    {
     "data": {
      "image/png": "[encoded data removed]",
      "text/plain": [
       "<Figure size 475.2x936 with 10 Axes>"
      ]
     },
     "metadata": {
      "needs_background": "light"
     },
     "output_type": "display_data"
    },
    {
     "data": {
      "image/png": "[encoded data removed]",
      "text/plain": [
       "<Figure size 432x288 with 10 Axes>"
      ]
     },
     "metadata": {
      "needs_background": "light"
     },
     "output_type": "display_data"
    },
    {
     "data": {
      "image/png": "[encoded data removed]",
      "text/plain": [
       "<Figure size 432x288 with 1 Axes>"
      ]
     },
     "metadata": {
      "needs_background": "light"
     },
     "output_type": "display_data"
    }
   ],
   "source": [
    "\n",
    "\n",
    "# set to 0 to put everything with damping less than 0 as stable in grey. set to -np.inf\n",
    "# to turn off coloring the stable modes differently.\n",
    "damping_thresh = -np.inf\n",
    "use_eta = True # if False, will show visibility (vis) instead of stability (eta) for the coloring. N/A if damping_thresh = -np.inf\n",
    "\n",
    "# just make sure everything is up-to-date w.r.t. tess --- copying over the history.data info\n",
    "# as well as... some freq. data\n",
    "use_radius = True\n",
    "import subprocess\n",
    "# subprocess.call(\"cd ; ./copy_nonad.sh\")\n",
    "path = '/Users/jzinn/nonad/src/nonad/data/'\n",
    "index = pd.read_csv(path + \"count.index\", sep='\\s+')\n",
    "index['feh'] = index['feh'].apply(lambda x : float(x.replace('d', 'e')))\n",
    "index['alpha'] = pd.to_numeric(index['alpha'])\n",
    "\n",
    "n_r = 20\n",
    "\n",
    "# turn on all these to debug\n",
    "#index = index.loc[index['alpha'] == 1.7] # !!!! debug just for clarity\n",
    "#index = index.loc[index['mass'] == 1.0] # !!!! debug just for clarity\n",
    "#cc\n",
    "\n",
    "#index = index.loc[index['feh'] == -1]\n",
    "\n",
    "# splitting into grids now insteaed ---- see gs1 def. below\n",
    "# ax = plt.figure(1).gca()\n",
    "# ax_gyre = plt.figure(2).gca()\n",
    "                                                                                \n",
    "# ratios = [0.2, 0.75, 0.4, 0.04]\n",
    "# cbaxes = ax.figure.add_axes(ratios)  \n",
    "# cbaxes_gyre = ax_gyre.figure.add_axes(ratios)            \n",
    "import matplotlib.gridspec as gridspec \n",
    "f1 = plt.figure(1, figsize=(6.6,13)) # figsize of 5,11 for 4 panels.\n",
    "gs1 = gridspec.GridSpec(5, 2, figure=f1)\n",
    "gs1.update(wspace=0.0, hspace=0.0)\n",
    "f2 = plt.figure(2, figsize=(6.6,13)) # no figsize kwarg for 4 panels\n",
    "gs2 = gridspec.GridSpec(5, 2, figure=f2)\n",
    "gs2.update(wspace=0.0, hspace=0.0)\n",
    "f3 = plt.figure(3)\n",
    "gs3 = gridspec.GridSpec(5, 2, figure=f3)\n",
    "gs3.update(wspace=0.0, hspace=0.0)\n",
    "\n",
    "\n",
    "\n",
    "\n",
    "cmap = plt.cm.Reds  # define the colormap                                                                                                                                                                                       \n",
    "                                                                                                                                 \n",
    "    # extract all colors from the .jet map                                                                                       \n",
    "cmaplist = [cmap(i) for i in range(cmap.N)]                                                                                  \n",
    "    # force the first and last color entry to be grey                                                                            \n",
    "    #cmaplist[0] = (.5, .5, .5, 0.5)                                                                                              \n",
    "                                                                              \n",
    "    # create the new map                                                                                                         \n",
    "cmap = mpl.colors.LinearSegmentedColormap.from_list('Custom cmap', cmaplist, cmap.N)                                         \n",
    "                                                                                                                                 \n",
    "    # define the bins and normalize                                                                                              \n",
    "bounds = [-1.5, -0.5, -0.3, -0.1, 0.1, 0.3, 0.5]   \n",
    "fehs = np.sort(np.unique(index['feh'].values))\n",
    "norm = mpl.colors.BoundaryNorm(bounds, cmap.N) \n",
    "\n",
    "colors = cmap(norm(index['feh'].values))\n",
    "\n",
    "# solid for M = 1, dashed for M = 1.2\n",
    "linestyles = pd.Series(np.array(['-']*len(index), dtype=str))\n",
    "# linestyles[np.where(index['mass'] == 1.2)[0]] = '--' # !!! uncomment just temp. did this for clarity.\n",
    "\n",
    "\n",
    "# thick for default mesa alpha of 2 and thin for alpha = 1.7\n",
    "lw = 3\n",
    "lw = 1 # undo this ! leave it at 3 !!!\n",
    "lws = index['alpha']*0 + lw\n",
    "#lws[(index['alpha'] == 2.0)] = lw*2\n",
    "nn = 0\n",
    "done = False\n",
    "numaxes = np.array([0.2, 0.7, 30, 300])\n",
    "y_numaxs = numaxes*0\n",
    "lum_numaxs = numaxes*0\n",
    "r_numaxs = numaxes*0\n",
    "print(index)\n",
    "done_big = [False]*10\n",
    "done_big2 = [False]*10\n",
    "done_big3 = [False]*10\n",
    "\n",
    "def get_inds(count):\n",
    "    gyre_file = path + 'ad_approx_rad_err_{}.dat'.format(count)\n",
    "    mesa_file = path + 'history_{}.data'.format(count)\n",
    "    profile_file = path + 'profiles_{}.index'.format(count)\n",
    "    mesa = mesa_reader.MesaData(mesa_file)\n",
    "    gyre = pd.read_csv(gyre_file, sep=',')\n",
    "    profile = pd.read_csv(profile_file, sep='\\s+', skiprows=1, header=None)\n",
    "    profile.set_index(2, inplace=True)\n",
    "\n",
    "    \n",
    "    gyre['model_number'] = profile.loc[gyre['model']][0].values\n",
    "    gyre.set_index('model_number', inplace=True, drop=True)\n",
    "    \n",
    "    ggg = gyre.sort_values(by='model_number')['R']\n",
    "\n",
    "    #pause()\n",
    "    # this chooses where the ZAMS according to MESA docs... so just going with that.\n",
    "    zams = np.where(np.logical_and(-mesa.data('center_h1') + mesa.data('center_h1')[0] > 0.0015, 10.**(mesa.data('log_Lnuc')-mesa.data('log_L'))) > 0.999)[0][1]\n",
    "    # also only choose things that are below the tip of the giant branch\n",
    "    tams = np.where(mesa.data('center_h1') < 1e-12)[0][0]\n",
    "    good = np.where(mesa.data('center_he4')[tams] - 0.01 <= mesa.data('center_he4')[tams:])[0]\n",
    "    large = np.where(mesa.data('log_R') > np.log10(50.))[0][0]\n",
    "    good += tams\n",
    "    inds = np.arange(large,good[-1])\n",
    "\n",
    "    \n",
    "#     try:\n",
    "#         tip =la np.min(np.hstack((np.where(np.diff(mesa.data('log_L')[inds]) < 0)[0], np.where(np.diff(mesa.data('log_Teff')[inds]) > 0)[0])))\n",
    "#         print(tip)\n",
    "#         print(good[-1])\n",
    "#     except:\n",
    "#         tip = good[-1]\n",
    "    tip = np.argmin(mesa.data('log_center_T')[tams:])\n",
    "    #pause()\n",
    "    if tip == 0:\n",
    "        tip = good[-1]\n",
    "    tip = good[-1]\n",
    "    #tip = len(mesa.data('log_L')) - 1\n",
    "    inds = remove_dredge_up(mesa.data('log_L')[tams:tip], mesa.data('log_Teff')[tams:tip])\n",
    "    #inds = np.arange(tams, tip)\n",
    "    \n",
    "    inds = np.arange(tams, tip)[inds]\n",
    "    inds = inds[np.where(10.**(mesa.data('log_Teff')[inds]) < 6700)[0]]\n",
    "    _gyre = gyre.loc[gyre.index.isin(mesa.data('model_number')[inds])]\n",
    "    #print(len(gyre.loc[gyre.index.isin(mesa.data('model_number'))]))\n",
    "    #print(index.loc[index['count'] == count])\n",
    "    #print(gyre.loc[gyre['model'] == 172])\n",
    "    _gyre = _gyre.sort_values('R')\n",
    "    return inds, _gyre, gyre, mesa\n",
    " \n",
    "    \n",
    "\n",
    "for count, color, linestyle, lw in zip(index['count'], colors, linestyles, lws):\n",
    "    inds, _gyre, gyre, mesa = get_inds(count)\n",
    "    print(np.min(_gyre['numax']), count)\n",
    "    for inn, numax in enumerate(numaxes):\n",
    "        n_ind = np.where((_gyre['numax'] > numax*0.95)*(_gyre['numax'] < numax*1.05))[0]\n",
    "        \n",
    "        if len(n_ind) > 0 and not done and count == 7:\n",
    "            y_numaxs[inn] = (np.median(_gyre['err'].iloc[n_ind]))\n",
    "            g_ind = np.where(np.isin(mesa.data('model_number')[inds], _gyre.index.values))[0]\n",
    "\n",
    "            lum_numaxs[inn] = (np.median(mesa.data('log_L')[inds][g_ind][n_ind]))\n",
    "            r_numaxs[inn] = ((np.median(mesa.data('log_R')[inds][g_ind][n_ind])))\n",
    "            if len(np.where(y_numaxs > 0)[0]) == len(numaxes):\n",
    "                done = True\n",
    "fdnus = np.empty(shape=(2, 6, n_r))\n",
    "fdnus = []\n",
    "errs = []\n",
    "points = []                \n",
    "ax_fdnu = plt.figure(20).gca()\n",
    "print(index['count'])\n",
    "print(len(index.loc[index['alpha'] == 2.0]))\n",
    "print(len(index.loc[index['alpha'] == 1.7]))\n",
    "twice = False\n",
    "for count, color, linestyle, lw in zip(index['count'], colors, linestyles, lws):\n",
    "    \n",
    "    ylabel2 = False\n",
    "    ylabell = False\n",
    "    # print(index.loc[index['count'] == count, 'alpha'])\n",
    "    if index.loc[index['count'] == count, 'alpha'].values[0] == 1.7 and index.loc[index['count'] == count, 'mass'].values[0] == 1.0:\n",
    "        label = r'$\\alpha = 1.7$' + '\\n' +  r'$M = 1.0 M_{\\odot}$'\n",
    "        ax = f1.add_subplot(gs1[0, 0])\n",
    "        ax_gyre = f2.add_subplot(gs2[0, 0]) \n",
    "        ax_other = f3.add_subplot(gs3[0, 0])\n",
    "        figlabel = 'a)'\n",
    "        ylabel = True\n",
    "        ylabell = False\n",
    "        xlabel = False\n",
    "        indd = 0\n",
    "    if index.loc[index['count'] == count, 'alpha'].values[0] == 2.0 and index.loc[index['count'] == count, 'mass'].values[0] == 1.0:\n",
    "        label = r'$\\alpha = 2.0$' + '\\n' + r'$M = 1.0 M_{\\odot}$'\n",
    "        ax = f1.add_subplot(gs1[0, 1])\n",
    "        ax_gyre = f2.add_subplot(gs2[0, 1])\n",
    "        ax_other = f3.add_subplot(gs3[0, 1])\n",
    "        figlabel = 'b)'\n",
    "        ylabel = False\n",
    "        xlabel = False\n",
    "        indd = 1\n",
    "    if index.loc[index['count'] == count, 'alpha'].values[0] == 1.7 and index.loc[index['count'] == count, 'mass'].values[0] == 1.2:\n",
    "        label = r'$\\alpha = 1.7$' + '\\n' + r'$M = 1.2 M_{\\odot}$'\n",
    "        ax = f1.add_subplot(gs1[1, 0])\n",
    "        ax_gyre = f2.add_subplot(gs2[1, 0]) \n",
    "        ax_other = f3.add_subplot(gs3[1, 0])\n",
    "        figlabel = 'c)'\n",
    "        ylabel = True\n",
    "        ylabel2 = False\n",
    "        xlabel = False\n",
    "        ylabell = False\n",
    "        indd = 2\n",
    "        \n",
    "    if index.loc[index['count'] == count, 'alpha'].values[0] == 2.0 and index.loc[index['count'] == count, 'mass'].values[0] == 1.2:\n",
    "        label = r'$\\alpha = 2.0$' + '\\n' + r'$M = 1.2 M_{\\odot}$'\n",
    "        ax = f1.add_subplot(gs1[1, 1])\n",
    "        ax_gyre = f2.add_subplot(gs2[1, 1]) \n",
    "        ax_other = f3.add_subplot(gs3[1, 1])\n",
    "        figlabel = 'd)'\n",
    "        ylabel = False\n",
    "        xlabel = False\n",
    "        indd = 3\n",
    "    \n",
    "    if index.loc[index['count'] == count, 'alpha'].values[0] == 1.7 and index.loc[index['count'] == count, 'mass'].values[0] == 1.4:\n",
    "        label = r'$\\alpha = 1.7$' + '\\n' + r'$M = 1.4 M_{\\odot}$'\n",
    "        ax = f1.add_subplot(gs1[2, 0])\n",
    "        ax_gyre = f2.add_subplot(gs2[2, 0]) \n",
    "        ax_other = f3.add_subplot(gs3[2, 0])\n",
    "        figlabel = 'e)'\n",
    "        ylabel = True\n",
    "        ylabell = True\n",
    "        xlabel = False\n",
    "        indd = 4\n",
    "        \n",
    "    if index.loc[index['count'] == count, 'alpha'].values[0] == 1.7 and index.loc[index['count'] == count, 'mass'].values[0] == 1.8:\n",
    "        label = r'$\\alpha = 1.7$' + '\\n' + r'$M = 1.8 M_{\\odot}$'\n",
    "        ax = f1.add_subplot(gs1[3, 0])\n",
    "        ax_gyre = f2.add_subplot(gs2[3, 0]) \n",
    "        ax_other = f3.add_subplot(gs3[3, 0])\n",
    "        figlabel = 'g)'\n",
    "        ylabel = True\n",
    "        xlabel = False\n",
    "        ylabel2 = True\n",
    "        indd = 5\n",
    "    \n",
    "    if index.loc[index['count'] == count, 'alpha'].values[0] == 1.7 and index.loc[index['count'] == count, 'mass'].values[0] == 2.2:\n",
    "        label = r'$\\alpha = 1.7$' + '\\n' + r'$M = 2.2 M_{\\odot}$'\n",
    "        ax = f1.add_subplot(gs1[4, 0])\n",
    "        ax_gyre = f2.add_subplot(gs2[4, 0]) \n",
    "        ax_other = f3.add_subplot(gs3[4, 0])\n",
    "        figlabel = 'i)'\n",
    "        ylabel = True\n",
    "        ylabell = False\n",
    "        ylabel2 = False\n",
    "        xlabel = True\n",
    "        indd = 6\n",
    "        \n",
    "    if index.loc[index['count'] == count, 'alpha'].values[0] == 2.0 and index.loc[index['count'] == count, 'mass'].values[0] == 1.4:\n",
    "        label = r'$\\alpha = 2.0$' + '\\n' + r'$M = 1.4 M_{\\odot}$'\n",
    "        ax = f1.add_subplot(gs1[2, 1])\n",
    "        ax_gyre = f2.add_subplot(gs2[2, 1]) \n",
    "        ax_other = f3.add_subplot(gs3[2, 1])\n",
    "        figlabel = 'f)'\n",
    "        ylabel = False\n",
    "        xlabel = False\n",
    "        indd = 7\n",
    "        \n",
    "    if index.loc[index['count'] == count, 'alpha'].values[0] == 2.0 and index.loc[index['count'] == count, 'mass'].values[0] == 1.8:\n",
    "        label = r'$\\alpha = 2.0$' + '\\n' + r'$M = 1.8 M_{\\odot}$'\n",
    "        ax = f1.add_subplot(gs1[3, 1])\n",
    "        ax_gyre = f2.add_subplot(gs2[3, 1]) \n",
    "        ax_other = f3.add_subplot(gs3[3, 1])\n",
    "        figlabel = 'h)'\n",
    "        ylabel = False\n",
    "        xlabel = False\n",
    "        indd = 8\n",
    "        \n",
    "    if index.loc[index['count'] == count, 'alpha'].values[0] == 2.0 and index.loc[index['count'] == count, 'mass'].values[0] == 2.2:\n",
    "        label = r'$\\alpha = 2.0$' + '\\n' + r'$M = 2.2 M_{\\odot}$'\n",
    "        ax = f1.add_subplot(gs1[4, 1])\n",
    "        ax_gyre = f2.add_subplot(gs2[4, 1]) \n",
    "        ax_other = f3.add_subplot(gs3[4, 1])\n",
    "        figlabel = 'j)'\n",
    "        ylabel = False\n",
    "        xlabel = True\n",
    "        indd = 9\n",
    "\n",
    "    if indd == 1:\n",
    "        #if twice:\n",
    "        #   ggg\n",
    "        twice = True\n",
    "        \n",
    "    inds, _gyre, gyre, mesa = get_inds(count)\n",
    "    if len(np.unique(inds)) != len(inds):\n",
    "        ggg\n",
    "    if True:               \n",
    " \n",
    "        \n",
    "        #inds = np.arange(tams, tip)\n",
    "        if use_radius:\n",
    "            heatmap = ax.plot(10.**(mesa.data('log_Teff')[inds]), mesa.data('log_R')[inds], lw=0.5*lw, linestyle=linestyle, color=color)\n",
    "        else:\n",
    "            heatmap = ax.plot(10.**(mesa.data('log_Teff')[inds]), mesa.data('log_L')[inds], lw=0.5*lw, linestyle=linestyle, color=color)\n",
    "        \n",
    "    \n",
    "    #heatmap = ax.scatter(10.**(mesa.data('log_Teff')[inds]), mesa.data('R')[inds], s=1,c=color)\n",
    "    #g_ind = np.where(np.isin(mesa.data('model_number')[inds], gyre.loc[gyre['err'] < 0.6].index.values))[0]\n",
    "    #print(gyre.loc[gyre.index.isin(mesa.data('model_number')[inds][g_ind])])\n",
    "    #heatmap = ax.scatter(10.**(mesa.data('log_Teff')[inds][g_ind]), mesa.data('R')[inds][g_ind], s=1,c='red')\n",
    "\n",
    "    \n",
    "    \n",
    "\n",
    "    ax_gyre.text(35, 0.7, label)\n",
    "\n",
    "    ax_gyre.text(1.5, 12, figlabel) # 100, 0.6 for 4 panels\n",
    "    ax_other.text(2*1e-5, 5.0, label)\n",
    "    ax_other.text(0.1, 0.6, figlabel)\n",
    "    if use_radius:\n",
    "        ax.text(4500, 0.15, label)\n",
    "        ax.text(6800, 2.3, figlabel)\n",
    "    else:\n",
    "        ax.text(4500, 0.4, label)\n",
    "        ax.text(6800, 5, figlabel)\n",
    "    plot_special = False\n",
    "    if index.loc[index['count'] == count, 'mass'].values[0] == 1.0 and index.loc[index['count'] == count, 'feh'].values[0] == 0.0 and index.loc[index['count'] == count, 'alpha'].values[0] == 2.0:\n",
    "#         print(index.loc[index['count'] == count])\n",
    "#         print('feh = 0 radii and errs:')\n",
    "        rs = [2, 5, 20, 50, 100, 150]\n",
    "        iinds = []\n",
    "        for r in rs:\n",
    "            iinds.append(_gyre.iloc[np.argmin(np.abs(_gyre['R'] - r))].name)\n",
    "        plot_special = True\n",
    "        \n",
    "    \n",
    "    heatmap_gyre = ax_gyre.scatter(_gyre['R'], _gyre['err'], color=color, s=lw)\n",
    "    \n",
    "    if use_eta:\n",
    "        color_field = 'eta'\n",
    "    else:\n",
    "        color_field = 'inertia2'\n",
    "        _gyre[color_field] = _gyre['inertia']**(-2)\n",
    "        print(_gyre[color_field])\n",
    "        \n",
    "        _gyre[color_field] -= 1e5 \n",
    "    unstable = _gyre[color_field] < 0.0\n",
    "    #print(_gyre.loc[unstable])\n",
    "    # plotting on the other side of the y-axis the eta\n",
    "    #ax2 = ax_gyre.twinx()\n",
    "    # eta2 is eta from dupret+2009\n",
    "    #ax2.scatter(_gyre['R'], (_gyre['eta2']), color=color)\n",
    "    #ax2.set_ylim([1e-9, 1e-5])\n",
    "    #ax2.scatter(_gyre['R'], (1./_gyre['eta2']/_gyre['inertia']), color=color)\n",
    "    #ax2.set_ylim([1e0, 1e6])\n",
    "    #ax2.scatter(_gyre['R'], np.abs(_gyre['inertia']), color=color)\n",
    "    #ax2.set_ylim([1e-6, 1e0])\n",
    "#     ax2.scatter(_gyre['R'], (_gyre['sigir']), color=color)\n",
    "#     ax2.set_ylim([1e-6, 1e0])\n",
    "#     ax2.set_yscale('log')\n",
    "    \n",
    "#     ax2 = ax_gyre.twiny()\n",
    "#     ax2.scatter(_gyre['sigir'], (_gyre['err']), color=color)\n",
    "#     ax2.set_xlim([1e-6, 1e0])\n",
    "#     ax2.set_xscale('log')\n",
    "\n",
    "    \n",
    "    ax_other.scatter(2.*np.pi*_gyre['sigir'].loc[~unstable], _gyre['err'].loc[~unstable], color=color, s=lw)\n",
    "\n",
    "    if plot_special:\n",
    "        heatmap_gyre = ax_gyre.scatter(_gyre.loc[iinds,'R'], _gyre.loc[iinds, 'err'], color=color, lw=lw*0.1, marker='^', zorder=1e11)\n",
    "        g_ind = np.where(np.isin(mesa.data('model_number')[inds], _gyre.loc[iinds].index.values))[0]\n",
    "        if use_radius:\n",
    "            ax.scatter(10.**(mesa.data('log_Teff')[inds][g_ind]), mesa.data('log_R')[inds][g_ind], lw=lw*0.25,color=color, marker='^', zorder=1e11)\n",
    "        else:\n",
    "            ax.scatter(10.**(mesa.data('log_Teff')[inds][g_ind]), mesa.data('log_L')[inds][g_ind], lw=lw*0.25,color=color, marker='^', zorder=1e11)\n",
    "\n",
    "\n",
    "\n",
    "            \n",
    "    heatmap_gyre = ax_gyre.plot(_gyre['R'], _gyre['err'], color=color, lw=lw*0.5, linestyle=linestyle)\n",
    "    eta = _gyre[color_field].iloc[0]\n",
    "    count_eta = 0\n",
    "    old_count_eta = 0\n",
    "    while count_eta < len(_gyre):\n",
    "        while eta*_gyre[color_field].iloc[count_eta] >= 0 :\n",
    "            eta = _gyre[color_field].iloc[count_eta]\n",
    "            \n",
    "            \n",
    "            count_eta += 1\n",
    "            if count_eta == len(_gyre)-1: \n",
    "                break\n",
    "\n",
    "        eta = _gyre[color_field].iloc[count_eta]\n",
    "        \n",
    "        if _gyre[color_field].iloc[count_eta-1] <= damping_thresh:\n",
    "            color_eta = 'grey'\n",
    "        else:\n",
    "            color_eta = color \n",
    "        if count_eta == len(_gyre)-1:\n",
    "            count_eta += 1\n",
    "        \n",
    "        ax_gyre.scatter(_gyre['R'].iloc[old_count_eta:count_eta], _gyre['err'].iloc[old_count_eta:count_eta], color=color_eta, s=lw)\n",
    "        ax_gyre.plot(_gyre['R'].iloc[old_count_eta:count_eta], _gyre['err'].iloc[old_count_eta:count_eta], color=color_eta, lw=0.5*lw, linestyle=linestyle)\n",
    "        g_ind = np.where(np.isin(mesa.data('model_number')[inds], _gyre.index.values))[0]\n",
    "        if color_eta == 'grey':\n",
    "            if use_radius:\n",
    "                heatmap = ax.plot(10.**(mesa.data('log_Teff')[inds][g_ind][old_count_eta:count_eta]), mesa.data('log_R')[inds][g_ind][old_count_eta:count_eta], lw=lw,c=color_eta, linestyle=linestyle)\n",
    "            else:\n",
    "                heatmap = ax.plot(10.**(mesa.data('log_Teff')[inds][g_ind][old_count_eta:count_eta]), mesa.data('log_L')[inds][g_ind][old_count_eta:count_eta], lw=lw,c=color_eta, linestyle=linestyle)\n",
    "\n",
    "        old_count_eta = count_eta\n",
    "        count_eta += 1\n",
    "\n",
    "        print('done ')\n",
    "        print(indd)\n",
    "        print(done_big2[indd])\n",
    "        # uncomment these to plot the fdnu\n",
    "        #ax_fdnu.scatter(np.log10(rr), 1./(dnu_scal/_gyre['dnu_obs']))\n",
    "        #ax_fdnu.set_ylim([0.95, 1.05])\n",
    "        # # ax_fdnu.scatter(teff, 1./(dnu_scal/_gyre['dnu_obs']))\n",
    "        # # ax_fdnu.set_xlim([7000,3000])\n",
    "        #ax_fdnu.figure.savefig('fdnu.png', format='png', dpi=2000)\n",
    "        #ggg\n",
    "        \n",
    "    # try to make an interpolating functino to do fdnu corrections\n",
    "    # !!! would need to change shape of grid if changed the number of feh or mass\n",
    "    # the last dimension is radius, and if want something other than linear interp, may want to increase the number of points in that dimension\n",
    "    # since there is some shape in teh radius dimension (see the ad error plot as a functino of radius)\n",
    " \n",
    "\n",
    "    from scipy import interpolate\n",
    "    from scipy.interpolate import LinearNDInterpolator, NearestNDInterpolator\n",
    "    use_rad = False\n",
    "    if use_rad:\n",
    "        rads = np.logspace(0.0, np.log10(150), n_r)\n",
    "    else:\n",
    "        rads = np.logspace(np.log(np.min(_gyre['numax'])), np.log(np.max(_gyre['numax'])), n_r)\n",
    "    feh_inds = {-1:0, -0.4:1, -0.2:2, 0.0:3, 0.2:4, 0.4:5}\n",
    "    \n",
    "    alpha_grid = 1.7 # or 2.0\n",
    "    if index.loc[index['count'] == count, 'alpha'].values[0] == alpha_grid:\n",
    "        dnu_sun = 135.146\n",
    "        dnu_scal = np.sqrt(mesa.data('star_mass')[inds][0]/_gyre['R']**3)*dnu_sun\n",
    "        print(mesa.data('star_mass')[inds])\n",
    "        _gyre['fdnu'] = 1./(dnu_scal/_gyre['dnu_obs'])\n",
    "        print(indd)\n",
    "        mass = index.loc[index['count'] == count, 'mass'].values[0]\n",
    "        feh_ind = feh_inds[index.loc[index['count'] == count, 'feh'].values[0]]\n",
    "        if use_rad:\n",
    "            m = _gyre['fdnu'].iloc[np.argmin(_gyre['R'] )]\n",
    "            ma = _gyre['fdnu'].iloc[np.argmax(_gyre['R'] )]\n",
    "            radius_interp = interpolate.interp1d(np.log10(_gyre['R']), _gyre['fdnu'], bounds_error=False, fill_value=(m,ma))\n",
    "            _fdnus = radius_interp(np.log10(rads))\n",
    "            m = _gyre['err'].iloc[np.argmin(_gyre['R'] )]\n",
    "            ma = _gyre['err'].iloc[np.argmax(_gyre['R'] )]\n",
    "            radius_interp = interpolate.interp1d(np.log10(_gyre['R']), _gyre['err'], bounds_error=False, fill_value=(m,ma))\n",
    "            _errs = radius_interp(np.log10(rads))\n",
    "\n",
    "            fdnus += list(_fdnus)\n",
    "            errs += list(_errs)\n",
    "        \n",
    "            points += [(mass, index.loc[index['count'] == count, 'feh'].values[0], np.log10(r)) for r in rads]\n",
    "        else:\n",
    "            m = _gyre['fdnu'].iloc[np.argmin(_gyre['numax'] )]\n",
    "            ma = _gyre['fdnu'].iloc[np.argmax(_gyre['numax'] )]\n",
    "            radius_interp = interpolate.interp1d(np.log(_gyre['numax']), _gyre['fdnu'], bounds_error=False, fill_value=(m,ma))\n",
    "            _fdnus = radius_interp(np.log(rads))\n",
    "            m = _gyre['err'].iloc[np.argmin(_gyre['numax'] )]\n",
    "            ma = _gyre['err'].iloc[np.argmax(_gyre['numax'] )]\n",
    "            radius_interp = interpolate.interp1d(np.log(_gyre['numax']), _gyre['err'], bounds_error=False, fill_value=(m,ma))\n",
    "            _errs = radius_interp(np.log(rads))\n",
    "\n",
    "            fdnus += list(_fdnus)\n",
    "            errs += list(_errs)\n",
    "        \n",
    "            points += [(mass, index.loc[index['count'] == count, 'feh'].values[0], np.log(r)) for r in rads]            \n",
    "        # changing this to ln numax instead of log radius\n",
    "        # points += [(mass, index.loc[index['count'] == count, 'feh'].values[0], np.log(numax)) for r in numaxs]\n",
    "    # there is too much spread in metallicity to put on numax == 10 and 100 in the gyre plot at least.\n",
    "        \n",
    "\n",
    "\n",
    "    if not done_big[indd]:\n",
    "        done_big[indd] = True\n",
    "        for lum_numax, r_numax, y_numax, numax in zip(lum_numaxs, r_numaxs, y_numaxs, numaxes): \n",
    "            alpha1 = 0.7\n",
    "            alpha2 = 0.7\n",
    "            if True:\n",
    "            \n",
    "                ax_gyre.text(1, y_numax*0.85, r'$\\nu_{{\\mathrm{{max}}}} \\approx${:3.1f} $\\mu\\mathrm{{Hz}}$'.format(numax), color='grey', alpha=alpha1, fontsize=8)\n",
    "                if use_radius:\n",
    "                    ax.text(7250, r_numax-0.2, r'$\\nu_{{\\mathrm{{max}}}}  \\approx${:3.1f} $\\mu\\mathrm{{Hz}}$'.format(numax), color='grey', alpha=alpha1, fontsize=8)\n",
    "                else:\n",
    "                    ax.text(7250, lum_numax-0.2, r'$\\nu_{{\\mathrm{{max}}}}  \\approx${:3.1f} $\\mu\\mathrm{{Hz}}$'.format(numax), color='grey', alpha=alpha1, fontsize=8)\n",
    "                ax_other.text(1e-3, y_numax*0.85, r'$\\nu_{{\\mathrm{{max}}}}  \\approx${:3.1f} $\\mu\\mathrm{{Hz}}$'.format(numax), color='grey', alpha=alpha1, fontsize=8)\n",
    "            if use_radius:\n",
    "                ax.axhline(r_numax, linestyle='dashed', color='grey', zorder=1e-11, alpha=alpha2)\n",
    "            else:\n",
    "                ax.axhline(lum_numax, linestyle='dashed', color='grey', zorder=1e-11, alpha=alpha2)\n",
    "\n",
    "            ax_other.axhline(y_numax, linestyle='dashed', color='grey', zorder=1e-11, alpha=alpha2)\n",
    "            ax_gyre.axhline(y_numax, linestyle='dashed', color='grey', zorder=1e-11, alpha=alpha2)\n",
    "    #print(_gyre)\n",
    "    #print(_gyre.iloc[np.argmin(np.abs(_gyre['R'] - 9.46e1))])\n",
    "    #print(_gyre.iloc[np.argmin(np.abs(_gyre['R'] - 5.78e1))])\n",
    "    #print(_gyre.iloc[np.argmin(np.abs(_gyre['model'] - 190))])\n",
    "    # now also plot up the TACHeB -> R = 150\n",
    "    big = len(mesa.data('log_L'))-1\n",
    "    try:\n",
    "        tacheb = np.where(mesa.data('center_he4') < 1e-4)[0][0]\n",
    "    except:\n",
    "        tacheb = big\n",
    "    if big == tacheb:\n",
    "        #pause()\n",
    "        pass\n",
    "    if big > tacheb:\n",
    "        \n",
    "        inds = remove_dredge_up(mesa.data('log_L')[tacheb:big], mesa.data('log_Teff')[tacheb:big])\n",
    "        inds = np.arange(tacheb, big)[inds]\n",
    "        \n",
    "        #heatmap = ax.plot(10.**(mesa.data('log_Teff')[inds]), mesa.data('log_L')[inds], lw=lw, linestyle=linestyle, color=color)\n",
    "        #ax.scatter(10.**(mesa.data('log_Teff')[inds[0]]), mesa.data('log_L')[inds[0]], marker='*', s=5, color='black')\n",
    "        #ax.scatter(10.**(mesa.data('log_Teff')[inds[0]]), mesa.data('log_center_T')[inds[0]], marker='*', s=5, color='black')\n",
    "\n",
    "        _gyre = gyre.loc[gyre.index.isin(mesa.data('model_number')[inds])]\n",
    "        _gyre = _gyre.sort_values('R')\n",
    "        #ax_gyre.scatter(_gyre['R'].iloc[0], _gyre['err'].iloc[0], marker='*', s=5, color='black')\n",
    "        #heatmap_gyre = ax_gyre.scatter(_gyre['R'], _gyre['err'], color=color, s=lw)\n",
    "        #heatmap_gyre = ax_gyre.plot(_gyre['R'], _gyre['err'], color=color, lw=lw*0.5, linestyle=linestyle)\n",
    "    yticks = ax.yaxis.get_major_ticks()\n",
    "\n",
    "    yticks[-1].label1.set_visible(False)\n",
    "    if xlabel:\n",
    "        ax.set_xlabel(r'$T_{\\mathrm{eff}}\\mathrm{\\ [K]}$')\n",
    "        ax_gyre.set_xlabel(r'$\\frac{R}{R_{\\odot}}$')\n",
    "        ax_other.set_xlabel(r'$2\\pi\\frac{\\sigma_i}{\\sigma_r}$')\n",
    "    else:\n",
    "        xticks = ax.xaxis.get_major_ticks()\n",
    "        for xtick in xticks:\n",
    "            xtick.label1.set_visible(False)\n",
    "        xticks = ax_gyre.xaxis.get_major_ticks()\n",
    "        for xtick in xticks:\n",
    "            xtick.label1.set_visible(False)\n",
    "        xticks = ax_other.xaxis.get_major_ticks()\n",
    "        for xtick in xticks:\n",
    "            xtick.label1.set_visible(False)\n",
    "    #if nn == 0:\n",
    "        #ax_gyre.figure.legend(loc='upper left')\n",
    "        #ax_other.figure.legend(loc='upper left')\n",
    "        #ax.figure.legend(loc='upper left')\n",
    "    if ylabel2:\n",
    "        ax_gyre.set_ylabel(r'Radius error [%],')\n",
    "        ax_other.set_ylabel(r'Radius error [%],')\n",
    "        \n",
    "    if use_radius:\n",
    "        ax.set_ylabel(r'$\\log_{10} \\frac{R}{R_{\\odot}}$')\n",
    "    else:\n",
    "        ax.set_ylabel(r'$\\log_{10} \\frac{L}{L_{\\odot}}$')\n",
    "    if ylabell:\n",
    "\n",
    "        if not ylabel2:\n",
    "            ax_gyre.set_ylabel(r'$\\mathrm{\\left[\\left(\\frac{\\Delta \\nu_{ad}}{\\Delta \\nu_{nonad}}\\right)^2 -1\\right]\\times 100}$')\n",
    "            ax_other.set_ylabel(r'$\\mathrm{\\left[\\left(\\frac{\\Delta \\nu_{ad}}{\\Delta \\nu_{nonad}}\\right)^2 -1\\right]\\times 100}$')\n",
    "    \n",
    "    if not ylabel:\n",
    "        yticks = ax.yaxis.get_major_ticks()\n",
    "        for ytick in yticks:\n",
    "            ytick.label1.set_visible(False)\n",
    "        yticks = ax_gyre.yaxis.get_major_ticks()\n",
    "        for ytick in yticks:\n",
    "            ytick.label1.set_visible(False)\n",
    "        yticks = ax_other.yaxis.get_major_ticks()\n",
    "        for ytick in yticks:\n",
    "            ytick.label1.set_visible(False)\n",
    "    #ratios = [0.15, 0.75, 0.22, 0.03] these are the ratios for 4 panels\n",
    "    ratios = [0.15, 0.811, 0.2, 0.015] \n",
    "    cbaxes = ax.figure.add_axes(ratios)  \n",
    "    #cbaxes_gyre = ax_gyre.figure.add_axes(ratios) \n",
    "    if count == 0:\n",
    "        cbar = plt.colorbar(mpl.cm.ScalarMappable(norm=norm, cmap=cmap), ticks=fehs, orientation='horizontal', cax=cbaxes) \n",
    "        #cbar_gyre = plt.colorbar(mpl.cm.ScalarMappable(norm=norm, cmap=cmap), ticks=fehs, orientation='horizontal', cax=cbaxes_gyre) \n",
    "        clabel = r'$\\mathrm{[Fe/H]}$'\n",
    "        cbar.set_label(r''+clabel, weight='bold', fontsize=8) \n",
    "        #cbar_gyre.set_label(r''+clabel, weight='bold', fontsize=10)\n",
    "        cbaxes.tick_params(which='major',labelsize=6)\n",
    "        #cbaxes_gyre.tick_params(which='major',labelsize=8)\n",
    "    # removed this and added the log-scale\n",
    "    #ax.set_yscale('log')\n",
    "    ax_gyre.set_yscale('log')\n",
    "    if use_radius:\n",
    "        ax.set_ylim([0, 2.5])\n",
    "    else:\n",
    "        ax.set_ylim([0, 3.5])\n",
    "    ax.set_xlim([7000, None])\n",
    "\n",
    "    ax_gyre.set_xscale('log')\n",
    "    ax_gyre.set_xlim([0.9, 250])\n",
    "    ax_gyre.set_ylim([0.6, 15])\n",
    "    ax_other.set_xlim([1e-5, 1e0])\n",
    "    ax_other.set_ylim([0.4, 10])\n",
    "    ax_other.set_xscale('log')\n",
    "    ax_other.set_yscale('log')\n",
    "    \n",
    "    ax.set_xlim(10.**(np.array([3.87, 3.45])))\n",
    "    if ylabel:\n",
    "        ax_gyre.set_yticks([1, 10])\n",
    "        ax_gyre.set_yticklabels(['1%', '10%'])\n",
    "        ax_gyre.set_yticks([0.6, 0.8, 2, 4, 6, 8], minor=True)\n",
    "        ax_gyre.set_yticklabels(['0.6%', '0.8%', '2%', '4%', '6%', '8%'], minor=True, fontsize=8)\n",
    "        ax_other.set_yticks([1, 10])\n",
    "        ax_other.set_yticklabels(['1%', '10%'])\n",
    "        ax_other.set_yticks([0.6, 0.8, 2, 4, 6, 8], minor=True)\n",
    "        ax_other.set_yticklabels(['0.6%', '0.8%', '2%', '4%', '6%', '8%'], minor=True, fontsize=8)\n",
    "    nn += 1   \n",
    "masses = [1.0, 1.2]\n",
    "#fdnus_interp = LinearNDInterpolator(np.meshgrid(masses, fehs, np.log10(rads)), fdnus)\n",
    "print(points)\n",
    "print(fdnus)\n",
    "fdnus_interp = LinearNDInterpolator(points, fdnus, rescale=True)\n",
    "\n",
    "errs_interp = LinearNDInterpolator(points, errs, rescale=True)\n",
    "\n",
    "#fdnusn_interp = LinearNDInterpolator(points, fdnusn)\n",
    "#n = fdnusn_interp([1.2]*len(rads), [0.0]*len(rads), np.log10(rads))\n",
    "a = fdnus_interp([1.2]*len(rads), [0.0]*len(rads), np.log(rads))\n",
    "b = errs_interp([1.2]*len(rads), [0.0]*len(rads), np.log(rads))\n",
    "print(b)\n",
    "import pickle\n",
    "al = 'alpha1p7'*(alpha_grid == 1.7) + ''\n",
    "f = open('fdnu_int'+al+'.pckl', 'wb')\n",
    "pickle.dump((fdnus_interp, errs_interp), f)\n",
    "f.close()\n",
    "print(points)\n",
    "print(fdnus)\n",
    "print(errs)\n",
    "print(np.max(points))\n",
    "print(np.max(fdnus))\n",
    "print(np.min(points))\n",
    "print(np.min(fdnus))\n",
    "\n",
    "fdnus_interp = NearestNDInterpolator(points, fdnus, rescale=True)\n",
    "\n",
    "errs_interp = NearestNDInterpolator(points, errs, rescale=True)\n",
    "\n",
    "#fdnusn_interp = LinearNDInterpolator(points, fdnusn)\n",
    "#n = fdnusn_interp([1.2]*len(rads), [0.0]*len(rads), np.log10(rads))\n",
    "a = fdnus_interp([1.2]*len(rads), [0.0]*len(rads), np.log(rads))\n",
    "b = errs_interp([1.2]*len(rads), [0.0]*len(rads), np.log(rads))\n",
    "print(b)\n",
    "import pickle\n",
    "f = open('fdnu_int_nearest'+al+'.pckl', 'wb')\n",
    "pickle.dump((fdnus_interp, errs_interp), f)\n",
    "f.close()\n",
    "\n",
    "#ax_gyre.plot(rads, a)\n",
    "#ax_gyre.plot(rads, b)\n",
    "        \n",
    "        \n",
    "\n",
    "\n",
    "#plt.show()\n",
    "if damping_thresh > -np.inf:\n",
    "    if use_eta:\n",
    "        ext = '_w_damping'\n",
    "    else:\n",
    "        ext = '_w_vis'\n",
    "else:\n",
    "    ext = ''\n",
    "ax.figure.savefig('hr'+ext+'.png', format='png',dpi=1000)\n",
    "ax_gyre.figure.savefig('gyre'+ext+'.png', format='png',dpi=1000)\n",
    "ax_other.figure.savefig('other'+ext+'.png', format='png', dpi=1000)\n",
    "\n",
    "\n",
    "\n"
   ]
  },
  {
   "cell_type": "code",
   "execution_count": null,
   "id": "suffering-samoa",
   "metadata": {},
   "outputs": [],
   "source": []
  },
  {
   "cell_type": "code",
   "execution_count": null,
   "id": "collected-liberal",
   "metadata": {},
   "outputs": [],
   "source": []
  }
 ],
 "metadata": {
  "kernelspec": {
   "display_name": "Python 3",
   "language": "python",
   "name": "python3"
  },
  "language_info": {
   "codemirror_mode": {
    "name": "ipython",
    "version": 3
   },
   "file_extension": ".py",
   "mimetype": "text/x-python",
   "name": "python",
   "nbconvert_exporter": "python",
   "pygments_lexer": "ipython3",
   "version": "3.8.6"
  }
 },
 "nbformat": 4,
 "nbformat_minor": 5
}
